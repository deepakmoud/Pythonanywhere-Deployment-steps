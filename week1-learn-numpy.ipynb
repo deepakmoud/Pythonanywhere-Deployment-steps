{
 "cells": [
  {
   "cell_type": "markdown",
   "id": "66bc8c65",
   "metadata": {},
   "source": [
    "# Machine learning zoomcamp\n",
    "* https://github.com/alexeygrigorev/mlbookcamp-code/tree/master/course-zoomcamp"
   ]
  },
  {
   "cell_type": "markdown",
   "id": "8db324b1",
   "metadata": {},
   "source": [
    "## Numpy\n",
    "* Tutorial: https://mlbookcamp.com/article/numpy\n",
    "* Video: https://www.youtube.com/watch?v=Qa0-jYtRdbY\n",
    "* Notebook from Video: https://github.com/alexeygrigorev/mlbookcamp-code/blob/master/course-zoomcamp/01-intro/notebooks/07-numpy.ipynb\n",
    "* Notebook for exercise: https://github.com/alexeygrigorev/mlbookcamp-code/blob/master/appendix-c-numpy.ipynb"
   ]
  },
  {
   "cell_type": "markdown",
   "id": "cb2c4c52",
   "metadata": {},
   "source": [
    "## My Exercise and Notes"
   ]
  },
  {
   "cell_type": "markdown",
   "id": "a615570c",
   "metadata": {},
   "source": [
    "NumPy is a short name for “Numerical Python” – it’s a Python library for numerical manipulations. NumPy plays a central role in the python machine learning ecosystem: nearly all the libraries in Python depend on it. For example, Pandas, Scikit-Learn, and TensorFlow all rely on NumPy for numerical operations.\n",
    "\n",
    "NumPy arrays are similar to Python lists, but they are better optimized for number crunching tasks – like machine learning."
   ]
  },
  {
   "cell_type": "code",
   "execution_count": 62,
   "id": "9bf266f9",
   "metadata": {},
   "outputs": [],
   "source": [
    "import numpy as np"
   ]
  },
  {
   "cell_type": "markdown",
   "id": "9c621449",
   "metadata": {},
   "source": [
    "## Creating numpy arrays"
   ]
  },
  {
   "cell_type": "markdown",
   "id": "af723bcd",
   "metadata": {},
   "source": [
    "### One-dimensional arrays\n",
    "\n",
    "One-dimensional array is a vector"
   ]
  },
  {
   "cell_type": "markdown",
   "id": "52b577f1",
   "metadata": {},
   "source": [
    "#### np.zeros\n",
    "Create numpy array with specified number of zeros"
   ]
  },
  {
   "cell_type": "code",
   "execution_count": 63,
   "id": "7881ec87",
   "metadata": {},
   "outputs": [
    {
     "data": {
      "text/plain": [
       "array([0., 0., 0., 0., 0., 0., 0., 0., 0., 0.])"
      ]
     },
     "execution_count": 63,
     "metadata": {},
     "output_type": "execute_result"
    }
   ],
   "source": [
    "zeros = np.zeros(10)\n",
    "zeros"
   ]
  },
  {
   "cell_type": "markdown",
   "id": "536d92bb",
   "metadata": {},
   "source": [
    "#### np.ones\n",
    "Create numpy array with specified number of ones"
   ]
  },
  {
   "cell_type": "code",
   "execution_count": 64,
   "id": "8993f5d9",
   "metadata": {},
   "outputs": [
    {
     "data": {
      "text/plain": [
       "array([1., 1., 1., 1., 1., 1., 1.])"
      ]
     },
     "execution_count": 64,
     "metadata": {},
     "output_type": "execute_result"
    }
   ],
   "source": [
    "ones = np.ones(7)\n",
    "ones"
   ]
  },
  {
   "cell_type": "markdown",
   "id": "143c3a9f",
   "metadata": {},
   "source": [
    "#### np.full\n",
    "\n",
    "Create numpy array with specified number of elements with defined value\n",
    "\n",
    "np.full(N, V) - N = number of elements, V = value of the element"
   ]
  },
  {
   "cell_type": "code",
   "execution_count": 65,
   "id": "16413a73",
   "metadata": {},
   "outputs": [
    {
     "data": {
      "text/plain": [
       "array([2, 2, 2, 2, 2, 2, 2, 2, 2, 2])"
      ]
     },
     "execution_count": 65,
     "metadata": {},
     "output_type": "execute_result"
    }
   ],
   "source": [
    "np.full(10,2)"
   ]
  },
  {
   "cell_type": "markdown",
   "id": "bf9856c4",
   "metadata": {},
   "source": [
    "#### np.repeat\n",
    "\n",
    "You can also use np.repeat to create array with defined value\n",
    "\n",
    "np.repeat(V, N) - V = value, N = number of times to repeat"
   ]
  },
  {
   "cell_type": "code",
   "execution_count": 66,
   "id": "92c88322",
   "metadata": {},
   "outputs": [
    {
     "data": {
      "text/plain": [
       "array([2, 2, 2, 2, 2, 2, 2, 2, 2, 2])"
      ]
     },
     "execution_count": 66,
     "metadata": {},
     "output_type": "execute_result"
    }
   ],
   "source": [
    "np.repeat(2,10)"
   ]
  },
  {
   "cell_type": "markdown",
   "id": "7ba21792",
   "metadata": {},
   "source": [
    "With np.repeat you can create an array with multiple values instead of a single number"
   ]
  },
  {
   "cell_type": "code",
   "execution_count": 67,
   "id": "c959ed19",
   "metadata": {},
   "outputs": [
    {
     "data": {
      "text/plain": [
       "array([1, 1, 1, 1, 1, 3, 3, 3, 3, 3])"
      ]
     },
     "execution_count": 67,
     "metadata": {},
     "output_type": "execute_result"
    }
   ],
   "source": [
    "np.repeat([1,3],5)"
   ]
  },
  {
   "cell_type": "markdown",
   "id": "a7dd30b1",
   "metadata": {},
   "source": [
    "You can also define different times to repeat each of the number"
   ]
  },
  {
   "cell_type": "code",
   "execution_count": 68,
   "id": "c0f6d1d8",
   "metadata": {},
   "outputs": [
    {
     "data": {
      "text/plain": [
       "array([0, 0, 1, 1, 1, 1, 1, 1])"
      ]
     },
     "execution_count": 68,
     "metadata": {},
     "output_type": "execute_result"
    }
   ],
   "source": [
    "np.repeat([0,1],[2,6])"
   ]
  },
  {
   "cell_type": "markdown",
   "id": "af2306f1",
   "metadata": {},
   "source": [
    "#### np.linspace\n",
    "\n",
    "Create numpy array with equally spaced '*x*' elements (which is nothing but length of the array) between a '*start*' and '*end*' numbers\n",
    "\n",
    "np.linspace(start,end,x)"
   ]
  },
  {
   "cell_type": "code",
   "execution_count": 69,
   "id": "3b6ce663",
   "metadata": {},
   "outputs": [
    {
     "data": {
      "text/plain": [
       "array([ 0. ,  2.5,  5. ,  7.5, 10. ])"
      ]
     },
     "execution_count": 69,
     "metadata": {},
     "output_type": "execute_result"
    }
   ],
   "source": [
    "np.linspace(0,10,5)"
   ]
  },
  {
   "cell_type": "markdown",
   "id": "50b88513",
   "metadata": {},
   "source": [
    "If you do not want the value you specify as stop, then you can use endpoint=False (by default endpoint=True)"
   ]
  },
  {
   "cell_type": "code",
   "execution_count": 70,
   "id": "05067bf4",
   "metadata": {},
   "outputs": [
    {
     "data": {
      "text/plain": [
       "array([0., 2., 4., 6., 8.])"
      ]
     },
     "execution_count": 70,
     "metadata": {},
     "output_type": "execute_result"
    }
   ],
   "source": [
    "np.linspace(0,10,5,endpoint=False)"
   ]
  },
  {
   "cell_type": "markdown",
   "id": "585215f6",
   "metadata": {},
   "source": [
    "You can define the type of the element (the type of values that the array can have) using dtype - e.g. unsigned or signed integers (uint8, uint16, uint32, uint64 of size 8, 16, 32 and 64 bits respectively ; int8, int16, int32 and int64), float (float16, float32, and float64).\n",
    "dtype can be used in any of the above commands as well."
   ]
  },
  {
   "cell_type": "code",
   "execution_count": 71,
   "id": "b7a883f2",
   "metadata": {},
   "outputs": [
    {
     "name": "stdout",
     "output_type": "stream",
     "text": [
      "[ 0  2  5  7 10]\n"
     ]
    }
   ],
   "source": [
    "print(np.linspace(0,10,5,dtype=np.uint8))"
   ]
  },
  {
   "cell_type": "markdown",
   "id": "7c750a3b",
   "metadata": {},
   "source": [
    "If you dont specify the number of elements, it is taken as 50"
   ]
  },
  {
   "cell_type": "code",
   "execution_count": 72,
   "id": "1383eed1",
   "metadata": {},
   "outputs": [
    {
     "data": {
      "text/plain": [
       "array([0.        , 0.02040816, 0.04081633, 0.06122449, 0.08163265,\n",
       "       0.10204082, 0.12244898, 0.14285714, 0.16326531, 0.18367347,\n",
       "       0.20408163, 0.2244898 , 0.24489796, 0.26530612, 0.28571429,\n",
       "       0.30612245, 0.32653061, 0.34693878, 0.36734694, 0.3877551 ,\n",
       "       0.40816327, 0.42857143, 0.44897959, 0.46938776, 0.48979592,\n",
       "       0.51020408, 0.53061224, 0.55102041, 0.57142857, 0.59183673,\n",
       "       0.6122449 , 0.63265306, 0.65306122, 0.67346939, 0.69387755,\n",
       "       0.71428571, 0.73469388, 0.75510204, 0.7755102 , 0.79591837,\n",
       "       0.81632653, 0.83673469, 0.85714286, 0.87755102, 0.89795918,\n",
       "       0.91836735, 0.93877551, 0.95918367, 0.97959184, 1.        ])"
      ]
     },
     "execution_count": 72,
     "metadata": {},
     "output_type": "execute_result"
    }
   ],
   "source": [
    "np.linspace(0,1)"
   ]
  },
  {
   "cell_type": "markdown",
   "id": "ed130625",
   "metadata": {},
   "source": [
    "#### np.arange\n",
    "\n",
    "Create numpy array with a range of numbers between a '*start*' and '*end*' numbers with a step of '*step*'. \n",
    "\n",
    "np.arange(start,end,step)\n",
    "\n",
    "*Note: with np.linspace you can specify number of elements (which are equally spaced), while with np.arange you can specify the step (the difference between values of the subsequent elements)*"
   ]
  },
  {
   "cell_type": "code",
   "execution_count": 73,
   "id": "fde02068",
   "metadata": {},
   "outputs": [
    {
     "data": {
      "text/plain": [
       "array([0, 5])"
      ]
     },
     "execution_count": 73,
     "metadata": {},
     "output_type": "execute_result"
    }
   ],
   "source": [
    "np.arange(0,10,5)"
   ]
  },
  {
   "cell_type": "code",
   "execution_count": 74,
   "id": "0b135ae5",
   "metadata": {},
   "outputs": [
    {
     "data": {
      "text/plain": [
       "array([1, 2, 3, 4, 5, 6, 7, 8, 9])"
      ]
     },
     "execution_count": 74,
     "metadata": {},
     "output_type": "execute_result"
    }
   ],
   "source": [
    "np.arange(1,10)"
   ]
  },
  {
   "cell_type": "code",
   "execution_count": 75,
   "id": "63e02532",
   "metadata": {},
   "outputs": [
    {
     "data": {
      "text/plain": [
       "array([0, 1, 2, 3, 4, 5, 6, 7, 8, 9])"
      ]
     },
     "execution_count": 75,
     "metadata": {},
     "output_type": "execute_result"
    }
   ],
   "source": [
    "np.arange(10)"
   ]
  },
  {
   "cell_type": "markdown",
   "id": "ba50cb7a",
   "metadata": {},
   "source": [
    "Create a numpy array with specified values"
   ]
  },
  {
   "cell_type": "code",
   "execution_count": 76,
   "id": "5b5a4693",
   "metadata": {},
   "outputs": [
    {
     "data": {
      "text/plain": [
       "array([ 1, 21,  5,  7, 11, 15])"
      ]
     },
     "execution_count": 76,
     "metadata": {},
     "output_type": "execute_result"
    }
   ],
   "source": [
    "a = np.array([1,21,5,7,11,15])\n",
    "a"
   ]
  },
  {
   "cell_type": "markdown",
   "id": "5f33d365",
   "metadata": {},
   "source": [
    "#### Accessing array elements\n",
    "\n",
    "Access single element of the array"
   ]
  },
  {
   "cell_type": "code",
   "execution_count": 77,
   "id": "73e43fb5",
   "metadata": {},
   "outputs": [
    {
     "data": {
      "text/plain": [
       "5"
      ]
     },
     "execution_count": 77,
     "metadata": {},
     "output_type": "execute_result"
    }
   ],
   "source": [
    "a[2]"
   ]
  },
  {
   "cell_type": "markdown",
   "id": "5c9012f9",
   "metadata": {},
   "source": [
    "Access multiple elements of the array"
   ]
  },
  {
   "cell_type": "code",
   "execution_count": 78,
   "id": "f25a9c23",
   "metadata": {},
   "outputs": [
    {
     "data": {
      "text/plain": [
       "array([1, 7])"
      ]
     },
     "execution_count": 78,
     "metadata": {},
     "output_type": "execute_result"
    }
   ],
   "source": [
    "a[[0,3]]"
   ]
  },
  {
   "cell_type": "markdown",
   "id": "ecd56cab",
   "metadata": {},
   "source": [
    "Assign value to an element of the array"
   ]
  },
  {
   "cell_type": "code",
   "execution_count": 79,
   "id": "ecf74585",
   "metadata": {},
   "outputs": [
    {
     "data": {
      "text/plain": [
       "array([ 1, 21, 99,  7, 11, 15])"
      ]
     },
     "execution_count": 79,
     "metadata": {},
     "output_type": "execute_result"
    }
   ],
   "source": [
    "a[2]=99\n",
    "a"
   ]
  },
  {
   "cell_type": "markdown",
   "id": "42d561d0",
   "metadata": {},
   "source": [
    "### Two-dimensional arrays"
   ]
  },
  {
   "cell_type": "markdown",
   "id": "33814878",
   "metadata": {},
   "source": [
    "Two-dimensional array is a matrix"
   ]
  },
  {
   "cell_type": "markdown",
   "id": "f8fdd2f5",
   "metadata": {},
   "source": [
    "Using tuples e.g. (5,2) you can define the dimension of the array - here 5 rows x 2 columns"
   ]
  },
  {
   "cell_type": "code",
   "execution_count": 80,
   "id": "de45be49",
   "metadata": {},
   "outputs": [
    {
     "data": {
      "text/plain": [
       "array([[0., 0.],\n",
       "       [0., 0.],\n",
       "       [0., 0.],\n",
       "       [0., 0.],\n",
       "       [0., 0.]], dtype=float32)"
      ]
     },
     "execution_count": 80,
     "metadata": {},
     "output_type": "execute_result"
    }
   ],
   "source": [
    "zeros = np.zeros((5, 2), dtype=np.float32)\n",
    "zeros"
   ]
  },
  {
   "cell_type": "markdown",
   "id": "ba0a6dd2",
   "metadata": {},
   "source": [
    "#### shape (dimensions) of an array"
   ]
  },
  {
   "cell_type": "code",
   "execution_count": 81,
   "id": "f13cee8e",
   "metadata": {},
   "outputs": [
    {
     "data": {
      "text/plain": [
       "(5, 2)"
      ]
     },
     "execution_count": 81,
     "metadata": {},
     "output_type": "execute_result"
    }
   ],
   "source": [
    "zeros.shape"
   ]
  },
  {
   "cell_type": "markdown",
   "id": "b5bf0806",
   "metadata": {},
   "source": [
    "#### np.reshape\n",
    "\n",
    "Change the dimensions of the array (e.g. convert from 1 x 16 to 4 x 4 or 2 x 8)"
   ]
  },
  {
   "cell_type": "code",
   "execution_count": 82,
   "id": "218788c9",
   "metadata": {},
   "outputs": [
    {
     "name": "stdout",
     "output_type": "stream",
     "text": [
      "(16,)\n"
     ]
    },
    {
     "data": {
      "text/plain": [
       "array([1., 1., 1., 1., 1., 1., 1., 1., 1., 1., 1., 1., 1., 1., 1., 1.])"
      ]
     },
     "execution_count": 82,
     "metadata": {},
     "output_type": "execute_result"
    }
   ],
   "source": [
    "numbers = np.ones(16)\n",
    "print(numbers.shape)\n",
    "numbers"
   ]
  },
  {
   "cell_type": "code",
   "execution_count": 83,
   "id": "80129128",
   "metadata": {},
   "outputs": [
    {
     "name": "stdout",
     "output_type": "stream",
     "text": [
      "(4, 4)\n"
     ]
    },
    {
     "data": {
      "text/plain": [
       "array([[1., 1., 1., 1.],\n",
       "       [1., 1., 1., 1.],\n",
       "       [1., 1., 1., 1.],\n",
       "       [1., 1., 1., 1.]])"
      ]
     },
     "execution_count": 83,
     "metadata": {},
     "output_type": "execute_result"
    }
   ],
   "source": [
    "numbers = numbers.reshape(4,4)\n",
    "print(numbers.shape)\n",
    "numbers"
   ]
  },
  {
   "cell_type": "code",
   "execution_count": 84,
   "id": "4638369d",
   "metadata": {},
   "outputs": [
    {
     "data": {
      "text/plain": [
       "array([[1., 1., 1., 1., 1., 1., 1., 1.],\n",
       "       [1., 1., 1., 1., 1., 1., 1., 1.]])"
      ]
     },
     "execution_count": 84,
     "metadata": {},
     "output_type": "execute_result"
    }
   ],
   "source": [
    "numbers.reshape(2,8)"
   ]
  },
  {
   "cell_type": "markdown",
   "id": "c05275a3",
   "metadata": {},
   "source": [
    "#### accessing elements of multi-dimensional array"
   ]
  },
  {
   "cell_type": "code",
   "execution_count": 85,
   "id": "75c6594e",
   "metadata": {},
   "outputs": [
    {
     "data": {
      "text/plain": [
       "array([[1, 2, 3],\n",
       "       [4, 5, 6],\n",
       "       [7, 8, 9]])"
      ]
     },
     "execution_count": 85,
     "metadata": {},
     "output_type": "execute_result"
    }
   ],
   "source": [
    "numbers = [\n",
    "    [1, 2, 3],\n",
    "    [4, 5, 6],\n",
    "    [7, 8, 9]\n",
    "]\n",
    "\n",
    "numbers = np.array(numbers)\n",
    "numbers"
   ]
  },
  {
   "cell_type": "markdown",
   "id": "e8f97eb1",
   "metadata": {},
   "source": [
    "Access elements of the array.\n",
    "\n",
    "array[row,column]"
   ]
  },
  {
   "cell_type": "code",
   "execution_count": 86,
   "id": "9f7f6880",
   "metadata": {},
   "outputs": [
    {
     "data": {
      "text/plain": [
       "4"
      ]
     },
     "execution_count": 86,
     "metadata": {},
     "output_type": "execute_result"
    }
   ],
   "source": [
    "numbers[1,0]"
   ]
  },
  {
   "cell_type": "markdown",
   "id": "92760d5b",
   "metadata": {},
   "source": [
    "To get an entire row, provide the row number"
   ]
  },
  {
   "cell_type": "code",
   "execution_count": 87,
   "id": "4404cc0a",
   "metadata": {},
   "outputs": [
    {
     "data": {
      "text/plain": [
       "array([4, 5, 6])"
      ]
     },
     "execution_count": 87,
     "metadata": {},
     "output_type": "execute_result"
    }
   ],
   "source": [
    "numbers[1]"
   ]
  },
  {
   "cell_type": "markdown",
   "id": "7b15a623",
   "metadata": {},
   "source": [
    "To get an entire column (meaning a specific column with all the rows), use : to specify all elements of the row and specify the column number "
   ]
  },
  {
   "cell_type": "code",
   "execution_count": 88,
   "id": "f5dcbc7d",
   "metadata": {},
   "outputs": [
    {
     "data": {
      "text/plain": [
       "array([2, 5, 8])"
      ]
     },
     "execution_count": 88,
     "metadata": {},
     "output_type": "execute_result"
    }
   ],
   "source": [
    "numbers[:,1]"
   ]
  },
  {
   "cell_type": "markdown",
   "id": "cff2d6b8",
   "metadata": {},
   "source": [
    "You can also assign values to the elements in the array. You can assign value to a specific element or an entire row or a column"
   ]
  },
  {
   "cell_type": "code",
   "execution_count": 89,
   "id": "c92ed131",
   "metadata": {},
   "outputs": [
    {
     "data": {
      "text/plain": [
       "array([[1, 2, 3],\n",
       "       [4, 5, 6],\n",
       "       [7, 8, 9]])"
      ]
     },
     "execution_count": 89,
     "metadata": {},
     "output_type": "execute_result"
    }
   ],
   "source": [
    "numbers"
   ]
  },
  {
   "cell_type": "markdown",
   "id": "76978ec0",
   "metadata": {},
   "source": [
    "Assign value to specific element"
   ]
  },
  {
   "cell_type": "code",
   "execution_count": 90,
   "id": "25cd94e9",
   "metadata": {},
   "outputs": [
    {
     "data": {
      "text/plain": [
       "array([[ 1,  2,  3],\n",
       "       [ 4, 10,  6],\n",
       "       [ 7,  8,  9]])"
      ]
     },
     "execution_count": 90,
     "metadata": {},
     "output_type": "execute_result"
    }
   ],
   "source": [
    "numbers[1,1] = 10\n",
    "numbers"
   ]
  },
  {
   "cell_type": "markdown",
   "id": "480be3bb",
   "metadata": {},
   "source": [
    "Assign values to elements in the entire row"
   ]
  },
  {
   "cell_type": "code",
   "execution_count": 91,
   "id": "2120d36b",
   "metadata": {},
   "outputs": [
    {
     "data": {
      "text/plain": [
       "array([[ 2,  1,  0],\n",
       "       [ 4, 10,  6],\n",
       "       [ 7,  8,  9]])"
      ]
     },
     "execution_count": 91,
     "metadata": {},
     "output_type": "execute_result"
    }
   ],
   "source": [
    "numbers[0] = [2,1,0]\n",
    "numbers"
   ]
  },
  {
   "cell_type": "markdown",
   "id": "59a1e8ef",
   "metadata": {},
   "source": [
    "Assign values to elements in the entire column"
   ]
  },
  {
   "cell_type": "code",
   "execution_count": 92,
   "id": "a2e88d06",
   "metadata": {},
   "outputs": [
    {
     "data": {
      "text/plain": [
       "array([[2, 2, 0],\n",
       "       [4, 3, 6],\n",
       "       [7, 4, 9]])"
      ]
     },
     "execution_count": 92,
     "metadata": {},
     "output_type": "execute_result"
    }
   ],
   "source": [
    "numbers[:,1] = [2,3,4]\n",
    "numbers"
   ]
  },
  {
   "cell_type": "markdown",
   "id": "f66e145e",
   "metadata": {},
   "source": [
    "### Numpy Operations\n",
    "\n",
    "NumPy comes with a wide range of operations that work with the NumPy arrays. \n",
    "\n",
    "Element-wise operations\n",
    "NumPy arrays support all the arithmetic operations: addition (\"+\"), subtraction (\"-\"), multiplication (\"*\"), division (\"/\") and others."
   ]
  },
  {
   "cell_type": "code",
   "execution_count": 93,
   "id": "c22a8f52",
   "metadata": {},
   "outputs": [
    {
     "data": {
      "text/plain": [
       "array([[1., 1., 1.],\n",
       "       [1., 1., 1.],\n",
       "       [1., 1., 1.]])"
      ]
     },
     "execution_count": 93,
     "metadata": {},
     "output_type": "execute_result"
    }
   ],
   "source": [
    "numbers = np.ones(9)\n",
    "numbers = numbers.reshape(3,3)\n",
    "numbers"
   ]
  },
  {
   "cell_type": "code",
   "execution_count": 94,
   "id": "55065b2e",
   "metadata": {},
   "outputs": [
    {
     "data": {
      "text/plain": [
       "array([[2., 2., 2.],\n",
       "       [2., 2., 2.],\n",
       "       [2., 2., 2.]])"
      ]
     },
     "execution_count": 94,
     "metadata": {},
     "output_type": "execute_result"
    }
   ],
   "source": [
    "numbers * 2"
   ]
  },
  {
   "cell_type": "code",
   "execution_count": 95,
   "id": "b9577d53",
   "metadata": {},
   "outputs": [
    {
     "data": {
      "text/plain": [
       "array([[4., 4., 4.],\n",
       "       [4., 4., 4.],\n",
       "       [4., 4., 4.]])"
      ]
     },
     "execution_count": 95,
     "metadata": {},
     "output_type": "execute_result"
    }
   ],
   "source": [
    "numbers + 3"
   ]
  },
  {
   "cell_type": "code",
   "execution_count": 96,
   "id": "3a1f93fe",
   "metadata": {},
   "outputs": [
    {
     "data": {
      "text/plain": [
       "array([[2., 2., 2.],\n",
       "       [2., 2., 2.],\n",
       "       [2., 2., 2.]])"
      ]
     },
     "execution_count": 96,
     "metadata": {},
     "output_type": "execute_result"
    }
   ],
   "source": [
    "(numbers + 3) / 2"
   ]
  },
  {
   "cell_type": "markdown",
   "id": "6143f8df",
   "metadata": {},
   "source": [
    "#### Summarizing operations\n",
    "\n",
    "min, max, mean, std, sum"
   ]
  },
  {
   "cell_type": "code",
   "execution_count": 97,
   "id": "eb2e08f6",
   "metadata": {},
   "outputs": [
    {
     "name": "stdout",
     "output_type": "stream",
     "text": [
      "[[1 2]\n",
      " [3 4]\n",
      " [5 6]]\n",
      "min of all elements :  1\n",
      "max of all elements :  6\n",
      "max of all elements column-wise:  [5 6]\n",
      "max of all elements row-wise:  [2 4 6]\n",
      "mean of elements in a particular row (row 0) :  1.5\n",
      "mean of all elements :  3.5\n",
      "standard deviation of all elements :  1.707825127659933\n",
      "sum of all elements :  21\n"
     ]
    }
   ],
   "source": [
    "numbers = np.array([1, 2, 3, 4, 5, 6])\n",
    "numbers = numbers.reshape(3,2)\n",
    "print(numbers)\n",
    "print(\"min of all elements : \",numbers.min())\n",
    "print(\"max of all elements : \",numbers.max())\n",
    "print(\"max of all elements column-wise: \",numbers.max(axis=0))\n",
    "print(\"max of all elements row-wise: \",numbers.max(axis=1))\n",
    "print(\"mean of elements in a particular row (row 0) : \",numbers[0].mean())\n",
    "print(\"mean of all elements : \",numbers.mean())\n",
    "print(\"standard deviation of all elements : \",numbers.std())\n",
    "print(\"sum of all elements : \",numbers.sum())"
   ]
  },
  {
   "cell_type": "markdown",
   "id": "5357416c",
   "metadata": {},
   "source": [
    "#### Other useful element-wise operations \n",
    "\n",
    "Other operations that we might need for machine learning applications are exponent, logarithm, square root, comparison, sorting."
   ]
  },
  {
   "cell_type": "code",
   "execution_count": 98,
   "id": "48a9cdec",
   "metadata": {},
   "outputs": [
    {
     "data": {
      "text/plain": [
       "array([[0.55, 0.44],\n",
       "       [0.29, 0.76],\n",
       "       [0.62, 0.62]])"
      ]
     },
     "execution_count": 98,
     "metadata": {},
     "output_type": "execute_result"
    }
   ],
   "source": [
    "data = np.array([[0.55, 0.44],\n",
    "                [0.29, 0.76],\n",
    "                [0.62, 0.62]])\n",
    "data"
   ]
  },
  {
   "cell_type": "code",
   "execution_count": 99,
   "id": "bff6738c",
   "metadata": {},
   "outputs": [
    {
     "name": "stdout",
     "output_type": "stream",
     "text": [
      "exponent : \n",
      " [[1.73325302 1.55270722]\n",
      " [1.33642749 2.13827622]\n",
      " [1.85892804 1.85892804]]\n",
      "log : \n",
      " [[-0.597837   -0.82098055]\n",
      " [-1.23787436 -0.27443685]\n",
      " [-0.4780358  -0.4780358 ]]\n",
      "square root : \n",
      " [[0.74161985 0.66332496]\n",
      " [0.53851648 0.87177979]\n",
      " [0.78740079 0.78740079]]\n"
     ]
    }
   ],
   "source": [
    "data_exp = np.exp(data) # exponent\n",
    "data_log = np.log(data) # logarithm\n",
    "data_sqrt = np.sqrt(data) # square root\n",
    "print(\"exponent : \\n\",data_exp)\n",
    "print(\"log : \\n\", data_log)\n",
    "print(\"square root : \\n\", data_sqrt)"
   ]
  },
  {
   "cell_type": "markdown",
   "id": "0ce5eb5e",
   "metadata": {},
   "source": [
    "#### Comparisons"
   ]
  },
  {
   "cell_type": "code",
   "execution_count": 100,
   "id": "5bf45517",
   "metadata": {},
   "outputs": [
    {
     "data": {
      "text/plain": [
       "array([[ True, False],\n",
       "       [False,  True],\n",
       "       [ True,  True]])"
      ]
     },
     "execution_count": 100,
     "metadata": {},
     "output_type": "execute_result"
    }
   ],
   "source": [
    "data > 0.5"
   ]
  },
  {
   "cell_type": "markdown",
   "id": "2763dde3",
   "metadata": {},
   "source": [
    "#### np.sort\n",
    "\n",
    "Creates a sorted copy of the array (note - it is a copy and hence the original array remains as it is)"
   ]
  },
  {
   "cell_type": "code",
   "execution_count": 101,
   "id": "f98b3554",
   "metadata": {},
   "outputs": [
    {
     "name": "stdout",
     "output_type": "stream",
     "text": [
      "[0 1 2 3 5 6]\n",
      "[5 3 6 0 1 2]\n"
     ]
    }
   ],
   "source": [
    "numbers = np.array([5, 3, 6, 0, 1, 2])\n",
    "print(np.sort(numbers))\n",
    "print(numbers)"
   ]
  },
  {
   "cell_type": "markdown",
   "id": "d095abea",
   "metadata": {},
   "source": [
    "If we want to sort the elements of the array in-place without creating another array, we invoke the method sort on the array itself"
   ]
  },
  {
   "cell_type": "code",
   "execution_count": 102,
   "id": "b5d1f838",
   "metadata": {},
   "outputs": [
    {
     "name": "stdout",
     "output_type": "stream",
     "text": [
      "[0 1 2 3 5 6]\n"
     ]
    }
   ],
   "source": [
    "numbers.sort()\n",
    "print(numbers)"
   ]
  },
  {
   "cell_type": "code",
   "execution_count": 103,
   "id": "0152461d",
   "metadata": {},
   "outputs": [
    {
     "name": "stdout",
     "output_type": "stream",
     "text": [
      "[3 4 5 0 1 2]\n"
     ]
    }
   ],
   "source": [
    "numbers = np.array([5, 6, 7, 0, 1, 2])\n",
    "idx = numbers.argsort()\n",
    "print(idx)"
   ]
  },
  {
   "cell_type": "markdown",
   "id": "d8843f38",
   "metadata": {},
   "source": [
    "#### To add\n",
    "* randomly generated arrays\n",
    "* np.concatenate\n",
    "* np.hstack\n",
    "* np.column_stack\n",
    "* np.vstack\n",
    "* transpose\n",
    "* slicing and filtering"
   ]
  }
 ],
 "metadata": {
  "kernelspec": {
   "display_name": "Python 3 (ipykernel)",
   "language": "python",
   "name": "python3"
  },
  "language_info": {
   "codemirror_mode": {
    "name": "ipython",
    "version": 3
   },
   "file_extension": ".py",
   "mimetype": "text/x-python",
   "name": "python",
   "nbconvert_exporter": "python",
   "pygments_lexer": "ipython3",
   "version": "3.8.11"
  }
 },
 "nbformat": 4,
 "nbformat_minor": 5
}
