{
 "cells": [
  {
   "cell_type": "markdown",
   "metadata": {},
   "source": [
    "#### Cleaned up code for training model for churn prediction"
   ]
  },
  {
   "cell_type": "code",
   "execution_count": 1,
   "metadata": {
    "_cell_guid": "b1076dfc-b9ad-4769-8c92-a6c4dae69d19",
    "_uuid": "8f2839f25d086af736a60e9eeb907d3b93b6e0e5",
    "execution": {
     "iopub.execute_input": "2021-10-01T10:50:18.650154Z",
     "iopub.status.busy": "2021-10-01T10:50:18.649113Z",
     "iopub.status.idle": "2021-10-01T10:50:19.744946Z",
     "shell.execute_reply": "2021-10-01T10:50:19.743993Z",
     "shell.execute_reply.started": "2021-10-01T10:50:18.65006Z"
    }
   },
   "outputs": [],
   "source": [
    "#Import libraries\n",
    "\n",
    "import numpy as np # linear algebra\n",
    "import pandas as pd # data processing, CSV file I/O (e.g. pd.read_csv)\n",
    "\n",
    "from sklearn.model_selection import train_test_split\n",
    "from sklearn.feature_extraction import DictVectorizer\n",
    "from sklearn.linear_model import LogisticRegression\n",
    "from sklearn.metrics import roc_auc_score\n",
    "from sklearn.model_selection import KFold"
   ]
  },
  {
   "cell_type": "code",
   "execution_count": null,
   "metadata": {},
   "outputs": [],
   "source": [
    "#Parameters\n",
    "n_splits = 5\n",
    "C=1.0"
   ]
  },
  {
   "cell_type": "code",
   "execution_count": 3,
   "metadata": {},
   "outputs": [
    {
     "name": "stdout",
     "output_type": "stream",
     "text": [
      "Loading data\n"
     ]
    }
   ],
   "source": [
    "#Load and prepare data\n",
    "print(\"Loading data\")\n",
    "df = pd.read_csv(\"WA_Fn-UseC_-Telco-Customer-Churn.csv\")"
   ]
  },
  {
   "cell_type": "code",
   "execution_count": 8,
   "metadata": {},
   "outputs": [
    {
     "data": {
      "text/plain": [
       "{'customerID': '7590-VHVEG',\n",
       " 'gender': 'Female',\n",
       " 'SeniorCitizen': 0,\n",
       " 'Partner': 'Yes',\n",
       " 'Dependents': 'No',\n",
       " 'tenure': 1,\n",
       " 'PhoneService': 'No',\n",
       " 'MultipleLines': 'No phone service',\n",
       " 'InternetService': 'DSL',\n",
       " 'OnlineSecurity': 'No',\n",
       " 'OnlineBackup': 'Yes',\n",
       " 'DeviceProtection': 'No',\n",
       " 'TechSupport': 'No',\n",
       " 'StreamingTV': 'No',\n",
       " 'StreamingMovies': 'No',\n",
       " 'Contract': 'Month-to-month',\n",
       " 'PaperlessBilling': 'Yes',\n",
       " 'PaymentMethod': 'Electronic check',\n",
       " 'MonthlyCharges': 29.85,\n",
       " 'TotalCharges': '29.85',\n",
       " 'Churn': 'No'}"
      ]
     },
     "execution_count": 8,
     "metadata": {},
     "output_type": "execute_result"
    }
   ],
   "source": [
    "df.iloc[0].to_dict()"
   ]
  },
  {
   "cell_type": "code",
   "execution_count": null,
   "metadata": {
    "execution": {
     "iopub.execute_input": "2021-10-01T10:50:19.74699Z",
     "iopub.status.busy": "2021-10-01T10:50:19.746671Z",
     "iopub.status.idle": "2021-10-01T10:50:19.803291Z",
     "shell.execute_reply": "2021-10-01T10:50:19.802429Z",
     "shell.execute_reply.started": "2021-10-01T10:50:19.746956Z"
    }
   },
   "outputs": [],
   "source": [
    "print(\"Preparing data\")\n",
    "df.columns = df.columns.str.lower().str.replace(' ','_')\n",
    "\n",
    "categorical_cols = list(df.dtypes[df.dtypes == 'object'].index)\n",
    "for c in categorical_cols:\n",
    "    df[c] = df[c].str.lower().str.replace(' ','_')\n",
    "\n",
    "df['totalcharges'] = pd.to_numeric(data['totalcharges'],errors='coerce')\n",
    "df['totalcharges'] = df['totalcharges'].fillna(0)\n",
    "\n",
    "df['churn'] = (df['churn'] == 'yes').astype(int)"
   ]
  },
  {
   "cell_type": "code",
   "execution_count": null,
   "metadata": {},
   "outputs": [],
   "source": [
    "numerical_cols = [ 'tenure', 'monthlycharges', 'totalcharges']\n",
    "\n",
    "categorical_cols = [\n",
    "    'gender',\n",
    "    'seniorcitizen',\n",
    "    'partner',\n",
    "    'dependents',\n",
    "    'phoneservice',\n",
    "    'multiplelines',\n",
    "    'internetservice',\n",
    "    'onlinesecurity',\n",
    "    'onlinebackup',\n",
    "    'deviceprotection',\n",
    "    'techsupport',\n",
    "    'streamingtv',\n",
    "    'streamingmovies',\n",
    "    'contract',\n",
    "    'paperlessbilling',\n",
    "    'paymentmethod'\n",
    "]"
   ]
  },
  {
   "cell_type": "code",
   "execution_count": null,
   "metadata": {},
   "outputs": [],
   "source": [
    "df_full_train,df_test = train_test_split(df,test_size=0.2,random_state=1)"
   ]
  },
  {
   "cell_type": "code",
   "execution_count": null,
   "metadata": {},
   "outputs": [],
   "source": [
    "def train(df_train, y_train, C=1.0):\n",
    "    dicts = df_train[categorical_cols + numerical_cols].to_dict(orient='records')\n",
    "\n",
    "    dv = DictVectorizer(sparse=False)\n",
    "    X_train = dv.fit_transform(dicts)\n",
    "\n",
    "    model = LogisticRegression(C=C, max_iter=1000)\n",
    "    model.fit(X_train, y_train)\n",
    "    \n",
    "    return dv, model"
   ]
  },
  {
   "cell_type": "code",
   "execution_count": null,
   "metadata": {
    "execution": {
     "iopub.execute_input": "2021-10-01T10:50:20.089255Z",
     "iopub.status.busy": "2021-10-01T10:50:20.088625Z",
     "iopub.status.idle": "2021-10-01T10:50:20.661865Z",
     "shell.execute_reply": "2021-10-01T10:50:20.661001Z",
     "shell.execute_reply.started": "2021-10-01T10:50:20.08921Z"
    }
   },
   "outputs": [],
   "source": [
    "def predict(df, dv, model):\n",
    "    dicts = df[categorical_cols + numerical_cols].to_dict(orient='records')\n",
    "\n",
    "    X = dv.transform(dicts)\n",
    "    \n",
    "    y_pred = model.predict_proba(X)[:, 1]\n",
    "\n",
    "    return y_pred"
   ]
  },
  {
   "cell_type": "code",
   "execution_count": null,
   "metadata": {},
   "outputs": [],
   "source": [
    "kfold = KFold(n_splits=n_splits, shuffle=True, random_state=1)\n",
    "\n",
    "scores = []\n",
    "fold = 0\n",
    "\n",
    "print(\"Training model\")\n",
    "for train_idx, val_idx in kfold.split(df_full_train):\n",
    "    df_train = df_full_train.iloc[train_idx]\n",
    "    df_val = df_full_train.iloc[val_idx]\n",
    "\n",
    "    y_train = df_train.churn.values\n",
    "    y_val = df_val.churn.values\n",
    "\n",
    "    dv, model = train(df_train, y_train, C=C)\n",
    "    \n",
    "    y_pred = predict(df_val, dv, model)\n",
    "\n",
    "    auc = roc_auc_score(y_val, y_pred)\n",
    "    scores.append(auc)\n",
    "    print(f\"AUC for fold-{fold} is {auc}\")\n",
    "    fold = fold + 1\n",
    "\n",
    "print(f'C={C}, mean_auc={np.mean(scores)}, std={np.std(scores)}')"
   ]
  },
  {
   "cell_type": "code",
   "execution_count": null,
   "metadata": {},
   "outputs": [],
   "source": [
    "print(\"Training final model\")\n",
    "dv, model = train(df_full_train, df_full_train['churn'].values, C=C)\n",
    "\n",
    "y_test = df_test['churn'].values\n",
    "y_pred = predict(df_test, dv, model)\n",
    "\n",
    "auc = roc_auc_score(y_test, y_pred)\n",
    "print(f\"AUC on final model is {auc}\")"
   ]
  },
  {
   "cell_type": "markdown",
   "metadata": {},
   "source": [
    "Save model"
   ]
  },
  {
   "cell_type": "code",
   "execution_count": null,
   "metadata": {},
   "outputs": [],
   "source": [
    "import pickle"
   ]
  },
  {
   "cell_type": "code",
   "execution_count": null,
   "metadata": {},
   "outputs": [],
   "source": [
    "output_file = f'model_C={C}.bin'\n",
    "output_file"
   ]
  },
  {
   "cell_type": "code",
   "execution_count": null,
   "metadata": {},
   "outputs": [],
   "source": [
    "#Open a file in write mode as binary file\n",
    "f_out = open(output_file,'wb')\n",
    "pickle.dump((dv,model),f_out)\n",
    "f_out.close()\n",
    "#It is very important to close the file"
   ]
  },
  {
   "cell_type": "code",
   "execution_count": null,
   "metadata": {},
   "outputs": [],
   "source": [
    "#A better way for file operations is using with where you do not need to explicitly close the file as it is automatically done when you come out of the with loop\n",
    "with open(output_file,'wb') as f_out:\n",
    "    pickle.dump((dv,model),f_out)"
   ]
  },
  {
   "cell_type": "markdown",
   "metadata": {},
   "source": [
    "Load the model"
   ]
  },
  {
   "cell_type": "code",
   "execution_count": 1,
   "metadata": {},
   "outputs": [],
   "source": [
    "#Restart the Jupyter notebook and simply run from this code block\n",
    "import pickle\n",
    "\n",
    "#Note that although we do not import sklearn here, it needs to be installed on the machine where you will be running this code, else it will complain about missing sklearn"
   ]
  },
  {
   "cell_type": "code",
   "execution_count": 2,
   "metadata": {},
   "outputs": [],
   "source": [
    "model_file = 'model_C=1.0.bin'\n",
    "with open(model_file,'rb') as f_in:\n",
    "    dv,model = pickle.load(f_in)"
   ]
  },
  {
   "cell_type": "code",
   "execution_count": 3,
   "metadata": {},
   "outputs": [
    {
     "data": {
      "text/plain": [
       "(DictVectorizer(sparse=False), LogisticRegression(max_iter=1000))"
      ]
     },
     "execution_count": 3,
     "metadata": {},
     "output_type": "execute_result"
    }
   ],
   "source": [
    "dv,model"
   ]
  },
  {
   "cell_type": "code",
   "execution_count": null,
   "metadata": {},
   "outputs": [],
   "source": [
    "customer1 = {\n",
    " 'gender': 'Female',\n",
    " 'SeniorCitizen': 0,\n",
    " 'Partner': 'Yes',\n",
    " 'Dependents': 'No',\n",
    " 'tenure': 1,\n",
    " 'PhoneService': 'No',\n",
    " 'MultipleLines': 'No phone service',\n",
    " 'InternetService': 'DSL',\n",
    " 'OnlineSecurity': 'No',\n",
    " 'OnlineBackup': 'Yes',\n",
    " 'DeviceProtection': 'No',\n",
    " 'TechSupport': 'No',\n",
    " 'StreamingTV': 'No',\n",
    " 'StreamingMovies': 'No',\n",
    " 'Contract': 'Month-to-month',\n",
    " 'PaperlessBilling': 'Yes',\n",
    " 'PaymentMethod': 'Electronic check',\n",
    " 'MonthlyCharges': 29.85,\n",
    " 'TotalCharges': '29.85',\n",
    "}\n",
    "\n",
    "customer2 = {\n",
    " 'gender': 'Female',\n",
    " 'SeniorCitizen': 0,\n",
    " 'Partner': 'Yes',\n",
    " 'Dependents': 'No',\n",
    " 'tenure': 1,\n",
    " 'PhoneService': 'No',\n",
    " 'MultipleLines': 'No phone service',\n",
    " 'InternetService': 'DSL',\n",
    " 'OnlineSecurity': 'No',\n",
    " 'OnlineBackup': 'Yes',\n",
    " 'DeviceProtection': 'No',\n",
    " 'TechSupport': 'No',\n",
    " 'StreamingTV': 'No',\n",
    " 'StreamingMovies': 'No',\n",
    " 'Contract': 1,\n",
    " 'PaperlessBilling': 'Yes',\n",
    " 'PaymentMethod': 'Electronic check',\n",
    " 'MonthlyCharges': 29.85,\n",
    " 'TotalCharges': '29.85',\n",
    "}\n",
    "\n",
    "customer = customer2"
   ]
  },
  {
   "cell_type": "code",
   "execution_count": null,
   "metadata": {},
   "outputs": [],
   "source": [
    "X = dv.transform([customer])"
   ]
  },
  {
   "cell_type": "code",
   "execution_count": null,
   "metadata": {},
   "outputs": [],
   "source": [
    "y_pred = model.predict_proba(X)[0,1]\n",
    "churn = (y_pred >= 0.5)\n",
    "print(f'churn probability is {y_pred}, likelihood of customer churning: {churn}')"
   ]
  },
  {
   "cell_type": "markdown",
   "metadata": {},
   "source": [
    "Make requests (for this create a separate notebook - to represent a request from a user)"
   ]
  }
 ],
 "metadata": {
  "kernelspec": {
   "display_name": "Python 3",
   "language": "python",
   "name": "python3"
  },
  "language_info": {
   "codemirror_mode": {
    "name": "ipython",
    "version": 3
   },
   "file_extension": ".py",
   "mimetype": "text/x-python",
   "name": "python",
   "nbconvert_exporter": "python",
   "pygments_lexer": "ipython3",
   "version": "3.8.8"
  }
 },
 "nbformat": 4,
 "nbformat_minor": 4
}
