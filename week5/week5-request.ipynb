{
 "cells": [
  {
   "cell_type": "markdown",
   "id": "12d44875",
   "metadata": {},
   "source": [
    "#### This notebook sends request to web service which accepts customer info and returns the prediction"
   ]
  },
  {
   "cell_type": "markdown",
   "id": "6fd06835",
   "metadata": {},
   "source": [
    "Before running this notebook, ensure you run the following command from command line on the linux server to start the web service\n",
    "\n",
    "```python week5-predict.py```"
   ]
  },
  {
   "cell_type": "code",
   "execution_count": 1,
   "id": "ef565e4d",
   "metadata": {},
   "outputs": [],
   "source": [
    "import requests"
   ]
  },
  {
   "cell_type": "code",
   "execution_count": 2,
   "id": "ca6562a0",
   "metadata": {},
   "outputs": [],
   "source": [
    "url = 'http://localhost:9696/predict'"
   ]
  },
  {
   "cell_type": "code",
   "execution_count": 11,
   "id": "4e271e5a",
   "metadata": {},
   "outputs": [],
   "source": [
    "customer1 = {\n",
    " 'gender': 'Female',\n",
    " 'SeniorCitizen': 0,\n",
    " 'Partner': 'Yes',\n",
    " 'Dependents': 'No',\n",
    " 'tenure': 1,\n",
    " 'PhoneService': 'No',\n",
    " 'MultipleLines': 'No phone service',\n",
    " 'InternetService': 'DSL',\n",
    " 'OnlineSecurity': 'No',\n",
    " 'OnlineBackup': 'Yes',\n",
    " 'DeviceProtection': 'No',\n",
    " 'TechSupport': 'No',\n",
    " 'StreamingTV': 'No',\n",
    " 'StreamingMovies': 'No',\n",
    " 'Contract': 'Month-to-month',\n",
    " 'PaperlessBilling': 'Yes',\n",
    " 'PaymentMethod': 'Electronic check',\n",
    " 'MonthlyCharges': 29.85,\n",
    " 'TotalCharges': '29.85',\n",
    "}\n",
    "\n",
    "customer2 = {\n",
    " 'gender': 'Male',\n",
    " 'SeniorCitizen': 0,\n",
    " 'Partner': 'No',\n",
    " 'Dependents': 'No',\n",
    " 'tenure': 2,\n",
    " 'PhoneService': 'Yes',\n",
    " 'MultipleLines': 'No',\n",
    " 'InternetService': 'DSL',\n",
    " 'OnlineSecurity': 'Yes',\n",
    " 'OnlineBackup': 'Yes',\n",
    " 'DeviceProtection': 'No',\n",
    " 'TechSupport': 'No',\n",
    " 'StreamingTV': 'No',\n",
    " 'StreamingMovies': 'No',\n",
    " 'Contract': 'Month-to-month',\n",
    " 'PaperlessBilling': 'Yes',\n",
    " 'PaymentMethod': 'Mailed check',\n",
    " 'MonthlyCharges': 53.85,\n",
    " 'TotalCharges': '108.15',\n",
    "}\n",
    "\n",
    "hw_customer1 = {\"contract\": \"two_year\", \"tenure\": 12, \"monthlycharges\": 19.7}\n",
    "\n",
    "hw_customer2 = {\"contract\": \"two_year\", \"tenure\": 1, \"monthlycharges\": 10}\n",
    "\n",
    "hw_customer3 = {\"contract\": \"two_year\", \"tenure\": 12, \"monthlycharges\": 10}\n",
    "\n",
    "customer = hw_customer3"
   ]
  },
  {
   "cell_type": "code",
   "execution_count": 12,
   "id": "e5108982",
   "metadata": {},
   "outputs": [
    {
     "data": {
      "text/plain": [
       "{'churn': True, 'churn_probability': 0.7284944888182928}"
      ]
     },
     "execution_count": 12,
     "metadata": {},
     "output_type": "execute_result"
    }
   ],
   "source": [
    "response = requests.post(url,json=customer).json()\n",
    "response"
   ]
  },
  {
   "cell_type": "code",
   "execution_count": 6,
   "id": "08143de5",
   "metadata": {},
   "outputs": [
    {
     "name": "stdout",
     "output_type": "stream",
     "text": [
      "Customer is likely to churn. Sending promotion email to customer xyz\n"
     ]
    }
   ],
   "source": [
    "if response['churn']:\n",
    "    print(\"Customer is likely to churn. Sending promotion email to customer xyz\")\n",
    "else:\n",
    "    print(\"Customer may not churn\")"
   ]
  },
  {
   "cell_type": "markdown",
   "id": "5a642f6f",
   "metadata": {},
   "source": [
    "This is how we can use connect with our web service that has the model and which accepts customer info and returns the prediction"
   ]
  }
 ],
 "metadata": {
  "kernelspec": {
   "display_name": "Python 3",
   "language": "python",
   "name": "python3"
  },
  "language_info": {
   "codemirror_mode": {
    "name": "ipython",
    "version": 3
   },
   "file_extension": ".py",
   "mimetype": "text/x-python",
   "name": "python",
   "nbconvert_exporter": "python",
   "pygments_lexer": "ipython3",
   "version": "3.8.8"
  }
 },
 "nbformat": 4,
 "nbformat_minor": 5
}
