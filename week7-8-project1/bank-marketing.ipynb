{
 "cells": [
  {
   "cell_type": "markdown",
   "metadata": {},
   "source": [
    "<a id='toc'></a>\n",
    "## Table of Contents\n",
    "\n",
    "* [1. About the project](#about_project)\n",
    "* [2. Starter](#starter)\n",
    "    * [2.1 Import libraries](#import_libraries)\n",
    "    * [2.2 Load and have a peak at data](#load_data)"
   ]
  },
  {
   "cell_type": "markdown",
   "metadata": {},
   "source": [
    "[back to TOC](#toc)\n",
    "<a class='anchor' id='about_project'></a>\n",
    "### 1. About the project:\n",
    "The data is related with direct marketing campaigns of a Portuguese banking institution. The marketing campaigns were based on phone calls. Often, more than one contact to the same client was required, in order to access if the product (bank term deposit) would be ('yes') or not ('no') subscribed.\n",
    "\n",
    "#### Notes from data source\n",
    "\n",
    "*Data source:* https://archive.ics.uci.edu/ml/datasets/bank+marketing\n",
    "(Also available at https://www.openml.org/d/1461 but has some differences due to data being processed a bit)\n",
    "\n",
    "*Datafile to be used:* https://archive.ics.uci.edu/ml/machine-learning-databases/00222/bank-additional.zip\n",
    "\n",
    "* 1) bank-additional-full.csv with all examples (41188) and 20 inputs, ordered by date (from May 2008 to November 2010), very close to the data analyzed in [Moro et al., 2014]\n",
    "* 2) bank-additional.csv with 10% of the examples (4119), randomly selected from 1), and 20 inputs.\n",
    "\n",
    "##### Input variables:\n",
    "\n",
    "*bank client data:*\n",
    "* 1 - age (numeric)\n",
    "* 2 - job : type of job (categorical: 'admin.','blue-collar','entrepreneur','housemaid','management','retired','self-employed','services','student','technician','unemployed','unknown')\n",
    "* 3 - marital : marital status (categorical: 'divorced','married','single','unknown'; note: 'divorced' means divorced or widowed)\n",
    "* 4 - education (categorical: 'basic.4y','basic.6y','basic.9y','high.school','illiterate','professional.course','university.degree','unknown')\n",
    "* 5 - default: has credit in default? (categorical: 'no','yes','unknown')\n",
    "* 6 - housing: has housing loan? (categorical: 'no','yes','unknown')\n",
    "* 7 - loan: has personal loan? (categorical: 'no','yes','unknown')\n",
    "\n",
    "*related with the last contact of the current campaign:*\n",
    "* 8 - contact: contact communication type (categorical: 'cellular','telephone')\n",
    "* 9 - month: last contact month of year (categorical: 'jan', 'feb', 'mar', ..., 'nov', 'dec')\n",
    "* 10 - day_of_week: last contact day of the week (categorical: 'mon','tue','wed','thu','fri')\n",
    "* 11 - duration: last contact duration, in seconds (numeric). Important note: this attribute highly affects the output target (e.g., if duration=0 then y='no'). Yet, the duration is not known before a call is performed. Also, after the end of the call y is obviously known. Thus, this input should only be included for benchmark purposes and should be discarded if the intention is to have a realistic predictive model.\n",
    "\n",
    "*other attributes:*\n",
    "* 12 - campaign: number of contacts performed during this campaign and for this client (numeric, includes last contact)\n",
    "* 13 - pdays: number of days that passed by after the client was last contacted from a previous campaign (numeric; 999 means client was not previously contacted)\n",
    "* 14 - previous: number of contacts performed before this campaign and for this client (numeric)\n",
    "* 15 - poutcome: outcome of the previous marketing campaign (categorical: 'failure','nonexistent','success')\n",
    "\n",
    "*social and economic context attributes*\n",
    "* 16 - emp.var.rate: employment variation rate - quarterly indicator (numeric)\n",
    "* 17 - cons.price.idx: consumer price index - monthly indicator (numeric)\n",
    "* 18 - cons.conf.idx: consumer confidence index - monthly indicator (numeric)\n",
    "* 19 - euribor3m: euribor 3 month rate - daily indicator (numeric)\n",
    "* 20 - nr.employed: number of employees - quarterly indicator (numeric)\n",
    "\n",
    "##### Output variable (desired target)\n",
    "* 21 - y - has the client subscribed a term deposit? (binary: 'yes','no')\n",
    "\n",
    "**Citation:** [Moro et al., 2014] S. Moro, P. Cortez and P. Rita. A Data-Driven Approach to Predict the Success of Bank Telemarketing. Decision Support Systems, Elsevier, 62:22-31, June 2014"
   ]
  },
  {
   "cell_type": "markdown",
   "metadata": {},
   "source": [
    "<a id='starter'></a>\n",
    "### 2. Starter\n",
    "[back to TOC](#toc)"
   ]
  },
  {
   "cell_type": "markdown",
   "metadata": {},
   "source": [
    "<a id='import_libraries'></a>\n",
    "#### 2.1 Import libraries\n",
    "[back to TOC](#toc)"
   ]
  },
  {
   "cell_type": "code",
   "execution_count": 48,
   "metadata": {
    "_cell_guid": "b1076dfc-b9ad-4769-8c92-a6c4dae69d19",
    "_uuid": "8f2839f25d086af736a60e9eeb907d3b93b6e0e5",
    "execution": {
     "iopub.execute_input": "2021-10-24T07:47:34.785155Z",
     "iopub.status.busy": "2021-10-24T07:47:34.784846Z",
     "iopub.status.idle": "2021-10-24T07:47:34.796697Z",
     "shell.execute_reply": "2021-10-24T07:47:34.795783Z",
     "shell.execute_reply.started": "2021-10-24T07:47:34.785123Z"
    }
   },
   "outputs": [],
   "source": [
    "# This Python 3 environment comes with many helpful analytics libraries installed\n",
    "# It is defined by the kaggle/python Docker image: https://github.com/kaggle/docker-python\n",
    "# For example, here's several helpful packages to load\n",
    "\n",
    "import numpy as np # linear algebra\n",
    "import pandas as pd # data processing, CSV file I/O (e.g. pd.read_csv)\n",
    "\n",
    "import matplotlib.pyplot as plt\n",
    "import seaborn as sns\n",
    "%matplotlib inline\n",
    "from IPython.display import display\n",
    "\n",
    "from sklearn.metrics import mutual_info_score\n",
    "from sklearn.model_selection import train_test_split, GridSearchCV, RepeatedStratifiedKFold\n",
    "from sklearn.linear_model import LogisticRegression\n",
    "from sklearn.tree import DecisionTreeClassifier, export_text\n",
    "from sklearn.ensemble import RandomForestClassifier\n",
    "from sklearn.metrics import roc_auc_score\n",
    "import xgboost as xgb\n",
    "\n",
    "from sklearn.feature_extraction import DictVectorizer\n",
    "\n",
    "from sklearn import preprocessing\n",
    "\n",
    "# Input data files are available in the read-only \"../input/\" directory\n",
    "# For example, running this (by clicking run or pressing Shift+Enter) will list all files under the input directory\n",
    "\n",
    "# import os\n",
    "# for dirname, _, filenames in os.walk('/kaggle/input'):\n",
    "#     for filename in filenames:\n",
    "#         print(os.path.join(dirname, filename))\n",
    "\n",
    "# You can write up to 20GB to the current directory (/kaggle/working/) that gets preserved as output when you create a version using \"Save & Run All\" \n",
    "# You can also write temporary files to /kaggle/temp/, but they won't be saved outside of the current session"
   ]
  },
  {
   "cell_type": "code",
   "execution_count": 49,
   "metadata": {
    "execution": {
     "iopub.execute_input": "2021-10-24T07:34:54.040397Z",
     "iopub.status.busy": "2021-10-24T07:34:54.040184Z",
     "iopub.status.idle": "2021-10-24T07:35:02.925339Z",
     "shell.execute_reply": "2021-10-24T07:35:02.924203Z",
     "shell.execute_reply.started": "2021-10-24T07:34:54.040371Z"
    }
   },
   "outputs": [],
   "source": [
    "#Install hvplot for interactive plots\n",
    "# !pip install hvplot\n",
    "# import hvplot.pandas\n",
    "\n",
    "#Getting error while installing in EC2 instance"
   ]
  },
  {
   "cell_type": "markdown",
   "metadata": {},
   "source": [
    "<a id='load_data'></a>\n",
    "#### 2.2 Load and have a peek at the data\n",
    "[back to TOC](#toc)"
   ]
  },
  {
   "cell_type": "code",
   "execution_count": 50,
   "metadata": {
    "execution": {
     "iopub.execute_input": "2021-10-24T07:35:02.9273Z",
     "iopub.status.busy": "2021-10-24T07:35:02.927033Z",
     "iopub.status.idle": "2021-10-24T07:35:03.094808Z",
     "shell.execute_reply": "2021-10-24T07:35:03.093906Z",
     "shell.execute_reply.started": "2021-10-24T07:35:02.927269Z"
    }
   },
   "outputs": [],
   "source": [
    "#datafile = '/kaggle/input/progetto-data-intensive-applications/bank-additional-full.csv'\n",
    "datafile = 'bank-additional-full.csv'\n",
    "df = pd.read_csv(datafile,delimiter=';')"
   ]
  },
  {
   "cell_type": "code",
   "execution_count": 51,
   "metadata": {
    "execution": {
     "iopub.execute_input": "2021-10-24T07:35:03.097677Z",
     "iopub.status.busy": "2021-10-24T07:35:03.097236Z",
     "iopub.status.idle": "2021-10-24T07:35:03.152705Z",
     "shell.execute_reply": "2021-10-24T07:35:03.151676Z",
     "shell.execute_reply.started": "2021-10-24T07:35:03.097616Z"
    }
   },
   "outputs": [
    {
     "data": {
      "text/html": [
       "<div>\n",
       "<style scoped>\n",
       "    .dataframe tbody tr th:only-of-type {\n",
       "        vertical-align: middle;\n",
       "    }\n",
       "\n",
       "    .dataframe tbody tr th {\n",
       "        vertical-align: top;\n",
       "    }\n",
       "\n",
       "    .dataframe thead th {\n",
       "        text-align: right;\n",
       "    }\n",
       "</style>\n",
       "<table border=\"1\" class=\"dataframe\">\n",
       "  <thead>\n",
       "    <tr style=\"text-align: right;\">\n",
       "      <th></th>\n",
       "      <th>age</th>\n",
       "      <th>job</th>\n",
       "      <th>marital</th>\n",
       "      <th>education</th>\n",
       "      <th>default</th>\n",
       "      <th>housing</th>\n",
       "      <th>loan</th>\n",
       "      <th>contact</th>\n",
       "      <th>month</th>\n",
       "      <th>day_of_week</th>\n",
       "      <th>...</th>\n",
       "      <th>campaign</th>\n",
       "      <th>pdays</th>\n",
       "      <th>previous</th>\n",
       "      <th>poutcome</th>\n",
       "      <th>emp.var.rate</th>\n",
       "      <th>cons.price.idx</th>\n",
       "      <th>cons.conf.idx</th>\n",
       "      <th>euribor3m</th>\n",
       "      <th>nr.employed</th>\n",
       "      <th>y</th>\n",
       "    </tr>\n",
       "  </thead>\n",
       "  <tbody>\n",
       "    <tr>\n",
       "      <th>0</th>\n",
       "      <td>56</td>\n",
       "      <td>housemaid</td>\n",
       "      <td>married</td>\n",
       "      <td>basic.4y</td>\n",
       "      <td>no</td>\n",
       "      <td>no</td>\n",
       "      <td>no</td>\n",
       "      <td>telephone</td>\n",
       "      <td>may</td>\n",
       "      <td>mon</td>\n",
       "      <td>...</td>\n",
       "      <td>1</td>\n",
       "      <td>999</td>\n",
       "      <td>0</td>\n",
       "      <td>nonexistent</td>\n",
       "      <td>1.1</td>\n",
       "      <td>93.994</td>\n",
       "      <td>-36.4</td>\n",
       "      <td>4.857</td>\n",
       "      <td>5191.0</td>\n",
       "      <td>no</td>\n",
       "    </tr>\n",
       "    <tr>\n",
       "      <th>1</th>\n",
       "      <td>57</td>\n",
       "      <td>services</td>\n",
       "      <td>married</td>\n",
       "      <td>high.school</td>\n",
       "      <td>unknown</td>\n",
       "      <td>no</td>\n",
       "      <td>no</td>\n",
       "      <td>telephone</td>\n",
       "      <td>may</td>\n",
       "      <td>mon</td>\n",
       "      <td>...</td>\n",
       "      <td>1</td>\n",
       "      <td>999</td>\n",
       "      <td>0</td>\n",
       "      <td>nonexistent</td>\n",
       "      <td>1.1</td>\n",
       "      <td>93.994</td>\n",
       "      <td>-36.4</td>\n",
       "      <td>4.857</td>\n",
       "      <td>5191.0</td>\n",
       "      <td>no</td>\n",
       "    </tr>\n",
       "    <tr>\n",
       "      <th>2</th>\n",
       "      <td>37</td>\n",
       "      <td>services</td>\n",
       "      <td>married</td>\n",
       "      <td>high.school</td>\n",
       "      <td>no</td>\n",
       "      <td>yes</td>\n",
       "      <td>no</td>\n",
       "      <td>telephone</td>\n",
       "      <td>may</td>\n",
       "      <td>mon</td>\n",
       "      <td>...</td>\n",
       "      <td>1</td>\n",
       "      <td>999</td>\n",
       "      <td>0</td>\n",
       "      <td>nonexistent</td>\n",
       "      <td>1.1</td>\n",
       "      <td>93.994</td>\n",
       "      <td>-36.4</td>\n",
       "      <td>4.857</td>\n",
       "      <td>5191.0</td>\n",
       "      <td>no</td>\n",
       "    </tr>\n",
       "    <tr>\n",
       "      <th>3</th>\n",
       "      <td>40</td>\n",
       "      <td>admin.</td>\n",
       "      <td>married</td>\n",
       "      <td>basic.6y</td>\n",
       "      <td>no</td>\n",
       "      <td>no</td>\n",
       "      <td>no</td>\n",
       "      <td>telephone</td>\n",
       "      <td>may</td>\n",
       "      <td>mon</td>\n",
       "      <td>...</td>\n",
       "      <td>1</td>\n",
       "      <td>999</td>\n",
       "      <td>0</td>\n",
       "      <td>nonexistent</td>\n",
       "      <td>1.1</td>\n",
       "      <td>93.994</td>\n",
       "      <td>-36.4</td>\n",
       "      <td>4.857</td>\n",
       "      <td>5191.0</td>\n",
       "      <td>no</td>\n",
       "    </tr>\n",
       "    <tr>\n",
       "      <th>4</th>\n",
       "      <td>56</td>\n",
       "      <td>services</td>\n",
       "      <td>married</td>\n",
       "      <td>high.school</td>\n",
       "      <td>no</td>\n",
       "      <td>no</td>\n",
       "      <td>yes</td>\n",
       "      <td>telephone</td>\n",
       "      <td>may</td>\n",
       "      <td>mon</td>\n",
       "      <td>...</td>\n",
       "      <td>1</td>\n",
       "      <td>999</td>\n",
       "      <td>0</td>\n",
       "      <td>nonexistent</td>\n",
       "      <td>1.1</td>\n",
       "      <td>93.994</td>\n",
       "      <td>-36.4</td>\n",
       "      <td>4.857</td>\n",
       "      <td>5191.0</td>\n",
       "      <td>no</td>\n",
       "    </tr>\n",
       "    <tr>\n",
       "      <th>...</th>\n",
       "      <td>...</td>\n",
       "      <td>...</td>\n",
       "      <td>...</td>\n",
       "      <td>...</td>\n",
       "      <td>...</td>\n",
       "      <td>...</td>\n",
       "      <td>...</td>\n",
       "      <td>...</td>\n",
       "      <td>...</td>\n",
       "      <td>...</td>\n",
       "      <td>...</td>\n",
       "      <td>...</td>\n",
       "      <td>...</td>\n",
       "      <td>...</td>\n",
       "      <td>...</td>\n",
       "      <td>...</td>\n",
       "      <td>...</td>\n",
       "      <td>...</td>\n",
       "      <td>...</td>\n",
       "      <td>...</td>\n",
       "      <td>...</td>\n",
       "    </tr>\n",
       "    <tr>\n",
       "      <th>41183</th>\n",
       "      <td>73</td>\n",
       "      <td>retired</td>\n",
       "      <td>married</td>\n",
       "      <td>professional.course</td>\n",
       "      <td>no</td>\n",
       "      <td>yes</td>\n",
       "      <td>no</td>\n",
       "      <td>cellular</td>\n",
       "      <td>nov</td>\n",
       "      <td>fri</td>\n",
       "      <td>...</td>\n",
       "      <td>1</td>\n",
       "      <td>999</td>\n",
       "      <td>0</td>\n",
       "      <td>nonexistent</td>\n",
       "      <td>-1.1</td>\n",
       "      <td>94.767</td>\n",
       "      <td>-50.8</td>\n",
       "      <td>1.028</td>\n",
       "      <td>4963.6</td>\n",
       "      <td>yes</td>\n",
       "    </tr>\n",
       "    <tr>\n",
       "      <th>41184</th>\n",
       "      <td>46</td>\n",
       "      <td>blue-collar</td>\n",
       "      <td>married</td>\n",
       "      <td>professional.course</td>\n",
       "      <td>no</td>\n",
       "      <td>no</td>\n",
       "      <td>no</td>\n",
       "      <td>cellular</td>\n",
       "      <td>nov</td>\n",
       "      <td>fri</td>\n",
       "      <td>...</td>\n",
       "      <td>1</td>\n",
       "      <td>999</td>\n",
       "      <td>0</td>\n",
       "      <td>nonexistent</td>\n",
       "      <td>-1.1</td>\n",
       "      <td>94.767</td>\n",
       "      <td>-50.8</td>\n",
       "      <td>1.028</td>\n",
       "      <td>4963.6</td>\n",
       "      <td>no</td>\n",
       "    </tr>\n",
       "    <tr>\n",
       "      <th>41185</th>\n",
       "      <td>56</td>\n",
       "      <td>retired</td>\n",
       "      <td>married</td>\n",
       "      <td>university.degree</td>\n",
       "      <td>no</td>\n",
       "      <td>yes</td>\n",
       "      <td>no</td>\n",
       "      <td>cellular</td>\n",
       "      <td>nov</td>\n",
       "      <td>fri</td>\n",
       "      <td>...</td>\n",
       "      <td>2</td>\n",
       "      <td>999</td>\n",
       "      <td>0</td>\n",
       "      <td>nonexistent</td>\n",
       "      <td>-1.1</td>\n",
       "      <td>94.767</td>\n",
       "      <td>-50.8</td>\n",
       "      <td>1.028</td>\n",
       "      <td>4963.6</td>\n",
       "      <td>no</td>\n",
       "    </tr>\n",
       "    <tr>\n",
       "      <th>41186</th>\n",
       "      <td>44</td>\n",
       "      <td>technician</td>\n",
       "      <td>married</td>\n",
       "      <td>professional.course</td>\n",
       "      <td>no</td>\n",
       "      <td>no</td>\n",
       "      <td>no</td>\n",
       "      <td>cellular</td>\n",
       "      <td>nov</td>\n",
       "      <td>fri</td>\n",
       "      <td>...</td>\n",
       "      <td>1</td>\n",
       "      <td>999</td>\n",
       "      <td>0</td>\n",
       "      <td>nonexistent</td>\n",
       "      <td>-1.1</td>\n",
       "      <td>94.767</td>\n",
       "      <td>-50.8</td>\n",
       "      <td>1.028</td>\n",
       "      <td>4963.6</td>\n",
       "      <td>yes</td>\n",
       "    </tr>\n",
       "    <tr>\n",
       "      <th>41187</th>\n",
       "      <td>74</td>\n",
       "      <td>retired</td>\n",
       "      <td>married</td>\n",
       "      <td>professional.course</td>\n",
       "      <td>no</td>\n",
       "      <td>yes</td>\n",
       "      <td>no</td>\n",
       "      <td>cellular</td>\n",
       "      <td>nov</td>\n",
       "      <td>fri</td>\n",
       "      <td>...</td>\n",
       "      <td>3</td>\n",
       "      <td>999</td>\n",
       "      <td>1</td>\n",
       "      <td>failure</td>\n",
       "      <td>-1.1</td>\n",
       "      <td>94.767</td>\n",
       "      <td>-50.8</td>\n",
       "      <td>1.028</td>\n",
       "      <td>4963.6</td>\n",
       "      <td>no</td>\n",
       "    </tr>\n",
       "  </tbody>\n",
       "</table>\n",
       "<p>41188 rows × 21 columns</p>\n",
       "</div>"
      ],
      "text/plain": [
       "       age          job  marital            education  default housing loan  \\\n",
       "0       56    housemaid  married             basic.4y       no      no   no   \n",
       "1       57     services  married          high.school  unknown      no   no   \n",
       "2       37     services  married          high.school       no     yes   no   \n",
       "3       40       admin.  married             basic.6y       no      no   no   \n",
       "4       56     services  married          high.school       no      no  yes   \n",
       "...    ...          ...      ...                  ...      ...     ...  ...   \n",
       "41183   73      retired  married  professional.course       no     yes   no   \n",
       "41184   46  blue-collar  married  professional.course       no      no   no   \n",
       "41185   56      retired  married    university.degree       no     yes   no   \n",
       "41186   44   technician  married  professional.course       no      no   no   \n",
       "41187   74      retired  married  professional.course       no     yes   no   \n",
       "\n",
       "         contact month day_of_week  ...  campaign  pdays  previous  \\\n",
       "0      telephone   may         mon  ...         1    999         0   \n",
       "1      telephone   may         mon  ...         1    999         0   \n",
       "2      telephone   may         mon  ...         1    999         0   \n",
       "3      telephone   may         mon  ...         1    999         0   \n",
       "4      telephone   may         mon  ...         1    999         0   \n",
       "...          ...   ...         ...  ...       ...    ...       ...   \n",
       "41183   cellular   nov         fri  ...         1    999         0   \n",
       "41184   cellular   nov         fri  ...         1    999         0   \n",
       "41185   cellular   nov         fri  ...         2    999         0   \n",
       "41186   cellular   nov         fri  ...         1    999         0   \n",
       "41187   cellular   nov         fri  ...         3    999         1   \n",
       "\n",
       "          poutcome emp.var.rate  cons.price.idx  cons.conf.idx  euribor3m  \\\n",
       "0      nonexistent          1.1          93.994          -36.4      4.857   \n",
       "1      nonexistent          1.1          93.994          -36.4      4.857   \n",
       "2      nonexistent          1.1          93.994          -36.4      4.857   \n",
       "3      nonexistent          1.1          93.994          -36.4      4.857   \n",
       "4      nonexistent          1.1          93.994          -36.4      4.857   \n",
       "...            ...          ...             ...            ...        ...   \n",
       "41183  nonexistent         -1.1          94.767          -50.8      1.028   \n",
       "41184  nonexistent         -1.1          94.767          -50.8      1.028   \n",
       "41185  nonexistent         -1.1          94.767          -50.8      1.028   \n",
       "41186  nonexistent         -1.1          94.767          -50.8      1.028   \n",
       "41187      failure         -1.1          94.767          -50.8      1.028   \n",
       "\n",
       "       nr.employed    y  \n",
       "0           5191.0   no  \n",
       "1           5191.0   no  \n",
       "2           5191.0   no  \n",
       "3           5191.0   no  \n",
       "4           5191.0   no  \n",
       "...            ...  ...  \n",
       "41183       4963.6  yes  \n",
       "41184       4963.6   no  \n",
       "41185       4963.6   no  \n",
       "41186       4963.6  yes  \n",
       "41187       4963.6   no  \n",
       "\n",
       "[41188 rows x 21 columns]"
      ]
     },
     "execution_count": 51,
     "metadata": {},
     "output_type": "execute_result"
    }
   ],
   "source": [
    "df"
   ]
  },
  {
   "cell_type": "markdown",
   "metadata": {},
   "source": [
    "### 3. Exploratory Data Analysis\n",
    "\n",
    "* Check if columns correctly classified as numerical and categorical *(sometimes numerical columns are marked categorical or vice versa)*\n",
    "* Check for missing data and impute if data missing\n",
    "* Check if any numerical features have extreme high values *(sometimes NaNs are coded as high number like 99999999)*\n",
    "* Check cardinality of categorical features *(if very high cardinality then using one-hot encoding may create a lot of features)*\n",
    "* Target variable analysis \n",
    "  - Convert categorical to binary *(since this dataset has target values of yes and no)*\n",
    "  - Check whether there is class imbalance *(if class imbalance then accuracy should not be used as evaluation metric, rather roc_auc can be used)*\n",
    "* Check if records where features have 'unknown' as values *(representative of NaNs)* can be deleted"
   ]
  },
  {
   "cell_type": "markdown",
   "metadata": {},
   "source": [
    "Check if all the columns have correct data type (sometimes numerical columns are marked categorical or vice versa) "
   ]
  },
  {
   "cell_type": "code",
   "execution_count": 52,
   "metadata": {
    "execution": {
     "iopub.execute_input": "2021-10-24T07:35:03.154998Z",
     "iopub.status.busy": "2021-10-24T07:35:03.154371Z",
     "iopub.status.idle": "2021-10-24T07:35:03.17173Z",
     "shell.execute_reply": "2021-10-24T07:35:03.170968Z",
     "shell.execute_reply.started": "2021-10-24T07:35:03.154951Z"
    }
   },
   "outputs": [
    {
     "data": {
      "text/html": [
       "<div>\n",
       "<style scoped>\n",
       "    .dataframe tbody tr th:only-of-type {\n",
       "        vertical-align: middle;\n",
       "    }\n",
       "\n",
       "    .dataframe tbody tr th {\n",
       "        vertical-align: top;\n",
       "    }\n",
       "\n",
       "    .dataframe thead th {\n",
       "        text-align: right;\n",
       "    }\n",
       "</style>\n",
       "<table border=\"1\" class=\"dataframe\">\n",
       "  <thead>\n",
       "    <tr style=\"text-align: right;\">\n",
       "      <th></th>\n",
       "      <th>dtype</th>\n",
       "      <th>0</th>\n",
       "      <th>1</th>\n",
       "    </tr>\n",
       "  </thead>\n",
       "  <tbody>\n",
       "    <tr>\n",
       "      <th>age</th>\n",
       "      <td>int64</td>\n",
       "      <td>56</td>\n",
       "      <td>57</td>\n",
       "    </tr>\n",
       "    <tr>\n",
       "      <th>job</th>\n",
       "      <td>object</td>\n",
       "      <td>housemaid</td>\n",
       "      <td>services</td>\n",
       "    </tr>\n",
       "    <tr>\n",
       "      <th>marital</th>\n",
       "      <td>object</td>\n",
       "      <td>married</td>\n",
       "      <td>married</td>\n",
       "    </tr>\n",
       "    <tr>\n",
       "      <th>education</th>\n",
       "      <td>object</td>\n",
       "      <td>basic.4y</td>\n",
       "      <td>high.school</td>\n",
       "    </tr>\n",
       "    <tr>\n",
       "      <th>default</th>\n",
       "      <td>object</td>\n",
       "      <td>no</td>\n",
       "      <td>unknown</td>\n",
       "    </tr>\n",
       "    <tr>\n",
       "      <th>housing</th>\n",
       "      <td>object</td>\n",
       "      <td>no</td>\n",
       "      <td>no</td>\n",
       "    </tr>\n",
       "    <tr>\n",
       "      <th>loan</th>\n",
       "      <td>object</td>\n",
       "      <td>no</td>\n",
       "      <td>no</td>\n",
       "    </tr>\n",
       "    <tr>\n",
       "      <th>contact</th>\n",
       "      <td>object</td>\n",
       "      <td>telephone</td>\n",
       "      <td>telephone</td>\n",
       "    </tr>\n",
       "    <tr>\n",
       "      <th>month</th>\n",
       "      <td>object</td>\n",
       "      <td>may</td>\n",
       "      <td>may</td>\n",
       "    </tr>\n",
       "    <tr>\n",
       "      <th>day_of_week</th>\n",
       "      <td>object</td>\n",
       "      <td>mon</td>\n",
       "      <td>mon</td>\n",
       "    </tr>\n",
       "    <tr>\n",
       "      <th>duration</th>\n",
       "      <td>int64</td>\n",
       "      <td>261</td>\n",
       "      <td>149</td>\n",
       "    </tr>\n",
       "    <tr>\n",
       "      <th>campaign</th>\n",
       "      <td>int64</td>\n",
       "      <td>1</td>\n",
       "      <td>1</td>\n",
       "    </tr>\n",
       "    <tr>\n",
       "      <th>pdays</th>\n",
       "      <td>int64</td>\n",
       "      <td>999</td>\n",
       "      <td>999</td>\n",
       "    </tr>\n",
       "    <tr>\n",
       "      <th>previous</th>\n",
       "      <td>int64</td>\n",
       "      <td>0</td>\n",
       "      <td>0</td>\n",
       "    </tr>\n",
       "    <tr>\n",
       "      <th>poutcome</th>\n",
       "      <td>object</td>\n",
       "      <td>nonexistent</td>\n",
       "      <td>nonexistent</td>\n",
       "    </tr>\n",
       "    <tr>\n",
       "      <th>emp.var.rate</th>\n",
       "      <td>float64</td>\n",
       "      <td>1.1</td>\n",
       "      <td>1.1</td>\n",
       "    </tr>\n",
       "    <tr>\n",
       "      <th>cons.price.idx</th>\n",
       "      <td>float64</td>\n",
       "      <td>93.994</td>\n",
       "      <td>93.994</td>\n",
       "    </tr>\n",
       "    <tr>\n",
       "      <th>cons.conf.idx</th>\n",
       "      <td>float64</td>\n",
       "      <td>-36.4</td>\n",
       "      <td>-36.4</td>\n",
       "    </tr>\n",
       "    <tr>\n",
       "      <th>euribor3m</th>\n",
       "      <td>float64</td>\n",
       "      <td>4.857</td>\n",
       "      <td>4.857</td>\n",
       "    </tr>\n",
       "    <tr>\n",
       "      <th>nr.employed</th>\n",
       "      <td>float64</td>\n",
       "      <td>5191.0</td>\n",
       "      <td>5191.0</td>\n",
       "    </tr>\n",
       "    <tr>\n",
       "      <th>y</th>\n",
       "      <td>object</td>\n",
       "      <td>no</td>\n",
       "      <td>no</td>\n",
       "    </tr>\n",
       "  </tbody>\n",
       "</table>\n",
       "</div>"
      ],
      "text/plain": [
       "                  dtype            0            1\n",
       "age               int64           56           57\n",
       "job              object    housemaid     services\n",
       "marital          object      married      married\n",
       "education        object     basic.4y  high.school\n",
       "default          object           no      unknown\n",
       "housing          object           no           no\n",
       "loan             object           no           no\n",
       "contact          object    telephone    telephone\n",
       "month            object          may          may\n",
       "day_of_week      object          mon          mon\n",
       "duration          int64          261          149\n",
       "campaign          int64            1            1\n",
       "pdays             int64          999          999\n",
       "previous          int64            0            0\n",
       "poutcome         object  nonexistent  nonexistent\n",
       "emp.var.rate    float64          1.1          1.1\n",
       "cons.price.idx  float64       93.994       93.994\n",
       "cons.conf.idx   float64        -36.4        -36.4\n",
       "euribor3m       float64        4.857        4.857\n",
       "nr.employed     float64       5191.0       5191.0\n",
       "y                object           no           no"
      ]
     },
     "execution_count": 52,
     "metadata": {},
     "output_type": "execute_result"
    }
   ],
   "source": [
    "df_head = df.head(2).T\n",
    "dtypes = list(df.dtypes.values)\n",
    "df_head.insert(loc=0,column='dtype',value=dtypes)\n",
    "df_head"
   ]
  },
  {
   "cell_type": "markdown",
   "metadata": {},
   "source": [
    "**Observations:** The columns seem to be correctly typed"
   ]
  },
  {
   "cell_type": "markdown",
   "metadata": {},
   "source": [
    "Check for missing data"
   ]
  },
  {
   "cell_type": "code",
   "execution_count": 53,
   "metadata": {
    "execution": {
     "iopub.execute_input": "2021-10-24T07:35:03.173148Z",
     "iopub.status.busy": "2021-10-24T07:35:03.172906Z",
     "iopub.status.idle": "2021-10-24T07:35:03.23868Z",
     "shell.execute_reply": "2021-10-24T07:35:03.237699Z",
     "shell.execute_reply.started": "2021-10-24T07:35:03.173121Z"
    }
   },
   "outputs": [
    {
     "data": {
      "text/plain": [
       "age               0\n",
       "job               0\n",
       "marital           0\n",
       "education         0\n",
       "default           0\n",
       "housing           0\n",
       "loan              0\n",
       "contact           0\n",
       "month             0\n",
       "day_of_week       0\n",
       "duration          0\n",
       "campaign          0\n",
       "pdays             0\n",
       "previous          0\n",
       "poutcome          0\n",
       "emp.var.rate      0\n",
       "cons.price.idx    0\n",
       "cons.conf.idx     0\n",
       "euribor3m         0\n",
       "nr.employed       0\n",
       "y                 0\n",
       "dtype: int64"
      ]
     },
     "execution_count": 53,
     "metadata": {},
     "output_type": "execute_result"
    }
   ],
   "source": [
    "df.isnull().sum()"
   ]
  },
  {
   "cell_type": "markdown",
   "metadata": {},
   "source": [
    "**Observations:** No missing data"
   ]
  },
  {
   "cell_type": "code",
   "execution_count": 54,
   "metadata": {
    "execution": {
     "iopub.execute_input": "2021-10-24T07:35:03.240319Z",
     "iopub.status.busy": "2021-10-24T07:35:03.240003Z",
     "iopub.status.idle": "2021-10-24T07:35:03.257694Z",
     "shell.execute_reply": "2021-10-24T07:35:03.256629Z",
     "shell.execute_reply.started": "2021-10-24T07:35:03.240286Z"
    }
   },
   "outputs": [
    {
     "name": "stdout",
     "output_type": "stream",
     "text": [
      "emp.var.rate : 10\n",
      "cons.price.idx : 26\n",
      "cons.conf.idx : 26\n",
      "euribor3m : 316\n",
      "nr.employed : 11\n"
     ]
    }
   ],
   "source": [
    "socio_econ_vars = ['emp.var.rate','cons.price.idx','cons.conf.idx','euribor3m','nr.employed']\n",
    "for c in socio_econ_vars:\n",
    "    print(f'{c} : {df[c].nunique()}')"
   ]
  },
  {
   "cell_type": "code",
   "execution_count": 55,
   "metadata": {
    "execution": {
     "iopub.execute_input": "2021-10-24T07:35:03.259274Z",
     "iopub.status.busy": "2021-10-24T07:35:03.258696Z",
     "iopub.status.idle": "2021-10-24T07:35:03.268819Z",
     "shell.execute_reply": "2021-10-24T07:35:03.268219Z",
     "shell.execute_reply.started": "2021-10-24T07:35:03.25924Z"
    }
   },
   "outputs": [
    {
     "data": {
      "text/plain": [
       "['age',\n",
       " 'duration',\n",
       " 'campaign',\n",
       " 'pdays',\n",
       " 'previous',\n",
       " 'emp.var.rate',\n",
       " 'cons.price.idx',\n",
       " 'cons.conf.idx',\n",
       " 'euribor3m',\n",
       " 'nr.employed']"
      ]
     },
     "metadata": {},
     "output_type": "display_data"
    },
    {
     "data": {
      "text/plain": [
       "['job',\n",
       " 'marital',\n",
       " 'education',\n",
       " 'default',\n",
       " 'housing',\n",
       " 'loan',\n",
       " 'contact',\n",
       " 'month',\n",
       " 'day_of_week',\n",
       " 'poutcome']"
      ]
     },
     "metadata": {},
     "output_type": "display_data"
    }
   ],
   "source": [
    "#Numerical and Categorical features\n",
    "t_num_cols = list(df.columns[df.dtypes != 'object'])\n",
    "t_cat_cols = list(df.columns[df.dtypes == 'object'])\n",
    "t_cat_cols.remove('y')\n",
    "display(t_num_cols)\n",
    "display(t_cat_cols)"
   ]
  },
  {
   "cell_type": "markdown",
   "metadata": {},
   "source": [
    "Check if any of the numerical columns have significantly high values (sometimes NaNs are filled as something like 99999999)"
   ]
  },
  {
   "cell_type": "code",
   "execution_count": 56,
   "metadata": {
    "execution": {
     "iopub.execute_input": "2021-10-24T07:35:03.27173Z",
     "iopub.status.busy": "2021-10-24T07:35:03.271013Z",
     "iopub.status.idle": "2021-10-24T07:35:03.327821Z",
     "shell.execute_reply": "2021-10-24T07:35:03.327122Z",
     "shell.execute_reply.started": "2021-10-24T07:35:03.271693Z"
    }
   },
   "outputs": [
    {
     "data": {
      "text/html": [
       "<div>\n",
       "<style scoped>\n",
       "    .dataframe tbody tr th:only-of-type {\n",
       "        vertical-align: middle;\n",
       "    }\n",
       "\n",
       "    .dataframe tbody tr th {\n",
       "        vertical-align: top;\n",
       "    }\n",
       "\n",
       "    .dataframe thead th {\n",
       "        text-align: right;\n",
       "    }\n",
       "</style>\n",
       "<table border=\"1\" class=\"dataframe\">\n",
       "  <thead>\n",
       "    <tr style=\"text-align: right;\">\n",
       "      <th></th>\n",
       "      <th>count</th>\n",
       "      <th>mean</th>\n",
       "      <th>std</th>\n",
       "      <th>min</th>\n",
       "      <th>25%</th>\n",
       "      <th>50%</th>\n",
       "      <th>75%</th>\n",
       "      <th>max</th>\n",
       "    </tr>\n",
       "  </thead>\n",
       "  <tbody>\n",
       "    <tr>\n",
       "      <th>age</th>\n",
       "      <td>41188.0</td>\n",
       "      <td>40.024060</td>\n",
       "      <td>10.421250</td>\n",
       "      <td>17.000</td>\n",
       "      <td>32.000</td>\n",
       "      <td>38.000</td>\n",
       "      <td>47.000</td>\n",
       "      <td>98.000</td>\n",
       "    </tr>\n",
       "    <tr>\n",
       "      <th>duration</th>\n",
       "      <td>41188.0</td>\n",
       "      <td>258.285010</td>\n",
       "      <td>259.279249</td>\n",
       "      <td>0.000</td>\n",
       "      <td>102.000</td>\n",
       "      <td>180.000</td>\n",
       "      <td>319.000</td>\n",
       "      <td>4918.000</td>\n",
       "    </tr>\n",
       "    <tr>\n",
       "      <th>campaign</th>\n",
       "      <td>41188.0</td>\n",
       "      <td>2.567593</td>\n",
       "      <td>2.770014</td>\n",
       "      <td>1.000</td>\n",
       "      <td>1.000</td>\n",
       "      <td>2.000</td>\n",
       "      <td>3.000</td>\n",
       "      <td>56.000</td>\n",
       "    </tr>\n",
       "    <tr>\n",
       "      <th>pdays</th>\n",
       "      <td>41188.0</td>\n",
       "      <td>962.475454</td>\n",
       "      <td>186.910907</td>\n",
       "      <td>0.000</td>\n",
       "      <td>999.000</td>\n",
       "      <td>999.000</td>\n",
       "      <td>999.000</td>\n",
       "      <td>999.000</td>\n",
       "    </tr>\n",
       "    <tr>\n",
       "      <th>previous</th>\n",
       "      <td>41188.0</td>\n",
       "      <td>0.172963</td>\n",
       "      <td>0.494901</td>\n",
       "      <td>0.000</td>\n",
       "      <td>0.000</td>\n",
       "      <td>0.000</td>\n",
       "      <td>0.000</td>\n",
       "      <td>7.000</td>\n",
       "    </tr>\n",
       "    <tr>\n",
       "      <th>emp.var.rate</th>\n",
       "      <td>41188.0</td>\n",
       "      <td>0.081886</td>\n",
       "      <td>1.570960</td>\n",
       "      <td>-3.400</td>\n",
       "      <td>-1.800</td>\n",
       "      <td>1.100</td>\n",
       "      <td>1.400</td>\n",
       "      <td>1.400</td>\n",
       "    </tr>\n",
       "    <tr>\n",
       "      <th>cons.price.idx</th>\n",
       "      <td>41188.0</td>\n",
       "      <td>93.575664</td>\n",
       "      <td>0.578840</td>\n",
       "      <td>92.201</td>\n",
       "      <td>93.075</td>\n",
       "      <td>93.749</td>\n",
       "      <td>93.994</td>\n",
       "      <td>94.767</td>\n",
       "    </tr>\n",
       "    <tr>\n",
       "      <th>cons.conf.idx</th>\n",
       "      <td>41188.0</td>\n",
       "      <td>-40.502600</td>\n",
       "      <td>4.628198</td>\n",
       "      <td>-50.800</td>\n",
       "      <td>-42.700</td>\n",
       "      <td>-41.800</td>\n",
       "      <td>-36.400</td>\n",
       "      <td>-26.900</td>\n",
       "    </tr>\n",
       "    <tr>\n",
       "      <th>euribor3m</th>\n",
       "      <td>41188.0</td>\n",
       "      <td>3.621291</td>\n",
       "      <td>1.734447</td>\n",
       "      <td>0.634</td>\n",
       "      <td>1.344</td>\n",
       "      <td>4.857</td>\n",
       "      <td>4.961</td>\n",
       "      <td>5.045</td>\n",
       "    </tr>\n",
       "    <tr>\n",
       "      <th>nr.employed</th>\n",
       "      <td>41188.0</td>\n",
       "      <td>5167.035911</td>\n",
       "      <td>72.251528</td>\n",
       "      <td>4963.600</td>\n",
       "      <td>5099.100</td>\n",
       "      <td>5191.000</td>\n",
       "      <td>5228.100</td>\n",
       "      <td>5228.100</td>\n",
       "    </tr>\n",
       "  </tbody>\n",
       "</table>\n",
       "</div>"
      ],
      "text/plain": [
       "                  count         mean         std       min       25%  \\\n",
       "age             41188.0    40.024060   10.421250    17.000    32.000   \n",
       "duration        41188.0   258.285010  259.279249     0.000   102.000   \n",
       "campaign        41188.0     2.567593    2.770014     1.000     1.000   \n",
       "pdays           41188.0   962.475454  186.910907     0.000   999.000   \n",
       "previous        41188.0     0.172963    0.494901     0.000     0.000   \n",
       "emp.var.rate    41188.0     0.081886    1.570960    -3.400    -1.800   \n",
       "cons.price.idx  41188.0    93.575664    0.578840    92.201    93.075   \n",
       "cons.conf.idx   41188.0   -40.502600    4.628198   -50.800   -42.700   \n",
       "euribor3m       41188.0     3.621291    1.734447     0.634     1.344   \n",
       "nr.employed     41188.0  5167.035911   72.251528  4963.600  5099.100   \n",
       "\n",
       "                     50%       75%       max  \n",
       "age               38.000    47.000    98.000  \n",
       "duration         180.000   319.000  4918.000  \n",
       "campaign           2.000     3.000    56.000  \n",
       "pdays            999.000   999.000   999.000  \n",
       "previous           0.000     0.000     7.000  \n",
       "emp.var.rate       1.100     1.400     1.400  \n",
       "cons.price.idx    93.749    93.994    94.767  \n",
       "cons.conf.idx    -41.800   -36.400   -26.900  \n",
       "euribor3m          4.857     4.961     5.045  \n",
       "nr.employed     5191.000  5228.100  5228.100  "
      ]
     },
     "execution_count": 56,
     "metadata": {},
     "output_type": "execute_result"
    }
   ],
   "source": [
    "df[t_num_cols].describe().T"
   ]
  },
  {
   "cell_type": "code",
   "execution_count": 57,
   "metadata": {
    "execution": {
     "iopub.execute_input": "2021-10-24T07:35:03.329293Z",
     "iopub.status.busy": "2021-10-24T07:35:03.328953Z",
     "iopub.status.idle": "2021-10-24T07:35:03.458544Z",
     "shell.execute_reply": "2021-10-24T07:35:03.457938Z",
     "shell.execute_reply.started": "2021-10-24T07:35:03.329264Z"
    }
   },
   "outputs": [
    {
     "data": {
      "text/html": [
       "<div>\n",
       "<style scoped>\n",
       "    .dataframe tbody tr th:only-of-type {\n",
       "        vertical-align: middle;\n",
       "    }\n",
       "\n",
       "    .dataframe tbody tr th {\n",
       "        vertical-align: top;\n",
       "    }\n",
       "\n",
       "    .dataframe thead th {\n",
       "        text-align: right;\n",
       "    }\n",
       "</style>\n",
       "<table border=\"1\" class=\"dataframe\">\n",
       "  <thead>\n",
       "    <tr style=\"text-align: right;\">\n",
       "      <th></th>\n",
       "      <th>count</th>\n",
       "      <th>unique</th>\n",
       "      <th>top</th>\n",
       "      <th>freq</th>\n",
       "    </tr>\n",
       "  </thead>\n",
       "  <tbody>\n",
       "    <tr>\n",
       "      <th>job</th>\n",
       "      <td>41188</td>\n",
       "      <td>12</td>\n",
       "      <td>admin.</td>\n",
       "      <td>10422</td>\n",
       "    </tr>\n",
       "    <tr>\n",
       "      <th>marital</th>\n",
       "      <td>41188</td>\n",
       "      <td>4</td>\n",
       "      <td>married</td>\n",
       "      <td>24928</td>\n",
       "    </tr>\n",
       "    <tr>\n",
       "      <th>education</th>\n",
       "      <td>41188</td>\n",
       "      <td>8</td>\n",
       "      <td>university.degree</td>\n",
       "      <td>12168</td>\n",
       "    </tr>\n",
       "    <tr>\n",
       "      <th>default</th>\n",
       "      <td>41188</td>\n",
       "      <td>3</td>\n",
       "      <td>no</td>\n",
       "      <td>32588</td>\n",
       "    </tr>\n",
       "    <tr>\n",
       "      <th>housing</th>\n",
       "      <td>41188</td>\n",
       "      <td>3</td>\n",
       "      <td>yes</td>\n",
       "      <td>21576</td>\n",
       "    </tr>\n",
       "    <tr>\n",
       "      <th>loan</th>\n",
       "      <td>41188</td>\n",
       "      <td>3</td>\n",
       "      <td>no</td>\n",
       "      <td>33950</td>\n",
       "    </tr>\n",
       "    <tr>\n",
       "      <th>contact</th>\n",
       "      <td>41188</td>\n",
       "      <td>2</td>\n",
       "      <td>cellular</td>\n",
       "      <td>26144</td>\n",
       "    </tr>\n",
       "    <tr>\n",
       "      <th>month</th>\n",
       "      <td>41188</td>\n",
       "      <td>10</td>\n",
       "      <td>may</td>\n",
       "      <td>13769</td>\n",
       "    </tr>\n",
       "    <tr>\n",
       "      <th>day_of_week</th>\n",
       "      <td>41188</td>\n",
       "      <td>5</td>\n",
       "      <td>thu</td>\n",
       "      <td>8623</td>\n",
       "    </tr>\n",
       "    <tr>\n",
       "      <th>poutcome</th>\n",
       "      <td>41188</td>\n",
       "      <td>3</td>\n",
       "      <td>nonexistent</td>\n",
       "      <td>35563</td>\n",
       "    </tr>\n",
       "  </tbody>\n",
       "</table>\n",
       "</div>"
      ],
      "text/plain": [
       "             count unique                top   freq\n",
       "job          41188     12             admin.  10422\n",
       "marital      41188      4            married  24928\n",
       "education    41188      8  university.degree  12168\n",
       "default      41188      3                 no  32588\n",
       "housing      41188      3                yes  21576\n",
       "loan         41188      3                 no  33950\n",
       "contact      41188      2           cellular  26144\n",
       "month        41188     10                may  13769\n",
       "day_of_week  41188      5                thu   8623\n",
       "poutcome     41188      3        nonexistent  35563"
      ]
     },
     "execution_count": 57,
     "metadata": {},
     "output_type": "execute_result"
    }
   ],
   "source": [
    "df[t_cat_cols].describe().T"
   ]
  },
  {
   "cell_type": "markdown",
   "metadata": {},
   "source": [
    "For categorical features, check cardinality (distinct values and their count)"
   ]
  },
  {
   "cell_type": "code",
   "execution_count": 58,
   "metadata": {
    "execution": {
     "iopub.execute_input": "2021-10-24T07:35:03.460082Z",
     "iopub.status.busy": "2021-10-24T07:35:03.459847Z",
     "iopub.status.idle": "2021-10-24T07:35:03.514278Z",
     "shell.execute_reply": "2021-10-24T07:35:03.513363Z",
     "shell.execute_reply.started": "2021-10-24T07:35:03.460051Z"
    }
   },
   "outputs": [
    {
     "data": {
      "text/plain": [
       "job            12\n",
       "marital         4\n",
       "education       8\n",
       "default         3\n",
       "housing         3\n",
       "loan            3\n",
       "contact         2\n",
       "month          10\n",
       "day_of_week     5\n",
       "poutcome        3\n",
       "dtype: int64"
      ]
     },
     "execution_count": 58,
     "metadata": {},
     "output_type": "execute_result"
    }
   ],
   "source": [
    "#Number of distinct values for each categorical feature\n",
    "df[t_cat_cols].nunique()"
   ]
  },
  {
   "cell_type": "code",
   "execution_count": 59,
   "metadata": {
    "execution": {
     "iopub.execute_input": "2021-10-24T07:35:03.515995Z",
     "iopub.status.busy": "2021-10-24T07:35:03.515515Z",
     "iopub.status.idle": "2021-10-24T07:35:03.636953Z",
     "shell.execute_reply": "2021-10-24T07:35:03.636004Z",
     "shell.execute_reply.started": "2021-10-24T07:35:03.515959Z"
    }
   },
   "outputs": [
    {
     "name": "stdout",
     "output_type": "stream",
     "text": [
      "job\n"
     ]
    },
    {
     "data": {
      "text/plain": [
       "admin.           10422\n",
       "blue-collar       9254\n",
       "technician        6743\n",
       "services          3969\n",
       "management        2924\n",
       "retired           1720\n",
       "entrepreneur      1456\n",
       "self-employed     1421\n",
       "housemaid         1060\n",
       "unemployed        1014\n",
       "student            875\n",
       "unknown            330\n",
       "Name: job, dtype: int64"
      ]
     },
     "metadata": {},
     "output_type": "display_data"
    },
    {
     "name": "stdout",
     "output_type": "stream",
     "text": [
      "\n",
      "marital\n"
     ]
    },
    {
     "data": {
      "text/plain": [
       "married     24928\n",
       "single      11568\n",
       "divorced     4612\n",
       "unknown        80\n",
       "Name: marital, dtype: int64"
      ]
     },
     "metadata": {},
     "output_type": "display_data"
    },
    {
     "name": "stdout",
     "output_type": "stream",
     "text": [
      "\n",
      "education\n"
     ]
    },
    {
     "data": {
      "text/plain": [
       "university.degree      12168\n",
       "high.school             9515\n",
       "basic.9y                6045\n",
       "professional.course     5243\n",
       "basic.4y                4176\n",
       "basic.6y                2292\n",
       "unknown                 1731\n",
       "illiterate                18\n",
       "Name: education, dtype: int64"
      ]
     },
     "metadata": {},
     "output_type": "display_data"
    },
    {
     "name": "stdout",
     "output_type": "stream",
     "text": [
      "\n",
      "default\n"
     ]
    },
    {
     "data": {
      "text/plain": [
       "no         32588\n",
       "unknown     8597\n",
       "yes            3\n",
       "Name: default, dtype: int64"
      ]
     },
     "metadata": {},
     "output_type": "display_data"
    },
    {
     "name": "stdout",
     "output_type": "stream",
     "text": [
      "\n",
      "housing\n"
     ]
    },
    {
     "data": {
      "text/plain": [
       "yes        21576\n",
       "no         18622\n",
       "unknown      990\n",
       "Name: housing, dtype: int64"
      ]
     },
     "metadata": {},
     "output_type": "display_data"
    },
    {
     "name": "stdout",
     "output_type": "stream",
     "text": [
      "\n",
      "loan\n"
     ]
    },
    {
     "data": {
      "text/plain": [
       "no         33950\n",
       "yes         6248\n",
       "unknown      990\n",
       "Name: loan, dtype: int64"
      ]
     },
     "metadata": {},
     "output_type": "display_data"
    },
    {
     "name": "stdout",
     "output_type": "stream",
     "text": [
      "\n",
      "contact\n"
     ]
    },
    {
     "data": {
      "text/plain": [
       "cellular     26144\n",
       "telephone    15044\n",
       "Name: contact, dtype: int64"
      ]
     },
     "metadata": {},
     "output_type": "display_data"
    },
    {
     "name": "stdout",
     "output_type": "stream",
     "text": [
      "\n",
      "month\n"
     ]
    },
    {
     "data": {
      "text/plain": [
       "may    13769\n",
       "jul     7174\n",
       "aug     6178\n",
       "jun     5318\n",
       "nov     4101\n",
       "apr     2632\n",
       "oct      718\n",
       "sep      570\n",
       "mar      546\n",
       "dec      182\n",
       "Name: month, dtype: int64"
      ]
     },
     "metadata": {},
     "output_type": "display_data"
    },
    {
     "name": "stdout",
     "output_type": "stream",
     "text": [
      "\n",
      "day_of_week\n"
     ]
    },
    {
     "data": {
      "text/plain": [
       "thu    8623\n",
       "mon    8514\n",
       "wed    8134\n",
       "tue    8090\n",
       "fri    7827\n",
       "Name: day_of_week, dtype: int64"
      ]
     },
     "metadata": {},
     "output_type": "display_data"
    },
    {
     "name": "stdout",
     "output_type": "stream",
     "text": [
      "\n",
      "poutcome\n"
     ]
    },
    {
     "data": {
      "text/plain": [
       "nonexistent    35563\n",
       "failure         4252\n",
       "success         1373\n",
       "Name: poutcome, dtype: int64"
      ]
     },
     "metadata": {},
     "output_type": "display_data"
    },
    {
     "name": "stdout",
     "output_type": "stream",
     "text": [
      "\n"
     ]
    }
   ],
   "source": [
    "#Distinct values and their count for each categorical feature\n",
    "for c in t_cat_cols:\n",
    "    print(c)\n",
    "    display(df[c].value_counts())\n",
    "    print()"
   ]
  },
  {
   "cell_type": "markdown",
   "metadata": {},
   "source": [
    "The cardinality for the categorical columns look to be ok, not too much"
   ]
  },
  {
   "cell_type": "markdown",
   "metadata": {},
   "source": [
    "Converting target variable from having 'yes'/'no' to 1/0"
   ]
  },
  {
   "cell_type": "code",
   "execution_count": 60,
   "metadata": {
    "execution": {
     "iopub.execute_input": "2021-10-24T07:35:03.638902Z",
     "iopub.status.busy": "2021-10-24T07:35:03.638493Z",
     "iopub.status.idle": "2021-10-24T07:35:03.658909Z",
     "shell.execute_reply": "2021-10-24T07:35:03.658004Z",
     "shell.execute_reply.started": "2021-10-24T07:35:03.638856Z"
    }
   },
   "outputs": [
    {
     "data": {
      "text/plain": [
       "0    0.887346\n",
       "1    0.112654\n",
       "Name: y, dtype: float64"
      ]
     },
     "execution_count": 60,
     "metadata": {},
     "output_type": "execute_result"
    }
   ],
   "source": [
    "df['y'] = (df['y'] == 'yes').astype(int)\n",
    "df['y'].value_counts(normalize=True)"
   ]
  },
  {
   "cell_type": "markdown",
   "metadata": {},
   "source": [
    "**Observations:** There is a high class imbalance in the target variable - 89% (no) - 11% (yes)"
   ]
  },
  {
   "cell_type": "markdown",
   "metadata": {},
   "source": [
    "Many of the features have the value 'unknown' possibly since that piece of information was not available. Checking how many such records are there with unknowns and if removing these make sense."
   ]
  },
  {
   "cell_type": "code",
   "execution_count": 61,
   "metadata": {
    "execution": {
     "iopub.execute_input": "2021-10-24T07:35:03.661222Z",
     "iopub.status.busy": "2021-10-24T07:35:03.660469Z",
     "iopub.status.idle": "2021-10-24T07:35:03.796446Z",
     "shell.execute_reply": "2021-10-24T07:35:03.795265Z",
     "shell.execute_reply.started": "2021-10-24T07:35:03.661174Z"
    }
   },
   "outputs": [
    {
     "name": "stdout",
     "output_type": "stream",
     "text": [
      "10700 0.35095775387037526\n"
     ]
    }
   ],
   "source": [
    "df_copy1 = df.copy()\n",
    "initial_records = df_copy1.shape[0]\n",
    "for c in t_cat_cols:\n",
    "    df_copy1.drop(df_copy1[df_copy1[c] == 'unknown'].index, inplace = True)\n",
    "final_records = df_copy1.shape[0]\n",
    "print(initial_records - final_records,(initial_records - final_records)/final_records)\n",
    "del df_copy1"
   ]
  },
  {
   "cell_type": "markdown",
   "metadata": {},
   "source": [
    "**Observations:** Thus totally there are 10700 records with atleast one feature having value as 'unknown'. This is 35% of the total data. So it does not make sense to remove this data. Will have to go ahead with the 'unknown' data"
   ]
  },
  {
   "cell_type": "markdown",
   "metadata": {},
   "source": [
    "## 2. Split the data "
   ]
  },
  {
   "cell_type": "markdown",
   "metadata": {},
   "source": [
    "Splitting data as Train (70%), Val (20%), Test (10%)"
   ]
  },
  {
   "cell_type": "code",
   "execution_count": 62,
   "metadata": {
    "execution": {
     "iopub.execute_input": "2021-10-24T07:35:03.798327Z",
     "iopub.status.busy": "2021-10-24T07:35:03.797985Z",
     "iopub.status.idle": "2021-10-24T07:35:03.835577Z",
     "shell.execute_reply": "2021-10-24T07:35:03.834699Z",
     "shell.execute_reply.started": "2021-10-24T07:35:03.798274Z"
    }
   },
   "outputs": [
    {
     "name": "stdout",
     "output_type": "stream",
     "text": [
      "train : 0.7, val: 0.2, test: 0.1\n"
     ]
    }
   ],
   "source": [
    "df_full_train, df_test = train_test_split(df,test_size=0.1,shuffle=True,random_state=1)\n",
    "df_train, df_val = train_test_split(df_full_train,test_size=0.22,shuffle=True,random_state=1)\n",
    "print(f'train : {round(df_train.shape[0]/df.shape[0],2)}, val: {round(df_val.shape[0]/df.shape[0],2)}, test: {round(df_test.shape[0]/df.shape[0],2)}')"
   ]
  },
  {
   "cell_type": "code",
   "execution_count": 63,
   "metadata": {
    "execution": {
     "iopub.execute_input": "2021-10-24T07:35:03.837676Z",
     "iopub.status.busy": "2021-10-24T07:35:03.837166Z",
     "iopub.status.idle": "2021-10-24T07:35:03.861038Z",
     "shell.execute_reply": "2021-10-24T07:35:03.859911Z",
     "shell.execute_reply.started": "2021-10-24T07:35:03.837615Z"
    }
   },
   "outputs": [],
   "source": [
    "y_train = df_train['y'].values\n",
    "y_val = df_val['y'].values\n",
    "y_test = df_test['y'].values\n",
    "\n",
    "del df_train['y']\n",
    "del df_val['y']\n",
    "del df_test['y']\n",
    "\n",
    "df_train = df_train.reset_index(drop=True)\n",
    "df_val = df_val.reset_index(drop=True)\n",
    "df_test = df_test.reset_index(drop=True)"
   ]
  },
  {
   "cell_type": "markdown",
   "metadata": {},
   "source": [
    "## 3. Feature Importance"
   ]
  },
  {
   "cell_type": "markdown",
   "metadata": {},
   "source": [
    "Mutual information with categorical features"
   ]
  },
  {
   "cell_type": "code",
   "execution_count": 64,
   "metadata": {
    "execution": {
     "iopub.execute_input": "2021-10-24T07:35:03.86319Z",
     "iopub.status.busy": "2021-10-24T07:35:03.862447Z",
     "iopub.status.idle": "2021-10-24T07:35:03.868464Z",
     "shell.execute_reply": "2021-10-24T07:35:03.867619Z",
     "shell.execute_reply.started": "2021-10-24T07:35:03.863138Z"
    }
   },
   "outputs": [],
   "source": [
    "def mutual_info_subscribed_score(series):\n",
    "    return mutual_info_score(series,df_full_train['y'])"
   ]
  },
  {
   "cell_type": "code",
   "execution_count": 65,
   "metadata": {
    "execution": {
     "iopub.execute_input": "2021-10-24T07:35:03.870746Z",
     "iopub.status.busy": "2021-10-24T07:35:03.869921Z",
     "iopub.status.idle": "2021-10-24T07:35:04.338342Z",
     "shell.execute_reply": "2021-10-24T07:35:04.337684Z",
     "shell.execute_reply.started": "2021-10-24T07:35:03.870704Z"
    }
   },
   "outputs": [
    {
     "data": {
      "text/plain": [
       "poutcome       0.030178\n",
       "month          0.026438\n",
       "contact        0.011244\n",
       "job            0.009821\n",
       "default        0.005719\n",
       "education      0.002405\n",
       "marital        0.001593\n",
       "day_of_week    0.000269\n",
       "housing        0.000053\n",
       "loan           0.000006\n",
       "dtype: float64"
      ]
     },
     "execution_count": 65,
     "metadata": {},
     "output_type": "execute_result"
    }
   ],
   "source": [
    "mi = df_full_train[t_cat_cols].apply(mutual_info_subscribed_score)\n",
    "mi.sort_values(ascending=False)"
   ]
  },
  {
   "cell_type": "markdown",
   "metadata": {},
   "source": [
    "**Observations:** We can see that the features **marital, day_of_week, housing and loan** seem to not have any bearing on the outcome. Will check the score with and without these features."
   ]
  },
  {
   "cell_type": "markdown",
   "metadata": {},
   "source": [
    "Check global subscription rate relation to subscription rate feature wise"
   ]
  },
  {
   "cell_type": "code",
   "execution_count": 66,
   "metadata": {
    "execution": {
     "iopub.execute_input": "2021-10-24T07:35:04.341997Z",
     "iopub.status.busy": "2021-10-24T07:35:04.341743Z",
     "iopub.status.idle": "2021-10-24T07:35:04.348755Z",
     "shell.execute_reply": "2021-10-24T07:35:04.347674Z",
     "shell.execute_reply.started": "2021-10-24T07:35:04.341965Z"
    }
   },
   "outputs": [
    {
     "name": "stdout",
     "output_type": "stream",
     "text": [
      "0.113\n"
     ]
    }
   ],
   "source": [
    "global_subscription_rate = round(df['y'].mean(),3)\n",
    "print(global_subscription_rate)"
   ]
  },
  {
   "cell_type": "code",
   "execution_count": 67,
   "metadata": {
    "execution": {
     "iopub.execute_input": "2021-10-24T07:35:04.351046Z",
     "iopub.status.busy": "2021-10-24T07:35:04.350458Z",
     "iopub.status.idle": "2021-10-24T07:35:04.467935Z",
     "shell.execute_reply": "2021-10-24T07:35:04.467025Z",
     "shell.execute_reply.started": "2021-10-24T07:35:04.351Z"
    }
   },
   "outputs": [
    {
     "data": {
      "text/html": [
       "<div>\n",
       "<style scoped>\n",
       "    .dataframe tbody tr th:only-of-type {\n",
       "        vertical-align: middle;\n",
       "    }\n",
       "\n",
       "    .dataframe tbody tr th {\n",
       "        vertical-align: top;\n",
       "    }\n",
       "\n",
       "    .dataframe thead th {\n",
       "        text-align: right;\n",
       "    }\n",
       "</style>\n",
       "<table border=\"1\" class=\"dataframe\">\n",
       "  <thead>\n",
       "    <tr style=\"text-align: right;\">\n",
       "      <th></th>\n",
       "      <th>mean</th>\n",
       "      <th>count</th>\n",
       "      <th>diff</th>\n",
       "      <th>abs_diff</th>\n",
       "      <th>ratio</th>\n",
       "    </tr>\n",
       "  </thead>\n",
       "  <tbody>\n",
       "    <tr>\n",
       "      <th>poutcome_success</th>\n",
       "      <td>0.649837</td>\n",
       "      <td>1228</td>\n",
       "      <td>0.536837</td>\n",
       "      <td>0.536837</td>\n",
       "      <td>5.750771</td>\n",
       "    </tr>\n",
       "    <tr>\n",
       "      <th>month_dec</th>\n",
       "      <td>0.503067</td>\n",
       "      <td>163</td>\n",
       "      <td>0.390067</td>\n",
       "      <td>0.390067</td>\n",
       "      <td>4.451925</td>\n",
       "    </tr>\n",
       "    <tr>\n",
       "      <th>month_mar</th>\n",
       "      <td>0.502033</td>\n",
       "      <td>492</td>\n",
       "      <td>0.389033</td>\n",
       "      <td>0.389033</td>\n",
       "      <td>4.442766</td>\n",
       "    </tr>\n",
       "    <tr>\n",
       "      <th>month_sep</th>\n",
       "      <td>0.445298</td>\n",
       "      <td>521</td>\n",
       "      <td>0.332298</td>\n",
       "      <td>0.332298</td>\n",
       "      <td>3.940686</td>\n",
       "    </tr>\n",
       "    <tr>\n",
       "      <th>month_oct</th>\n",
       "      <td>0.439137</td>\n",
       "      <td>649</td>\n",
       "      <td>0.326137</td>\n",
       "      <td>0.326137</td>\n",
       "      <td>3.886169</td>\n",
       "    </tr>\n",
       "    <tr>\n",
       "      <th>job_student</th>\n",
       "      <td>0.317542</td>\n",
       "      <td>781</td>\n",
       "      <td>0.204542</td>\n",
       "      <td>0.204542</td>\n",
       "      <td>2.810103</td>\n",
       "    </tr>\n",
       "    <tr>\n",
       "      <th>job_retired</th>\n",
       "      <td>0.251969</td>\n",
       "      <td>1524</td>\n",
       "      <td>0.138969</td>\n",
       "      <td>0.138969</td>\n",
       "      <td>2.229810</td>\n",
       "    </tr>\n",
       "    <tr>\n",
       "      <th>month_apr</th>\n",
       "      <td>0.196632</td>\n",
       "      <td>2375</td>\n",
       "      <td>0.083632</td>\n",
       "      <td>0.083632</td>\n",
       "      <td>1.740102</td>\n",
       "    </tr>\n",
       "    <tr>\n",
       "      <th>education_illiterate</th>\n",
       "      <td>0.176471</td>\n",
       "      <td>17</td>\n",
       "      <td>0.063471</td>\n",
       "      <td>0.063471</td>\n",
       "      <td>1.561687</td>\n",
       "    </tr>\n",
       "    <tr>\n",
       "      <th>marital_unknown</th>\n",
       "      <td>0.154930</td>\n",
       "      <td>71</td>\n",
       "      <td>0.041930</td>\n",
       "      <td>0.041930</td>\n",
       "      <td>1.371058</td>\n",
       "    </tr>\n",
       "    <tr>\n",
       "      <th>education_unknown</th>\n",
       "      <td>0.147172</td>\n",
       "      <td>1556</td>\n",
       "      <td>0.034172</td>\n",
       "      <td>0.034172</td>\n",
       "      <td>1.302409</td>\n",
       "    </tr>\n",
       "    <tr>\n",
       "      <th>contact_cellular</th>\n",
       "      <td>0.145464</td>\n",
       "      <td>23566</td>\n",
       "      <td>0.032464</td>\n",
       "      <td>0.032464</td>\n",
       "      <td>1.287290</td>\n",
       "    </tr>\n",
       "    <tr>\n",
       "      <th>job_unemployed</th>\n",
       "      <td>0.141593</td>\n",
       "      <td>904</td>\n",
       "      <td>0.028593</td>\n",
       "      <td>0.028593</td>\n",
       "      <td>1.253035</td>\n",
       "    </tr>\n",
       "    <tr>\n",
       "      <th>marital_single</th>\n",
       "      <td>0.140283</td>\n",
       "      <td>10379</td>\n",
       "      <td>0.027283</td>\n",
       "      <td>0.027283</td>\n",
       "      <td>1.241445</td>\n",
       "    </tr>\n",
       "    <tr>\n",
       "      <th>poutcome_failure</th>\n",
       "      <td>0.138954</td>\n",
       "      <td>3843</td>\n",
       "      <td>0.025954</td>\n",
       "      <td>0.025954</td>\n",
       "      <td>1.229681</td>\n",
       "    </tr>\n",
       "    <tr>\n",
       "      <th>education_university.degree</th>\n",
       "      <td>0.135544</td>\n",
       "      <td>10919</td>\n",
       "      <td>0.022544</td>\n",
       "      <td>0.022544</td>\n",
       "      <td>1.199500</td>\n",
       "    </tr>\n",
       "    <tr>\n",
       "      <th>default_no</th>\n",
       "      <td>0.127491</td>\n",
       "      <td>29359</td>\n",
       "      <td>0.014491</td>\n",
       "      <td>0.014491</td>\n",
       "      <td>1.128236</td>\n",
       "    </tr>\n",
       "    <tr>\n",
       "      <th>job_admin.</th>\n",
       "      <td>0.127403</td>\n",
       "      <td>9364</td>\n",
       "      <td>0.014403</td>\n",
       "      <td>0.014403</td>\n",
       "      <td>1.127459</td>\n",
       "    </tr>\n",
       "    <tr>\n",
       "      <th>job_unknown</th>\n",
       "      <td>0.119205</td>\n",
       "      <td>302</td>\n",
       "      <td>0.006205</td>\n",
       "      <td>0.006205</td>\n",
       "      <td>1.054914</td>\n",
       "    </tr>\n",
       "    <tr>\n",
       "      <th>day_of_week_thu</th>\n",
       "      <td>0.117345</td>\n",
       "      <td>7789</td>\n",
       "      <td>0.004345</td>\n",
       "      <td>0.004345</td>\n",
       "      <td>1.038451</td>\n",
       "    </tr>\n",
       "    <tr>\n",
       "      <th>day_of_week_tue</th>\n",
       "      <td>0.116958</td>\n",
       "      <td>7259</td>\n",
       "      <td>0.003958</td>\n",
       "      <td>0.003958</td>\n",
       "      <td>1.035029</td>\n",
       "    </tr>\n",
       "    <tr>\n",
       "      <th>day_of_week_wed</th>\n",
       "      <td>0.116776</td>\n",
       "      <td>7296</td>\n",
       "      <td>0.003776</td>\n",
       "      <td>0.003776</td>\n",
       "      <td>1.033419</td>\n",
       "    </tr>\n",
       "    <tr>\n",
       "      <th>housing_yes</th>\n",
       "      <td>0.114634</td>\n",
       "      <td>19366</td>\n",
       "      <td>0.001634</td>\n",
       "      <td>0.001634</td>\n",
       "      <td>1.014459</td>\n",
       "    </tr>\n",
       "    <tr>\n",
       "      <th>education_professional.course</th>\n",
       "      <td>0.114292</td>\n",
       "      <td>4716</td>\n",
       "      <td>0.001292</td>\n",
       "      <td>0.001292</td>\n",
       "      <td>1.011432</td>\n",
       "    </tr>\n",
       "    <tr>\n",
       "      <th>loan_no</th>\n",
       "      <td>0.112021</td>\n",
       "      <td>30530</td>\n",
       "      <td>-0.000979</td>\n",
       "      <td>0.000979</td>\n",
       "      <td>0.991336</td>\n",
       "    </tr>\n",
       "    <tr>\n",
       "      <th>job_management</th>\n",
       "      <td>0.111363</td>\n",
       "      <td>2649</td>\n",
       "      <td>-0.001637</td>\n",
       "      <td>0.001637</td>\n",
       "      <td>0.985511</td>\n",
       "    </tr>\n",
       "    <tr>\n",
       "      <th>loan_yes</th>\n",
       "      <td>0.109630</td>\n",
       "      <td>5628</td>\n",
       "      <td>-0.003370</td>\n",
       "      <td>0.003370</td>\n",
       "      <td>0.970181</td>\n",
       "    </tr>\n",
       "    <tr>\n",
       "      <th>housing_no</th>\n",
       "      <td>0.108206</td>\n",
       "      <td>16792</td>\n",
       "      <td>-0.004794</td>\n",
       "      <td>0.004794</td>\n",
       "      <td>0.957578</td>\n",
       "    </tr>\n",
       "    <tr>\n",
       "      <th>loan_unknown</th>\n",
       "      <td>0.107574</td>\n",
       "      <td>911</td>\n",
       "      <td>-0.005426</td>\n",
       "      <td>0.005426</td>\n",
       "      <td>0.951983</td>\n",
       "    </tr>\n",
       "    <tr>\n",
       "      <th>housing_unknown</th>\n",
       "      <td>0.107574</td>\n",
       "      <td>911</td>\n",
       "      <td>-0.005426</td>\n",
       "      <td>0.005426</td>\n",
       "      <td>0.951983</td>\n",
       "    </tr>\n",
       "    <tr>\n",
       "      <th>day_of_week_fri</th>\n",
       "      <td>0.107553</td>\n",
       "      <td>7057</td>\n",
       "      <td>-0.005447</td>\n",
       "      <td>0.005447</td>\n",
       "      <td>0.951795</td>\n",
       "    </tr>\n",
       "    <tr>\n",
       "      <th>month_aug</th>\n",
       "      <td>0.107336</td>\n",
       "      <td>5534</td>\n",
       "      <td>-0.005664</td>\n",
       "      <td>0.005664</td>\n",
       "      <td>0.949880</td>\n",
       "    </tr>\n",
       "    <tr>\n",
       "      <th>job_technician</th>\n",
       "      <td>0.106684</td>\n",
       "      <td>6074</td>\n",
       "      <td>-0.006316</td>\n",
       "      <td>0.006316</td>\n",
       "      <td>0.944108</td>\n",
       "    </tr>\n",
       "    <tr>\n",
       "      <th>education_high.school</th>\n",
       "      <td>0.106586</td>\n",
       "      <td>8594</td>\n",
       "      <td>-0.006414</td>\n",
       "      <td>0.006414</td>\n",
       "      <td>0.943239</td>\n",
       "    </tr>\n",
       "    <tr>\n",
       "      <th>marital_divorced</th>\n",
       "      <td>0.103672</td>\n",
       "      <td>4167</td>\n",
       "      <td>-0.009328</td>\n",
       "      <td>0.009328</td>\n",
       "      <td>0.917449</td>\n",
       "    </tr>\n",
       "    <tr>\n",
       "      <th>month_jun</th>\n",
       "      <td>0.102356</td>\n",
       "      <td>4797</td>\n",
       "      <td>-0.010644</td>\n",
       "      <td>0.010644</td>\n",
       "      <td>0.905802</td>\n",
       "    </tr>\n",
       "    <tr>\n",
       "      <th>job_self-employed</th>\n",
       "      <td>0.102041</td>\n",
       "      <td>1274</td>\n",
       "      <td>-0.010959</td>\n",
       "      <td>0.010959</td>\n",
       "      <td>0.903016</td>\n",
       "    </tr>\n",
       "    <tr>\n",
       "      <th>month_nov</th>\n",
       "      <td>0.101635</td>\n",
       "      <td>3670</td>\n",
       "      <td>-0.011365</td>\n",
       "      <td>0.011365</td>\n",
       "      <td>0.899424</td>\n",
       "    </tr>\n",
       "    <tr>\n",
       "      <th>education_basic.4y</th>\n",
       "      <td>0.101222</td>\n",
       "      <td>3764</td>\n",
       "      <td>-0.011778</td>\n",
       "      <td>0.011778</td>\n",
       "      <td>0.895771</td>\n",
       "    </tr>\n",
       "    <tr>\n",
       "      <th>job_housemaid</th>\n",
       "      <td>0.101171</td>\n",
       "      <td>939</td>\n",
       "      <td>-0.011829</td>\n",
       "      <td>0.011829</td>\n",
       "      <td>0.895323</td>\n",
       "    </tr>\n",
       "    <tr>\n",
       "      <th>marital_married</th>\n",
       "      <td>0.099590</td>\n",
       "      <td>22452</td>\n",
       "      <td>-0.013410</td>\n",
       "      <td>0.013410</td>\n",
       "      <td>0.881330</td>\n",
       "    </tr>\n",
       "    <tr>\n",
       "      <th>day_of_week_mon</th>\n",
       "      <td>0.099244</td>\n",
       "      <td>7668</td>\n",
       "      <td>-0.013756</td>\n",
       "      <td>0.013756</td>\n",
       "      <td>0.878262</td>\n",
       "    </tr>\n",
       "    <tr>\n",
       "      <th>month_jul</th>\n",
       "      <td>0.090377</td>\n",
       "      <td>6495</td>\n",
       "      <td>-0.022623</td>\n",
       "      <td>0.022623</td>\n",
       "      <td>0.799798</td>\n",
       "    </tr>\n",
       "    <tr>\n",
       "      <th>poutcome_nonexistent</th>\n",
       "      <td>0.087599</td>\n",
       "      <td>31998</td>\n",
       "      <td>-0.025401</td>\n",
       "      <td>0.025401</td>\n",
       "      <td>0.775214</td>\n",
       "    </tr>\n",
       "    <tr>\n",
       "      <th>job_entrepreneur</th>\n",
       "      <td>0.084733</td>\n",
       "      <td>1310</td>\n",
       "      <td>-0.028267</td>\n",
       "      <td>0.028267</td>\n",
       "      <td>0.749848</td>\n",
       "    </tr>\n",
       "    <tr>\n",
       "      <th>job_services</th>\n",
       "      <td>0.081576</td>\n",
       "      <td>3604</td>\n",
       "      <td>-0.031424</td>\n",
       "      <td>0.031424</td>\n",
       "      <td>0.721912</td>\n",
       "    </tr>\n",
       "    <tr>\n",
       "      <th>education_basic.9y</th>\n",
       "      <td>0.078952</td>\n",
       "      <td>5421</td>\n",
       "      <td>-0.034048</td>\n",
       "      <td>0.034048</td>\n",
       "      <td>0.698692</td>\n",
       "    </tr>\n",
       "    <tr>\n",
       "      <th>education_basic.6y</th>\n",
       "      <td>0.076369</td>\n",
       "      <td>2082</td>\n",
       "      <td>-0.036631</td>\n",
       "      <td>0.036631</td>\n",
       "      <td>0.675831</td>\n",
       "    </tr>\n",
       "    <tr>\n",
       "      <th>job_blue-collar</th>\n",
       "      <td>0.068672</td>\n",
       "      <td>8344</td>\n",
       "      <td>-0.044328</td>\n",
       "      <td>0.044328</td>\n",
       "      <td>0.607718</td>\n",
       "    </tr>\n",
       "    <tr>\n",
       "      <th>month_may</th>\n",
       "      <td>0.062798</td>\n",
       "      <td>12373</td>\n",
       "      <td>-0.050202</td>\n",
       "      <td>0.050202</td>\n",
       "      <td>0.555735</td>\n",
       "    </tr>\n",
       "    <tr>\n",
       "      <th>contact_telephone</th>\n",
       "      <td>0.052359</td>\n",
       "      <td>13503</td>\n",
       "      <td>-0.060641</td>\n",
       "      <td>0.060641</td>\n",
       "      <td>0.463352</td>\n",
       "    </tr>\n",
       "    <tr>\n",
       "      <th>default_unknown</th>\n",
       "      <td>0.050863</td>\n",
       "      <td>7707</td>\n",
       "      <td>-0.062137</td>\n",
       "      <td>0.062137</td>\n",
       "      <td>0.450114</td>\n",
       "    </tr>\n",
       "    <tr>\n",
       "      <th>default_yes</th>\n",
       "      <td>0.000000</td>\n",
       "      <td>3</td>\n",
       "      <td>-0.113000</td>\n",
       "      <td>0.113000</td>\n",
       "      <td>0.000000</td>\n",
       "    </tr>\n",
       "  </tbody>\n",
       "</table>\n",
       "</div>"
      ],
      "text/plain": [
       "                                   mean  count      diff  abs_diff     ratio\n",
       "poutcome_success               0.649837   1228  0.536837  0.536837  5.750771\n",
       "month_dec                      0.503067    163  0.390067  0.390067  4.451925\n",
       "month_mar                      0.502033    492  0.389033  0.389033  4.442766\n",
       "month_sep                      0.445298    521  0.332298  0.332298  3.940686\n",
       "month_oct                      0.439137    649  0.326137  0.326137  3.886169\n",
       "job_student                    0.317542    781  0.204542  0.204542  2.810103\n",
       "job_retired                    0.251969   1524  0.138969  0.138969  2.229810\n",
       "month_apr                      0.196632   2375  0.083632  0.083632  1.740102\n",
       "education_illiterate           0.176471     17  0.063471  0.063471  1.561687\n",
       "marital_unknown                0.154930     71  0.041930  0.041930  1.371058\n",
       "education_unknown              0.147172   1556  0.034172  0.034172  1.302409\n",
       "contact_cellular               0.145464  23566  0.032464  0.032464  1.287290\n",
       "job_unemployed                 0.141593    904  0.028593  0.028593  1.253035\n",
       "marital_single                 0.140283  10379  0.027283  0.027283  1.241445\n",
       "poutcome_failure               0.138954   3843  0.025954  0.025954  1.229681\n",
       "education_university.degree    0.135544  10919  0.022544  0.022544  1.199500\n",
       "default_no                     0.127491  29359  0.014491  0.014491  1.128236\n",
       "job_admin.                     0.127403   9364  0.014403  0.014403  1.127459\n",
       "job_unknown                    0.119205    302  0.006205  0.006205  1.054914\n",
       "day_of_week_thu                0.117345   7789  0.004345  0.004345  1.038451\n",
       "day_of_week_tue                0.116958   7259  0.003958  0.003958  1.035029\n",
       "day_of_week_wed                0.116776   7296  0.003776  0.003776  1.033419\n",
       "housing_yes                    0.114634  19366  0.001634  0.001634  1.014459\n",
       "education_professional.course  0.114292   4716  0.001292  0.001292  1.011432\n",
       "loan_no                        0.112021  30530 -0.000979  0.000979  0.991336\n",
       "job_management                 0.111363   2649 -0.001637  0.001637  0.985511\n",
       "loan_yes                       0.109630   5628 -0.003370  0.003370  0.970181\n",
       "housing_no                     0.108206  16792 -0.004794  0.004794  0.957578\n",
       "loan_unknown                   0.107574    911 -0.005426  0.005426  0.951983\n",
       "housing_unknown                0.107574    911 -0.005426  0.005426  0.951983\n",
       "day_of_week_fri                0.107553   7057 -0.005447  0.005447  0.951795\n",
       "month_aug                      0.107336   5534 -0.005664  0.005664  0.949880\n",
       "job_technician                 0.106684   6074 -0.006316  0.006316  0.944108\n",
       "education_high.school          0.106586   8594 -0.006414  0.006414  0.943239\n",
       "marital_divorced               0.103672   4167 -0.009328  0.009328  0.917449\n",
       "month_jun                      0.102356   4797 -0.010644  0.010644  0.905802\n",
       "job_self-employed              0.102041   1274 -0.010959  0.010959  0.903016\n",
       "month_nov                      0.101635   3670 -0.011365  0.011365  0.899424\n",
       "education_basic.4y             0.101222   3764 -0.011778  0.011778  0.895771\n",
       "job_housemaid                  0.101171    939 -0.011829  0.011829  0.895323\n",
       "marital_married                0.099590  22452 -0.013410  0.013410  0.881330\n",
       "day_of_week_mon                0.099244   7668 -0.013756  0.013756  0.878262\n",
       "month_jul                      0.090377   6495 -0.022623  0.022623  0.799798\n",
       "poutcome_nonexistent           0.087599  31998 -0.025401  0.025401  0.775214\n",
       "job_entrepreneur               0.084733   1310 -0.028267  0.028267  0.749848\n",
       "job_services                   0.081576   3604 -0.031424  0.031424  0.721912\n",
       "education_basic.9y             0.078952   5421 -0.034048  0.034048  0.698692\n",
       "education_basic.6y             0.076369   2082 -0.036631  0.036631  0.675831\n",
       "job_blue-collar                0.068672   8344 -0.044328  0.044328  0.607718\n",
       "month_may                      0.062798  12373 -0.050202  0.050202  0.555735\n",
       "contact_telephone              0.052359  13503 -0.060641  0.060641  0.463352\n",
       "default_unknown                0.050863   7707 -0.062137  0.062137  0.450114\n",
       "default_yes                    0.000000      3 -0.113000  0.113000  0.000000"
      ]
     },
     "metadata": {},
     "output_type": "display_data"
    }
   ],
   "source": [
    "cons_df_group = pd.DataFrame()\n",
    "\n",
    "for c in t_cat_cols:\n",
    "    df_group = df_full_train.groupby(c)['y'].agg(['mean','count'])\n",
    "    df_group['diff'] = df_group['mean'] - global_subscription_rate\n",
    "    df_group['abs_diff'] = np.abs(df_group['mean'] - global_subscription_rate)\n",
    "    df_group['ratio'] = df_group['mean'] / global_subscription_rate\n",
    "    new_idx = [c+'_'+val for val in list(df_group.index.values)]\n",
    "    df_group.index = new_idx\n",
    "    cons_df_group = pd.concat([cons_df_group,df_group])\n",
    "display(cons_df_group.sort_values(by='ratio',ascending=False))"
   ]
  },
  {
   "cell_type": "markdown",
   "metadata": {},
   "source": [
    "Co-relation of numerical features with target variable"
   ]
  },
  {
   "cell_type": "code",
   "execution_count": 68,
   "metadata": {
    "execution": {
     "iopub.execute_input": "2021-10-24T07:35:04.469763Z",
     "iopub.status.busy": "2021-10-24T07:35:04.469499Z",
     "iopub.status.idle": "2021-10-24T07:35:04.489259Z",
     "shell.execute_reply": "2021-10-24T07:35:04.488552Z",
     "shell.execute_reply.started": "2021-10-24T07:35:04.469732Z"
    }
   },
   "outputs": [
    {
     "data": {
      "text/plain": [
       "nr.employed      -0.351794\n",
       "pdays            -0.323898\n",
       "euribor3m        -0.304073\n",
       "emp.var.rate     -0.295685\n",
       "cons.price.idx   -0.135393\n",
       "campaign         -0.065985\n",
       "age               0.032834\n",
       "cons.conf.idx     0.059965\n",
       "previous          0.227109\n",
       "duration          0.402982\n",
       "dtype: float64"
      ]
     },
     "execution_count": 68,
     "metadata": {},
     "output_type": "execute_result"
    }
   ],
   "source": [
    "df_full_train[t_num_cols].corrwith(df_full_train['y']).sort_values()"
   ]
  },
  {
   "cell_type": "markdown",
   "metadata": {},
   "source": [
    "**Observations:** We can see that most of the numerical features have correlation with target unlike categorical variables, where almost all categorical variables had lower mutual information score with target. The features age, duration, previous and cons.conf.idx have a postivie correlation, while campaign, pdays, emp.var.rate, cons.price.idx, euribor3m and nr.employed have negative correlation"
   ]
  },
  {
   "cell_type": "markdown",
   "metadata": {},
   "source": [
    "To check absolute correlations (without considering if it is postive or negative, but simply how highly they are correlated)"
   ]
  },
  {
   "cell_type": "code",
   "execution_count": 69,
   "metadata": {
    "execution": {
     "iopub.execute_input": "2021-10-24T07:35:04.490964Z",
     "iopub.status.busy": "2021-10-24T07:35:04.490408Z",
     "iopub.status.idle": "2021-10-24T07:35:04.51362Z",
     "shell.execute_reply": "2021-10-24T07:35:04.512711Z",
     "shell.execute_reply.started": "2021-10-24T07:35:04.490928Z"
    }
   },
   "outputs": [
    {
     "data": {
      "text/plain": [
       "duration          0.402982\n",
       "nr.employed       0.351794\n",
       "pdays             0.323898\n",
       "euribor3m         0.304073\n",
       "emp.var.rate      0.295685\n",
       "previous          0.227109\n",
       "cons.price.idx    0.135393\n",
       "campaign          0.065985\n",
       "cons.conf.idx     0.059965\n",
       "age               0.032834\n",
       "dtype: float64"
      ]
     },
     "execution_count": 69,
     "metadata": {},
     "output_type": "execute_result"
    }
   ],
   "source": [
    "np.abs(df_full_train[t_num_cols].corrwith(df_full_train['y'])).sort_values(ascending=False)"
   ]
  },
  {
   "cell_type": "markdown",
   "metadata": {},
   "source": [
    "**Observations:** All the numerical features seem to be important for predicting the outcome. \n",
    "\n",
    "The duration will not be considered in the model performance and the final model, based on the guidelines that were given with the dataset and mentioned below.\n",
    "- *Yet, the duration is not known before a call is performed. Also, after the end of the call y is obviously known. Thus, this input should only be included for benchmark purposes and should be discarded if the intention is to have a realistic predictive model.*"
   ]
  },
  {
   "cell_type": "markdown",
   "metadata": {},
   "source": [
    "Lets look at correlations of numerical feature with other numerical features"
   ]
  },
  {
   "cell_type": "code",
   "execution_count": 70,
   "metadata": {
    "execution": {
     "iopub.execute_input": "2021-10-24T07:35:04.515563Z",
     "iopub.status.busy": "2021-10-24T07:35:04.515216Z",
     "iopub.status.idle": "2021-10-24T07:35:04.549511Z",
     "shell.execute_reply": "2021-10-24T07:35:04.548955Z",
     "shell.execute_reply.started": "2021-10-24T07:35:04.515508Z"
    }
   },
   "outputs": [
    {
     "data": {
      "text/html": [
       "<div>\n",
       "<style scoped>\n",
       "    .dataframe tbody tr th:only-of-type {\n",
       "        vertical-align: middle;\n",
       "    }\n",
       "\n",
       "    .dataframe tbody tr th {\n",
       "        vertical-align: top;\n",
       "    }\n",
       "\n",
       "    .dataframe thead th {\n",
       "        text-align: right;\n",
       "    }\n",
       "</style>\n",
       "<table border=\"1\" class=\"dataframe\">\n",
       "  <thead>\n",
       "    <tr style=\"text-align: right;\">\n",
       "      <th></th>\n",
       "      <th>age</th>\n",
       "      <th>duration</th>\n",
       "      <th>campaign</th>\n",
       "      <th>pdays</th>\n",
       "      <th>previous</th>\n",
       "      <th>emp.var.rate</th>\n",
       "      <th>cons.price.idx</th>\n",
       "      <th>cons.conf.idx</th>\n",
       "      <th>euribor3m</th>\n",
       "      <th>nr.employed</th>\n",
       "    </tr>\n",
       "  </thead>\n",
       "  <tbody>\n",
       "    <tr>\n",
       "      <th>age</th>\n",
       "      <td>1.000000</td>\n",
       "      <td>-0.004604</td>\n",
       "      <td>0.006331</td>\n",
       "      <td>-0.032662</td>\n",
       "      <td>0.021780</td>\n",
       "      <td>0.001091</td>\n",
       "      <td>0.002594</td>\n",
       "      <td>0.128808</td>\n",
       "      <td>0.011997</td>\n",
       "      <td>-0.017040</td>\n",
       "    </tr>\n",
       "    <tr>\n",
       "      <th>duration</th>\n",
       "      <td>-0.004604</td>\n",
       "      <td>1.000000</td>\n",
       "      <td>-0.070247</td>\n",
       "      <td>-0.045698</td>\n",
       "      <td>0.017119</td>\n",
       "      <td>-0.023561</td>\n",
       "      <td>0.008560</td>\n",
       "      <td>-0.007399</td>\n",
       "      <td>-0.028700</td>\n",
       "      <td>-0.040847</td>\n",
       "    </tr>\n",
       "    <tr>\n",
       "      <th>campaign</th>\n",
       "      <td>0.006331</td>\n",
       "      <td>-0.070247</td>\n",
       "      <td>1.000000</td>\n",
       "      <td>0.052496</td>\n",
       "      <td>-0.078665</td>\n",
       "      <td>0.150809</td>\n",
       "      <td>0.126889</td>\n",
       "      <td>-0.014038</td>\n",
       "      <td>0.135644</td>\n",
       "      <td>0.144573</td>\n",
       "    </tr>\n",
       "    <tr>\n",
       "      <th>pdays</th>\n",
       "      <td>-0.032662</td>\n",
       "      <td>-0.045698</td>\n",
       "      <td>0.052496</td>\n",
       "      <td>1.000000</td>\n",
       "      <td>-0.584429</td>\n",
       "      <td>0.269762</td>\n",
       "      <td>0.078340</td>\n",
       "      <td>-0.091576</td>\n",
       "      <td>0.296081</td>\n",
       "      <td>0.371733</td>\n",
       "    </tr>\n",
       "    <tr>\n",
       "      <th>previous</th>\n",
       "      <td>0.021780</td>\n",
       "      <td>0.017119</td>\n",
       "      <td>-0.078665</td>\n",
       "      <td>-0.584429</td>\n",
       "      <td>1.000000</td>\n",
       "      <td>-0.420562</td>\n",
       "      <td>-0.203582</td>\n",
       "      <td>-0.049758</td>\n",
       "      <td>-0.454793</td>\n",
       "      <td>-0.501685</td>\n",
       "    </tr>\n",
       "    <tr>\n",
       "      <th>emp.var.rate</th>\n",
       "      <td>0.001091</td>\n",
       "      <td>-0.023561</td>\n",
       "      <td>0.150809</td>\n",
       "      <td>0.269762</td>\n",
       "      <td>-0.420562</td>\n",
       "      <td>1.000000</td>\n",
       "      <td>0.775054</td>\n",
       "      <td>0.196202</td>\n",
       "      <td>0.972273</td>\n",
       "      <td>0.906672</td>\n",
       "    </tr>\n",
       "    <tr>\n",
       "      <th>cons.price.idx</th>\n",
       "      <td>0.002594</td>\n",
       "      <td>0.008560</td>\n",
       "      <td>0.126889</td>\n",
       "      <td>0.078340</td>\n",
       "      <td>-0.203582</td>\n",
       "      <td>0.775054</td>\n",
       "      <td>1.000000</td>\n",
       "      <td>0.058611</td>\n",
       "      <td>0.687705</td>\n",
       "      <td>0.521113</td>\n",
       "    </tr>\n",
       "    <tr>\n",
       "      <th>cons.conf.idx</th>\n",
       "      <td>0.128808</td>\n",
       "      <td>-0.007399</td>\n",
       "      <td>-0.014038</td>\n",
       "      <td>-0.091576</td>\n",
       "      <td>-0.049758</td>\n",
       "      <td>0.196202</td>\n",
       "      <td>0.058611</td>\n",
       "      <td>1.000000</td>\n",
       "      <td>0.277869</td>\n",
       "      <td>0.100764</td>\n",
       "    </tr>\n",
       "    <tr>\n",
       "      <th>euribor3m</th>\n",
       "      <td>0.011997</td>\n",
       "      <td>-0.028700</td>\n",
       "      <td>0.135644</td>\n",
       "      <td>0.296081</td>\n",
       "      <td>-0.454793</td>\n",
       "      <td>0.972273</td>\n",
       "      <td>0.687705</td>\n",
       "      <td>0.277869</td>\n",
       "      <td>1.000000</td>\n",
       "      <td>0.945057</td>\n",
       "    </tr>\n",
       "    <tr>\n",
       "      <th>nr.employed</th>\n",
       "      <td>-0.017040</td>\n",
       "      <td>-0.040847</td>\n",
       "      <td>0.144573</td>\n",
       "      <td>0.371733</td>\n",
       "      <td>-0.501685</td>\n",
       "      <td>0.906672</td>\n",
       "      <td>0.521113</td>\n",
       "      <td>0.100764</td>\n",
       "      <td>0.945057</td>\n",
       "      <td>1.000000</td>\n",
       "    </tr>\n",
       "  </tbody>\n",
       "</table>\n",
       "</div>"
      ],
      "text/plain": [
       "                     age  duration  campaign     pdays  previous  \\\n",
       "age             1.000000 -0.004604  0.006331 -0.032662  0.021780   \n",
       "duration       -0.004604  1.000000 -0.070247 -0.045698  0.017119   \n",
       "campaign        0.006331 -0.070247  1.000000  0.052496 -0.078665   \n",
       "pdays          -0.032662 -0.045698  0.052496  1.000000 -0.584429   \n",
       "previous        0.021780  0.017119 -0.078665 -0.584429  1.000000   \n",
       "emp.var.rate    0.001091 -0.023561  0.150809  0.269762 -0.420562   \n",
       "cons.price.idx  0.002594  0.008560  0.126889  0.078340 -0.203582   \n",
       "cons.conf.idx   0.128808 -0.007399 -0.014038 -0.091576 -0.049758   \n",
       "euribor3m       0.011997 -0.028700  0.135644  0.296081 -0.454793   \n",
       "nr.employed    -0.017040 -0.040847  0.144573  0.371733 -0.501685   \n",
       "\n",
       "                emp.var.rate  cons.price.idx  cons.conf.idx  euribor3m  \\\n",
       "age                 0.001091        0.002594       0.128808   0.011997   \n",
       "duration           -0.023561        0.008560      -0.007399  -0.028700   \n",
       "campaign            0.150809        0.126889      -0.014038   0.135644   \n",
       "pdays               0.269762        0.078340      -0.091576   0.296081   \n",
       "previous           -0.420562       -0.203582      -0.049758  -0.454793   \n",
       "emp.var.rate        1.000000        0.775054       0.196202   0.972273   \n",
       "cons.price.idx      0.775054        1.000000       0.058611   0.687705   \n",
       "cons.conf.idx       0.196202        0.058611       1.000000   0.277869   \n",
       "euribor3m           0.972273        0.687705       0.277869   1.000000   \n",
       "nr.employed         0.906672        0.521113       0.100764   0.945057   \n",
       "\n",
       "                nr.employed  \n",
       "age               -0.017040  \n",
       "duration          -0.040847  \n",
       "campaign           0.144573  \n",
       "pdays              0.371733  \n",
       "previous          -0.501685  \n",
       "emp.var.rate       0.906672  \n",
       "cons.price.idx     0.521113  \n",
       "cons.conf.idx      0.100764  \n",
       "euribor3m          0.945057  \n",
       "nr.employed        1.000000  "
      ]
     },
     "execution_count": 70,
     "metadata": {},
     "output_type": "execute_result"
    }
   ],
   "source": [
    "df_full_train[t_num_cols].corr()"
   ]
  },
  {
   "cell_type": "code",
   "execution_count": 71,
   "metadata": {
    "execution": {
     "iopub.execute_input": "2021-10-24T07:35:04.553985Z",
     "iopub.status.busy": "2021-10-24T07:35:04.553746Z",
     "iopub.status.idle": "2021-10-24T07:35:05.527021Z",
     "shell.execute_reply": "2021-10-24T07:35:05.526176Z",
     "shell.execute_reply.started": "2021-10-24T07:35:04.553955Z"
    }
   },
   "outputs": [
    {
     "data": {
      "text/plain": [
       "<AxesSubplot:>"
      ]
     },
     "execution_count": 71,
     "metadata": {},
     "output_type": "execute_result"
    },
    {
     "data": {
      "image/png": "[encoded data removed]",
      "text/plain": [
       "<Figure size 1152x576 with 2 Axes>"
      ]
     },
     "metadata": {
      "needs_background": "light"
     },
     "output_type": "display_data"
    }
   ],
   "source": [
    "plt.figure(figsize=(16, 8))\n",
    "sns.heatmap(df_full_train[t_num_cols].corr(), annot=True, fmt='.3f')"
   ]
  },
  {
   "cell_type": "markdown",
   "metadata": {},
   "source": [
    "**Observations:** We can see that some of the features have good correlation (>0.75) - like - emp.var.rate, nr.employed, euribor3m, cons.price.idx are co-related to each other. This makes sense as all these are social and economic context attributes."
   ]
  },
  {
   "cell_type": "markdown",
   "metadata": {},
   "source": [
    "### 4. Baseline model"
   ]
  },
  {
   "cell_type": "markdown",
   "metadata": {},
   "source": [
    "Will check performance of baseline model using LogisticRegression with default parameters and evaluating using roc_auc_score (since the target variable has class imbalance). Will check the scores with and without the feature 'duration'"
   ]
  },
  {
   "cell_type": "markdown",
   "metadata": {},
   "source": [
    "Score with feature 'duration'"
   ]
  },
  {
   "cell_type": "code",
   "execution_count": 72,
   "metadata": {
    "execution": {
     "iopub.execute_input": "2021-10-24T07:35:05.52909Z",
     "iopub.status.busy": "2021-10-24T07:35:05.528637Z",
     "iopub.status.idle": "2021-10-24T07:35:05.537434Z",
     "shell.execute_reply": "2021-10-24T07:35:05.536765Z",
     "shell.execute_reply.started": "2021-10-24T07:35:05.529043Z"
    }
   },
   "outputs": [],
   "source": [
    "#Save all scores into a pandas dataframe so that we can have a comparative study across experiments\n",
    "\n",
    "#Construct of this dataframe will be like below example\n",
    "#\"algo\", \"desc\", \"score\", \"diff\"\n",
    "#\"logisticregression\", \"description of the experiment\", 0.6896, 0.0243\n",
    "\n",
    "exp_columns = [\"algo\", \"desc\", \"score\", \"diff\"]\n",
    "exp_scores = pd.DataFrame(columns = exp_columns)"
   ]
  },
  {
   "cell_type": "code",
   "execution_count": 73,
   "metadata": {
    "execution": {
     "iopub.execute_input": "2021-10-24T07:35:05.539551Z",
     "iopub.status.busy": "2021-10-24T07:35:05.538586Z",
     "iopub.status.idle": "2021-10-24T07:35:05.547045Z",
     "shell.execute_reply": "2021-10-24T07:35:05.546019Z",
     "shell.execute_reply.started": "2021-10-24T07:35:05.539502Z"
    }
   },
   "outputs": [],
   "source": [
    "dv = DictVectorizer(sparse=False)\n",
    "model = LogisticRegression(solver='liblinear',random_state=42)"
   ]
  },
  {
   "cell_type": "code",
   "execution_count": 74,
   "metadata": {
    "execution": {
     "iopub.execute_input": "2021-10-24T07:35:05.548737Z",
     "iopub.status.busy": "2021-10-24T07:35:05.54851Z",
     "iopub.status.idle": "2021-10-24T07:35:07.401884Z",
     "shell.execute_reply": "2021-10-24T07:35:07.401061Z",
     "shell.execute_reply.started": "2021-10-24T07:35:05.548711Z"
    }
   },
   "outputs": [
    {
     "data": {
      "text/plain": [
       "LogisticRegression(random_state=42, solver='liblinear')"
      ]
     },
     "execution_count": 74,
     "metadata": {},
     "output_type": "execute_result"
    }
   ],
   "source": [
    "dict_train = df_train.to_dict(orient='records')\n",
    "X_train = dv.fit_transform(dict_train)\n",
    "model.fit(X_train,y_train)"
   ]
  },
  {
   "cell_type": "code",
   "execution_count": 75,
   "metadata": {
    "execution": {
     "iopub.execute_input": "2021-10-24T07:35:07.403258Z",
     "iopub.status.busy": "2021-10-24T07:35:07.403035Z",
     "iopub.status.idle": "2021-10-24T07:35:07.782325Z",
     "shell.execute_reply": "2021-10-24T07:35:07.781357Z",
     "shell.execute_reply.started": "2021-10-24T07:35:07.403231Z"
    }
   },
   "outputs": [
    {
     "name": "stdout",
     "output_type": "stream",
     "text": [
      "0.9317413173947264\n"
     ]
    }
   ],
   "source": [
    "dict_val = df_val.to_dict(orient='records')\n",
    "X_val = dv.transform(dict_val)\n",
    "y_pred = model.predict_proba(X_val)[:,1]\n",
    "this_auc = roc_auc_score(y_val,y_pred)\n",
    "print(this_auc)\n",
    "# score_entry = {\"algo\": \"logisticregression\", \"desc\": \"all features including duration\", \"score\": this_auc}\n",
    "# exp_scores = exp_scores.append(score_entry,ignore_index=True)"
   ]
  },
  {
   "cell_type": "markdown",
   "metadata": {},
   "source": [
    "Removing the feature 'duration' and checking the score"
   ]
  },
  {
   "cell_type": "code",
   "execution_count": 76,
   "metadata": {
    "execution": {
     "iopub.execute_input": "2021-10-24T07:35:07.784301Z",
     "iopub.status.busy": "2021-10-24T07:35:07.783867Z",
     "iopub.status.idle": "2021-10-24T07:35:09.460779Z",
     "shell.execute_reply": "2021-10-24T07:35:09.459917Z",
     "shell.execute_reply.started": "2021-10-24T07:35:07.784254Z"
    }
   },
   "outputs": [
    {
     "data": {
      "text/plain": [
       "LogisticRegression(random_state=42, solver='liblinear')"
      ]
     },
     "execution_count": 76,
     "metadata": {},
     "output_type": "execute_result"
    }
   ],
   "source": [
    "df_train_copy = df_train.copy()\n",
    "del df_train_copy['duration']\n",
    "dict_train_copy = df_train_copy.to_dict(orient='records')\n",
    "X_train_copy = dv.fit_transform(dict_train_copy)\n",
    "model.fit(X_train_copy,y_train)"
   ]
  },
  {
   "cell_type": "code",
   "execution_count": 77,
   "metadata": {
    "execution": {
     "iopub.execute_input": "2021-10-24T07:35:09.462714Z",
     "iopub.status.busy": "2021-10-24T07:35:09.462094Z",
     "iopub.status.idle": "2021-10-24T07:35:09.827209Z",
     "shell.execute_reply": "2021-10-24T07:35:09.826364Z",
     "shell.execute_reply.started": "2021-10-24T07:35:09.462648Z"
    }
   },
   "outputs": [
    {
     "name": "stdout",
     "output_type": "stream",
     "text": [
      "0.76951656889512\n"
     ]
    }
   ],
   "source": [
    "#Experiment 0\n",
    "\n",
    "df_val_copy = df_val.copy()\n",
    "del df_val_copy['duration']\n",
    "dict_val_copy = df_val_copy.to_dict(orient='records')\n",
    "X_val_copy = dv.transform(dict_val_copy)\n",
    "y_pred_2 = model.predict_proba(X_val_copy)[:,1]\n",
    "baseline_auc = roc_auc_score(y_val,y_pred_2)\n",
    "print(baseline_auc)\n",
    "score_entry = {\"algo\": \"logisticregression\", \"desc\": \"baseline score. all features excluding duration\", \"score\": baseline_auc, \"diff\": 0}\n",
    "exp_scores = exp_scores.append(score_entry,ignore_index=True)"
   ]
  },
  {
   "cell_type": "markdown",
   "metadata": {},
   "source": [
    "We will consider this score (without the duration feature) as the baseline score. We will now see how we can improve the score. Later we will try using different models and then again see for those, how we can further improve the score."
   ]
  },
  {
   "cell_type": "markdown",
   "metadata": {},
   "source": [
    "Deleting 'duration' feature from all the dataframes"
   ]
  },
  {
   "cell_type": "code",
   "execution_count": 78,
   "metadata": {
    "execution": {
     "iopub.execute_input": "2021-10-24T07:35:09.829124Z",
     "iopub.status.busy": "2021-10-24T07:35:09.828552Z",
     "iopub.status.idle": "2021-10-24T07:35:09.83662Z",
     "shell.execute_reply": "2021-10-24T07:35:09.835769Z",
     "shell.execute_reply.started": "2021-10-24T07:35:09.829079Z"
    }
   },
   "outputs": [],
   "source": [
    "del df_train['duration']\n",
    "del df_full_train['duration']\n",
    "del df_val['duration']\n",
    "del df_test['duration']"
   ]
  },
  {
   "cell_type": "markdown",
   "metadata": {},
   "source": [
    "### 5. Improvement over baseline\n",
    "\n",
    "Idea here is to do more experiments using the same algorithm used in baseline to find methods to improve the score. Then we will try to tune the paramaters of this model to further improve the score. After having worked with this model, we will look at other algorithms and compare the scores, then we will also tune the hyperparameters for these other models. Finally we will compare all the results to select the best model and parameters, which we will use to then train the full_train dataset and evaluate finally on the test dataset\n",
    "\n",
    "#### 5.1 Logistic Regression\n",
    "##### 5.1.1 Experiments to improve the score using LogisticRegression\n",
    "* Check scores by dropping less important features based on EDA\n",
    "* Check effect on score by dropping one feature at a time\n",
    "\n",
    "##### 5.1.2 Model tuning for LogisticRegression\n",
    "* Check various paramaters\n",
    "\n",
    "#### 5.2 DecisionTreeClassifier\n",
    "\n",
    "#### 5.3 RandomForestClassifier\n",
    "\n",
    "#### 5.4 XGBoost"
   ]
  },
  {
   "cell_type": "markdown",
   "metadata": {},
   "source": [
    "Let us look at the coefficients of the trained Logistic regression model to see which are the features that do not help much (coefficient values close to 0)"
   ]
  },
  {
   "cell_type": "code",
   "execution_count": 79,
   "metadata": {
    "execution": {
     "iopub.execute_input": "2021-10-24T07:35:09.83859Z",
     "iopub.status.busy": "2021-10-24T07:35:09.838084Z",
     "iopub.status.idle": "2021-10-24T07:35:09.849165Z",
     "shell.execute_reply": "2021-10-24T07:35:09.848076Z",
     "shell.execute_reply.started": "2021-10-24T07:35:09.838545Z"
    }
   },
   "outputs": [],
   "source": [
    "# features_names = dv.get_feature_names()\n",
    "# df_ = pd.DataFrame()\n",
    "# df_['features'] = features_names\n",
    "# df_['coef'] = clf.coef_[0].round(2)\n",
    "# df_ = df_.sort_values('coef').reset_index(drop=True)\n",
    "\n",
    "# scat1 = df_.hvplot(\n",
    "#                 x=\"coef\",\n",
    "#                 y=\"features\",\n",
    "#                 kind=\"line\",\n",
    "#                 size=70, \n",
    "#                 height=800, width=1200,\n",
    "#                 alpha=0.7,\n",
    "#                 title=\"features vs coef\"\n",
    "# )\n",
    "# scat1"
   ]
  },
  {
   "cell_type": "code",
   "execution_count": 80,
   "metadata": {
    "execution": {
     "iopub.execute_input": "2021-10-24T07:35:09.85122Z",
     "iopub.status.busy": "2021-10-24T07:35:09.850687Z",
     "iopub.status.idle": "2021-10-24T07:35:09.884749Z",
     "shell.execute_reply": "2021-10-24T07:35:09.883728Z",
     "shell.execute_reply.started": "2021-10-24T07:35:09.851159Z"
    }
   },
   "outputs": [
    {
     "data": {
      "text/html": [
       "<div>\n",
       "<style scoped>\n",
       "    .dataframe tbody tr th:only-of-type {\n",
       "        vertical-align: middle;\n",
       "    }\n",
       "\n",
       "    .dataframe tbody tr th {\n",
       "        vertical-align: top;\n",
       "    }\n",
       "\n",
       "    .dataframe thead th {\n",
       "        text-align: right;\n",
       "    }\n",
       "</style>\n",
       "<table border=\"1\" class=\"dataframe\">\n",
       "  <thead>\n",
       "    <tr style=\"text-align: right;\">\n",
       "      <th></th>\n",
       "      <th>features</th>\n",
       "      <th>coef</th>\n",
       "      <th>abs_coef</th>\n",
       "    </tr>\n",
       "  </thead>\n",
       "  <tbody>\n",
       "    <tr>\n",
       "      <th>0</th>\n",
       "      <td>default=yes</td>\n",
       "      <td>-0.000</td>\n",
       "      <td>0.000</td>\n",
       "    </tr>\n",
       "    <tr>\n",
       "      <th>1</th>\n",
       "      <td>loan=yes</td>\n",
       "      <td>0.000</td>\n",
       "      <td>0.000</td>\n",
       "    </tr>\n",
       "    <tr>\n",
       "      <th>2</th>\n",
       "      <td>job=management</td>\n",
       "      <td>-0.001</td>\n",
       "      <td>0.001</td>\n",
       "    </tr>\n",
       "    <tr>\n",
       "      <th>3</th>\n",
       "      <td>job=self-employed</td>\n",
       "      <td>0.001</td>\n",
       "      <td>0.001</td>\n",
       "    </tr>\n",
       "    <tr>\n",
       "      <th>4</th>\n",
       "      <td>job=technician</td>\n",
       "      <td>0.001</td>\n",
       "      <td>0.001</td>\n",
       "    </tr>\n",
       "    <tr>\n",
       "      <th>...</th>\n",
       "      <td>...</td>\n",
       "      <td>...</td>\n",
       "      <td>...</td>\n",
       "    </tr>\n",
       "    <tr>\n",
       "      <th>57</th>\n",
       "      <td>poutcome=failure</td>\n",
       "      <td>-0.158</td>\n",
       "      <td>0.158</td>\n",
       "    </tr>\n",
       "    <tr>\n",
       "      <th>58</th>\n",
       "      <td>contact=telephone</td>\n",
       "      <td>-0.183</td>\n",
       "      <td>0.183</td>\n",
       "    </tr>\n",
       "    <tr>\n",
       "      <th>59</th>\n",
       "      <td>contact=cellular</td>\n",
       "      <td>0.186</td>\n",
       "      <td>0.186</td>\n",
       "    </tr>\n",
       "    <tr>\n",
       "      <th>60</th>\n",
       "      <td>cons.price.idx</td>\n",
       "      <td>0.371</td>\n",
       "      <td>0.371</td>\n",
       "    </tr>\n",
       "    <tr>\n",
       "      <th>61</th>\n",
       "      <td>month=may</td>\n",
       "      <td>-0.396</td>\n",
       "      <td>0.396</td>\n",
       "    </tr>\n",
       "  </tbody>\n",
       "</table>\n",
       "<p>62 rows × 3 columns</p>\n",
       "</div>"
      ],
      "text/plain": [
       "             features   coef  abs_coef\n",
       "0         default=yes -0.000     0.000\n",
       "1            loan=yes  0.000     0.000\n",
       "2      job=management -0.001     0.001\n",
       "3   job=self-employed  0.001     0.001\n",
       "4      job=technician  0.001     0.001\n",
       "..                ...    ...       ...\n",
       "57   poutcome=failure -0.158     0.158\n",
       "58  contact=telephone -0.183     0.183\n",
       "59   contact=cellular  0.186     0.186\n",
       "60     cons.price.idx  0.371     0.371\n",
       "61          month=may -0.396     0.396\n",
       "\n",
       "[62 rows x 3 columns]"
      ]
     },
     "execution_count": 80,
     "metadata": {},
     "output_type": "execute_result"
    }
   ],
   "source": [
    "features_names = dv.get_feature_names()\n",
    "df_ = pd.DataFrame()\n",
    "df_['features'] = features_names\n",
    "df_['coef'] = model.coef_[0].round(3)\n",
    "df_['abs_coef'] = np.abs(model.coef_[0].round(3))\n",
    "df_ = df_.sort_values('abs_coef').reset_index(drop=True)\n",
    "df_"
   ]
  },
  {
   "cell_type": "code",
   "execution_count": 81,
   "metadata": {},
   "outputs": [
    {
     "data": {
      "text/html": [
       "<div>\n",
       "<style scoped>\n",
       "    .dataframe tbody tr th:only-of-type {\n",
       "        vertical-align: middle;\n",
       "    }\n",
       "\n",
       "    .dataframe tbody tr th {\n",
       "        vertical-align: top;\n",
       "    }\n",
       "\n",
       "    .dataframe thead th {\n",
       "        text-align: right;\n",
       "    }\n",
       "</style>\n",
       "<table border=\"1\" class=\"dataframe\">\n",
       "  <thead>\n",
       "    <tr style=\"text-align: right;\">\n",
       "      <th></th>\n",
       "      <th>algo</th>\n",
       "      <th>desc</th>\n",
       "      <th>score</th>\n",
       "      <th>diff</th>\n",
       "    </tr>\n",
       "  </thead>\n",
       "  <tbody>\n",
       "    <tr>\n",
       "      <th>0</th>\n",
       "      <td>logisticregression</td>\n",
       "      <td>baseline score. all features excluding duration</td>\n",
       "      <td>0.769517</td>\n",
       "      <td>0</td>\n",
       "    </tr>\n",
       "  </tbody>\n",
       "</table>\n",
       "</div>"
      ],
      "text/plain": [
       "                 algo                                             desc  \\\n",
       "0  logisticregression  baseline score. all features excluding duration   \n",
       "\n",
       "      score diff  \n",
       "0  0.769517    0  "
      ]
     },
     "execution_count": 81,
     "metadata": {},
     "output_type": "execute_result"
    }
   ],
   "source": [
    "exp_scores"
   ]
  },
  {
   "cell_type": "markdown",
   "metadata": {},
   "source": [
    "Based on out EDA, we had seen that the features 'loan','housing','day_of_week','marital' had very less mutual information with the target. Let us check the score of model trained without these features."
   ]
  },
  {
   "cell_type": "code",
   "execution_count": 82,
   "metadata": {
    "execution": {
     "iopub.execute_input": "2021-10-24T07:35:09.890235Z",
     "iopub.status.busy": "2021-10-24T07:35:09.889637Z",
     "iopub.status.idle": "2021-10-24T07:35:11.182298Z",
     "shell.execute_reply": "2021-10-24T07:35:11.181716Z",
     "shell.execute_reply.started": "2021-10-24T07:35:09.890181Z"
    }
   },
   "outputs": [
    {
     "data": {
      "text/plain": [
       "LogisticRegression(random_state=42, solver='liblinear')"
      ]
     },
     "execution_count": 82,
     "metadata": {},
     "output_type": "execute_result"
    }
   ],
   "source": [
    "df_train_copy = df_train.copy()\n",
    "df_train_copy.drop(['loan','housing','day_of_week','marital'],axis=1,inplace=True)\n",
    "dict_train_copy = df_train_copy.to_dict(orient='records')\n",
    "X_train_copy = dv.fit_transform(dict_train_copy)\n",
    "model.fit(X_train_copy,y_train)"
   ]
  },
  {
   "cell_type": "code",
   "execution_count": 83,
   "metadata": {
    "execution": {
     "iopub.execute_input": "2021-10-24T07:35:11.183703Z",
     "iopub.status.busy": "2021-10-24T07:35:11.183376Z",
     "iopub.status.idle": "2021-10-24T07:35:11.467521Z",
     "shell.execute_reply": "2021-10-24T07:35:11.46658Z",
     "shell.execute_reply.started": "2021-10-24T07:35:11.183673Z"
    }
   },
   "outputs": [
    {
     "name": "stdout",
     "output_type": "stream",
     "text": [
      "0.7694706039698938\n",
      "0.000046\n"
     ]
    }
   ],
   "source": [
    "#Experiment 1\n",
    "\n",
    "df_val_copy = df_val.copy()\n",
    "df_val_copy.drop(['loan','housing','day_of_week','marital'],axis=1,inplace=True)\n",
    "dict_val_copy = df_val_copy.to_dict(orient='records')\n",
    "X_val_copy = dv.transform(dict_val_copy)\n",
    "y_pred_2 = model.predict_proba(X_val_copy)[:,1]\n",
    "this_auc = roc_auc_score(y_val,y_pred_2)\n",
    "print(this_auc)\n",
    "print('%.6f' % (round(baseline_auc - this_auc,6)))\n",
    "\n",
    "entry_desc = \"EDA obs deleted features 'loan','housing','day_of_week','marital'\"\n",
    "score_entry = {\"algo\": \"logisticregression\", \"desc\": entry_desc, \"score\": this_auc, \"diff\": this_auc - baseline_auc}\n",
    "exp_scores = exp_scores.append(score_entry,ignore_index=True)"
   ]
  },
  {
   "cell_type": "markdown",
   "metadata": {},
   "source": [
    "Thus we can see that there is extremely tiny difference in the scores with and without the features 'loan','housing','day_of_week','marital'. Thus the model is confirming our observations in EDA."
   ]
  },
  {
   "cell_type": "markdown",
   "metadata": {},
   "source": [
    "Evaluate effect on score by dropping one feature at a time"
   ]
  },
  {
   "cell_type": "code",
   "execution_count": 84,
   "metadata": {
    "execution": {
     "iopub.execute_input": "2021-10-24T07:35:11.470029Z",
     "iopub.status.busy": "2021-10-24T07:35:11.469427Z",
     "iopub.status.idle": "2021-10-24T07:35:11.488885Z",
     "shell.execute_reply": "2021-10-24T07:35:11.487895Z",
     "shell.execute_reply.started": "2021-10-24T07:35:11.469977Z"
    }
   },
   "outputs": [
    {
     "data": {
      "text/html": [
       "<div>\n",
       "<style scoped>\n",
       "    .dataframe tbody tr th:only-of-type {\n",
       "        vertical-align: middle;\n",
       "    }\n",
       "\n",
       "    .dataframe tbody tr th {\n",
       "        vertical-align: top;\n",
       "    }\n",
       "\n",
       "    .dataframe thead th {\n",
       "        text-align: right;\n",
       "    }\n",
       "</style>\n",
       "<table border=\"1\" class=\"dataframe\">\n",
       "  <thead>\n",
       "    <tr style=\"text-align: right;\">\n",
       "      <th></th>\n",
       "      <th>algo</th>\n",
       "      <th>desc</th>\n",
       "      <th>score</th>\n",
       "      <th>diff</th>\n",
       "    </tr>\n",
       "  </thead>\n",
       "  <tbody>\n",
       "    <tr>\n",
       "      <th>0</th>\n",
       "      <td>logisticregression</td>\n",
       "      <td>baseline score. all features excluding duration</td>\n",
       "      <td>0.769517</td>\n",
       "      <td>0</td>\n",
       "    </tr>\n",
       "    <tr>\n",
       "      <th>1</th>\n",
       "      <td>logisticregression</td>\n",
       "      <td>EDA obs deleted features 'loan','housing','day...</td>\n",
       "      <td>0.769471</td>\n",
       "      <td>-0.000046</td>\n",
       "    </tr>\n",
       "  </tbody>\n",
       "</table>\n",
       "</div>"
      ],
      "text/plain": [
       "                 algo                                               desc  \\\n",
       "0  logisticregression    baseline score. all features excluding duration   \n",
       "1  logisticregression  EDA obs deleted features 'loan','housing','day...   \n",
       "\n",
       "      score      diff  \n",
       "0  0.769517         0  \n",
       "1  0.769471 -0.000046  "
      ]
     },
     "execution_count": 84,
     "metadata": {},
     "output_type": "execute_result"
    }
   ],
   "source": [
    "exp_scores"
   ]
  },
  {
   "cell_type": "code",
   "execution_count": 85,
   "metadata": {
    "execution": {
     "iopub.execute_input": "2021-10-24T07:58:28.804558Z",
     "iopub.status.busy": "2021-10-24T07:58:28.804248Z",
     "iopub.status.idle": "2021-10-24T07:58:28.811896Z",
     "shell.execute_reply": "2021-10-24T07:58:28.810706Z",
     "shell.execute_reply.started": "2021-10-24T07:58:28.804527Z"
    }
   },
   "outputs": [],
   "source": [
    "# Function to do one-hot encoding, train the model and evaluate model on validation data\n",
    "\n",
    "def evaluate(new_features,df_train_copy,df_val_copy,model):\n",
    "    dict_train_new = df_train_copy[new_features].to_dict(orient='records')\n",
    "    X_train_new = dv.fit_transform(dict_train_new)\n",
    "    model.fit(X_train_new,y_train)\n",
    "    \n",
    "    dict_val_new = df_val_copy[new_features].to_dict(orient='records')\n",
    "    X_val_new = dv.transform(dict_val_new)\n",
    "    y_pred_new = model.predict_proba(X_val_new)[:,1]    \n",
    "    roc_auc_val = roc_auc_score(y_val,y_pred_new)\n",
    "\n",
    "    return roc_auc_val"
   ]
  },
  {
   "cell_type": "code",
   "execution_count": 86,
   "metadata": {
    "execution": {
     "iopub.execute_input": "2021-10-24T07:58:29.309471Z",
     "iopub.status.busy": "2021-10-24T07:58:29.308808Z",
     "iopub.status.idle": "2021-10-24T07:58:30.798211Z",
     "shell.execute_reply": "2021-10-24T07:58:30.796952Z",
     "shell.execute_reply.started": "2021-10-24T07:58:29.309423Z"
    }
   },
   "outputs": [
    {
     "name": "stdout",
     "output_type": "stream",
     "text": [
      "('age', 0.7674370019185359, -0.0020795669765840685, 0.0020795669765840685)\n",
      "('job', 0.7701890557359309, 0.000672486840810893, 0.000672486840810893)\n",
      "('marital', 0.7686044187819756, -0.0009121501131443832, 0.0009121501131443832)\n",
      "('education', 0.7704440918929556, 0.0009275229978356059, 0.0009275229978356059)\n",
      "('default', 0.7683642174586777, -0.0011523514364423226, 0.0011523514364423226)\n",
      "('housing', 0.7695184905057064, 1.921610586430589e-06, 1.921610586430589e-06)\n",
      "('loan', 0.7694773680391578, -3.9200855962207015e-05, 3.9200855962207015e-05)\n",
      "('contact', 0.7686343959071231, -0.0008821729879968654, 0.0008821729879968654)\n",
      "('month', 0.7633426646743409, -0.006173904220779125, 0.006173904220779125)\n",
      "('day_of_week', 0.770557774375246, 0.001041205480125984, 0.001041205480125984)\n",
      "('campaign', 0.7725173559868161, 0.0030007870916961554, 0.0030007870916961554)\n",
      "('pdays', 0.7733610198986619, 0.0038444510035419155, 0.0038444510035419155)\n",
      "('previous', 0.7696017346763085, 8.516578118855644e-05, 8.516578118855644e-05)\n",
      "('poutcome', 0.7747547256247541, 0.005238156729634125, 0.005238156729634125)\n",
      "('emp.var.rate', 0.7733477992178277, 0.0038312303227077127, 0.0038312303227077127)\n",
      "('cons.price.idx', 0.7711419439935064, 0.0016253750983864501, 0.0016253750983864501)\n",
      "('cons.conf.idx', 0.7712878326692246, 0.0017712637741046366, 0.0017712637741046366)\n",
      "('euribor3m', 0.7748650260724125, 0.005348457177292487, 0.005348457177292487)\n",
      "('nr.employed', 0.7711508602666274, 0.0016342913715073903, 0.0016342913715073903)\n"
     ]
    }
   ],
   "source": [
    "#Score for each feature being dropped and it's difference with baseline score\n",
    "\n",
    "#Experiment 2 onwards\n",
    "\n",
    "df_train_copy = df_train.copy()\n",
    "df_val_copy = df_val.copy()\n",
    "\n",
    "features_list = df_train_copy.columns\n",
    "feature_roc_auc_scores = []\n",
    "\n",
    "for drop_feature in list(features_list):\n",
    "    new_features = list(features_list.drop(drop_feature))\n",
    "    this_auc = evaluate(new_features,df_train_copy,df_val_copy,model)\n",
    "    feature_roc_auc_scores.append((drop_feature,this_auc,this_auc-baseline_auc,np.abs(this_auc-baseline_auc)))\n",
    "    print(str((drop_feature,this_auc,this_auc-baseline_auc,np.abs(this_auc-baseline_auc))))\n",
    "    entry_desc = f\"delete one feature {drop_feature}\"\n",
    "    score_entry = {\"algo\": \"logisticregression\", \"desc\": entry_desc, \"score\": this_auc, \"diff\": this_auc - baseline_auc}\n",
    "    exp_scores = exp_scores.append(score_entry,ignore_index=True)"
   ]
  },
  {
   "cell_type": "code",
   "execution_count": 87,
   "metadata": {
    "execution": {
     "iopub.status.busy": "2021-10-24T07:35:12.955464Z",
     "iopub.status.idle": "2021-10-24T07:35:12.956458Z",
     "shell.execute_reply": "2021-10-24T07:35:12.956248Z",
     "shell.execute_reply.started": "2021-10-24T07:35:12.956223Z"
    }
   },
   "outputs": [
    {
     "data": {
      "text/html": [
       "<div>\n",
       "<style scoped>\n",
       "    .dataframe tbody tr th:only-of-type {\n",
       "        vertical-align: middle;\n",
       "    }\n",
       "\n",
       "    .dataframe tbody tr th {\n",
       "        vertical-align: top;\n",
       "    }\n",
       "\n",
       "    .dataframe thead th {\n",
       "        text-align: right;\n",
       "    }\n",
       "</style>\n",
       "<table border=\"1\" class=\"dataframe\">\n",
       "  <thead>\n",
       "    <tr style=\"text-align: right;\">\n",
       "      <th></th>\n",
       "      <th>algo</th>\n",
       "      <th>desc</th>\n",
       "      <th>score</th>\n",
       "      <th>diff</th>\n",
       "    </tr>\n",
       "  </thead>\n",
       "  <tbody>\n",
       "    <tr>\n",
       "      <th>19</th>\n",
       "      <td>logisticregression</td>\n",
       "      <td>delete one feature euribor3m</td>\n",
       "      <td>0.774865</td>\n",
       "      <td>0.005348</td>\n",
       "    </tr>\n",
       "    <tr>\n",
       "      <th>15</th>\n",
       "      <td>logisticregression</td>\n",
       "      <td>delete one feature poutcome</td>\n",
       "      <td>0.774755</td>\n",
       "      <td>0.005238</td>\n",
       "    </tr>\n",
       "    <tr>\n",
       "      <th>13</th>\n",
       "      <td>logisticregression</td>\n",
       "      <td>delete one feature pdays</td>\n",
       "      <td>0.773361</td>\n",
       "      <td>0.003844</td>\n",
       "    </tr>\n",
       "    <tr>\n",
       "      <th>16</th>\n",
       "      <td>logisticregression</td>\n",
       "      <td>delete one feature emp.var.rate</td>\n",
       "      <td>0.773348</td>\n",
       "      <td>0.003831</td>\n",
       "    </tr>\n",
       "    <tr>\n",
       "      <th>12</th>\n",
       "      <td>logisticregression</td>\n",
       "      <td>delete one feature campaign</td>\n",
       "      <td>0.772517</td>\n",
       "      <td>0.003001</td>\n",
       "    </tr>\n",
       "  </tbody>\n",
       "</table>\n",
       "</div>"
      ],
      "text/plain": [
       "                  algo                             desc     score      diff\n",
       "19  logisticregression     delete one feature euribor3m  0.774865  0.005348\n",
       "15  logisticregression      delete one feature poutcome  0.774755  0.005238\n",
       "13  logisticregression         delete one feature pdays  0.773361  0.003844\n",
       "16  logisticregression  delete one feature emp.var.rate  0.773348  0.003831\n",
       "12  logisticregression      delete one feature campaign  0.772517  0.003001"
      ]
     },
     "execution_count": 87,
     "metadata": {},
     "output_type": "execute_result"
    }
   ],
   "source": [
    "exp_scores.sort_values(by='score',ascending=False).head(5)"
   ]
  },
  {
   "cell_type": "markdown",
   "metadata": {},
   "source": [
    "Check difference in scores - positive difference indicating score improved on removing the feature (feature is unnecessary and impacting model), negative difference indicating score reduced on removing the feature (feature is useful) and the magnitude of the value indicating how important (more or less)."
   ]
  },
  {
   "cell_type": "code",
   "execution_count": 88,
   "metadata": {
    "execution": {
     "iopub.status.busy": "2021-10-24T07:35:12.957389Z",
     "iopub.status.idle": "2021-10-24T07:35:12.958343Z",
     "shell.execute_reply": "2021-10-24T07:35:12.958159Z",
     "shell.execute_reply.started": "2021-10-24T07:35:12.958135Z"
    }
   },
   "outputs": [
    {
     "data": {
      "text/html": [
       "<div>\n",
       "<style scoped>\n",
       "    .dataframe tbody tr th:only-of-type {\n",
       "        vertical-align: middle;\n",
       "    }\n",
       "\n",
       "    .dataframe tbody tr th {\n",
       "        vertical-align: top;\n",
       "    }\n",
       "\n",
       "    .dataframe thead th {\n",
       "        text-align: right;\n",
       "    }\n",
       "</style>\n",
       "<table border=\"1\" class=\"dataframe\">\n",
       "  <thead>\n",
       "    <tr style=\"text-align: right;\">\n",
       "      <th></th>\n",
       "      <th>feature</th>\n",
       "      <th>new_roc_auc_score</th>\n",
       "      <th>diff_roc_auc_score</th>\n",
       "      <th>abs_diff_roc_auc_score</th>\n",
       "    </tr>\n",
       "  </thead>\n",
       "  <tbody>\n",
       "    <tr>\n",
       "      <th>17</th>\n",
       "      <td>euribor3m</td>\n",
       "      <td>0.774865</td>\n",
       "      <td>0.005348</td>\n",
       "      <td>0.005348</td>\n",
       "    </tr>\n",
       "    <tr>\n",
       "      <th>13</th>\n",
       "      <td>poutcome</td>\n",
       "      <td>0.774755</td>\n",
       "      <td>0.005238</td>\n",
       "      <td>0.005238</td>\n",
       "    </tr>\n",
       "    <tr>\n",
       "      <th>11</th>\n",
       "      <td>pdays</td>\n",
       "      <td>0.773361</td>\n",
       "      <td>0.003844</td>\n",
       "      <td>0.003844</td>\n",
       "    </tr>\n",
       "    <tr>\n",
       "      <th>14</th>\n",
       "      <td>emp.var.rate</td>\n",
       "      <td>0.773348</td>\n",
       "      <td>0.003831</td>\n",
       "      <td>0.003831</td>\n",
       "    </tr>\n",
       "    <tr>\n",
       "      <th>10</th>\n",
       "      <td>campaign</td>\n",
       "      <td>0.772517</td>\n",
       "      <td>0.003001</td>\n",
       "      <td>0.003001</td>\n",
       "    </tr>\n",
       "    <tr>\n",
       "      <th>16</th>\n",
       "      <td>cons.conf.idx</td>\n",
       "      <td>0.771288</td>\n",
       "      <td>0.001771</td>\n",
       "      <td>0.001771</td>\n",
       "    </tr>\n",
       "    <tr>\n",
       "      <th>18</th>\n",
       "      <td>nr.employed</td>\n",
       "      <td>0.771151</td>\n",
       "      <td>0.001634</td>\n",
       "      <td>0.001634</td>\n",
       "    </tr>\n",
       "    <tr>\n",
       "      <th>15</th>\n",
       "      <td>cons.price.idx</td>\n",
       "      <td>0.771142</td>\n",
       "      <td>0.001625</td>\n",
       "      <td>0.001625</td>\n",
       "    </tr>\n",
       "    <tr>\n",
       "      <th>9</th>\n",
       "      <td>day_of_week</td>\n",
       "      <td>0.770558</td>\n",
       "      <td>0.001041</td>\n",
       "      <td>0.001041</td>\n",
       "    </tr>\n",
       "    <tr>\n",
       "      <th>3</th>\n",
       "      <td>education</td>\n",
       "      <td>0.770444</td>\n",
       "      <td>0.000928</td>\n",
       "      <td>0.000928</td>\n",
       "    </tr>\n",
       "    <tr>\n",
       "      <th>1</th>\n",
       "      <td>job</td>\n",
       "      <td>0.770189</td>\n",
       "      <td>0.000672</td>\n",
       "      <td>0.000672</td>\n",
       "    </tr>\n",
       "    <tr>\n",
       "      <th>12</th>\n",
       "      <td>previous</td>\n",
       "      <td>0.769602</td>\n",
       "      <td>0.000085</td>\n",
       "      <td>0.000085</td>\n",
       "    </tr>\n",
       "    <tr>\n",
       "      <th>5</th>\n",
       "      <td>housing</td>\n",
       "      <td>0.769518</td>\n",
       "      <td>0.000002</td>\n",
       "      <td>0.000002</td>\n",
       "    </tr>\n",
       "    <tr>\n",
       "      <th>6</th>\n",
       "      <td>loan</td>\n",
       "      <td>0.769477</td>\n",
       "      <td>-0.000039</td>\n",
       "      <td>0.000039</td>\n",
       "    </tr>\n",
       "    <tr>\n",
       "      <th>7</th>\n",
       "      <td>contact</td>\n",
       "      <td>0.768634</td>\n",
       "      <td>-0.000882</td>\n",
       "      <td>0.000882</td>\n",
       "    </tr>\n",
       "    <tr>\n",
       "      <th>2</th>\n",
       "      <td>marital</td>\n",
       "      <td>0.768604</td>\n",
       "      <td>-0.000912</td>\n",
       "      <td>0.000912</td>\n",
       "    </tr>\n",
       "    <tr>\n",
       "      <th>4</th>\n",
       "      <td>default</td>\n",
       "      <td>0.768364</td>\n",
       "      <td>-0.001152</td>\n",
       "      <td>0.001152</td>\n",
       "    </tr>\n",
       "    <tr>\n",
       "      <th>0</th>\n",
       "      <td>age</td>\n",
       "      <td>0.767437</td>\n",
       "      <td>-0.002080</td>\n",
       "      <td>0.002080</td>\n",
       "    </tr>\n",
       "    <tr>\n",
       "      <th>8</th>\n",
       "      <td>month</td>\n",
       "      <td>0.763343</td>\n",
       "      <td>-0.006174</td>\n",
       "      <td>0.006174</td>\n",
       "    </tr>\n",
       "  </tbody>\n",
       "</table>\n",
       "</div>"
      ],
      "text/plain": [
       "           feature  new_roc_auc_score  diff_roc_auc_score  \\\n",
       "17       euribor3m           0.774865            0.005348   \n",
       "13        poutcome           0.774755            0.005238   \n",
       "11           pdays           0.773361            0.003844   \n",
       "14    emp.var.rate           0.773348            0.003831   \n",
       "10        campaign           0.772517            0.003001   \n",
       "16   cons.conf.idx           0.771288            0.001771   \n",
       "18     nr.employed           0.771151            0.001634   \n",
       "15  cons.price.idx           0.771142            0.001625   \n",
       "9      day_of_week           0.770558            0.001041   \n",
       "3        education           0.770444            0.000928   \n",
       "1              job           0.770189            0.000672   \n",
       "12        previous           0.769602            0.000085   \n",
       "5          housing           0.769518            0.000002   \n",
       "6             loan           0.769477           -0.000039   \n",
       "7          contact           0.768634           -0.000882   \n",
       "2          marital           0.768604           -0.000912   \n",
       "4          default           0.768364           -0.001152   \n",
       "0              age           0.767437           -0.002080   \n",
       "8            month           0.763343           -0.006174   \n",
       "\n",
       "    abs_diff_roc_auc_score  \n",
       "17                0.005348  \n",
       "13                0.005238  \n",
       "11                0.003844  \n",
       "14                0.003831  \n",
       "10                0.003001  \n",
       "16                0.001771  \n",
       "18                0.001634  \n",
       "15                0.001625  \n",
       "9                 0.001041  \n",
       "3                 0.000928  \n",
       "1                 0.000672  \n",
       "12                0.000085  \n",
       "5                 0.000002  \n",
       "6                 0.000039  \n",
       "7                 0.000882  \n",
       "2                 0.000912  \n",
       "4                 0.001152  \n",
       "0                 0.002080  \n",
       "8                 0.006174  "
      ]
     },
     "execution_count": 88,
     "metadata": {},
     "output_type": "execute_result"
    }
   ],
   "source": [
    "df_feature_roc_auc = pd.DataFrame(feature_roc_auc_scores,columns=['feature','new_roc_auc_score','diff_roc_auc_score','abs_diff_roc_auc_score'])\n",
    "df_sorted = df_feature_roc_auc.sort_values(by='diff_roc_auc_score',ascending=False)\n",
    "df_sorted"
   ]
  },
  {
   "cell_type": "code",
   "execution_count": 89,
   "metadata": {},
   "outputs": [
    {
     "data": {
      "text/plain": [
       "<BarContainer object of 19 artists>"
      ]
     },
     "execution_count": 89,
     "metadata": {},
     "output_type": "execute_result"
    },
    {
     "data": {
      "image/png": "[encoded data removed]",
      "text/plain": [
       "<Figure size 720x576 with 1 Axes>"
      ]
     },
     "metadata": {
      "needs_background": "light"
     },
     "output_type": "display_data"
    }
   ],
   "source": [
    "plt.figure(figsize=(10, 8))\n",
    "plt.barh(df_sorted['feature'],df_sorted['diff_roc_auc_score'])"
   ]
  },
  {
   "cell_type": "markdown",
   "metadata": {},
   "source": [
    "**Observations:** We can see the following:\n",
    "* Deleting any of the features - 'euribor3m', 'poutcome', 'pdays', 'emp.var.rate', 'campaign', 'cons.conf.idx', 'nr.employed', 'cons.price.idx', 'day_of_week', 'education', 'job', 'previous', 'housing' - results into improved score than baseline\n",
    "* Deleting any of the features - 'loan', 'contact', 'marital', 'default', 'age', 'month' - results into reduced score than baseline\n",
    "* Deleting any of the features - 'housing', 'loan', 'previous' - results into not much difference in score than baseline"
   ]
  },
  {
   "cell_type": "markdown",
   "metadata": {},
   "source": [
    "Check which features result into least change in score than baseline, irrespective of whether the difference is positive or negative"
   ]
  },
  {
   "cell_type": "code",
   "execution_count": 90,
   "metadata": {},
   "outputs": [
    {
     "data": {
      "text/html": [
       "<div>\n",
       "<style scoped>\n",
       "    .dataframe tbody tr th:only-of-type {\n",
       "        vertical-align: middle;\n",
       "    }\n",
       "\n",
       "    .dataframe tbody tr th {\n",
       "        vertical-align: top;\n",
       "    }\n",
       "\n",
       "    .dataframe thead th {\n",
       "        text-align: right;\n",
       "    }\n",
       "</style>\n",
       "<table border=\"1\" class=\"dataframe\">\n",
       "  <thead>\n",
       "    <tr style=\"text-align: right;\">\n",
       "      <th></th>\n",
       "      <th>feature</th>\n",
       "      <th>new_roc_auc_score</th>\n",
       "      <th>diff_roc_auc_score</th>\n",
       "      <th>abs_diff_roc_auc_score</th>\n",
       "    </tr>\n",
       "  </thead>\n",
       "  <tbody>\n",
       "    <tr>\n",
       "      <th>8</th>\n",
       "      <td>month</td>\n",
       "      <td>0.763343</td>\n",
       "      <td>-0.006174</td>\n",
       "      <td>0.006174</td>\n",
       "    </tr>\n",
       "    <tr>\n",
       "      <th>17</th>\n",
       "      <td>euribor3m</td>\n",
       "      <td>0.774865</td>\n",
       "      <td>0.005348</td>\n",
       "      <td>0.005348</td>\n",
       "    </tr>\n",
       "    <tr>\n",
       "      <th>13</th>\n",
       "      <td>poutcome</td>\n",
       "      <td>0.774755</td>\n",
       "      <td>0.005238</td>\n",
       "      <td>0.005238</td>\n",
       "    </tr>\n",
       "    <tr>\n",
       "      <th>11</th>\n",
       "      <td>pdays</td>\n",
       "      <td>0.773361</td>\n",
       "      <td>0.003844</td>\n",
       "      <td>0.003844</td>\n",
       "    </tr>\n",
       "    <tr>\n",
       "      <th>14</th>\n",
       "      <td>emp.var.rate</td>\n",
       "      <td>0.773348</td>\n",
       "      <td>0.003831</td>\n",
       "      <td>0.003831</td>\n",
       "    </tr>\n",
       "    <tr>\n",
       "      <th>10</th>\n",
       "      <td>campaign</td>\n",
       "      <td>0.772517</td>\n",
       "      <td>0.003001</td>\n",
       "      <td>0.003001</td>\n",
       "    </tr>\n",
       "    <tr>\n",
       "      <th>0</th>\n",
       "      <td>age</td>\n",
       "      <td>0.767437</td>\n",
       "      <td>-0.002080</td>\n",
       "      <td>0.002080</td>\n",
       "    </tr>\n",
       "    <tr>\n",
       "      <th>16</th>\n",
       "      <td>cons.conf.idx</td>\n",
       "      <td>0.771288</td>\n",
       "      <td>0.001771</td>\n",
       "      <td>0.001771</td>\n",
       "    </tr>\n",
       "    <tr>\n",
       "      <th>18</th>\n",
       "      <td>nr.employed</td>\n",
       "      <td>0.771151</td>\n",
       "      <td>0.001634</td>\n",
       "      <td>0.001634</td>\n",
       "    </tr>\n",
       "    <tr>\n",
       "      <th>15</th>\n",
       "      <td>cons.price.idx</td>\n",
       "      <td>0.771142</td>\n",
       "      <td>0.001625</td>\n",
       "      <td>0.001625</td>\n",
       "    </tr>\n",
       "    <tr>\n",
       "      <th>4</th>\n",
       "      <td>default</td>\n",
       "      <td>0.768364</td>\n",
       "      <td>-0.001152</td>\n",
       "      <td>0.001152</td>\n",
       "    </tr>\n",
       "    <tr>\n",
       "      <th>9</th>\n",
       "      <td>day_of_week</td>\n",
       "      <td>0.770558</td>\n",
       "      <td>0.001041</td>\n",
       "      <td>0.001041</td>\n",
       "    </tr>\n",
       "    <tr>\n",
       "      <th>3</th>\n",
       "      <td>education</td>\n",
       "      <td>0.770444</td>\n",
       "      <td>0.000928</td>\n",
       "      <td>0.000928</td>\n",
       "    </tr>\n",
       "    <tr>\n",
       "      <th>2</th>\n",
       "      <td>marital</td>\n",
       "      <td>0.768604</td>\n",
       "      <td>-0.000912</td>\n",
       "      <td>0.000912</td>\n",
       "    </tr>\n",
       "    <tr>\n",
       "      <th>7</th>\n",
       "      <td>contact</td>\n",
       "      <td>0.768634</td>\n",
       "      <td>-0.000882</td>\n",
       "      <td>0.000882</td>\n",
       "    </tr>\n",
       "    <tr>\n",
       "      <th>1</th>\n",
       "      <td>job</td>\n",
       "      <td>0.770189</td>\n",
       "      <td>0.000672</td>\n",
       "      <td>0.000672</td>\n",
       "    </tr>\n",
       "    <tr>\n",
       "      <th>12</th>\n",
       "      <td>previous</td>\n",
       "      <td>0.769602</td>\n",
       "      <td>0.000085</td>\n",
       "      <td>0.000085</td>\n",
       "    </tr>\n",
       "    <tr>\n",
       "      <th>6</th>\n",
       "      <td>loan</td>\n",
       "      <td>0.769477</td>\n",
       "      <td>-0.000039</td>\n",
       "      <td>0.000039</td>\n",
       "    </tr>\n",
       "    <tr>\n",
       "      <th>5</th>\n",
       "      <td>housing</td>\n",
       "      <td>0.769518</td>\n",
       "      <td>0.000002</td>\n",
       "      <td>0.000002</td>\n",
       "    </tr>\n",
       "  </tbody>\n",
       "</table>\n",
       "</div>"
      ],
      "text/plain": [
       "           feature  new_roc_auc_score  diff_roc_auc_score  \\\n",
       "8            month           0.763343           -0.006174   \n",
       "17       euribor3m           0.774865            0.005348   \n",
       "13        poutcome           0.774755            0.005238   \n",
       "11           pdays           0.773361            0.003844   \n",
       "14    emp.var.rate           0.773348            0.003831   \n",
       "10        campaign           0.772517            0.003001   \n",
       "0              age           0.767437           -0.002080   \n",
       "16   cons.conf.idx           0.771288            0.001771   \n",
       "18     nr.employed           0.771151            0.001634   \n",
       "15  cons.price.idx           0.771142            0.001625   \n",
       "4          default           0.768364           -0.001152   \n",
       "9      day_of_week           0.770558            0.001041   \n",
       "3        education           0.770444            0.000928   \n",
       "2          marital           0.768604           -0.000912   \n",
       "7          contact           0.768634           -0.000882   \n",
       "1              job           0.770189            0.000672   \n",
       "12        previous           0.769602            0.000085   \n",
       "6             loan           0.769477           -0.000039   \n",
       "5          housing           0.769518            0.000002   \n",
       "\n",
       "    abs_diff_roc_auc_score  \n",
       "8                 0.006174  \n",
       "17                0.005348  \n",
       "13                0.005238  \n",
       "11                0.003844  \n",
       "14                0.003831  \n",
       "10                0.003001  \n",
       "0                 0.002080  \n",
       "16                0.001771  \n",
       "18                0.001634  \n",
       "15                0.001625  \n",
       "4                 0.001152  \n",
       "9                 0.001041  \n",
       "3                 0.000928  \n",
       "2                 0.000912  \n",
       "7                 0.000882  \n",
       "1                 0.000672  \n",
       "12                0.000085  \n",
       "6                 0.000039  \n",
       "5                 0.000002  "
      ]
     },
     "execution_count": 90,
     "metadata": {},
     "output_type": "execute_result"
    }
   ],
   "source": [
    "df_feature_roc_auc.sort_values(by='abs_diff_roc_auc_score',ascending=False)"
   ]
  },
  {
   "cell_type": "markdown",
   "metadata": {},
   "source": [
    "Features - 'housing', 'loan', 'previous', 'job', 'contact', 'marital', 'education' - on deleting have minimal effect on score [less than 0.0009]"
   ]
  },
  {
   "cell_type": "markdown",
   "metadata": {},
   "source": [
    "Will experiment with dropping a groups of features (1. less useful feature, 2. features that on dropping result into increased score) and see the effect on score."
   ]
  },
  {
   "cell_type": "code",
   "execution_count": 92,
   "metadata": {},
   "outputs": [
    {
     "name": "stdout",
     "output_type": "stream",
     "text": [
      "0.7694739860045258 -4.258289059422271e-05\n",
      "0.7695316343221172 1.5065426997251663e-05\n",
      "0.773247260551948 0.0037306916568280446\n",
      "0.7683446170306966 -0.0011719518644234261\n",
      "0.7690882803276269 -0.00042828856749310695\n",
      "0.7533416039452971 -0.016174964949822845\n"
     ]
    }
   ],
   "source": [
    "#Experiment 21 onwards\n",
    "\n",
    "df_train_copy = df_train.copy()\n",
    "df_val_copy = df_val.copy()\n",
    "\n",
    "drop_features_list = [\n",
    "    ['housing', 'loan'],  # 2 least important features\n",
    "    ['housing', 'loan', 'previous'],  # 3 least important features\n",
    "    ['housing', 'loan', 'previous', 'job'],  # 4 least important features\n",
    "    ['housing', 'loan', 'previous', 'job', 'contact'],  # 5 least important features\n",
    "    ['housing', 'loan', 'previous', 'job', 'contact', 'marital'],  # 6 least important features\n",
    "    ['housing', 'loan', 'previous', 'job', 'contact', 'marital', 'education'],  # 7 least important features\n",
    "]\n",
    "\n",
    "for drop_features in drop_features_list:\n",
    "    #Defining description based on features being dropped\n",
    "    entry_desc = f'deleted feature {str(drop_features).replace(\"[\",\"\").replace(\"]\",\"\")}'\n",
    "\n",
    "    df_train_copy = df_train.copy()\n",
    "    df_train_copy.drop(drop_features,axis=1,inplace=True)\n",
    "    df_val_copy = df_val.copy()\n",
    "    df_val_copy.drop(drop_features,axis=1,inplace=True)\n",
    "    features_list = list(df_train_copy.columns.values)\n",
    "\n",
    "    this_auc = evaluate(features_list,df_train_copy,df_val_copy,model)\n",
    "    print(this_auc, this_auc - baseline_auc)\n",
    "    score_entry = {\"algo\": \"logisticregression\", \"desc\": entry_desc, \"score\": this_auc, \"diff\": this_auc - baseline_auc}\n",
    "    exp_scores = exp_scores.append(score_entry,ignore_index=True)"
   ]
  },
  {
   "cell_type": "code",
   "execution_count": 96,
   "metadata": {},
   "outputs": [
    {
     "data": {
      "text/html": [
       "<div>\n",
       "<style scoped>\n",
       "    .dataframe tbody tr th:only-of-type {\n",
       "        vertical-align: middle;\n",
       "    }\n",
       "\n",
       "    .dataframe tbody tr th {\n",
       "        vertical-align: top;\n",
       "    }\n",
       "\n",
       "    .dataframe thead th {\n",
       "        text-align: right;\n",
       "    }\n",
       "</style>\n",
       "<table border=\"1\" class=\"dataframe\">\n",
       "  <thead>\n",
       "    <tr style=\"text-align: right;\">\n",
       "      <th></th>\n",
       "      <th>algo</th>\n",
       "      <th>desc</th>\n",
       "      <th>score</th>\n",
       "      <th>diff</th>\n",
       "    </tr>\n",
       "  </thead>\n",
       "  <tbody>\n",
       "    <tr>\n",
       "      <th>19</th>\n",
       "      <td>logisticregression</td>\n",
       "      <td>delete one feature euribor3m</td>\n",
       "      <td>0.774865</td>\n",
       "      <td>0.005348</td>\n",
       "    </tr>\n",
       "    <tr>\n",
       "      <th>15</th>\n",
       "      <td>logisticregression</td>\n",
       "      <td>delete one feature poutcome</td>\n",
       "      <td>0.774755</td>\n",
       "      <td>0.005238</td>\n",
       "    </tr>\n",
       "    <tr>\n",
       "      <th>13</th>\n",
       "      <td>logisticregression</td>\n",
       "      <td>delete one feature pdays</td>\n",
       "      <td>0.773361</td>\n",
       "      <td>0.003844</td>\n",
       "    </tr>\n",
       "    <tr>\n",
       "      <th>16</th>\n",
       "      <td>logisticregression</td>\n",
       "      <td>delete one feature emp.var.rate</td>\n",
       "      <td>0.773348</td>\n",
       "      <td>0.003831</td>\n",
       "    </tr>\n",
       "    <tr>\n",
       "      <th>23</th>\n",
       "      <td>logisticregression</td>\n",
       "      <td>deleted feature 'housing', 'loan', 'previous',...</td>\n",
       "      <td>0.773247</td>\n",
       "      <td>0.003731</td>\n",
       "    </tr>\n",
       "    <tr>\n",
       "      <th>12</th>\n",
       "      <td>logisticregression</td>\n",
       "      <td>delete one feature campaign</td>\n",
       "      <td>0.772517</td>\n",
       "      <td>0.003001</td>\n",
       "    </tr>\n",
       "    <tr>\n",
       "      <th>18</th>\n",
       "      <td>logisticregression</td>\n",
       "      <td>delete one feature cons.conf.idx</td>\n",
       "      <td>0.771288</td>\n",
       "      <td>0.001771</td>\n",
       "    </tr>\n",
       "    <tr>\n",
       "      <th>20</th>\n",
       "      <td>logisticregression</td>\n",
       "      <td>delete one feature nr.employed</td>\n",
       "      <td>0.771151</td>\n",
       "      <td>0.001634</td>\n",
       "    </tr>\n",
       "    <tr>\n",
       "      <th>17</th>\n",
       "      <td>logisticregression</td>\n",
       "      <td>delete one feature cons.price.idx</td>\n",
       "      <td>0.771142</td>\n",
       "      <td>0.001625</td>\n",
       "    </tr>\n",
       "    <tr>\n",
       "      <th>11</th>\n",
       "      <td>logisticregression</td>\n",
       "      <td>delete one feature day_of_week</td>\n",
       "      <td>0.770558</td>\n",
       "      <td>0.001041</td>\n",
       "    </tr>\n",
       "  </tbody>\n",
       "</table>\n",
       "</div>"
      ],
      "text/plain": [
       "                  algo                                               desc  \\\n",
       "19  logisticregression                       delete one feature euribor3m   \n",
       "15  logisticregression                        delete one feature poutcome   \n",
       "13  logisticregression                           delete one feature pdays   \n",
       "16  logisticregression                    delete one feature emp.var.rate   \n",
       "23  logisticregression  deleted feature 'housing', 'loan', 'previous',...   \n",
       "12  logisticregression                        delete one feature campaign   \n",
       "18  logisticregression                   delete one feature cons.conf.idx   \n",
       "20  logisticregression                     delete one feature nr.employed   \n",
       "17  logisticregression                  delete one feature cons.price.idx   \n",
       "11  logisticregression                     delete one feature day_of_week   \n",
       "\n",
       "       score      diff  \n",
       "19  0.774865  0.005348  \n",
       "15  0.774755  0.005238  \n",
       "13  0.773361  0.003844  \n",
       "16  0.773348  0.003831  \n",
       "23  0.773247  0.003731  \n",
       "12  0.772517  0.003001  \n",
       "18  0.771288  0.001771  \n",
       "20  0.771151  0.001634  \n",
       "17  0.771142  0.001625  \n",
       "11  0.770558  0.001041  "
      ]
     },
     "execution_count": 96,
     "metadata": {},
     "output_type": "execute_result"
    }
   ],
   "source": [
    "exp_scores.sort_values(by='score',ascending=False).head(10)"
   ]
  },
  {
   "cell_type": "markdown",
   "metadata": {},
   "source": [
    "**Obeservations:** Removing combination of features is not the top scoring experiments, although one of the experiment is ranking 5th amongst the top 10"
   ]
  },
  {
   "cell_type": "code",
   "execution_count": 94,
   "metadata": {},
   "outputs": [
    {
     "data": {
      "text/html": [
       "<div>\n",
       "<style scoped>\n",
       "    .dataframe tbody tr th:only-of-type {\n",
       "        vertical-align: middle;\n",
       "    }\n",
       "\n",
       "    .dataframe tbody tr th {\n",
       "        vertical-align: top;\n",
       "    }\n",
       "\n",
       "    .dataframe thead th {\n",
       "        text-align: right;\n",
       "    }\n",
       "</style>\n",
       "<table border=\"1\" class=\"dataframe\">\n",
       "  <thead>\n",
       "    <tr style=\"text-align: right;\">\n",
       "      <th></th>\n",
       "      <th>algo</th>\n",
       "      <th>desc</th>\n",
       "      <th>score</th>\n",
       "      <th>diff</th>\n",
       "    </tr>\n",
       "  </thead>\n",
       "  <tbody>\n",
       "    <tr>\n",
       "      <th>23</th>\n",
       "      <td>logisticregression</td>\n",
       "      <td>deleted feature 'housing', 'loan', 'previous',...</td>\n",
       "      <td>0.773247</td>\n",
       "      <td>0.003731</td>\n",
       "    </tr>\n",
       "    <tr>\n",
       "      <th>22</th>\n",
       "      <td>logisticregression</td>\n",
       "      <td>deleted feature 'housing', 'loan', 'previous'</td>\n",
       "      <td>0.769532</td>\n",
       "      <td>0.000015</td>\n",
       "    </tr>\n",
       "    <tr>\n",
       "      <th>21</th>\n",
       "      <td>logisticregression</td>\n",
       "      <td>deleted feature 'housing', 'loan'</td>\n",
       "      <td>0.769474</td>\n",
       "      <td>-0.000043</td>\n",
       "    </tr>\n",
       "    <tr>\n",
       "      <th>25</th>\n",
       "      <td>logisticregression</td>\n",
       "      <td>deleted feature 'housing', 'loan', 'previous',...</td>\n",
       "      <td>0.769088</td>\n",
       "      <td>-0.000428</td>\n",
       "    </tr>\n",
       "    <tr>\n",
       "      <th>24</th>\n",
       "      <td>logisticregression</td>\n",
       "      <td>deleted feature 'housing', 'loan', 'previous',...</td>\n",
       "      <td>0.768345</td>\n",
       "      <td>-0.001172</td>\n",
       "    </tr>\n",
       "    <tr>\n",
       "      <th>26</th>\n",
       "      <td>logisticregression</td>\n",
       "      <td>deleted feature 'housing', 'loan', 'previous',...</td>\n",
       "      <td>0.753342</td>\n",
       "      <td>-0.016175</td>\n",
       "    </tr>\n",
       "  </tbody>\n",
       "</table>\n",
       "</div>"
      ],
      "text/plain": [
       "                  algo                                               desc  \\\n",
       "23  logisticregression  deleted feature 'housing', 'loan', 'previous',...   \n",
       "22  logisticregression      deleted feature 'housing', 'loan', 'previous'   \n",
       "21  logisticregression                  deleted feature 'housing', 'loan'   \n",
       "25  logisticregression  deleted feature 'housing', 'loan', 'previous',...   \n",
       "24  logisticregression  deleted feature 'housing', 'loan', 'previous',...   \n",
       "26  logisticregression  deleted feature 'housing', 'loan', 'previous',...   \n",
       "\n",
       "       score      diff  \n",
       "23  0.773247  0.003731  \n",
       "22  0.769532  0.000015  \n",
       "21  0.769474 -0.000043  \n",
       "25  0.769088 -0.000428  \n",
       "24  0.768345 -0.001172  \n",
       "26  0.753342 -0.016175  "
      ]
     },
     "execution_count": 94,
     "metadata": {},
     "output_type": "execute_result"
    }
   ],
   "source": [
    "exp_scores[21:].sort_values(by='score',ascending=False)"
   ]
  },
  {
   "cell_type": "markdown",
   "metadata": {},
   "source": [
    "**Observations:** Although we removed multiple features that were least significant, on removing multiple features at same time does not seem to improve the score. This could be because we are combining features that have negative effect and features that have positive effect."
   ]
  },
  {
   "cell_type": "markdown",
   "metadata": {},
   "source": [
    "Check score after removing multiple least significant features, but those that have a positive effect on score."
   ]
  },
  {
   "cell_type": "code",
   "execution_count": 97,
   "metadata": {},
   "outputs": [
    {
     "name": "stdout",
     "output_type": "stream",
     "text": [
      "0.7695988906926408 8.232179752076796e-05\n",
      "0.7732866920011807 0.00377012310606073\n",
      "0.7482656311491539 -0.021250937745966092\n",
      "0.7764159195444708 0.006899350649350766\n"
     ]
    }
   ],
   "source": [
    "#Experiments 27 onwards\n",
    "\n",
    "train_copy = df_train.copy()\n",
    "df_val_copy = df_val.copy()\n",
    "\n",
    "drop_features_list = [\n",
    "    ['housing', 'previous'],  # 2 least important features that have positive effect on score when dropped\n",
    "    ['housing', 'previous', 'job'],  # 3 least important features that have positive effect on score when dropped\n",
    "    ['housing', 'previous', 'job', 'education'],  # 4 least important features that have positive effect on score when dropped\n",
    "    ['housing', 'previous', 'job', 'education', 'day_of_week']  # 5 least important features that have positive effect on score when dropped\n",
    "]\n",
    "\n",
    "for drop_features in drop_features_list:\n",
    "    #Defining description based on features being dropped\n",
    "    entry_desc = f'deleted feature {str(drop_features).replace(\"[\",\"\").replace(\"]\",\"\")}'\n",
    "\n",
    "    df_train_copy = df_train.copy()\n",
    "    df_train_copy.drop(drop_features,axis=1,inplace=True)\n",
    "    df_val_copy = df_val.copy()\n",
    "    df_val_copy.drop(drop_features,axis=1,inplace=True)\n",
    "    features_list = list(df_train_copy.columns.values)\n",
    "\n",
    "    this_auc = evaluate(features_list,df_train_copy,df_val_copy,model)\n",
    "    print(this_auc, this_auc - baseline_auc)\n",
    "    score_entry = {\"algo\": \"logisticregression\", \"desc\": entry_desc, \"score\": this_auc, \"diff\": this_auc - baseline_auc}\n",
    "    exp_scores = exp_scores.append(score_entry,ignore_index=True)"
   ]
  },
  {
   "cell_type": "code",
   "execution_count": 98,
   "metadata": {},
   "outputs": [
    {
     "data": {
      "text/html": [
       "<div>\n",
       "<style scoped>\n",
       "    .dataframe tbody tr th:only-of-type {\n",
       "        vertical-align: middle;\n",
       "    }\n",
       "\n",
       "    .dataframe tbody tr th {\n",
       "        vertical-align: top;\n",
       "    }\n",
       "\n",
       "    .dataframe thead th {\n",
       "        text-align: right;\n",
       "    }\n",
       "</style>\n",
       "<table border=\"1\" class=\"dataframe\">\n",
       "  <thead>\n",
       "    <tr style=\"text-align: right;\">\n",
       "      <th></th>\n",
       "      <th>algo</th>\n",
       "      <th>desc</th>\n",
       "      <th>score</th>\n",
       "      <th>diff</th>\n",
       "    </tr>\n",
       "  </thead>\n",
       "  <tbody>\n",
       "    <tr>\n",
       "      <th>30</th>\n",
       "      <td>logisticregression</td>\n",
       "      <td>deleted feature 'housing', 'previous', 'job', ...</td>\n",
       "      <td>0.776416</td>\n",
       "      <td>0.006899</td>\n",
       "    </tr>\n",
       "    <tr>\n",
       "      <th>19</th>\n",
       "      <td>logisticregression</td>\n",
       "      <td>delete one feature euribor3m</td>\n",
       "      <td>0.774865</td>\n",
       "      <td>0.005348</td>\n",
       "    </tr>\n",
       "    <tr>\n",
       "      <th>15</th>\n",
       "      <td>logisticregression</td>\n",
       "      <td>delete one feature poutcome</td>\n",
       "      <td>0.774755</td>\n",
       "      <td>0.005238</td>\n",
       "    </tr>\n",
       "    <tr>\n",
       "      <th>13</th>\n",
       "      <td>logisticregression</td>\n",
       "      <td>delete one feature pdays</td>\n",
       "      <td>0.773361</td>\n",
       "      <td>0.003844</td>\n",
       "    </tr>\n",
       "    <tr>\n",
       "      <th>16</th>\n",
       "      <td>logisticregression</td>\n",
       "      <td>delete one feature emp.var.rate</td>\n",
       "      <td>0.773348</td>\n",
       "      <td>0.003831</td>\n",
       "    </tr>\n",
       "    <tr>\n",
       "      <th>28</th>\n",
       "      <td>logisticregression</td>\n",
       "      <td>deleted feature 'housing', 'previous', 'job'</td>\n",
       "      <td>0.773287</td>\n",
       "      <td>0.00377</td>\n",
       "    </tr>\n",
       "    <tr>\n",
       "      <th>23</th>\n",
       "      <td>logisticregression</td>\n",
       "      <td>deleted feature 'housing', 'loan', 'previous',...</td>\n",
       "      <td>0.773247</td>\n",
       "      <td>0.003731</td>\n",
       "    </tr>\n",
       "    <tr>\n",
       "      <th>12</th>\n",
       "      <td>logisticregression</td>\n",
       "      <td>delete one feature campaign</td>\n",
       "      <td>0.772517</td>\n",
       "      <td>0.003001</td>\n",
       "    </tr>\n",
       "    <tr>\n",
       "      <th>18</th>\n",
       "      <td>logisticregression</td>\n",
       "      <td>delete one feature cons.conf.idx</td>\n",
       "      <td>0.771288</td>\n",
       "      <td>0.001771</td>\n",
       "    </tr>\n",
       "    <tr>\n",
       "      <th>20</th>\n",
       "      <td>logisticregression</td>\n",
       "      <td>delete one feature nr.employed</td>\n",
       "      <td>0.771151</td>\n",
       "      <td>0.001634</td>\n",
       "    </tr>\n",
       "  </tbody>\n",
       "</table>\n",
       "</div>"
      ],
      "text/plain": [
       "                  algo                                               desc  \\\n",
       "30  logisticregression  deleted feature 'housing', 'previous', 'job', ...   \n",
       "19  logisticregression                       delete one feature euribor3m   \n",
       "15  logisticregression                        delete one feature poutcome   \n",
       "13  logisticregression                           delete one feature pdays   \n",
       "16  logisticregression                    delete one feature emp.var.rate   \n",
       "28  logisticregression       deleted feature 'housing', 'previous', 'job'   \n",
       "23  logisticregression  deleted feature 'housing', 'loan', 'previous',...   \n",
       "12  logisticregression                        delete one feature campaign   \n",
       "18  logisticregression                   delete one feature cons.conf.idx   \n",
       "20  logisticregression                     delete one feature nr.employed   \n",
       "\n",
       "       score      diff  \n",
       "30  0.776416  0.006899  \n",
       "19  0.774865  0.005348  \n",
       "15  0.774755  0.005238  \n",
       "13  0.773361  0.003844  \n",
       "16  0.773348  0.003831  \n",
       "28  0.773287   0.00377  \n",
       "23  0.773247  0.003731  \n",
       "12  0.772517  0.003001  \n",
       "18  0.771288  0.001771  \n",
       "20  0.771151  0.001634  "
      ]
     },
     "execution_count": 98,
     "metadata": {},
     "output_type": "execute_result"
    }
   ],
   "source": [
    "exp_scores.sort_values(by='score',ascending=False).head(10)"
   ]
  },
  {
   "cell_type": "code",
   "execution_count": 99,
   "metadata": {},
   "outputs": [
    {
     "data": {
      "text/html": [
       "<div>\n",
       "<style scoped>\n",
       "    .dataframe tbody tr th:only-of-type {\n",
       "        vertical-align: middle;\n",
       "    }\n",
       "\n",
       "    .dataframe tbody tr th {\n",
       "        vertical-align: top;\n",
       "    }\n",
       "\n",
       "    .dataframe thead th {\n",
       "        text-align: right;\n",
       "    }\n",
       "</style>\n",
       "<table border=\"1\" class=\"dataframe\">\n",
       "  <thead>\n",
       "    <tr style=\"text-align: right;\">\n",
       "      <th></th>\n",
       "      <th>algo</th>\n",
       "      <th>desc</th>\n",
       "      <th>score</th>\n",
       "      <th>diff</th>\n",
       "    </tr>\n",
       "  </thead>\n",
       "  <tbody>\n",
       "    <tr>\n",
       "      <th>30</th>\n",
       "      <td>logisticregression</td>\n",
       "      <td>deleted feature 'housing', 'previous', 'job', ...</td>\n",
       "      <td>0.776416</td>\n",
       "      <td>0.006899</td>\n",
       "    </tr>\n",
       "    <tr>\n",
       "      <th>28</th>\n",
       "      <td>logisticregression</td>\n",
       "      <td>deleted feature 'housing', 'previous', 'job'</td>\n",
       "      <td>0.773287</td>\n",
       "      <td>0.00377</td>\n",
       "    </tr>\n",
       "    <tr>\n",
       "      <th>27</th>\n",
       "      <td>logisticregression</td>\n",
       "      <td>deleted feature 'housing', 'previous'</td>\n",
       "      <td>0.769599</td>\n",
       "      <td>0.000082</td>\n",
       "    </tr>\n",
       "    <tr>\n",
       "      <th>29</th>\n",
       "      <td>logisticregression</td>\n",
       "      <td>deleted feature 'housing', 'previous', 'job', ...</td>\n",
       "      <td>0.748266</td>\n",
       "      <td>-0.021251</td>\n",
       "    </tr>\n",
       "  </tbody>\n",
       "</table>\n",
       "</div>"
      ],
      "text/plain": [
       "                  algo                                               desc  \\\n",
       "30  logisticregression  deleted feature 'housing', 'previous', 'job', ...   \n",
       "28  logisticregression       deleted feature 'housing', 'previous', 'job'   \n",
       "27  logisticregression              deleted feature 'housing', 'previous'   \n",
       "29  logisticregression  deleted feature 'housing', 'previous', 'job', ...   \n",
       "\n",
       "       score      diff  \n",
       "30  0.776416  0.006899  \n",
       "28  0.773287   0.00377  \n",
       "27  0.769599  0.000082  \n",
       "29  0.748266 -0.021251  "
      ]
     },
     "execution_count": 99,
     "metadata": {},
     "output_type": "execute_result"
    }
   ],
   "source": [
    "exp_scores[27:].sort_values(by='score',ascending=False)"
   ]
  },
  {
   "cell_type": "markdown",
   "metadata": {},
   "source": [
    "**Observations:** We have some improved results from this experiment, as 2 of the experiments are now in the top 10 score rankings, and one being the top rank."
   ]
  },
  {
   "cell_type": "code",
   "execution_count": 100,
   "metadata": {
    "execution": {
     "iopub.status.busy": "2021-10-24T07:35:12.96975Z",
     "iopub.status.idle": "2021-10-24T07:35:12.970072Z",
     "shell.execute_reply": "2021-10-24T07:35:12.969929Z",
     "shell.execute_reply.started": "2021-10-24T07:35:12.969913Z"
    }
   },
   "outputs": [],
   "source": [
    "# neg_drop_features = list(df_feature_roc_auc[df_feature_roc_auc['diff_roc_auc_score'] < 0].sort_values(by='diff_roc_auc_score',ascending=False)['feature'].values)\n",
    "# pos_drop_features = list(df_feature_roc_auc[df_feature_roc_auc['diff_roc_auc_score'] > 0].sort_values(by='diff_roc_auc_score',ascending=False)['feature'].values)"
   ]
  },
  {
   "cell_type": "code",
   "execution_count": 54,
   "metadata": {
    "execution": {
     "iopub.status.busy": "2021-10-24T07:35:12.978156Z",
     "iopub.status.idle": "2021-10-24T07:35:12.978457Z",
     "shell.execute_reply": "2021-10-24T07:35:12.978317Z",
     "shell.execute_reply.started": "2021-10-24T07:35:12.978301Z"
    }
   },
   "outputs": [],
   "source": [
    "# nums = list(np.linspace(1,len(pos_drop_features),len(pos_drop_features)).astype(int))\n",
    "# pos_drop_features_dict = dict(zip(pos_drop_features,nums))\n",
    "# pos_drop_features_dict"
   ]
  },
  {
   "cell_type": "code",
   "execution_count": 55,
   "metadata": {
    "execution": {
     "iopub.status.busy": "2021-10-24T07:35:12.980351Z",
     "iopub.status.idle": "2021-10-24T07:35:12.980713Z",
     "shell.execute_reply": "2021-10-24T07:35:12.980532Z",
     "shell.execute_reply.started": "2021-10-24T07:35:12.980509Z"
    }
   },
   "outputs": [],
   "source": [
    "# import itertools\n",
    "# all_combinations = []\n",
    "# a_list = [1, 2, 3]\n",
    "# for r in range(len(a_list) + 1):\n",
    "#     combinations_object = itertools.combinations(a_list, r)\n",
    "#     combinations_list = list(combinations_object)\n",
    "#     all_combinations += combinations_list\n",
    "# print(all_combinations)"
   ]
  },
  {
   "cell_type": "markdown",
   "metadata": {},
   "source": [
    "##### 5.1.2 Model tuning for LogisticRegression"
   ]
  },
  {
   "cell_type": "markdown",
   "metadata": {},
   "source": [
    "**Tuning the parameters without using GridsearchCV**"
   ]
  },
  {
   "cell_type": "markdown",
   "metadata": {},
   "source": [
    "Let us check tuning the algorithm for following parameter values\n"
   ]
  },
  {
   "cell_type": "code",
   "execution_count": 56,
   "metadata": {
    "execution": {
     "iopub.status.busy": "2021-10-24T07:35:12.982006Z",
     "iopub.status.idle": "2021-10-24T07:35:12.982344Z",
     "shell.execute_reply": "2021-10-24T07:35:12.982187Z",
     "shell.execute_reply.started": "2021-10-24T07:35:12.982164Z"
    }
   },
   "outputs": [
    {
     "data": {
      "text/plain": [
       "array([ 10.,  20.,  30.,  40.,  50.,  60.,  70.,  80.,  90., 100., 110.,\n",
       "       120., 130., 140., 150., 160., 170., 180., 190., 200.])"
      ]
     },
     "execution_count": 56,
     "metadata": {},
     "output_type": "execute_result"
    }
   ],
   "source": [
    "# max_iters = np.linspace(10, 200,20)\n",
    "# max_iters"
   ]
  },
  {
   "cell_type": "code",
   "execution_count": 57,
   "metadata": {
    "execution": {
     "iopub.execute_input": "2021-10-24T07:53:01.621936Z",
     "iopub.status.busy": "2021-10-24T07:53:01.621377Z",
     "iopub.status.idle": "2021-10-24T07:53:03.118099Z",
     "shell.execute_reply": "2021-10-24T07:53:03.117151Z",
     "shell.execute_reply.started": "2021-10-24T07:53:01.621891Z"
    }
   },
   "outputs": [
    {
     "name": "stderr",
     "output_type": "stream",
     "text": [
      "/home/ubuntu/anaconda3/lib/python3.8/site-packages/sklearn/svm/_base.py:985: ConvergenceWarning: Liblinear failed to converge, increase the number of iterations.\n",
      "  warnings.warn(\"Liblinear failed to converge, increase \"\n"
     ]
    },
    {
     "name": "stdout",
     "output_type": "stream",
     "text": [
      "roc_auc_score with max_iters=10.0: 0.6555472285763478\n"
     ]
    },
    {
     "name": "stderr",
     "output_type": "stream",
     "text": [
      "/home/ubuntu/anaconda3/lib/python3.8/site-packages/sklearn/svm/_base.py:985: ConvergenceWarning: Liblinear failed to converge, increase the number of iterations.\n",
      "  warnings.warn(\"Liblinear failed to converge, increase \"\n"
     ]
    },
    {
     "name": "stdout",
     "output_type": "stream",
     "text": [
      "roc_auc_score with max_iters=20.0: 0.7695177987258953\n",
      "roc_auc_score with max_iters=30.0: 0.7695207195739867\n",
      "roc_auc_score with max_iters=40.0: 0.7695207195739867\n",
      "roc_auc_score with max_iters=50.0: 0.7695207195739867\n",
      "roc_auc_score with max_iters=60.0: 0.7695207195739867\n",
      "roc_auc_score with max_iters=70.0: 0.7695207195739867\n",
      "roc_auc_score with max_iters=80.0: 0.7695207195739867\n",
      "roc_auc_score with max_iters=90.0: 0.7695207195739867\n",
      "roc_auc_score with max_iters=100.0: 0.7695207195739867\n",
      "roc_auc_score with max_iters=110.0: 0.7695207195739867\n",
      "roc_auc_score with max_iters=120.0: 0.7695207195739867\n",
      "roc_auc_score with max_iters=130.0: 0.7695207195739867\n",
      "roc_auc_score with max_iters=140.0: 0.7695207195739867\n",
      "roc_auc_score with max_iters=150.0: 0.7695207195739867\n",
      "roc_auc_score with max_iters=160.0: 0.7695207195739867\n",
      "roc_auc_score with max_iters=170.0: 0.7695207195739867\n",
      "roc_auc_score with max_iters=180.0: 0.7695207195739867\n",
      "roc_auc_score with max_iters=190.0: 0.7695207195739867\n",
      "roc_auc_score with max_iters=200.0: 0.7695207195739867\n"
     ]
    }
   ],
   "source": [
    "# # define models and parameters\n",
    "# model = LogisticRegression()\n",
    "\n",
    "# # define models and parameters\n",
    "# solvers = ['liblinear']\n",
    "# penalty = ['l1','l2']\n",
    "# c_values = [100, 50, 20, 10, 1.0, 0.1, 0.01]\n",
    "# max_iters = np.linspace(10, 200,20)\n",
    "\n",
    "# # define grid search\n",
    "# grid = dict(solver=solvers,penalty=penalty,C=c_values,max_iter=max_iters)\n",
    "# cv = RepeatedStratifiedKFold(n_splits=3, n_repeats=3, random_state=1)\n",
    "# grid_search = GridSearchCV(estimator=model, param_grid=grid, n_jobs=-1, cv=cv, scoring='accuracy',error_score=0)\n",
    "# grid_result = grid_search.fit(X, y)\n",
    "\n",
    "# for m in max_iters:\n",
    "#     model = LogisticRegression(solver='liblinear',random_state=42, max_iter=m)\n",
    "#     df_train_copy = df_train.copy()\n",
    "#     df_val_copy = df_val.copy()\n",
    "\n",
    "#     features_list = df_train_copy.columns\n",
    "\n",
    "#     this_auc = evaluate(list(features_list),df_train_copy,df_val_copy,model)\n",
    "#     print(f'roc_auc_score with max_iters={m}: {this_auc}')\n",
    "#     score_entry = {\"algo\": \"logisticregression\", \"desc\": f\"max_iters={m}\", \"score\": this_auc, \"diff\": this_auc - baseline_auc}\n",
    "#     exp_scores = exp_scores.append(score_entry,ignore_index=True)"
   ]
  },
  {
   "cell_type": "code",
   "execution_count": 58,
   "metadata": {
    "execution": {
     "iopub.execute_input": "2021-10-24T07:32:41.252678Z",
     "iopub.status.busy": "2021-10-24T07:32:41.252347Z",
     "iopub.status.idle": "2021-10-24T07:32:41.268709Z",
     "shell.execute_reply": "2021-10-24T07:32:41.267606Z",
     "shell.execute_reply.started": "2021-10-24T07:32:41.252628Z"
    }
   },
   "outputs": [
    {
     "data": {
      "text/html": [
       "<div>\n",
       "<style scoped>\n",
       "    .dataframe tbody tr th:only-of-type {\n",
       "        vertical-align: middle;\n",
       "    }\n",
       "\n",
       "    .dataframe tbody tr th {\n",
       "        vertical-align: top;\n",
       "    }\n",
       "\n",
       "    .dataframe thead th {\n",
       "        text-align: right;\n",
       "    }\n",
       "</style>\n",
       "<table border=\"1\" class=\"dataframe\">\n",
       "  <thead>\n",
       "    <tr style=\"text-align: right;\">\n",
       "      <th></th>\n",
       "      <th>algo</th>\n",
       "      <th>desc</th>\n",
       "      <th>score</th>\n",
       "      <th>diff</th>\n",
       "    </tr>\n",
       "  </thead>\n",
       "  <tbody>\n",
       "    <tr>\n",
       "      <th>0</th>\n",
       "      <td>logisticregression</td>\n",
       "      <td>all features including duration</td>\n",
       "      <td>0.928279</td>\n",
       "      <td>NaN</td>\n",
       "    </tr>\n",
       "    <tr>\n",
       "      <th>1</th>\n",
       "      <td>logisticregression</td>\n",
       "      <td>baseline score. all features excluding duration</td>\n",
       "      <td>0.769521</td>\n",
       "      <td>0.000000</td>\n",
       "    </tr>\n",
       "    <tr>\n",
       "      <th>2</th>\n",
       "      <td>logisticregression</td>\n",
       "      <td>deleted features 'loan','housing','day_of_week...</td>\n",
       "      <td>0.769512</td>\n",
       "      <td>-0.000008</td>\n",
       "    </tr>\n",
       "    <tr>\n",
       "      <th>3</th>\n",
       "      <td>logisticregression</td>\n",
       "      <td>deleted feature age</td>\n",
       "      <td>0.767437</td>\n",
       "      <td>-0.002084</td>\n",
       "    </tr>\n",
       "    <tr>\n",
       "      <th>4</th>\n",
       "      <td>logisticregression</td>\n",
       "      <td>deleted feature job</td>\n",
       "      <td>0.770209</td>\n",
       "      <td>0.000689</td>\n",
       "    </tr>\n",
       "    <tr>\n",
       "      <th>5</th>\n",
       "      <td>logisticregression</td>\n",
       "      <td>deleted feature marital</td>\n",
       "      <td>0.768598</td>\n",
       "      <td>-0.000923</td>\n",
       "    </tr>\n",
       "    <tr>\n",
       "      <th>6</th>\n",
       "      <td>logisticregression</td>\n",
       "      <td>deleted feature education</td>\n",
       "      <td>0.770518</td>\n",
       "      <td>0.000998</td>\n",
       "    </tr>\n",
       "    <tr>\n",
       "      <th>7</th>\n",
       "      <td>logisticregression</td>\n",
       "      <td>deleted feature default</td>\n",
       "      <td>0.768368</td>\n",
       "      <td>-0.001153</td>\n",
       "    </tr>\n",
       "    <tr>\n",
       "      <th>8</th>\n",
       "      <td>logisticregression</td>\n",
       "      <td>deleted feature housing</td>\n",
       "      <td>0.769505</td>\n",
       "      <td>-0.000016</td>\n",
       "    </tr>\n",
       "    <tr>\n",
       "      <th>9</th>\n",
       "      <td>logisticregression</td>\n",
       "      <td>deleted feature loan</td>\n",
       "      <td>0.769479</td>\n",
       "      <td>-0.000042</td>\n",
       "    </tr>\n",
       "    <tr>\n",
       "      <th>10</th>\n",
       "      <td>logisticregression</td>\n",
       "      <td>deleted feature contact</td>\n",
       "      <td>0.772023</td>\n",
       "      <td>0.002502</td>\n",
       "    </tr>\n",
       "    <tr>\n",
       "      <th>11</th>\n",
       "      <td>logisticregression</td>\n",
       "      <td>deleted feature month</td>\n",
       "      <td>0.746572</td>\n",
       "      <td>-0.022948</td>\n",
       "    </tr>\n",
       "    <tr>\n",
       "      <th>12</th>\n",
       "      <td>logisticregression</td>\n",
       "      <td>deleted feature day_of_week</td>\n",
       "      <td>0.770547</td>\n",
       "      <td>0.001026</td>\n",
       "    </tr>\n",
       "    <tr>\n",
       "      <th>13</th>\n",
       "      <td>logisticregression</td>\n",
       "      <td>deleted feature campaign</td>\n",
       "      <td>0.772863</td>\n",
       "      <td>0.003342</td>\n",
       "    </tr>\n",
       "    <tr>\n",
       "      <th>14</th>\n",
       "      <td>logisticregression</td>\n",
       "      <td>deleted feature pdays</td>\n",
       "      <td>0.773361</td>\n",
       "      <td>0.003840</td>\n",
       "    </tr>\n",
       "    <tr>\n",
       "      <th>15</th>\n",
       "      <td>logisticregression</td>\n",
       "      <td>deleted feature previous</td>\n",
       "      <td>0.769581</td>\n",
       "      <td>0.000060</td>\n",
       "    </tr>\n",
       "    <tr>\n",
       "      <th>16</th>\n",
       "      <td>logisticregression</td>\n",
       "      <td>deleted feature poutcome</td>\n",
       "      <td>0.774753</td>\n",
       "      <td>0.005233</td>\n",
       "    </tr>\n",
       "    <tr>\n",
       "      <th>17</th>\n",
       "      <td>logisticregression</td>\n",
       "      <td>deleted feature emp.var.rate</td>\n",
       "      <td>0.773348</td>\n",
       "      <td>0.003827</td>\n",
       "    </tr>\n",
       "    <tr>\n",
       "      <th>18</th>\n",
       "      <td>logisticregression</td>\n",
       "      <td>deleted feature cons.price.idx</td>\n",
       "      <td>0.772559</td>\n",
       "      <td>0.003038</td>\n",
       "    </tr>\n",
       "    <tr>\n",
       "      <th>19</th>\n",
       "      <td>logisticregression</td>\n",
       "      <td>deleted feature cons.conf.idx</td>\n",
       "      <td>0.774605</td>\n",
       "      <td>0.005084</td>\n",
       "    </tr>\n",
       "    <tr>\n",
       "      <th>20</th>\n",
       "      <td>logisticregression</td>\n",
       "      <td>deleted feature euribor3m</td>\n",
       "      <td>0.774098</td>\n",
       "      <td>0.004578</td>\n",
       "    </tr>\n",
       "    <tr>\n",
       "      <th>21</th>\n",
       "      <td>logisticregression</td>\n",
       "      <td>deleted feature nr.employed</td>\n",
       "      <td>0.771044</td>\n",
       "      <td>0.001523</td>\n",
       "    </tr>\n",
       "    <tr>\n",
       "      <th>22</th>\n",
       "      <td>logisticregression</td>\n",
       "      <td>deleted features 'housing','loan','previous','...</td>\n",
       "      <td>0.776174</td>\n",
       "      <td>0.006654</td>\n",
       "    </tr>\n",
       "    <tr>\n",
       "      <th>23</th>\n",
       "      <td>logisticregression</td>\n",
       "      <td>deleted features 'housing','loan','previous','...</td>\n",
       "      <td>0.772996</td>\n",
       "      <td>0.003475</td>\n",
       "    </tr>\n",
       "    <tr>\n",
       "      <th>24</th>\n",
       "      <td>logisticregression</td>\n",
       "      <td>deleted features 'housing','loan','previous','...</td>\n",
       "      <td>0.773269</td>\n",
       "      <td>0.003748</td>\n",
       "    </tr>\n",
       "    <tr>\n",
       "      <th>25</th>\n",
       "      <td>logisticregression</td>\n",
       "      <td>deleted features 'housing','loan','previous','...</td>\n",
       "      <td>0.771906</td>\n",
       "      <td>0.002385</td>\n",
       "    </tr>\n",
       "    <tr>\n",
       "      <th>26</th>\n",
       "      <td>logisticregression</td>\n",
       "      <td>using neg_drop_features 'housing', 'loan', 'ma...</td>\n",
       "      <td>0.693039</td>\n",
       "      <td>-0.076482</td>\n",
       "    </tr>\n",
       "    <tr>\n",
       "      <th>27</th>\n",
       "      <td>logisticregression</td>\n",
       "      <td>using pos_drop_features 'euribor3m', 'poutcome...</td>\n",
       "      <td>0.744926</td>\n",
       "      <td>-0.024595</td>\n",
       "    </tr>\n",
       "    <tr>\n",
       "      <th>28</th>\n",
       "      <td>logisticregression</td>\n",
       "      <td>dropping pos_drop_features 'euribor3m', 'poutc...</td>\n",
       "      <td>0.693039</td>\n",
       "      <td>-0.076482</td>\n",
       "    </tr>\n",
       "    <tr>\n",
       "      <th>29</th>\n",
       "      <td>logisticregression</td>\n",
       "      <td>dropping 'euribor3m', 'poutcome'</td>\n",
       "      <td>0.771350</td>\n",
       "      <td>0.001829</td>\n",
       "    </tr>\n",
       "    <tr>\n",
       "      <th>30</th>\n",
       "      <td>logisticregression</td>\n",
       "      <td>max_iters=10.0</td>\n",
       "      <td>0.655547</td>\n",
       "      <td>-0.113973</td>\n",
       "    </tr>\n",
       "    <tr>\n",
       "      <th>31</th>\n",
       "      <td>logisticregression</td>\n",
       "      <td>max_iters=20.0</td>\n",
       "      <td>0.769518</td>\n",
       "      <td>-0.000003</td>\n",
       "    </tr>\n",
       "    <tr>\n",
       "      <th>32</th>\n",
       "      <td>logisticregression</td>\n",
       "      <td>max_iters=30.0</td>\n",
       "      <td>0.769521</td>\n",
       "      <td>0.000000</td>\n",
       "    </tr>\n",
       "    <tr>\n",
       "      <th>33</th>\n",
       "      <td>logisticregression</td>\n",
       "      <td>max_iters=40.0</td>\n",
       "      <td>0.769521</td>\n",
       "      <td>0.000000</td>\n",
       "    </tr>\n",
       "    <tr>\n",
       "      <th>34</th>\n",
       "      <td>logisticregression</td>\n",
       "      <td>max_iters=50.0</td>\n",
       "      <td>0.769521</td>\n",
       "      <td>0.000000</td>\n",
       "    </tr>\n",
       "    <tr>\n",
       "      <th>35</th>\n",
       "      <td>logisticregression</td>\n",
       "      <td>max_iters=60.0</td>\n",
       "      <td>0.769521</td>\n",
       "      <td>0.000000</td>\n",
       "    </tr>\n",
       "    <tr>\n",
       "      <th>36</th>\n",
       "      <td>logisticregression</td>\n",
       "      <td>max_iters=70.0</td>\n",
       "      <td>0.769521</td>\n",
       "      <td>0.000000</td>\n",
       "    </tr>\n",
       "    <tr>\n",
       "      <th>37</th>\n",
       "      <td>logisticregression</td>\n",
       "      <td>max_iters=80.0</td>\n",
       "      <td>0.769521</td>\n",
       "      <td>0.000000</td>\n",
       "    </tr>\n",
       "    <tr>\n",
       "      <th>38</th>\n",
       "      <td>logisticregression</td>\n",
       "      <td>max_iters=90.0</td>\n",
       "      <td>0.769521</td>\n",
       "      <td>0.000000</td>\n",
       "    </tr>\n",
       "    <tr>\n",
       "      <th>39</th>\n",
       "      <td>logisticregression</td>\n",
       "      <td>max_iters=100.0</td>\n",
       "      <td>0.769521</td>\n",
       "      <td>0.000000</td>\n",
       "    </tr>\n",
       "    <tr>\n",
       "      <th>40</th>\n",
       "      <td>logisticregression</td>\n",
       "      <td>max_iters=110.0</td>\n",
       "      <td>0.769521</td>\n",
       "      <td>0.000000</td>\n",
       "    </tr>\n",
       "    <tr>\n",
       "      <th>41</th>\n",
       "      <td>logisticregression</td>\n",
       "      <td>max_iters=120.0</td>\n",
       "      <td>0.769521</td>\n",
       "      <td>0.000000</td>\n",
       "    </tr>\n",
       "    <tr>\n",
       "      <th>42</th>\n",
       "      <td>logisticregression</td>\n",
       "      <td>max_iters=130.0</td>\n",
       "      <td>0.769521</td>\n",
       "      <td>0.000000</td>\n",
       "    </tr>\n",
       "    <tr>\n",
       "      <th>43</th>\n",
       "      <td>logisticregression</td>\n",
       "      <td>max_iters=140.0</td>\n",
       "      <td>0.769521</td>\n",
       "      <td>0.000000</td>\n",
       "    </tr>\n",
       "    <tr>\n",
       "      <th>44</th>\n",
       "      <td>logisticregression</td>\n",
       "      <td>max_iters=150.0</td>\n",
       "      <td>0.769521</td>\n",
       "      <td>0.000000</td>\n",
       "    </tr>\n",
       "    <tr>\n",
       "      <th>45</th>\n",
       "      <td>logisticregression</td>\n",
       "      <td>max_iters=160.0</td>\n",
       "      <td>0.769521</td>\n",
       "      <td>0.000000</td>\n",
       "    </tr>\n",
       "    <tr>\n",
       "      <th>46</th>\n",
       "      <td>logisticregression</td>\n",
       "      <td>max_iters=170.0</td>\n",
       "      <td>0.769521</td>\n",
       "      <td>0.000000</td>\n",
       "    </tr>\n",
       "    <tr>\n",
       "      <th>47</th>\n",
       "      <td>logisticregression</td>\n",
       "      <td>max_iters=180.0</td>\n",
       "      <td>0.769521</td>\n",
       "      <td>0.000000</td>\n",
       "    </tr>\n",
       "    <tr>\n",
       "      <th>48</th>\n",
       "      <td>logisticregression</td>\n",
       "      <td>max_iters=190.0</td>\n",
       "      <td>0.769521</td>\n",
       "      <td>0.000000</td>\n",
       "    </tr>\n",
       "    <tr>\n",
       "      <th>49</th>\n",
       "      <td>logisticregression</td>\n",
       "      <td>max_iters=200.0</td>\n",
       "      <td>0.769521</td>\n",
       "      <td>0.000000</td>\n",
       "    </tr>\n",
       "  </tbody>\n",
       "</table>\n",
       "</div>"
      ],
      "text/plain": [
       "                  algo                                               desc  \\\n",
       "0   logisticregression                    all features including duration   \n",
       "1   logisticregression    baseline score. all features excluding duration   \n",
       "2   logisticregression  deleted features 'loan','housing','day_of_week...   \n",
       "3   logisticregression                                deleted feature age   \n",
       "4   logisticregression                                deleted feature job   \n",
       "5   logisticregression                            deleted feature marital   \n",
       "6   logisticregression                          deleted feature education   \n",
       "7   logisticregression                            deleted feature default   \n",
       "8   logisticregression                            deleted feature housing   \n",
       "9   logisticregression                               deleted feature loan   \n",
       "10  logisticregression                            deleted feature contact   \n",
       "11  logisticregression                              deleted feature month   \n",
       "12  logisticregression                        deleted feature day_of_week   \n",
       "13  logisticregression                           deleted feature campaign   \n",
       "14  logisticregression                              deleted feature pdays   \n",
       "15  logisticregression                           deleted feature previous   \n",
       "16  logisticregression                           deleted feature poutcome   \n",
       "17  logisticregression                       deleted feature emp.var.rate   \n",
       "18  logisticregression                     deleted feature cons.price.idx   \n",
       "19  logisticregression                      deleted feature cons.conf.idx   \n",
       "20  logisticregression                          deleted feature euribor3m   \n",
       "21  logisticregression                        deleted feature nr.employed   \n",
       "22  logisticregression  deleted features 'housing','loan','previous','...   \n",
       "23  logisticregression  deleted features 'housing','loan','previous','...   \n",
       "24  logisticregression  deleted features 'housing','loan','previous','...   \n",
       "25  logisticregression  deleted features 'housing','loan','previous','...   \n",
       "26  logisticregression  using neg_drop_features 'housing', 'loan', 'ma...   \n",
       "27  logisticregression  using pos_drop_features 'euribor3m', 'poutcome...   \n",
       "28  logisticregression  dropping pos_drop_features 'euribor3m', 'poutc...   \n",
       "29  logisticregression                   dropping 'euribor3m', 'poutcome'   \n",
       "30  logisticregression                                     max_iters=10.0   \n",
       "31  logisticregression                                     max_iters=20.0   \n",
       "32  logisticregression                                     max_iters=30.0   \n",
       "33  logisticregression                                     max_iters=40.0   \n",
       "34  logisticregression                                     max_iters=50.0   \n",
       "35  logisticregression                                     max_iters=60.0   \n",
       "36  logisticregression                                     max_iters=70.0   \n",
       "37  logisticregression                                     max_iters=80.0   \n",
       "38  logisticregression                                     max_iters=90.0   \n",
       "39  logisticregression                                    max_iters=100.0   \n",
       "40  logisticregression                                    max_iters=110.0   \n",
       "41  logisticregression                                    max_iters=120.0   \n",
       "42  logisticregression                                    max_iters=130.0   \n",
       "43  logisticregression                                    max_iters=140.0   \n",
       "44  logisticregression                                    max_iters=150.0   \n",
       "45  logisticregression                                    max_iters=160.0   \n",
       "46  logisticregression                                    max_iters=170.0   \n",
       "47  logisticregression                                    max_iters=180.0   \n",
       "48  logisticregression                                    max_iters=190.0   \n",
       "49  logisticregression                                    max_iters=200.0   \n",
       "\n",
       "       score      diff  \n",
       "0   0.928279       NaN  \n",
       "1   0.769521  0.000000  \n",
       "2   0.769512 -0.000008  \n",
       "3   0.767437 -0.002084  \n",
       "4   0.770209  0.000689  \n",
       "5   0.768598 -0.000923  \n",
       "6   0.770518  0.000998  \n",
       "7   0.768368 -0.001153  \n",
       "8   0.769505 -0.000016  \n",
       "9   0.769479 -0.000042  \n",
       "10  0.772023  0.002502  \n",
       "11  0.746572 -0.022948  \n",
       "12  0.770547  0.001026  \n",
       "13  0.772863  0.003342  \n",
       "14  0.773361  0.003840  \n",
       "15  0.769581  0.000060  \n",
       "16  0.774753  0.005233  \n",
       "17  0.773348  0.003827  \n",
       "18  0.772559  0.003038  \n",
       "19  0.774605  0.005084  \n",
       "20  0.774098  0.004578  \n",
       "21  0.771044  0.001523  \n",
       "22  0.776174  0.006654  \n",
       "23  0.772996  0.003475  \n",
       "24  0.773269  0.003748  \n",
       "25  0.771906  0.002385  \n",
       "26  0.693039 -0.076482  \n",
       "27  0.744926 -0.024595  \n",
       "28  0.693039 -0.076482  \n",
       "29  0.771350  0.001829  \n",
       "30  0.655547 -0.113973  \n",
       "31  0.769518 -0.000003  \n",
       "32  0.769521  0.000000  \n",
       "33  0.769521  0.000000  \n",
       "34  0.769521  0.000000  \n",
       "35  0.769521  0.000000  \n",
       "36  0.769521  0.000000  \n",
       "37  0.769521  0.000000  \n",
       "38  0.769521  0.000000  \n",
       "39  0.769521  0.000000  \n",
       "40  0.769521  0.000000  \n",
       "41  0.769521  0.000000  \n",
       "42  0.769521  0.000000  \n",
       "43  0.769521  0.000000  \n",
       "44  0.769521  0.000000  \n",
       "45  0.769521  0.000000  \n",
       "46  0.769521  0.000000  \n",
       "47  0.769521  0.000000  \n",
       "48  0.769521  0.000000  \n",
       "49  0.769521  0.000000  "
      ]
     },
     "execution_count": 58,
     "metadata": {},
     "output_type": "execute_result"
    }
   ],
   "source": [
    "# exp_scores"
   ]
  },
  {
   "cell_type": "code",
   "execution_count": 59,
   "metadata": {},
   "outputs": [
    {
     "name": "stdout",
     "output_type": "stream",
     "text": [
      "roc_auc_score with max_iters=30, C=100: 0.769530250762495\n",
      "roc_auc_score with max_iters=30, C=50: 0.7695184136412829\n",
      "roc_auc_score with max_iters=30, C=20: 0.7735939191017316\n",
      "roc_auc_score with max_iters=30, C=18: 0.7695210270316805\n",
      "roc_auc_score with max_iters=30, C=15: 0.7695228717778434\n",
      "roc_auc_score with max_iters=30, C=13: 0.7695184136412829\n",
      "roc_auc_score with max_iters=30, C=10: 0.769514724148957\n",
      "roc_auc_score with max_iters=30, C=1.0: 0.7695207195739867\n",
      "roc_auc_score with max_iters=30, C=0.1: 0.769490742448839\n",
      "roc_auc_score with max_iters=30, C=0.01: 0.7739823918978749\n",
      "roc_auc_score with max_iters=30, C=0.001: 0.7639091554752065\n",
      "roc_auc_score with max_iters=30, C=0.0001: 0.7429566822855175\n"
     ]
    }
   ],
   "source": [
    "# max_iter = 30\n",
    "# c_values = [100, 50, 20, 18, 15, 13, 10, 1.0, 0.1, 0.01, 0.001, 0.0001]\n",
    "# for c in c_values:\n",
    "#     model = LogisticRegression(solver='liblinear',random_state=42, max_iter=max_iter, C=c)\n",
    "#     df_train_copy = df_train.copy()\n",
    "#     df_val_copy = df_val.copy()\n",
    "\n",
    "#     features_list = df_train_copy.columns\n",
    "\n",
    "#     this_auc = evaluate(list(features_list),df_train_copy,df_val_copy,model)\n",
    "#     print(f'roc_auc_score with max_iters={max_iter}, C={c}: {this_auc}')\n",
    "#     score_entry = {\"algo\": \"logisticregression\", \"desc\": f\"max_iters={max_iter}, C={c}\", \"score\": this_auc, \"diff\": this_auc - baseline_auc}\n",
    "#     exp_scores = exp_scores.append(score_entry,ignore_index=True)"
   ]
  },
  {
   "cell_type": "code",
   "execution_count": 60,
   "metadata": {},
   "outputs": [
    {
     "data": {
      "text/html": [
       "<div>\n",
       "<style scoped>\n",
       "    .dataframe tbody tr th:only-of-type {\n",
       "        vertical-align: middle;\n",
       "    }\n",
       "\n",
       "    .dataframe tbody tr th {\n",
       "        vertical-align: top;\n",
       "    }\n",
       "\n",
       "    .dataframe thead th {\n",
       "        text-align: right;\n",
       "    }\n",
       "</style>\n",
       "<table border=\"1\" class=\"dataframe\">\n",
       "  <thead>\n",
       "    <tr style=\"text-align: right;\">\n",
       "      <th></th>\n",
       "      <th>algo</th>\n",
       "      <th>desc</th>\n",
       "      <th>score</th>\n",
       "      <th>diff</th>\n",
       "    </tr>\n",
       "  </thead>\n",
       "  <tbody>\n",
       "    <tr>\n",
       "      <th>0</th>\n",
       "      <td>logisticregression</td>\n",
       "      <td>all features including duration</td>\n",
       "      <td>0.928279</td>\n",
       "      <td>NaN</td>\n",
       "    </tr>\n",
       "    <tr>\n",
       "      <th>22</th>\n",
       "      <td>logisticregression</td>\n",
       "      <td>deleted features 'housing','loan','previous','...</td>\n",
       "      <td>0.776174</td>\n",
       "      <td>0.006654</td>\n",
       "    </tr>\n",
       "    <tr>\n",
       "      <th>16</th>\n",
       "      <td>logisticregression</td>\n",
       "      <td>deleted feature poutcome</td>\n",
       "      <td>0.774753</td>\n",
       "      <td>0.005233</td>\n",
       "    </tr>\n",
       "    <tr>\n",
       "      <th>19</th>\n",
       "      <td>logisticregression</td>\n",
       "      <td>deleted feature cons.conf.idx</td>\n",
       "      <td>0.774605</td>\n",
       "      <td>0.005084</td>\n",
       "    </tr>\n",
       "    <tr>\n",
       "      <th>20</th>\n",
       "      <td>logisticregression</td>\n",
       "      <td>deleted feature euribor3m</td>\n",
       "      <td>0.774098</td>\n",
       "      <td>0.004578</td>\n",
       "    </tr>\n",
       "    <tr>\n",
       "      <th>59</th>\n",
       "      <td>logisticregression</td>\n",
       "      <td>max_iters=30, C=0.01</td>\n",
       "      <td>0.773982</td>\n",
       "      <td>0.004462</td>\n",
       "    </tr>\n",
       "    <tr>\n",
       "      <th>52</th>\n",
       "      <td>logisticregression</td>\n",
       "      <td>max_iters=30, C=20</td>\n",
       "      <td>0.773594</td>\n",
       "      <td>0.004073</td>\n",
       "    </tr>\n",
       "    <tr>\n",
       "      <th>14</th>\n",
       "      <td>logisticregression</td>\n",
       "      <td>deleted feature pdays</td>\n",
       "      <td>0.773361</td>\n",
       "      <td>0.003840</td>\n",
       "    </tr>\n",
       "    <tr>\n",
       "      <th>17</th>\n",
       "      <td>logisticregression</td>\n",
       "      <td>deleted feature emp.var.rate</td>\n",
       "      <td>0.773348</td>\n",
       "      <td>0.003827</td>\n",
       "    </tr>\n",
       "    <tr>\n",
       "      <th>24</th>\n",
       "      <td>logisticregression</td>\n",
       "      <td>deleted features 'housing','loan','previous','...</td>\n",
       "      <td>0.773269</td>\n",
       "      <td>0.003748</td>\n",
       "    </tr>\n",
       "  </tbody>\n",
       "</table>\n",
       "</div>"
      ],
      "text/plain": [
       "                  algo                                               desc  \\\n",
       "0   logisticregression                    all features including duration   \n",
       "22  logisticregression  deleted features 'housing','loan','previous','...   \n",
       "16  logisticregression                           deleted feature poutcome   \n",
       "19  logisticregression                      deleted feature cons.conf.idx   \n",
       "20  logisticregression                          deleted feature euribor3m   \n",
       "59  logisticregression                               max_iters=30, C=0.01   \n",
       "52  logisticregression                                 max_iters=30, C=20   \n",
       "14  logisticregression                              deleted feature pdays   \n",
       "17  logisticregression                       deleted feature emp.var.rate   \n",
       "24  logisticregression  deleted features 'housing','loan','previous','...   \n",
       "\n",
       "       score      diff  \n",
       "0   0.928279       NaN  \n",
       "22  0.776174  0.006654  \n",
       "16  0.774753  0.005233  \n",
       "19  0.774605  0.005084  \n",
       "20  0.774098  0.004578  \n",
       "59  0.773982  0.004462  \n",
       "52  0.773594  0.004073  \n",
       "14  0.773361  0.003840  \n",
       "17  0.773348  0.003827  \n",
       "24  0.773269  0.003748  "
      ]
     },
     "execution_count": 60,
     "metadata": {},
     "output_type": "execute_result"
    }
   ],
   "source": [
    "exp_scores.sort_values(by='score',ascending=False).head(10)"
   ]
  },
  {
   "cell_type": "code",
   "execution_count": 73,
   "metadata": {},
   "outputs": [
    {
     "data": {
      "text/plain": [
       "\"deleted features 'housing','loan','previous','marital','education','day_of_week'\""
      ]
     },
     "execution_count": 73,
     "metadata": {},
     "output_type": "execute_result"
    }
   ],
   "source": [
    "# exp_scores.sort_values(by='score',ascending=False).iloc[1]['desc']"
   ]
  },
  {
   "cell_type": "markdown",
   "metadata": {},
   "source": [
    "max_iters=30, C=0.01 gives slightly better results amongst all the parameters so far. Let us check with deleted features 'housing','loan','previous','marital','education','day_of_week' - which is the experiment with highest score so far"
   ]
  },
  {
   "cell_type": "code",
   "execution_count": 82,
   "metadata": {},
   "outputs": [
    {
     "name": "stdout",
     "output_type": "stream",
     "text": [
      "roc_auc_score with max_iters=30, C=0.01 and deleted features 'housing','loan','previous','marital','education','day_of_week': 0.7754611865407319\n"
     ]
    }
   ],
   "source": [
    "# max_iter = 30\n",
    "# c = 0.01\n",
    "# drop_features = ['housing','loan','previous','marital','education','day_of_week']\n",
    "\n",
    "# model = LogisticRegression(solver='liblinear',random_state=42, max_iter=max_iter, C=c)\n",
    "\n",
    "# df_train_copy = df_train.copy()\n",
    "# df_train_copy.drop(drop_features,axis=1,inplace=True)\n",
    "# df_val_copy = df_val.copy()\n",
    "# df_val_copy.drop(drop_features,axis=1,inplace=True)\n",
    "\n",
    "# features_list = df_train_copy.columns\n",
    "\n",
    "# this_auc = evaluate(list(features_list),df_train_copy,df_val_copy,model)\n",
    "# print(f\"roc_auc_score with max_iters={max_iter}, C={c} and deleted features 'housing','loan','previous','marital','education','day_of_week': {this_auc}\")\n",
    "# score_entry = {\"algo\": \"logisticregression\", \"desc\": f\"max_iters={max_iter}, C={c} and deleted features 'housing','loan','previous','marital','education','day_of_week'\", \"score\": this_auc, \"diff\": this_auc - baseline_auc}\n",
    "# exp_scores = exp_scores.append(score_entry,ignore_index=True)"
   ]
  },
  {
   "cell_type": "code",
   "execution_count": 83,
   "metadata": {},
   "outputs": [
    {
     "data": {
      "text/html": [
       "<div>\n",
       "<style scoped>\n",
       "    .dataframe tbody tr th:only-of-type {\n",
       "        vertical-align: middle;\n",
       "    }\n",
       "\n",
       "    .dataframe tbody tr th {\n",
       "        vertical-align: top;\n",
       "    }\n",
       "\n",
       "    .dataframe thead th {\n",
       "        text-align: right;\n",
       "    }\n",
       "</style>\n",
       "<table border=\"1\" class=\"dataframe\">\n",
       "  <thead>\n",
       "    <tr style=\"text-align: right;\">\n",
       "      <th></th>\n",
       "      <th>algo</th>\n",
       "      <th>desc</th>\n",
       "      <th>score</th>\n",
       "      <th>diff</th>\n",
       "    </tr>\n",
       "  </thead>\n",
       "  <tbody>\n",
       "    <tr>\n",
       "      <th>0</th>\n",
       "      <td>logisticregression</td>\n",
       "      <td>all features including duration</td>\n",
       "      <td>0.928279</td>\n",
       "      <td>NaN</td>\n",
       "    </tr>\n",
       "    <tr>\n",
       "      <th>22</th>\n",
       "      <td>logisticregression</td>\n",
       "      <td>deleted features 'housing','loan','previous','...</td>\n",
       "      <td>0.776174</td>\n",
       "      <td>0.006654</td>\n",
       "    </tr>\n",
       "    <tr>\n",
       "      <th>62</th>\n",
       "      <td>logisticregression</td>\n",
       "      <td>max_iters=30, C=0.01 and deleted features 'hou...</td>\n",
       "      <td>0.775461</td>\n",
       "      <td>0.005940</td>\n",
       "    </tr>\n",
       "    <tr>\n",
       "      <th>16</th>\n",
       "      <td>logisticregression</td>\n",
       "      <td>deleted feature poutcome</td>\n",
       "      <td>0.774753</td>\n",
       "      <td>0.005233</td>\n",
       "    </tr>\n",
       "    <tr>\n",
       "      <th>19</th>\n",
       "      <td>logisticregression</td>\n",
       "      <td>deleted feature cons.conf.idx</td>\n",
       "      <td>0.774605</td>\n",
       "      <td>0.005084</td>\n",
       "    </tr>\n",
       "    <tr>\n",
       "      <th>20</th>\n",
       "      <td>logisticregression</td>\n",
       "      <td>deleted feature euribor3m</td>\n",
       "      <td>0.774098</td>\n",
       "      <td>0.004578</td>\n",
       "    </tr>\n",
       "    <tr>\n",
       "      <th>59</th>\n",
       "      <td>logisticregression</td>\n",
       "      <td>max_iters=30, C=0.01</td>\n",
       "      <td>0.773982</td>\n",
       "      <td>0.004462</td>\n",
       "    </tr>\n",
       "    <tr>\n",
       "      <th>52</th>\n",
       "      <td>logisticregression</td>\n",
       "      <td>max_iters=30, C=20</td>\n",
       "      <td>0.773594</td>\n",
       "      <td>0.004073</td>\n",
       "    </tr>\n",
       "    <tr>\n",
       "      <th>14</th>\n",
       "      <td>logisticregression</td>\n",
       "      <td>deleted feature pdays</td>\n",
       "      <td>0.773361</td>\n",
       "      <td>0.003840</td>\n",
       "    </tr>\n",
       "    <tr>\n",
       "      <th>17</th>\n",
       "      <td>logisticregression</td>\n",
       "      <td>deleted feature emp.var.rate</td>\n",
       "      <td>0.773348</td>\n",
       "      <td>0.003827</td>\n",
       "    </tr>\n",
       "  </tbody>\n",
       "</table>\n",
       "</div>"
      ],
      "text/plain": [
       "                  algo                                               desc  \\\n",
       "0   logisticregression                    all features including duration   \n",
       "22  logisticregression  deleted features 'housing','loan','previous','...   \n",
       "62  logisticregression  max_iters=30, C=0.01 and deleted features 'hou...   \n",
       "16  logisticregression                           deleted feature poutcome   \n",
       "19  logisticregression                      deleted feature cons.conf.idx   \n",
       "20  logisticregression                          deleted feature euribor3m   \n",
       "59  logisticregression                               max_iters=30, C=0.01   \n",
       "52  logisticregression                                 max_iters=30, C=20   \n",
       "14  logisticregression                              deleted feature pdays   \n",
       "17  logisticregression                       deleted feature emp.var.rate   \n",
       "\n",
       "       score      diff  \n",
       "0   0.928279       NaN  \n",
       "22  0.776174  0.006654  \n",
       "62  0.775461  0.005940  \n",
       "16  0.774753  0.005233  \n",
       "19  0.774605  0.005084  \n",
       "20  0.774098  0.004578  \n",
       "59  0.773982  0.004462  \n",
       "52  0.773594  0.004073  \n",
       "14  0.773361  0.003840  \n",
       "17  0.773348  0.003827  "
      ]
     },
     "execution_count": 83,
     "metadata": {},
     "output_type": "execute_result"
    }
   ],
   "source": [
    "# exp_scores.sort_values(by='score',ascending=False).head(10)"
   ]
  },
  {
   "cell_type": "code",
   "execution_count": 84,
   "metadata": {},
   "outputs": [
    {
     "name": "stderr",
     "output_type": "stream",
     "text": [
      "/home/ubuntu/anaconda3/lib/python3.8/site-packages/sklearn/svm/_base.py:985: ConvergenceWarning: Liblinear failed to converge, increase the number of iterations.\n",
      "  warnings.warn(\"Liblinear failed to converge, increase \"\n"
     ]
    },
    {
     "name": "stdout",
     "output_type": "stream",
     "text": [
      "roc_auc_score with max_iters=10.0, C=100, penalty=l1 and deleted features 'housing','loan','previous','marital','education','day_of_week': 0.7751621839334907\n"
     ]
    },
    {
     "name": "stderr",
     "output_type": "stream",
     "text": [
      "/home/ubuntu/anaconda3/lib/python3.8/site-packages/sklearn/svm/_base.py:985: ConvergenceWarning: Liblinear failed to converge, increase the number of iterations.\n",
      "  warnings.warn(\"Liblinear failed to converge, increase \"\n"
     ]
    },
    {
     "name": "stdout",
     "output_type": "stream",
     "text": [
      "roc_auc_score with max_iters=10.0, C=100, penalty=l2 and deleted features 'housing','loan','previous','marital','education','day_of_week': 0.6550974179702873\n"
     ]
    },
    {
     "name": "stderr",
     "output_type": "stream",
     "text": [
      "/home/ubuntu/anaconda3/lib/python3.8/site-packages/sklearn/svm/_base.py:985: ConvergenceWarning: Liblinear failed to converge, increase the number of iterations.\n",
      "  warnings.warn(\"Liblinear failed to converge, increase \"\n"
     ]
    },
    {
     "name": "stdout",
     "output_type": "stream",
     "text": [
      "roc_auc_score with max_iters=10.0, C=50, penalty=l1 and deleted features 'housing','loan','previous','marital','education','day_of_week': 0.7751621839334908\n"
     ]
    },
    {
     "name": "stderr",
     "output_type": "stream",
     "text": [
      "/home/ubuntu/anaconda3/lib/python3.8/site-packages/sklearn/svm/_base.py:985: ConvergenceWarning: Liblinear failed to converge, increase the number of iterations.\n",
      "  warnings.warn(\"Liblinear failed to converge, increase \"\n"
     ]
    },
    {
     "name": "stdout",
     "output_type": "stream",
     "text": [
      "roc_auc_score with max_iters=10.0, C=50, penalty=l2 and deleted features 'housing','loan','previous','marital','education','day_of_week': 0.6550974179702873\n"
     ]
    },
    {
     "name": "stderr",
     "output_type": "stream",
     "text": [
      "/home/ubuntu/anaconda3/lib/python3.8/site-packages/sklearn/svm/_base.py:985: ConvergenceWarning: Liblinear failed to converge, increase the number of iterations.\n",
      "  warnings.warn(\"Liblinear failed to converge, increase \"\n"
     ]
    },
    {
     "name": "stdout",
     "output_type": "stream",
     "text": [
      "roc_auc_score with max_iters=10.0, C=20, penalty=l1 and deleted features 'housing','loan','previous','marital','education','day_of_week': 0.7751531139315231\n"
     ]
    },
    {
     "name": "stderr",
     "output_type": "stream",
     "text": [
      "/home/ubuntu/anaconda3/lib/python3.8/site-packages/sklearn/svm/_base.py:985: ConvergenceWarning: Liblinear failed to converge, increase the number of iterations.\n",
      "  warnings.warn(\"Liblinear failed to converge, increase \"\n"
     ]
    },
    {
     "name": "stdout",
     "output_type": "stream",
     "text": [
      "roc_auc_score with max_iters=10.0, C=20, penalty=l2 and deleted features 'housing','loan','previous','marital','education','day_of_week': 0.6550973411058638\n"
     ]
    },
    {
     "name": "stderr",
     "output_type": "stream",
     "text": [
      "/home/ubuntu/anaconda3/lib/python3.8/site-packages/sklearn/svm/_base.py:985: ConvergenceWarning: Liblinear failed to converge, increase the number of iterations.\n",
      "  warnings.warn(\"Liblinear failed to converge, increase \"\n"
     ]
    },
    {
     "name": "stdout",
     "output_type": "stream",
     "text": [
      "roc_auc_score with max_iters=10.0, C=18, penalty=l1 and deleted features 'housing','loan','previous','marital','education','day_of_week': 0.7751520378295946\n"
     ]
    },
    {
     "name": "stderr",
     "output_type": "stream",
     "text": [
      "/home/ubuntu/anaconda3/lib/python3.8/site-packages/sklearn/svm/_base.py:985: ConvergenceWarning: Liblinear failed to converge, increase the number of iterations.\n",
      "  warnings.warn(\"Liblinear failed to converge, increase \"\n"
     ]
    },
    {
     "name": "stdout",
     "output_type": "stream",
     "text": [
      "roc_auc_score with max_iters=10.0, C=18, penalty=l2 and deleted features 'housing','loan','previous','marital','education','day_of_week': 0.6550977254279811\n"
     ]
    },
    {
     "name": "stderr",
     "output_type": "stream",
     "text": [
      "/home/ubuntu/anaconda3/lib/python3.8/site-packages/sklearn/svm/_base.py:985: ConvergenceWarning: Liblinear failed to converge, increase the number of iterations.\n",
      "  warnings.warn(\"Liblinear failed to converge, increase \"\n"
     ]
    },
    {
     "name": "stdout",
     "output_type": "stream",
     "text": [
      "roc_auc_score with max_iters=10.0, C=15, penalty=l1 and deleted features 'housing','loan','previous','marital','education','day_of_week': 0.7751512691853601\n"
     ]
    },
    {
     "name": "stderr",
     "output_type": "stream",
     "text": [
      "/home/ubuntu/anaconda3/lib/python3.8/site-packages/sklearn/svm/_base.py:985: ConvergenceWarning: Liblinear failed to converge, increase the number of iterations.\n",
      "  warnings.warn(\"Liblinear failed to converge, increase \"\n"
     ]
    },
    {
     "name": "stdout",
     "output_type": "stream",
     "text": [
      "roc_auc_score with max_iters=10.0, C=15, penalty=l2 and deleted features 'housing','loan','previous','marital','education','day_of_week': 0.6550976485635577\n"
     ]
    },
    {
     "name": "stderr",
     "output_type": "stream",
     "text": [
      "/home/ubuntu/anaconda3/lib/python3.8/site-packages/sklearn/svm/_base.py:985: ConvergenceWarning: Liblinear failed to converge, increase the number of iterations.\n",
      "  warnings.warn(\"Liblinear failed to converge, increase \"\n"
     ]
    },
    {
     "name": "stdout",
     "output_type": "stream",
     "text": [
      "roc_auc_score with max_iters=10.0, C=13, penalty=l1 and deleted features 'housing','loan','previous','marital','education','day_of_week': 0.7751500393545847\n"
     ]
    },
    {
     "name": "stderr",
     "output_type": "stream",
     "text": [
      "/home/ubuntu/anaconda3/lib/python3.8/site-packages/sklearn/svm/_base.py:985: ConvergenceWarning: Liblinear failed to converge, increase the number of iterations.\n",
      "  warnings.warn(\"Liblinear failed to converge, increase \"\n"
     ]
    },
    {
     "name": "stdout",
     "output_type": "stream",
     "text": [
      "roc_auc_score with max_iters=10.0, C=13, penalty=l2 and deleted features 'housing','loan','previous','marital','education','day_of_week': 0.6550975716991342\n"
     ]
    },
    {
     "name": "stderr",
     "output_type": "stream",
     "text": [
      "/home/ubuntu/anaconda3/lib/python3.8/site-packages/sklearn/svm/_base.py:985: ConvergenceWarning: Liblinear failed to converge, increase the number of iterations.\n",
      "  warnings.warn(\"Liblinear failed to converge, increase \"\n"
     ]
    },
    {
     "name": "stdout",
     "output_type": "stream",
     "text": [
      "roc_auc_score with max_iters=10.0, C=10, penalty=l1 and deleted features 'housing','loan','previous','marital','education','day_of_week': 0.7751337440968123\n"
     ]
    },
    {
     "name": "stderr",
     "output_type": "stream",
     "text": [
      "/home/ubuntu/anaconda3/lib/python3.8/site-packages/sklearn/svm/_base.py:985: ConvergenceWarning: Liblinear failed to converge, increase the number of iterations.\n",
      "  warnings.warn(\"Liblinear failed to converge, increase \"\n"
     ]
    },
    {
     "name": "stdout",
     "output_type": "stream",
     "text": [
      "roc_auc_score with max_iters=10.0, C=10, penalty=l2 and deleted features 'housing','loan','previous','marital','education','day_of_week': 0.6550976485635578\n"
     ]
    },
    {
     "name": "stderr",
     "output_type": "stream",
     "text": [
      "/home/ubuntu/anaconda3/lib/python3.8/site-packages/sklearn/svm/_base.py:985: ConvergenceWarning: Liblinear failed to converge, increase the number of iterations.\n",
      "  warnings.warn(\"Liblinear failed to converge, increase \"\n"
     ]
    },
    {
     "name": "stdout",
     "output_type": "stream",
     "text": [
      "roc_auc_score with max_iters=10.0, C=1.0, penalty=l1 and deleted features 'housing','loan','previous','marital','education','day_of_week': 0.7749065328610782\n"
     ]
    },
    {
     "name": "stderr",
     "output_type": "stream",
     "text": [
      "/home/ubuntu/anaconda3/lib/python3.8/site-packages/sklearn/svm/_base.py:985: ConvergenceWarning: Liblinear failed to converge, increase the number of iterations.\n",
      "  warnings.warn(\"Liblinear failed to converge, increase \"\n"
     ]
    },
    {
     "name": "stdout",
     "output_type": "stream",
     "text": [
      "roc_auc_score with max_iters=10.0, C=1.0, penalty=l2 and deleted features 'housing','loan','previous','marital','education','day_of_week': 0.6550976485635577\n"
     ]
    },
    {
     "name": "stderr",
     "output_type": "stream",
     "text": [
      "/home/ubuntu/anaconda3/lib/python3.8/site-packages/sklearn/svm/_base.py:985: ConvergenceWarning: Liblinear failed to converge, increase the number of iterations.\n",
      "  warnings.warn(\"Liblinear failed to converge, increase \"\n"
     ]
    },
    {
     "name": "stdout",
     "output_type": "stream",
     "text": [
      "roc_auc_score with max_iters=10.0, C=0.1, penalty=l1 and deleted features 'housing','loan','previous','marital','education','day_of_week': 0.7734612511068477\n"
     ]
    },
    {
     "name": "stderr",
     "output_type": "stream",
     "text": [
      "/home/ubuntu/anaconda3/lib/python3.8/site-packages/sklearn/svm/_base.py:985: ConvergenceWarning: Liblinear failed to converge, increase the number of iterations.\n",
      "  warnings.warn(\"Liblinear failed to converge, increase \"\n"
     ]
    },
    {
     "name": "stdout",
     "output_type": "stream",
     "text": [
      "roc_auc_score with max_iters=10.0, C=0.1, penalty=l2 and deleted features 'housing','loan','previous','marital','education','day_of_week': 0.6550981097500985\n"
     ]
    },
    {
     "name": "stderr",
     "output_type": "stream",
     "text": [
      "/home/ubuntu/anaconda3/lib/python3.8/site-packages/sklearn/svm/_base.py:985: ConvergenceWarning: Liblinear failed to converge, increase the number of iterations.\n",
      "  warnings.warn(\"Liblinear failed to converge, increase \"\n"
     ]
    },
    {
     "name": "stdout",
     "output_type": "stream",
     "text": [
      "roc_auc_score with max_iters=10.0, C=0.01, penalty=l1 and deleted features 'housing','loan','previous','marital','education','day_of_week': 0.7652099321133412\n"
     ]
    },
    {
     "name": "stderr",
     "output_type": "stream",
     "text": [
      "/home/ubuntu/anaconda3/lib/python3.8/site-packages/sklearn/svm/_base.py:985: ConvergenceWarning: Liblinear failed to converge, increase the number of iterations.\n",
      "  warnings.warn(\"Liblinear failed to converge, increase \"\n"
     ]
    },
    {
     "name": "stdout",
     "output_type": "stream",
     "text": [
      "roc_auc_score with max_iters=10.0, C=0.01, penalty=l2 and deleted features 'housing','loan','previous','marital','education','day_of_week': 0.6550998007674145\n"
     ]
    },
    {
     "name": "stderr",
     "output_type": "stream",
     "text": [
      "/home/ubuntu/anaconda3/lib/python3.8/site-packages/sklearn/svm/_base.py:985: ConvergenceWarning: Liblinear failed to converge, increase the number of iterations.\n",
      "  warnings.warn(\"Liblinear failed to converge, increase \"\n"
     ]
    },
    {
     "name": "stdout",
     "output_type": "stream",
     "text": [
      "roc_auc_score with max_iters=10.0, C=0.001, penalty=l1 and deleted features 'housing','loan','previous','marital','education','day_of_week': 0.7385766399793388\n"
     ]
    },
    {
     "name": "stderr",
     "output_type": "stream",
     "text": [
      "/home/ubuntu/anaconda3/lib/python3.8/site-packages/sklearn/svm/_base.py:985: ConvergenceWarning: Liblinear failed to converge, increase the number of iterations.\n",
      "  warnings.warn(\"Liblinear failed to converge, increase \"\n"
     ]
    },
    {
     "name": "stdout",
     "output_type": "stream",
     "text": [
      "roc_auc_score with max_iters=10.0, C=0.001, penalty=l2 and deleted features 'housing','loan','previous','marital','education','day_of_week': 0.655119478059819\n"
     ]
    },
    {
     "name": "stderr",
     "output_type": "stream",
     "text": [
      "/home/ubuntu/anaconda3/lib/python3.8/site-packages/sklearn/svm/_base.py:985: ConvergenceWarning: Liblinear failed to converge, increase the number of iterations.\n",
      "  warnings.warn(\"Liblinear failed to converge, increase \"\n"
     ]
    },
    {
     "name": "stdout",
     "output_type": "stream",
     "text": [
      "roc_auc_score with max_iters=10.0, C=0.0001, penalty=l1 and deleted features 'housing','loan','previous','marital','education','day_of_week': 0.44696408586678477\n"
     ]
    },
    {
     "name": "stderr",
     "output_type": "stream",
     "text": [
      "/home/ubuntu/anaconda3/lib/python3.8/site-packages/sklearn/svm/_base.py:985: ConvergenceWarning: Liblinear failed to converge, increase the number of iterations.\n",
      "  warnings.warn(\"Liblinear failed to converge, increase \"\n"
     ]
    },
    {
     "name": "stdout",
     "output_type": "stream",
     "text": [
      "roc_auc_score with max_iters=10.0, C=0.0001, penalty=l2 and deleted features 'housing','loan','previous','marital','education','day_of_week': 0.6552983415731995\n"
     ]
    },
    {
     "name": "stderr",
     "output_type": "stream",
     "text": [
      "/home/ubuntu/anaconda3/lib/python3.8/site-packages/sklearn/svm/_base.py:985: ConvergenceWarning: Liblinear failed to converge, increase the number of iterations.\n",
      "  warnings.warn(\"Liblinear failed to converge, increase \"\n"
     ]
    },
    {
     "name": "stdout",
     "output_type": "stream",
     "text": [
      "roc_auc_score with max_iters=20.0, C=100, penalty=l1 and deleted features 'housing','loan','previous','marital','education','day_of_week': 0.7736826975108225\n"
     ]
    },
    {
     "name": "stderr",
     "output_type": "stream",
     "text": [
      "/home/ubuntu/anaconda3/lib/python3.8/site-packages/sklearn/svm/_base.py:985: ConvergenceWarning: Liblinear failed to converge, increase the number of iterations.\n",
      "  warnings.warn(\"Liblinear failed to converge, increase \"\n"
     ]
    },
    {
     "name": "stdout",
     "output_type": "stream",
     "text": [
      "roc_auc_score with max_iters=20.0, C=100, penalty=l2 and deleted features 'housing','loan','previous','marital','education','day_of_week': 0.77047845029024\n"
     ]
    },
    {
     "name": "stderr",
     "output_type": "stream",
     "text": [
      "/home/ubuntu/anaconda3/lib/python3.8/site-packages/sklearn/svm/_base.py:985: ConvergenceWarning: Liblinear failed to converge, increase the number of iterations.\n",
      "  warnings.warn(\"Liblinear failed to converge, increase \"\n"
     ]
    },
    {
     "name": "stdout",
     "output_type": "stream",
     "text": [
      "roc_auc_score with max_iters=20.0, C=50, penalty=l1 and deleted features 'housing','loan','previous','marital','education','day_of_week': 0.7737115985340417\n"
     ]
    },
    {
     "name": "stderr",
     "output_type": "stream",
     "text": [
      "/home/ubuntu/anaconda3/lib/python3.8/site-packages/sklearn/svm/_base.py:985: ConvergenceWarning: Liblinear failed to converge, increase the number of iterations.\n",
      "  warnings.warn(\"Liblinear failed to converge, increase \"\n"
     ]
    },
    {
     "name": "stdout",
     "output_type": "stream",
     "text": [
      "roc_auc_score with max_iters=20.0, C=50, penalty=l2 and deleted features 'housing','loan','previous','marital','education','day_of_week': 0.7704899799537583\n"
     ]
    },
    {
     "name": "stderr",
     "output_type": "stream",
     "text": [
      "/home/ubuntu/anaconda3/lib/python3.8/site-packages/sklearn/svm/_base.py:985: ConvergenceWarning: Liblinear failed to converge, increase the number of iterations.\n",
      "  warnings.warn(\"Liblinear failed to converge, increase \"\n"
     ]
    },
    {
     "name": "stdout",
     "output_type": "stream",
     "text": [
      "roc_auc_score with max_iters=20.0, C=20, penalty=l1 and deleted features 'housing','loan','previous','marital','education','day_of_week': 0.7737769332939788\n"
     ]
    },
    {
     "name": "stderr",
     "output_type": "stream",
     "text": [
      "/home/ubuntu/anaconda3/lib/python3.8/site-packages/sklearn/svm/_base.py:985: ConvergenceWarning: Liblinear failed to converge, increase the number of iterations.\n",
      "  warnings.warn(\"Liblinear failed to converge, increase \"\n"
     ]
    },
    {
     "name": "stdout",
     "output_type": "stream",
     "text": [
      "roc_auc_score with max_iters=20.0, C=20, penalty=l2 and deleted features 'housing','loan','previous','marital','education','day_of_week': 0.7704908254624163\n"
     ]
    },
    {
     "name": "stderr",
     "output_type": "stream",
     "text": [
      "/home/ubuntu/anaconda3/lib/python3.8/site-packages/sklearn/svm/_base.py:985: ConvergenceWarning: Liblinear failed to converge, increase the number of iterations.\n",
      "  warnings.warn(\"Liblinear failed to converge, increase \"\n"
     ]
    },
    {
     "name": "stdout",
     "output_type": "stream",
     "text": [
      "roc_auc_score with max_iters=20.0, C=18, penalty=l1 and deleted features 'housing','loan','previous','marital','education','day_of_week': 0.7737029897186147\n"
     ]
    },
    {
     "name": "stderr",
     "output_type": "stream",
     "text": [
      "/home/ubuntu/anaconda3/lib/python3.8/site-packages/sklearn/svm/_base.py:985: ConvergenceWarning: Liblinear failed to converge, increase the number of iterations.\n",
      "  warnings.warn(\"Liblinear failed to converge, increase \"\n"
     ]
    },
    {
     "name": "stdout",
     "output_type": "stream",
     "text": [
      "roc_auc_score with max_iters=20.0, C=18, penalty=l2 and deleted features 'housing','loan','previous','marital','education','day_of_week': 0.7704857524104682\n"
     ]
    },
    {
     "name": "stderr",
     "output_type": "stream",
     "text": [
      "/home/ubuntu/anaconda3/lib/python3.8/site-packages/sklearn/svm/_base.py:985: ConvergenceWarning: Liblinear failed to converge, increase the number of iterations.\n",
      "  warnings.warn(\"Liblinear failed to converge, increase \"\n"
     ]
    },
    {
     "name": "stdout",
     "output_type": "stream",
     "text": [
      "roc_auc_score with max_iters=20.0, C=15, penalty=l1 and deleted features 'housing','loan','previous','marital','education','day_of_week': 0.7737042964138134\n"
     ]
    },
    {
     "name": "stderr",
     "output_type": "stream",
     "text": [
      "/home/ubuntu/anaconda3/lib/python3.8/site-packages/sklearn/svm/_base.py:985: ConvergenceWarning: Liblinear failed to converge, increase the number of iterations.\n",
      "  warnings.warn(\"Liblinear failed to converge, increase \"\n"
     ]
    },
    {
     "name": "stdout",
     "output_type": "stream",
     "text": [
      "roc_auc_score with max_iters=20.0, C=15, penalty=l2 and deleted features 'housing','loan','previous','marital','education','day_of_week': 0.770489749360488\n"
     ]
    },
    {
     "name": "stderr",
     "output_type": "stream",
     "text": [
      "/home/ubuntu/anaconda3/lib/python3.8/site-packages/sklearn/svm/_base.py:985: ConvergenceWarning: Liblinear failed to converge, increase the number of iterations.\n",
      "  warnings.warn(\"Liblinear failed to converge, increase \"\n"
     ]
    },
    {
     "name": "stdout",
     "output_type": "stream",
     "text": [
      "roc_auc_score with max_iters=20.0, C=13, penalty=l1 and deleted features 'housing','loan','previous','marital','education','day_of_week': 0.7736672477617079\n"
     ]
    },
    {
     "name": "stderr",
     "output_type": "stream",
     "text": [
      "/home/ubuntu/anaconda3/lib/python3.8/site-packages/sklearn/svm/_base.py:985: ConvergenceWarning: Liblinear failed to converge, increase the number of iterations.\n",
      "  warnings.warn(\"Liblinear failed to converge, increase \"\n"
     ]
    },
    {
     "name": "stdout",
     "output_type": "stream",
     "text": [
      "roc_auc_score with max_iters=20.0, C=13, penalty=l2 and deleted features 'housing','loan','previous','marital','education','day_of_week': 0.7704874434277843\n"
     ]
    },
    {
     "name": "stderr",
     "output_type": "stream",
     "text": [
      "/home/ubuntu/anaconda3/lib/python3.8/site-packages/sklearn/svm/_base.py:985: ConvergenceWarning: Liblinear failed to converge, increase the number of iterations.\n",
      "  warnings.warn(\"Liblinear failed to converge, increase \"\n"
     ]
    },
    {
     "name": "stdout",
     "output_type": "stream",
     "text": [
      "roc_auc_score with max_iters=20.0, C=10, penalty=l1 and deleted features 'housing','loan','previous','marital','education','day_of_week': 0.7736514136904762\n"
     ]
    },
    {
     "name": "stderr",
     "output_type": "stream",
     "text": [
      "/home/ubuntu/anaconda3/lib/python3.8/site-packages/sklearn/svm/_base.py:985: ConvergenceWarning: Liblinear failed to converge, increase the number of iterations.\n",
      "  warnings.warn(\"Liblinear failed to converge, increase \"\n"
     ]
    },
    {
     "name": "stdout",
     "output_type": "stream",
     "text": [
      "roc_auc_score with max_iters=20.0, C=10, penalty=l2 and deleted features 'housing','loan','previous','marital','education','day_of_week': 0.7515371347402597\n"
     ]
    },
    {
     "name": "stderr",
     "output_type": "stream",
     "text": [
      "/home/ubuntu/anaconda3/lib/python3.8/site-packages/sklearn/svm/_base.py:985: ConvergenceWarning: Liblinear failed to converge, increase the number of iterations.\n",
      "  warnings.warn(\"Liblinear failed to converge, increase \"\n"
     ]
    },
    {
     "name": "stdout",
     "output_type": "stream",
     "text": [
      "roc_auc_score with max_iters=20.0, C=1.0, penalty=l1 and deleted features 'housing','loan','previous','marital','education','day_of_week': 0.7733606355765447\n"
     ]
    },
    {
     "name": "stderr",
     "output_type": "stream",
     "text": [
      "/home/ubuntu/anaconda3/lib/python3.8/site-packages/sklearn/svm/_base.py:985: ConvergenceWarning: Liblinear failed to converge, increase the number of iterations.\n",
      "  warnings.warn(\"Liblinear failed to converge, increase \"\n"
     ]
    },
    {
     "name": "stdout",
     "output_type": "stream",
     "text": [
      "roc_auc_score with max_iters=20.0, C=1.0, penalty=l2 and deleted features 'housing','loan','previous','marital','education','day_of_week': 0.7704553140987801\n"
     ]
    },
    {
     "name": "stderr",
     "output_type": "stream",
     "text": [
      "/home/ubuntu/anaconda3/lib/python3.8/site-packages/sklearn/svm/_base.py:985: ConvergenceWarning: Liblinear failed to converge, increase the number of iterations.\n",
      "  warnings.warn(\"Liblinear failed to converge, increase \"\n"
     ]
    },
    {
     "name": "stdout",
     "output_type": "stream",
     "text": [
      "roc_auc_score with max_iters=20.0, C=0.1, penalty=l1 and deleted features 'housing','loan','previous','marital','education','day_of_week': 0.7725773871015349\n"
     ]
    },
    {
     "name": "stderr",
     "output_type": "stream",
     "text": [
      "/home/ubuntu/anaconda3/lib/python3.8/site-packages/sklearn/svm/_base.py:985: ConvergenceWarning: Liblinear failed to converge, increase the number of iterations.\n",
      "  warnings.warn(\"Liblinear failed to converge, increase \"\n"
     ]
    },
    {
     "name": "stdout",
     "output_type": "stream",
     "text": [
      "roc_auc_score with max_iters=20.0, C=0.1, penalty=l2 and deleted features 'housing','loan','previous','marital','education','day_of_week': 0.770431178669815\n"
     ]
    },
    {
     "name": "stderr",
     "output_type": "stream",
     "text": [
      "/home/ubuntu/anaconda3/lib/python3.8/site-packages/sklearn/svm/_base.py:985: ConvergenceWarning: Liblinear failed to converge, increase the number of iterations.\n",
      "  warnings.warn(\"Liblinear failed to converge, increase \"\n"
     ]
    },
    {
     "name": "stdout",
     "output_type": "stream",
     "text": [
      "roc_auc_score with max_iters=20.0, C=0.01, penalty=l1 and deleted features 'housing','loan','previous','marital','education','day_of_week': 0.7657358384986227\n"
     ]
    },
    {
     "name": "stderr",
     "output_type": "stream",
     "text": [
      "/home/ubuntu/anaconda3/lib/python3.8/site-packages/sklearn/svm/_base.py:985: ConvergenceWarning: Liblinear failed to converge, increase the number of iterations.\n",
      "  warnings.warn(\"Liblinear failed to converge, increase \"\n"
     ]
    },
    {
     "name": "stdout",
     "output_type": "stream",
     "text": [
      "roc_auc_score with max_iters=20.0, C=0.01, penalty=l2 and deleted features 'housing','loan','previous','marital','education','day_of_week': 0.7636832509346714\n"
     ]
    },
    {
     "name": "stderr",
     "output_type": "stream",
     "text": [
      "/home/ubuntu/anaconda3/lib/python3.8/site-packages/sklearn/svm/_base.py:985: ConvergenceWarning: Liblinear failed to converge, increase the number of iterations.\n",
      "  warnings.warn(\"Liblinear failed to converge, increase \"\n"
     ]
    },
    {
     "name": "stdout",
     "output_type": "stream",
     "text": [
      "roc_auc_score with max_iters=20.0, C=0.001, penalty=l1 and deleted features 'housing','loan','previous','marital','education','day_of_week': 0.7370956162682014\n"
     ]
    },
    {
     "name": "stderr",
     "output_type": "stream",
     "text": [
      "/home/ubuntu/anaconda3/lib/python3.8/site-packages/sklearn/svm/_base.py:985: ConvergenceWarning: Liblinear failed to converge, increase the number of iterations.\n",
      "  warnings.warn(\"Liblinear failed to converge, increase \"\n"
     ]
    },
    {
     "name": "stdout",
     "output_type": "stream",
     "text": [
      "roc_auc_score with max_iters=20.0, C=0.001, penalty=l2 and deleted features 'housing','loan','previous','marital','education','day_of_week': 0.7611573322510823\n",
      "roc_auc_score with max_iters=20.0, C=0.0001, penalty=l1 and deleted features 'housing','loan','previous','marital','education','day_of_week': 0.44696669925718224\n",
      "roc_auc_score with max_iters=20.0, C=0.0001, penalty=l2 and deleted features 'housing','loan','previous','marital','education','day_of_week': 0.743846234258166\n"
     ]
    },
    {
     "name": "stderr",
     "output_type": "stream",
     "text": [
      "/home/ubuntu/anaconda3/lib/python3.8/site-packages/sklearn/svm/_base.py:985: ConvergenceWarning: Liblinear failed to converge, increase the number of iterations.\n",
      "  warnings.warn(\"Liblinear failed to converge, increase \"\n"
     ]
    },
    {
     "name": "stdout",
     "output_type": "stream",
     "text": [
      "roc_auc_score with max_iters=30.0, C=100, penalty=l1 and deleted features 'housing','loan','previous','marital','education','day_of_week': 0.7736999151416766\n",
      "roc_auc_score with max_iters=30.0, C=100, penalty=l2 and deleted features 'housing','loan','previous','marital','education','day_of_week': 0.7761827897481306\n"
     ]
    },
    {
     "name": "stderr",
     "output_type": "stream",
     "text": [
      "/home/ubuntu/anaconda3/lib/python3.8/site-packages/sklearn/svm/_base.py:985: ConvergenceWarning: Liblinear failed to converge, increase the number of iterations.\n",
      "  warnings.warn(\"Liblinear failed to converge, increase \"\n"
     ]
    },
    {
     "name": "stdout",
     "output_type": "stream",
     "text": [
      "roc_auc_score with max_iters=30.0, C=50, penalty=l1 and deleted features 'housing','loan','previous','marital','education','day_of_week': 0.7734796217040536\n",
      "roc_auc_score with max_iters=30.0, C=50, penalty=l2 and deleted features 'housing','loan','previous','marital','education','day_of_week': 0.7761755644923258\n"
     ]
    },
    {
     "name": "stderr",
     "output_type": "stream",
     "text": [
      "/home/ubuntu/anaconda3/lib/python3.8/site-packages/sklearn/svm/_base.py:985: ConvergenceWarning: Liblinear failed to converge, increase the number of iterations.\n",
      "  warnings.warn(\"Liblinear failed to converge, increase \"\n"
     ]
    },
    {
     "name": "stdout",
     "output_type": "stream",
     "text": [
      "roc_auc_score with max_iters=30.0, C=20, penalty=l1 and deleted features 'housing','loan','previous','marital','education','day_of_week': 0.7733332718417947\n",
      "roc_auc_score with max_iters=30.0, C=20, penalty=l2 and deleted features 'housing','loan','previous','marital','education','day_of_week': 0.7761758719500197\n"
     ]
    },
    {
     "name": "stderr",
     "output_type": "stream",
     "text": [
      "/home/ubuntu/anaconda3/lib/python3.8/site-packages/sklearn/svm/_base.py:985: ConvergenceWarning: Liblinear failed to converge, increase the number of iterations.\n",
      "  warnings.warn(\"Liblinear failed to converge, increase \"\n"
     ]
    },
    {
     "name": "stdout",
     "output_type": "stream",
     "text": [
      "roc_auc_score with max_iters=30.0, C=18, penalty=l1 and deleted features 'housing','loan','previous','marital','education','day_of_week': 0.7736605605568674\n",
      "roc_auc_score with max_iters=30.0, C=18, penalty=l2 and deleted features 'housing','loan','previous','marital','education','day_of_week': 0.7761732585596222\n"
     ]
    },
    {
     "name": "stderr",
     "output_type": "stream",
     "text": [
      "/home/ubuntu/anaconda3/lib/python3.8/site-packages/sklearn/svm/_base.py:985: ConvergenceWarning: Liblinear failed to converge, increase the number of iterations.\n",
      "  warnings.warn(\"Liblinear failed to converge, increase \"\n"
     ]
    },
    {
     "name": "stdout",
     "output_type": "stream",
     "text": [
      "roc_auc_score with max_iters=30.0, C=15, penalty=l1 and deleted features 'housing','loan','previous','marital','education','day_of_week': 0.7736431891971665\n",
      "roc_auc_score with max_iters=30.0, C=15, penalty=l2 and deleted features 'housing','loan','previous','marital','education','day_of_week': 0.7761763331365604\n"
     ]
    },
    {
     "name": "stderr",
     "output_type": "stream",
     "text": [
      "/home/ubuntu/anaconda3/lib/python3.8/site-packages/sklearn/svm/_base.py:985: ConvergenceWarning: Liblinear failed to converge, increase the number of iterations.\n",
      "  warnings.warn(\"Liblinear failed to converge, increase \"\n"
     ]
    },
    {
     "name": "stdout",
     "output_type": "stream",
     "text": [
      "roc_auc_score with max_iters=30.0, C=13, penalty=l1 and deleted features 'housing','loan','previous','marital','education','day_of_week': 0.7736547188606848\n",
      "roc_auc_score with max_iters=30.0, C=13, penalty=l2 and deleted features 'housing','loan','previous','marital','education','day_of_week': 0.7761769480519481\n"
     ]
    },
    {
     "name": "stderr",
     "output_type": "stream",
     "text": [
      "/home/ubuntu/anaconda3/lib/python3.8/site-packages/sklearn/svm/_base.py:985: ConvergenceWarning: Liblinear failed to converge, increase the number of iterations.\n",
      "  warnings.warn(\"Liblinear failed to converge, increase \"\n"
     ]
    },
    {
     "name": "stdout",
     "output_type": "stream",
     "text": [
      "roc_auc_score with max_iters=30.0, C=10, penalty=l1 and deleted features 'housing','loan','previous','marital','education','day_of_week': 0.77397093909878\n",
      "roc_auc_score with max_iters=30.0, C=10, penalty=l2 and deleted features 'housing','loan','previous','marital','education','day_of_week': 0.7760772548947265\n"
     ]
    },
    {
     "name": "stderr",
     "output_type": "stream",
     "text": [
      "/home/ubuntu/anaconda3/lib/python3.8/site-packages/sklearn/svm/_base.py:985: ConvergenceWarning: Liblinear failed to converge, increase the number of iterations.\n",
      "  warnings.warn(\"Liblinear failed to converge, increase \"\n"
     ]
    },
    {
     "name": "stdout",
     "output_type": "stream",
     "text": [
      "roc_auc_score with max_iters=30.0, C=1.0, penalty=l1 and deleted features 'housing','loan','previous','marital','education','day_of_week': 0.7746587988242817\n",
      "roc_auc_score with max_iters=30.0, C=1.0, penalty=l2 and deleted features 'housing','loan','previous','marital','education','day_of_week': 0.7761744883903975\n"
     ]
    },
    {
     "name": "stderr",
     "output_type": "stream",
     "text": [
      "/home/ubuntu/anaconda3/lib/python3.8/site-packages/sklearn/svm/_base.py:985: ConvergenceWarning: Liblinear failed to converge, increase the number of iterations.\n",
      "  warnings.warn(\"Liblinear failed to converge, increase \"\n"
     ]
    },
    {
     "name": "stdout",
     "output_type": "stream",
     "text": [
      "roc_auc_score with max_iters=30.0, C=0.1, penalty=l1 and deleted features 'housing','loan','previous','marital','education','day_of_week': 0.773517669593664\n",
      "roc_auc_score with max_iters=30.0, C=0.1, penalty=l2 and deleted features 'housing','loan','previous','marital','education','day_of_week': 0.7761898612750885\n"
     ]
    },
    {
     "name": "stderr",
     "output_type": "stream",
     "text": [
      "/home/ubuntu/anaconda3/lib/python3.8/site-packages/sklearn/svm/_base.py:985: ConvergenceWarning: Liblinear failed to converge, increase the number of iterations.\n",
      "  warnings.warn(\"Liblinear failed to converge, increase \"\n"
     ]
    },
    {
     "name": "stdout",
     "output_type": "stream",
     "text": [
      "roc_auc_score with max_iters=30.0, C=0.01, penalty=l1 and deleted features 'housing','loan','previous','marital','education','day_of_week': 0.7659088603158205\n",
      "roc_auc_score with max_iters=30.0, C=0.01, penalty=l2 and deleted features 'housing','loan','previous','marital','education','day_of_week': 0.7754611865407319\n",
      "roc_auc_score with max_iters=30.0, C=0.001, penalty=l1 and deleted features 'housing','loan','previous','marital','education','day_of_week': 0.737010450487013\n",
      "roc_auc_score with max_iters=30.0, C=0.001, penalty=l2 and deleted features 'housing','loan','previous','marital','education','day_of_week': 0.7611606374212909\n",
      "roc_auc_score with max_iters=30.0, C=0.0001, penalty=l1 and deleted features 'housing','loan','previous','marital','education','day_of_week': 0.44696669925718224\n",
      "roc_auc_score with max_iters=30.0, C=0.0001, penalty=l2 and deleted features 'housing','loan','previous','marital','education','day_of_week': 0.743846234258166\n"
     ]
    },
    {
     "name": "stderr",
     "output_type": "stream",
     "text": [
      "/home/ubuntu/anaconda3/lib/python3.8/site-packages/sklearn/svm/_base.py:985: ConvergenceWarning: Liblinear failed to converge, increase the number of iterations.\n",
      "  warnings.warn(\"Liblinear failed to converge, increase \"\n"
     ]
    },
    {
     "name": "stdout",
     "output_type": "stream",
     "text": [
      "roc_auc_score with max_iters=40.0, C=100, penalty=l1 and deleted features 'housing','loan','previous','marital','education','day_of_week': 0.7740972273465171\n",
      "roc_auc_score with max_iters=40.0, C=100, penalty=l2 and deleted features 'housing','loan','previous','marital','education','day_of_week': 0.7761827897481306\n"
     ]
    },
    {
     "name": "stderr",
     "output_type": "stream",
     "text": [
      "/home/ubuntu/anaconda3/lib/python3.8/site-packages/sklearn/svm/_base.py:985: ConvergenceWarning: Liblinear failed to converge, increase the number of iterations.\n",
      "  warnings.warn(\"Liblinear failed to converge, increase \"\n"
     ]
    },
    {
     "name": "stdout",
     "output_type": "stream",
     "text": [
      "roc_auc_score with max_iters=40.0, C=50, penalty=l1 and deleted features 'housing','loan','previous','marital','education','day_of_week': 0.7739425761265251\n",
      "roc_auc_score with max_iters=40.0, C=50, penalty=l2 and deleted features 'housing','loan','previous','marital','education','day_of_week': 0.7761755644923258\n"
     ]
    },
    {
     "name": "stderr",
     "output_type": "stream",
     "text": [
      "/home/ubuntu/anaconda3/lib/python3.8/site-packages/sklearn/svm/_base.py:985: ConvergenceWarning: Liblinear failed to converge, increase the number of iterations.\n",
      "  warnings.warn(\"Liblinear failed to converge, increase \"\n"
     ]
    },
    {
     "name": "stdout",
     "output_type": "stream",
     "text": [
      "roc_auc_score with max_iters=40.0, C=20, penalty=l1 and deleted features 'housing','loan','previous','marital','education','day_of_week': 0.7738047582152695\n",
      "roc_auc_score with max_iters=40.0, C=20, penalty=l2 and deleted features 'housing','loan','previous','marital','education','day_of_week': 0.7761758719500197\n"
     ]
    },
    {
     "name": "stderr",
     "output_type": "stream",
     "text": [
      "/home/ubuntu/anaconda3/lib/python3.8/site-packages/sklearn/svm/_base.py:985: ConvergenceWarning: Liblinear failed to converge, increase the number of iterations.\n",
      "  warnings.warn(\"Liblinear failed to converge, increase \"\n"
     ]
    },
    {
     "name": "stdout",
     "output_type": "stream",
     "text": [
      "roc_auc_score with max_iters=40.0, C=18, penalty=l1 and deleted features 'housing','loan','previous','marital','education','day_of_week': 0.7739634063852814\n",
      "roc_auc_score with max_iters=40.0, C=18, penalty=l2 and deleted features 'housing','loan','previous','marital','education','day_of_week': 0.7761732585596222\n"
     ]
    },
    {
     "name": "stderr",
     "output_type": "stream",
     "text": [
      "/home/ubuntu/anaconda3/lib/python3.8/site-packages/sklearn/svm/_base.py:985: ConvergenceWarning: Liblinear failed to converge, increase the number of iterations.\n",
      "  warnings.warn(\"Liblinear failed to converge, increase \"\n"
     ]
    },
    {
     "name": "stdout",
     "output_type": "stream",
     "text": [
      "roc_auc_score with max_iters=40.0, C=15, penalty=l1 and deleted features 'housing','loan','previous','marital','education','day_of_week': 0.7739226682408501\n",
      "roc_auc_score with max_iters=40.0, C=15, penalty=l2 and deleted features 'housing','loan','previous','marital','education','day_of_week': 0.7761763331365604\n"
     ]
    },
    {
     "name": "stderr",
     "output_type": "stream",
     "text": [
      "/home/ubuntu/anaconda3/lib/python3.8/site-packages/sklearn/svm/_base.py:985: ConvergenceWarning: Liblinear failed to converge, increase the number of iterations.\n",
      "  warnings.warn(\"Liblinear failed to converge, increase \"\n"
     ]
    },
    {
     "name": "stdout",
     "output_type": "stream",
     "text": [
      "roc_auc_score with max_iters=40.0, C=13, penalty=l1 and deleted features 'housing','loan','previous','marital','education','day_of_week': 0.7742433466155056\n",
      "roc_auc_score with max_iters=40.0, C=13, penalty=l2 and deleted features 'housing','loan','previous','marital','education','day_of_week': 0.7761769480519481\n"
     ]
    },
    {
     "name": "stderr",
     "output_type": "stream",
     "text": [
      "/home/ubuntu/anaconda3/lib/python3.8/site-packages/sklearn/svm/_base.py:985: ConvergenceWarning: Liblinear failed to converge, increase the number of iterations.\n",
      "  warnings.warn(\"Liblinear failed to converge, increase \"\n"
     ]
    },
    {
     "name": "stdout",
     "output_type": "stream",
     "text": [
      "roc_auc_score with max_iters=40.0, C=10, penalty=l1 and deleted features 'housing','loan','previous','marital','education','day_of_week': 0.7745329717630854\n",
      "roc_auc_score with max_iters=40.0, C=10, penalty=l2 and deleted features 'housing','loan','previous','marital','education','day_of_week': 0.7760772548947265\n"
     ]
    },
    {
     "name": "stderr",
     "output_type": "stream",
     "text": [
      "/home/ubuntu/anaconda3/lib/python3.8/site-packages/sklearn/svm/_base.py:985: ConvergenceWarning: Liblinear failed to converge, increase the number of iterations.\n",
      "  warnings.warn(\"Liblinear failed to converge, increase \"\n"
     ]
    },
    {
     "name": "stdout",
     "output_type": "stream",
     "text": [
      "roc_auc_score with max_iters=40.0, C=1.0, penalty=l1 and deleted features 'housing','loan','previous','marital','education','day_of_week': 0.7758891676505313\n",
      "roc_auc_score with max_iters=40.0, C=1.0, penalty=l2 and deleted features 'housing','loan','previous','marital','education','day_of_week': 0.7761744883903975\n"
     ]
    },
    {
     "name": "stderr",
     "output_type": "stream",
     "text": [
      "/home/ubuntu/anaconda3/lib/python3.8/site-packages/sklearn/svm/_base.py:985: ConvergenceWarning: Liblinear failed to converge, increase the number of iterations.\n",
      "  warnings.warn(\"Liblinear failed to converge, increase \"\n"
     ]
    },
    {
     "name": "stdout",
     "output_type": "stream",
     "text": [
      "roc_auc_score with max_iters=40.0, C=0.1, penalty=l1 and deleted features 'housing','loan','previous','marital','education','day_of_week': 0.7742786273858717\n",
      "roc_auc_score with max_iters=40.0, C=0.1, penalty=l2 and deleted features 'housing','loan','previous','marital','education','day_of_week': 0.7761898612750885\n"
     ]
    },
    {
     "name": "stderr",
     "output_type": "stream",
     "text": [
      "/home/ubuntu/anaconda3/lib/python3.8/site-packages/sklearn/svm/_base.py:985: ConvergenceWarning: Liblinear failed to converge, increase the number of iterations.\n",
      "  warnings.warn(\"Liblinear failed to converge, increase \"\n"
     ]
    },
    {
     "name": "stdout",
     "output_type": "stream",
     "text": [
      "roc_auc_score with max_iters=40.0, C=0.01, penalty=l1 and deleted features 'housing','loan','previous','marital','education','day_of_week': 0.7657364534140102\n",
      "roc_auc_score with max_iters=40.0, C=0.01, penalty=l2 and deleted features 'housing','loan','previous','marital','education','day_of_week': 0.7754611865407319\n",
      "roc_auc_score with max_iters=40.0, C=0.001, penalty=l1 and deleted features 'housing','loan','previous','marital','education','day_of_week': 0.737010450487013\n",
      "roc_auc_score with max_iters=40.0, C=0.001, penalty=l2 and deleted features 'housing','loan','previous','marital','education','day_of_week': 0.7611606374212909\n",
      "roc_auc_score with max_iters=40.0, C=0.0001, penalty=l1 and deleted features 'housing','loan','previous','marital','education','day_of_week': 0.44696669925718224\n",
      "roc_auc_score with max_iters=40.0, C=0.0001, penalty=l2 and deleted features 'housing','loan','previous','marital','education','day_of_week': 0.743846234258166\n"
     ]
    },
    {
     "name": "stderr",
     "output_type": "stream",
     "text": [
      "/home/ubuntu/anaconda3/lib/python3.8/site-packages/sklearn/svm/_base.py:985: ConvergenceWarning: Liblinear failed to converge, increase the number of iterations.\n",
      "  warnings.warn(\"Liblinear failed to converge, increase \"\n"
     ]
    },
    {
     "name": "stdout",
     "output_type": "stream",
     "text": [
      "roc_auc_score with max_iters=50.0, C=100, penalty=l1 and deleted features 'housing','loan','previous','marital','education','day_of_week': 0.7745861619441164\n",
      "roc_auc_score with max_iters=50.0, C=100, penalty=l2 and deleted features 'housing','loan','previous','marital','education','day_of_week': 0.7761827897481306\n"
     ]
    },
    {
     "name": "stderr",
     "output_type": "stream",
     "text": [
      "/home/ubuntu/anaconda3/lib/python3.8/site-packages/sklearn/svm/_base.py:985: ConvergenceWarning: Liblinear failed to converge, increase the number of iterations.\n",
      "  warnings.warn(\"Liblinear failed to converge, increase \"\n"
     ]
    },
    {
     "name": "stdout",
     "output_type": "stream",
     "text": [
      "roc_auc_score with max_iters=50.0, C=50, penalty=l1 and deleted features 'housing','loan','previous','marital','education','day_of_week': 0.7744966917552145\n",
      "roc_auc_score with max_iters=50.0, C=50, penalty=l2 and deleted features 'housing','loan','previous','marital','education','day_of_week': 0.7761755644923258\n"
     ]
    },
    {
     "name": "stderr",
     "output_type": "stream",
     "text": [
      "/home/ubuntu/anaconda3/lib/python3.8/site-packages/sklearn/svm/_base.py:985: ConvergenceWarning: Liblinear failed to converge, increase the number of iterations.\n",
      "  warnings.warn(\"Liblinear failed to converge, increase \"\n"
     ]
    },
    {
     "name": "stdout",
     "output_type": "stream",
     "text": [
      "roc_auc_score with max_iters=50.0, C=20, penalty=l1 and deleted features 'housing','loan','previous','marital','education','day_of_week': 0.7745088363341204\n",
      "roc_auc_score with max_iters=50.0, C=20, penalty=l2 and deleted features 'housing','loan','previous','marital','education','day_of_week': 0.7761758719500197\n"
     ]
    },
    {
     "name": "stderr",
     "output_type": "stream",
     "text": [
      "/home/ubuntu/anaconda3/lib/python3.8/site-packages/sklearn/svm/_base.py:985: ConvergenceWarning: Liblinear failed to converge, increase the number of iterations.\n",
      "  warnings.warn(\"Liblinear failed to converge, increase \"\n"
     ]
    },
    {
     "name": "stdout",
     "output_type": "stream",
     "text": [
      "roc_auc_score with max_iters=50.0, C=18, penalty=l1 and deleted features 'housing','loan','previous','marital','education','day_of_week': 0.7747129882428178\n",
      "roc_auc_score with max_iters=50.0, C=18, penalty=l2 and deleted features 'housing','loan','previous','marital','education','day_of_week': 0.7761732585596222\n"
     ]
    },
    {
     "name": "stderr",
     "output_type": "stream",
     "text": [
      "/home/ubuntu/anaconda3/lib/python3.8/site-packages/sklearn/svm/_base.py:985: ConvergenceWarning: Liblinear failed to converge, increase the number of iterations.\n",
      "  warnings.warn(\"Liblinear failed to converge, increase \"\n"
     ]
    },
    {
     "name": "stdout",
     "output_type": "stream",
     "text": [
      "roc_auc_score with max_iters=50.0, C=15, penalty=l1 and deleted features 'housing','loan','previous','marital','education','day_of_week': 0.7750375098386463\n",
      "roc_auc_score with max_iters=50.0, C=15, penalty=l2 and deleted features 'housing','loan','previous','marital','education','day_of_week': 0.7761763331365604\n"
     ]
    },
    {
     "name": "stderr",
     "output_type": "stream",
     "text": [
      "/home/ubuntu/anaconda3/lib/python3.8/site-packages/sklearn/svm/_base.py:985: ConvergenceWarning: Liblinear failed to converge, increase the number of iterations.\n",
      "  warnings.warn(\"Liblinear failed to converge, increase \"\n"
     ]
    },
    {
     "name": "stdout",
     "output_type": "stream",
     "text": [
      "roc_auc_score with max_iters=50.0, C=13, penalty=l1 and deleted features 'housing','loan','previous','marital','education','day_of_week': 0.7751855507182212\n",
      "roc_auc_score with max_iters=50.0, C=13, penalty=l2 and deleted features 'housing','loan','previous','marital','education','day_of_week': 0.7761769480519481\n"
     ]
    },
    {
     "name": "stderr",
     "output_type": "stream",
     "text": [
      "/home/ubuntu/anaconda3/lib/python3.8/site-packages/sklearn/svm/_base.py:985: ConvergenceWarning: Liblinear failed to converge, increase the number of iterations.\n",
      "  warnings.warn(\"Liblinear failed to converge, increase \"\n"
     ]
    },
    {
     "name": "stdout",
     "output_type": "stream",
     "text": [
      "roc_auc_score with max_iters=50.0, C=10, penalty=l1 and deleted features 'housing','loan','previous','marital','education','day_of_week': 0.7754341302636757\n",
      "roc_auc_score with max_iters=50.0, C=10, penalty=l2 and deleted features 'housing','loan','previous','marital','education','day_of_week': 0.7760772548947265\n"
     ]
    },
    {
     "name": "stderr",
     "output_type": "stream",
     "text": [
      "/home/ubuntu/anaconda3/lib/python3.8/site-packages/sklearn/svm/_base.py:985: ConvergenceWarning: Liblinear failed to converge, increase the number of iterations.\n",
      "  warnings.warn(\"Liblinear failed to converge, increase \"\n"
     ]
    },
    {
     "name": "stdout",
     "output_type": "stream",
     "text": [
      "roc_auc_score with max_iters=50.0, C=1.0, penalty=l1 and deleted features 'housing','loan','previous','marital','education','day_of_week': 0.7769010877853209\n",
      "roc_auc_score with max_iters=50.0, C=1.0, penalty=l2 and deleted features 'housing','loan','previous','marital','education','day_of_week': 0.7761744883903975\n"
     ]
    },
    {
     "name": "stderr",
     "output_type": "stream",
     "text": [
      "/home/ubuntu/anaconda3/lib/python3.8/site-packages/sklearn/svm/_base.py:985: ConvergenceWarning: Liblinear failed to converge, increase the number of iterations.\n",
      "  warnings.warn(\"Liblinear failed to converge, increase \"\n"
     ]
    },
    {
     "name": "stdout",
     "output_type": "stream",
     "text": [
      "roc_auc_score with max_iters=50.0, C=0.1, penalty=l1 and deleted features 'housing','loan','previous','marital','education','day_of_week': 0.7757459692296341\n",
      "roc_auc_score with max_iters=50.0, C=0.1, penalty=l2 and deleted features 'housing','loan','previous','marital','education','day_of_week': 0.7761898612750885\n"
     ]
    },
    {
     "name": "stderr",
     "output_type": "stream",
     "text": [
      "/home/ubuntu/anaconda3/lib/python3.8/site-packages/sklearn/svm/_base.py:985: ConvergenceWarning: Liblinear failed to converge, increase the number of iterations.\n",
      "  warnings.warn(\"Liblinear failed to converge, increase \"\n"
     ]
    },
    {
     "name": "stdout",
     "output_type": "stream",
     "text": [
      "roc_auc_score with max_iters=50.0, C=0.01, penalty=l1 and deleted features 'housing','loan','previous','marital','education','day_of_week': 0.7656541316164895\n",
      "roc_auc_score with max_iters=50.0, C=0.01, penalty=l2 and deleted features 'housing','loan','previous','marital','education','day_of_week': 0.7754611865407319\n",
      "roc_auc_score with max_iters=50.0, C=0.001, penalty=l1 and deleted features 'housing','loan','previous','marital','education','day_of_week': 0.737010450487013\n",
      "roc_auc_score with max_iters=50.0, C=0.001, penalty=l2 and deleted features 'housing','loan','previous','marital','education','day_of_week': 0.7611606374212909\n",
      "roc_auc_score with max_iters=50.0, C=0.0001, penalty=l1 and deleted features 'housing','loan','previous','marital','education','day_of_week': 0.44696669925718224\n",
      "roc_auc_score with max_iters=50.0, C=0.0001, penalty=l2 and deleted features 'housing','loan','previous','marital','education','day_of_week': 0.743846234258166\n"
     ]
    },
    {
     "name": "stderr",
     "output_type": "stream",
     "text": [
      "/home/ubuntu/anaconda3/lib/python3.8/site-packages/sklearn/svm/_base.py:985: ConvergenceWarning: Liblinear failed to converge, increase the number of iterations.\n",
      "  warnings.warn(\"Liblinear failed to converge, increase \"\n"
     ]
    },
    {
     "name": "stdout",
     "output_type": "stream",
     "text": [
      "roc_auc_score with max_iters=60.0, C=100, penalty=l1 and deleted features 'housing','loan','previous','marital','education','day_of_week': 0.7751395089285715\n",
      "roc_auc_score with max_iters=60.0, C=100, penalty=l2 and deleted features 'housing','loan','previous','marital','education','day_of_week': 0.7761827897481306\n"
     ]
    },
    {
     "name": "stderr",
     "output_type": "stream",
     "text": [
      "/home/ubuntu/anaconda3/lib/python3.8/site-packages/sklearn/svm/_base.py:985: ConvergenceWarning: Liblinear failed to converge, increase the number of iterations.\n",
      "  warnings.warn(\"Liblinear failed to converge, increase \"\n"
     ]
    },
    {
     "name": "stdout",
     "output_type": "stream",
     "text": [
      "roc_auc_score with max_iters=60.0, C=50, penalty=l1 and deleted features 'housing','loan','previous','marital','education','day_of_week': 0.7751267494342777\n",
      "roc_auc_score with max_iters=60.0, C=50, penalty=l2 and deleted features 'housing','loan','previous','marital','education','day_of_week': 0.7761755644923258\n"
     ]
    },
    {
     "name": "stderr",
     "output_type": "stream",
     "text": [
      "/home/ubuntu/anaconda3/lib/python3.8/site-packages/sklearn/svm/_base.py:985: ConvergenceWarning: Liblinear failed to converge, increase the number of iterations.\n",
      "  warnings.warn(\"Liblinear failed to converge, increase \"\n"
     ]
    },
    {
     "name": "stdout",
     "output_type": "stream",
     "text": [
      "roc_auc_score with max_iters=60.0, C=20, penalty=l1 and deleted features 'housing','loan','previous','marital','education','day_of_week': 0.775481632477371\n",
      "roc_auc_score with max_iters=60.0, C=20, penalty=l2 and deleted features 'housing','loan','previous','marital','education','day_of_week': 0.7761758719500197\n"
     ]
    },
    {
     "name": "stderr",
     "output_type": "stream",
     "text": [
      "/home/ubuntu/anaconda3/lib/python3.8/site-packages/sklearn/svm/_base.py:985: ConvergenceWarning: Liblinear failed to converge, increase the number of iterations.\n",
      "  warnings.warn(\"Liblinear failed to converge, increase \"\n"
     ]
    },
    {
     "name": "stdout",
     "output_type": "stream",
     "text": [
      "roc_auc_score with max_iters=60.0, C=18, penalty=l1 and deleted features 'housing','loan','previous','marital','education','day_of_week': 0.7752366655598188\n",
      "roc_auc_score with max_iters=60.0, C=18, penalty=l2 and deleted features 'housing','loan','previous','marital','education','day_of_week': 0.7761732585596222\n"
     ]
    },
    {
     "name": "stderr",
     "output_type": "stream",
     "text": [
      "/home/ubuntu/anaconda3/lib/python3.8/site-packages/sklearn/svm/_base.py:985: ConvergenceWarning: Liblinear failed to converge, increase the number of iterations.\n",
      "  warnings.warn(\"Liblinear failed to converge, increase \"\n"
     ]
    },
    {
     "name": "stdout",
     "output_type": "stream",
     "text": [
      "roc_auc_score with max_iters=60.0, C=15, penalty=l1 and deleted features 'housing','loan','previous','marital','education','day_of_week': 0.7757721031336089\n",
      "roc_auc_score with max_iters=60.0, C=15, penalty=l2 and deleted features 'housing','loan','previous','marital','education','day_of_week': 0.7761763331365604\n"
     ]
    },
    {
     "name": "stderr",
     "output_type": "stream",
     "text": [
      "/home/ubuntu/anaconda3/lib/python3.8/site-packages/sklearn/svm/_base.py:985: ConvergenceWarning: Liblinear failed to converge, increase the number of iterations.\n",
      "  warnings.warn(\"Liblinear failed to converge, increase \"\n"
     ]
    },
    {
     "name": "stdout",
     "output_type": "stream",
     "text": [
      "roc_auc_score with max_iters=60.0, C=13, penalty=l1 and deleted features 'housing','loan','previous','marital','education','day_of_week': 0.775845201200315\n",
      "roc_auc_score with max_iters=60.0, C=13, penalty=l2 and deleted features 'housing','loan','previous','marital','education','day_of_week': 0.7761769480519481\n"
     ]
    },
    {
     "name": "stderr",
     "output_type": "stream",
     "text": [
      "/home/ubuntu/anaconda3/lib/python3.8/site-packages/sklearn/svm/_base.py:985: ConvergenceWarning: Liblinear failed to converge, increase the number of iterations.\n",
      "  warnings.warn(\"Liblinear failed to converge, increase \"\n"
     ]
    },
    {
     "name": "stdout",
     "output_type": "stream",
     "text": [
      "roc_auc_score with max_iters=60.0, C=10, penalty=l1 and deleted features 'housing','loan','previous','marital','education','day_of_week': 0.7761641885576545\n",
      "roc_auc_score with max_iters=60.0, C=10, penalty=l2 and deleted features 'housing','loan','previous','marital','education','day_of_week': 0.7760772548947265\n"
     ]
    },
    {
     "name": "stderr",
     "output_type": "stream",
     "text": [
      "/home/ubuntu/anaconda3/lib/python3.8/site-packages/sklearn/svm/_base.py:985: ConvergenceWarning: Liblinear failed to converge, increase the number of iterations.\n",
      "  warnings.warn(\"Liblinear failed to converge, increase \"\n"
     ]
    },
    {
     "name": "stdout",
     "output_type": "stream",
     "text": [
      "roc_auc_score with max_iters=60.0, C=1.0, penalty=l1 and deleted features 'housing','loan','previous','marital','education','day_of_week': 0.7777638909386068\n",
      "roc_auc_score with max_iters=60.0, C=1.0, penalty=l2 and deleted features 'housing','loan','previous','marital','education','day_of_week': 0.7761744883903975\n"
     ]
    },
    {
     "name": "stderr",
     "output_type": "stream",
     "text": [
      "/home/ubuntu/anaconda3/lib/python3.8/site-packages/sklearn/svm/_base.py:985: ConvergenceWarning: Liblinear failed to converge, increase the number of iterations.\n",
      "  warnings.warn(\"Liblinear failed to converge, increase \"\n"
     ]
    },
    {
     "name": "stdout",
     "output_type": "stream",
     "text": [
      "roc_auc_score with max_iters=60.0, C=0.1, penalty=l1 and deleted features 'housing','loan','previous','marital','education','day_of_week': 0.7766721086678474\n",
      "roc_auc_score with max_iters=60.0, C=0.1, penalty=l2 and deleted features 'housing','loan','previous','marital','education','day_of_week': 0.7761898612750885\n"
     ]
    },
    {
     "name": "stderr",
     "output_type": "stream",
     "text": [
      "/home/ubuntu/anaconda3/lib/python3.8/site-packages/sklearn/svm/_base.py:985: ConvergenceWarning: Liblinear failed to converge, increase the number of iterations.\n",
      "  warnings.warn(\"Liblinear failed to converge, increase \"\n"
     ]
    },
    {
     "name": "stdout",
     "output_type": "stream",
     "text": [
      "roc_auc_score with max_iters=60.0, C=0.01, penalty=l1 and deleted features 'housing','loan','previous','marital','education','day_of_week': 0.7655218479437229\n",
      "roc_auc_score with max_iters=60.0, C=0.01, penalty=l2 and deleted features 'housing','loan','previous','marital','education','day_of_week': 0.7754611865407319\n",
      "roc_auc_score with max_iters=60.0, C=0.001, penalty=l1 and deleted features 'housing','loan','previous','marital','education','day_of_week': 0.737010450487013\n",
      "roc_auc_score with max_iters=60.0, C=0.001, penalty=l2 and deleted features 'housing','loan','previous','marital','education','day_of_week': 0.7611606374212909\n",
      "roc_auc_score with max_iters=60.0, C=0.0001, penalty=l1 and deleted features 'housing','loan','previous','marital','education','day_of_week': 0.44696669925718224\n",
      "roc_auc_score with max_iters=60.0, C=0.0001, penalty=l2 and deleted features 'housing','loan','previous','marital','education','day_of_week': 0.743846234258166\n"
     ]
    },
    {
     "name": "stderr",
     "output_type": "stream",
     "text": [
      "/home/ubuntu/anaconda3/lib/python3.8/site-packages/sklearn/svm/_base.py:985: ConvergenceWarning: Liblinear failed to converge, increase the number of iterations.\n",
      "  warnings.warn(\"Liblinear failed to converge, increase \"\n"
     ]
    },
    {
     "name": "stdout",
     "output_type": "stream",
     "text": [
      "roc_auc_score with max_iters=70.0, C=100, penalty=l1 and deleted features 'housing','loan','previous','marital','education','day_of_week': 0.7757998511904762\n",
      "roc_auc_score with max_iters=70.0, C=100, penalty=l2 and deleted features 'housing','loan','previous','marital','education','day_of_week': 0.7761827897481306\n"
     ]
    },
    {
     "name": "stderr",
     "output_type": "stream",
     "text": [
      "/home/ubuntu/anaconda3/lib/python3.8/site-packages/sklearn/svm/_base.py:985: ConvergenceWarning: Liblinear failed to converge, increase the number of iterations.\n",
      "  warnings.warn(\"Liblinear failed to converge, increase \"\n"
     ]
    },
    {
     "name": "stdout",
     "output_type": "stream",
     "text": [
      "roc_auc_score with max_iters=70.0, C=50, penalty=l1 and deleted features 'housing','loan','previous','marital','education','day_of_week': 0.7757607271989374\n",
      "roc_auc_score with max_iters=70.0, C=50, penalty=l2 and deleted features 'housing','loan','previous','marital','education','day_of_week': 0.7761755644923258\n"
     ]
    },
    {
     "name": "stderr",
     "output_type": "stream",
     "text": [
      "/home/ubuntu/anaconda3/lib/python3.8/site-packages/sklearn/svm/_base.py:985: ConvergenceWarning: Liblinear failed to converge, increase the number of iterations.\n",
      "  warnings.warn(\"Liblinear failed to converge, increase \"\n"
     ]
    },
    {
     "name": "stdout",
     "output_type": "stream",
     "text": [
      "roc_auc_score with max_iters=70.0, C=20, penalty=l1 and deleted features 'housing','loan','previous','marital','education','day_of_week': 0.7760836346418734\n",
      "roc_auc_score with max_iters=70.0, C=20, penalty=l2 and deleted features 'housing','loan','previous','marital','education','day_of_week': 0.7761758719500197\n"
     ]
    },
    {
     "name": "stderr",
     "output_type": "stream",
     "text": [
      "/home/ubuntu/anaconda3/lib/python3.8/site-packages/sklearn/svm/_base.py:985: ConvergenceWarning: Liblinear failed to converge, increase the number of iterations.\n",
      "  warnings.warn(\"Liblinear failed to converge, increase \"\n"
     ]
    },
    {
     "name": "stdout",
     "output_type": "stream",
     "text": [
      "roc_auc_score with max_iters=70.0, C=18, penalty=l1 and deleted features 'housing','loan','previous','marital','education','day_of_week': 0.7762598079004328\n",
      "roc_auc_score with max_iters=70.0, C=18, penalty=l2 and deleted features 'housing','loan','previous','marital','education','day_of_week': 0.7761732585596222\n"
     ]
    },
    {
     "name": "stderr",
     "output_type": "stream",
     "text": [
      "/home/ubuntu/anaconda3/lib/python3.8/site-packages/sklearn/svm/_base.py:985: ConvergenceWarning: Liblinear failed to converge, increase the number of iterations.\n",
      "  warnings.warn(\"Liblinear failed to converge, increase \"\n"
     ]
    },
    {
     "name": "stdout",
     "output_type": "stream",
     "text": [
      "roc_auc_score with max_iters=70.0, C=15, penalty=l1 and deleted features 'housing','loan','previous','marital','education','day_of_week': 0.7764044667453758\n",
      "roc_auc_score with max_iters=70.0, C=15, penalty=l2 and deleted features 'housing','loan','previous','marital','education','day_of_week': 0.7761763331365604\n"
     ]
    },
    {
     "name": "stderr",
     "output_type": "stream",
     "text": [
      "/home/ubuntu/anaconda3/lib/python3.8/site-packages/sklearn/svm/_base.py:985: ConvergenceWarning: Liblinear failed to converge, increase the number of iterations.\n",
      "  warnings.warn(\"Liblinear failed to converge, increase \"\n"
     ]
    },
    {
     "name": "stdout",
     "output_type": "stream",
     "text": [
      "roc_auc_score with max_iters=70.0, C=13, penalty=l1 and deleted features 'housing','loan','previous','marital','education','day_of_week': 0.7763700314836679\n",
      "roc_auc_score with max_iters=70.0, C=13, penalty=l2 and deleted features 'housing','loan','previous','marital','education','day_of_week': 0.7761769480519481\n"
     ]
    },
    {
     "name": "stderr",
     "output_type": "stream",
     "text": [
      "/home/ubuntu/anaconda3/lib/python3.8/site-packages/sklearn/svm/_base.py:985: ConvergenceWarning: Liblinear failed to converge, increase the number of iterations.\n",
      "  warnings.warn(\"Liblinear failed to converge, increase \"\n"
     ]
    },
    {
     "name": "stdout",
     "output_type": "stream",
     "text": [
      "roc_auc_score with max_iters=70.0, C=10, penalty=l1 and deleted features 'housing','loan','previous','marital','education','day_of_week': 0.77683967311098\n",
      "roc_auc_score with max_iters=70.0, C=10, penalty=l2 and deleted features 'housing','loan','previous','marital','education','day_of_week': 0.7760772548947265\n"
     ]
    },
    {
     "name": "stderr",
     "output_type": "stream",
     "text": [
      "/home/ubuntu/anaconda3/lib/python3.8/site-packages/sklearn/svm/_base.py:985: ConvergenceWarning: Liblinear failed to converge, increase the number of iterations.\n",
      "  warnings.warn(\"Liblinear failed to converge, increase \"\n"
     ]
    },
    {
     "name": "stdout",
     "output_type": "stream",
     "text": [
      "roc_auc_score with max_iters=70.0, C=1.0, penalty=l1 and deleted features 'housing','loan','previous','marital','education','day_of_week': 0.778424463793782\n",
      "roc_auc_score with max_iters=70.0, C=1.0, penalty=l2 and deleted features 'housing','loan','previous','marital','education','day_of_week': 0.7761744883903975\n"
     ]
    },
    {
     "name": "stderr",
     "output_type": "stream",
     "text": [
      "/home/ubuntu/anaconda3/lib/python3.8/site-packages/sklearn/svm/_base.py:985: ConvergenceWarning: Liblinear failed to converge, increase the number of iterations.\n",
      "  warnings.warn(\"Liblinear failed to converge, increase \"\n"
     ]
    },
    {
     "name": "stdout",
     "output_type": "stream",
     "text": [
      "roc_auc_score with max_iters=70.0, C=0.1, penalty=l1 and deleted features 'housing','loan','previous','marital','education','day_of_week': 0.7773864097550177\n",
      "roc_auc_score with max_iters=70.0, C=0.1, penalty=l2 and deleted features 'housing','loan','previous','marital','education','day_of_week': 0.7761898612750885\n"
     ]
    },
    {
     "name": "stderr",
     "output_type": "stream",
     "text": [
      "/home/ubuntu/anaconda3/lib/python3.8/site-packages/sklearn/svm/_base.py:985: ConvergenceWarning: Liblinear failed to converge, increase the number of iterations.\n",
      "  warnings.warn(\"Liblinear failed to converge, increase \"\n"
     ]
    },
    {
     "name": "stdout",
     "output_type": "stream",
     "text": [
      "roc_auc_score with max_iters=70.0, C=0.01, penalty=l1 and deleted features 'housing','loan','previous','marital','education','day_of_week': 0.7654221547865013\n",
      "roc_auc_score with max_iters=70.0, C=0.01, penalty=l2 and deleted features 'housing','loan','previous','marital','education','day_of_week': 0.7754611865407319\n",
      "roc_auc_score with max_iters=70.0, C=0.001, penalty=l1 and deleted features 'housing','loan','previous','marital','education','day_of_week': 0.737010450487013\n",
      "roc_auc_score with max_iters=70.0, C=0.001, penalty=l2 and deleted features 'housing','loan','previous','marital','education','day_of_week': 0.7611606374212909\n",
      "roc_auc_score with max_iters=70.0, C=0.0001, penalty=l1 and deleted features 'housing','loan','previous','marital','education','day_of_week': 0.44696669925718224\n",
      "roc_auc_score with max_iters=70.0, C=0.0001, penalty=l2 and deleted features 'housing','loan','previous','marital','education','day_of_week': 0.743846234258166\n"
     ]
    },
    {
     "name": "stderr",
     "output_type": "stream",
     "text": [
      "/home/ubuntu/anaconda3/lib/python3.8/site-packages/sklearn/svm/_base.py:985: ConvergenceWarning: Liblinear failed to converge, increase the number of iterations.\n",
      "  warnings.warn(\"Liblinear failed to converge, increase \"\n"
     ]
    },
    {
     "name": "stdout",
     "output_type": "stream",
     "text": [
      "roc_auc_score with max_iters=80.0, C=100, penalty=l1 and deleted features 'housing','loan','previous','marital','education','day_of_week': 0.7762619601042896\n",
      "roc_auc_score with max_iters=80.0, C=100, penalty=l2 and deleted features 'housing','loan','previous','marital','education','day_of_week': 0.7761827897481306\n"
     ]
    },
    {
     "name": "stderr",
     "output_type": "stream",
     "text": [
      "/home/ubuntu/anaconda3/lib/python3.8/site-packages/sklearn/svm/_base.py:985: ConvergenceWarning: Liblinear failed to converge, increase the number of iterations.\n",
      "  warnings.warn(\"Liblinear failed to converge, increase \"\n"
     ]
    },
    {
     "name": "stdout",
     "output_type": "stream",
     "text": [
      "roc_auc_score with max_iters=80.0, C=50, penalty=l1 and deleted features 'housing','loan','previous','marital','education','day_of_week': 0.7762419753541914\n",
      "roc_auc_score with max_iters=80.0, C=50, penalty=l2 and deleted features 'housing','loan','previous','marital','education','day_of_week': 0.7761755644923258\n"
     ]
    },
    {
     "name": "stderr",
     "output_type": "stream",
     "text": [
      "/home/ubuntu/anaconda3/lib/python3.8/site-packages/sklearn/svm/_base.py:985: ConvergenceWarning: Liblinear failed to converge, increase the number of iterations.\n",
      "  warnings.warn(\"Liblinear failed to converge, increase \"\n"
     ]
    },
    {
     "name": "stdout",
     "output_type": "stream",
     "text": [
      "roc_auc_score with max_iters=80.0, C=20, penalty=l1 and deleted features 'housing','loan','previous','marital','education','day_of_week': 0.7766928620621802\n",
      "roc_auc_score with max_iters=80.0, C=20, penalty=l2 and deleted features 'housing','loan','previous','marital','education','day_of_week': 0.7761758719500197\n"
     ]
    },
    {
     "name": "stderr",
     "output_type": "stream",
     "text": [
      "/home/ubuntu/anaconda3/lib/python3.8/site-packages/sklearn/svm/_base.py:985: ConvergenceWarning: Liblinear failed to converge, increase the number of iterations.\n",
      "  warnings.warn(\"Liblinear failed to converge, increase \"\n"
     ]
    },
    {
     "name": "stdout",
     "output_type": "stream",
     "text": [
      "roc_auc_score with max_iters=80.0, C=18, penalty=l1 and deleted features 'housing','loan','previous','marital','education','day_of_week': 0.7769766455135774\n",
      "roc_auc_score with max_iters=80.0, C=18, penalty=l2 and deleted features 'housing','loan','previous','marital','education','day_of_week': 0.7761732585596222\n"
     ]
    },
    {
     "name": "stderr",
     "output_type": "stream",
     "text": [
      "/home/ubuntu/anaconda3/lib/python3.8/site-packages/sklearn/svm/_base.py:985: ConvergenceWarning: Liblinear failed to converge, increase the number of iterations.\n",
      "  warnings.warn(\"Liblinear failed to converge, increase \"\n"
     ]
    },
    {
     "name": "stdout",
     "output_type": "stream",
     "text": [
      "roc_auc_score with max_iters=80.0, C=15, penalty=l1 and deleted features 'housing','loan','previous','marital','education','day_of_week': 0.777126146817198\n",
      "roc_auc_score with max_iters=80.0, C=15, penalty=l2 and deleted features 'housing','loan','previous','marital','education','day_of_week': 0.7761763331365604\n"
     ]
    },
    {
     "name": "stderr",
     "output_type": "stream",
     "text": [
      "/home/ubuntu/anaconda3/lib/python3.8/site-packages/sklearn/svm/_base.py:985: ConvergenceWarning: Liblinear failed to converge, increase the number of iterations.\n",
      "  warnings.warn(\"Liblinear failed to converge, increase \"\n"
     ]
    },
    {
     "name": "stdout",
     "output_type": "stream",
     "text": [
      "roc_auc_score with max_iters=80.0, C=13, penalty=l1 and deleted features 'housing','loan','previous','marital','education','day_of_week': 0.7768080049685163\n",
      "roc_auc_score with max_iters=80.0, C=13, penalty=l2 and deleted features 'housing','loan','previous','marital','education','day_of_week': 0.7761769480519481\n"
     ]
    },
    {
     "name": "stderr",
     "output_type": "stream",
     "text": [
      "/home/ubuntu/anaconda3/lib/python3.8/site-packages/sklearn/svm/_base.py:985: ConvergenceWarning: Liblinear failed to converge, increase the number of iterations.\n",
      "  warnings.warn(\"Liblinear failed to converge, increase \"\n"
     ]
    },
    {
     "name": "stdout",
     "output_type": "stream",
     "text": [
      "roc_auc_score with max_iters=80.0, C=10, penalty=l1 and deleted features 'housing','loan','previous','marital','education','day_of_week': 0.7774073937426209\n",
      "roc_auc_score with max_iters=80.0, C=10, penalty=l2 and deleted features 'housing','loan','previous','marital','education','day_of_week': 0.7760772548947265\n"
     ]
    },
    {
     "name": "stderr",
     "output_type": "stream",
     "text": [
      "/home/ubuntu/anaconda3/lib/python3.8/site-packages/sklearn/svm/_base.py:985: ConvergenceWarning: Liblinear failed to converge, increase the number of iterations.\n",
      "  warnings.warn(\"Liblinear failed to converge, increase \"\n"
     ]
    },
    {
     "name": "stdout",
     "output_type": "stream",
     "text": [
      "roc_auc_score with max_iters=80.0, C=1.0, penalty=l1 and deleted features 'housing','loan','previous','marital','education','day_of_week': 0.7786749649498228\n",
      "roc_auc_score with max_iters=80.0, C=1.0, penalty=l2 and deleted features 'housing','loan','previous','marital','education','day_of_week': 0.7761744883903975\n"
     ]
    },
    {
     "name": "stderr",
     "output_type": "stream",
     "text": [
      "/home/ubuntu/anaconda3/lib/python3.8/site-packages/sklearn/svm/_base.py:985: ConvergenceWarning: Liblinear failed to converge, increase the number of iterations.\n",
      "  warnings.warn(\"Liblinear failed to converge, increase \"\n"
     ]
    },
    {
     "name": "stdout",
     "output_type": "stream",
     "text": [
      "roc_auc_score with max_iters=80.0, C=0.1, penalty=l1 and deleted features 'housing','loan','previous','marital','education','day_of_week': 0.7778144677292403\n",
      "roc_auc_score with max_iters=80.0, C=0.1, penalty=l2 and deleted features 'housing','loan','previous','marital','education','day_of_week': 0.7761898612750885\n"
     ]
    },
    {
     "name": "stderr",
     "output_type": "stream",
     "text": [
      "/home/ubuntu/anaconda3/lib/python3.8/site-packages/sklearn/svm/_base.py:985: ConvergenceWarning: Liblinear failed to converge, increase the number of iterations.\n",
      "  warnings.warn(\"Liblinear failed to converge, increase \"\n"
     ]
    },
    {
     "name": "stdout",
     "output_type": "stream",
     "text": [
      "roc_auc_score with max_iters=80.0, C=0.01, penalty=l1 and deleted features 'housing','loan','previous','marital','education','day_of_week': 0.7655867983815428\n",
      "roc_auc_score with max_iters=80.0, C=0.01, penalty=l2 and deleted features 'housing','loan','previous','marital','education','day_of_week': 0.7754611865407319\n",
      "roc_auc_score with max_iters=80.0, C=0.001, penalty=l1 and deleted features 'housing','loan','previous','marital','education','day_of_week': 0.737010450487013\n",
      "roc_auc_score with max_iters=80.0, C=0.001, penalty=l2 and deleted features 'housing','loan','previous','marital','education','day_of_week': 0.7611606374212909\n",
      "roc_auc_score with max_iters=80.0, C=0.0001, penalty=l1 and deleted features 'housing','loan','previous','marital','education','day_of_week': 0.44696669925718224\n",
      "roc_auc_score with max_iters=80.0, C=0.0001, penalty=l2 and deleted features 'housing','loan','previous','marital','education','day_of_week': 0.743846234258166\n"
     ]
    },
    {
     "name": "stderr",
     "output_type": "stream",
     "text": [
      "/home/ubuntu/anaconda3/lib/python3.8/site-packages/sklearn/svm/_base.py:985: ConvergenceWarning: Liblinear failed to converge, increase the number of iterations.\n",
      "  warnings.warn(\"Liblinear failed to converge, increase \"\n"
     ]
    },
    {
     "name": "stdout",
     "output_type": "stream",
     "text": [
      "roc_auc_score with max_iters=90.0, C=100, penalty=l1 and deleted features 'housing','loan','previous','marital','education','day_of_week': 0.7768405954840614\n",
      "roc_auc_score with max_iters=90.0, C=100, penalty=l2 and deleted features 'housing','loan','previous','marital','education','day_of_week': 0.7761827897481306\n"
     ]
    },
    {
     "name": "stderr",
     "output_type": "stream",
     "text": [
      "/home/ubuntu/anaconda3/lib/python3.8/site-packages/sklearn/svm/_base.py:985: ConvergenceWarning: Liblinear failed to converge, increase the number of iterations.\n",
      "  warnings.warn(\"Liblinear failed to converge, increase \"\n"
     ]
    },
    {
     "name": "stdout",
     "output_type": "stream",
     "text": [
      "roc_auc_score with max_iters=90.0, C=50, penalty=l1 and deleted features 'housing','loan','previous','marital','education','day_of_week': 0.7767166900334515\n",
      "roc_auc_score with max_iters=90.0, C=50, penalty=l2 and deleted features 'housing','loan','previous','marital','education','day_of_week': 0.7761755644923258\n"
     ]
    },
    {
     "name": "stderr",
     "output_type": "stream",
     "text": [
      "/home/ubuntu/anaconda3/lib/python3.8/site-packages/sklearn/svm/_base.py:985: ConvergenceWarning: Liblinear failed to converge, increase the number of iterations.\n",
      "  warnings.warn(\"Liblinear failed to converge, increase \"\n"
     ]
    },
    {
     "name": "stdout",
     "output_type": "stream",
     "text": [
      "roc_auc_score with max_iters=90.0, C=20, penalty=l1 and deleted features 'housing','loan','previous','marital','education','day_of_week': 0.7771512814836679\n",
      "roc_auc_score with max_iters=90.0, C=20, penalty=l2 and deleted features 'housing','loan','previous','marital','education','day_of_week': 0.7761758719500197\n"
     ]
    },
    {
     "name": "stderr",
     "output_type": "stream",
     "text": [
      "/home/ubuntu/anaconda3/lib/python3.8/site-packages/sklearn/svm/_base.py:985: ConvergenceWarning: Liblinear failed to converge, increase the number of iterations.\n",
      "  warnings.warn(\"Liblinear failed to converge, increase \"\n"
     ]
    },
    {
     "name": "stdout",
     "output_type": "stream",
     "text": [
      "roc_auc_score with max_iters=90.0, C=18, penalty=l1 and deleted features 'housing','loan','previous','marital','education','day_of_week': 0.7773135422815821\n",
      "roc_auc_score with max_iters=90.0, C=18, penalty=l2 and deleted features 'housing','loan','previous','marital','education','day_of_week': 0.7761732585596222\n"
     ]
    },
    {
     "name": "stderr",
     "output_type": "stream",
     "text": [
      "/home/ubuntu/anaconda3/lib/python3.8/site-packages/sklearn/svm/_base.py:985: ConvergenceWarning: Liblinear failed to converge, increase the number of iterations.\n",
      "  warnings.warn(\"Liblinear failed to converge, increase \"\n"
     ]
    },
    {
     "name": "stdout",
     "output_type": "stream",
     "text": [
      "roc_auc_score with max_iters=90.0, C=15, penalty=l1 and deleted features 'housing','loan','previous','marital','education','day_of_week': 0.7776284558244785\n",
      "roc_auc_score with max_iters=90.0, C=15, penalty=l2 and deleted features 'housing','loan','previous','marital','education','day_of_week': 0.7761763331365604\n"
     ]
    },
    {
     "name": "stderr",
     "output_type": "stream",
     "text": [
      "/home/ubuntu/anaconda3/lib/python3.8/site-packages/sklearn/svm/_base.py:985: ConvergenceWarning: Liblinear failed to converge, increase the number of iterations.\n",
      "  warnings.warn(\"Liblinear failed to converge, increase \"\n"
     ]
    },
    {
     "name": "stdout",
     "output_type": "stream",
     "text": [
      "roc_auc_score with max_iters=90.0, C=13, penalty=l1 and deleted features 'housing','loan','previous','marital','education','day_of_week': 0.7773075468565525\n",
      "roc_auc_score with max_iters=90.0, C=13, penalty=l2 and deleted features 'housing','loan','previous','marital','education','day_of_week': 0.7761769480519481\n"
     ]
    },
    {
     "name": "stderr",
     "output_type": "stream",
     "text": [
      "/home/ubuntu/anaconda3/lib/python3.8/site-packages/sklearn/svm/_base.py:985: ConvergenceWarning: Liblinear failed to converge, increase the number of iterations.\n",
      "  warnings.warn(\"Liblinear failed to converge, increase \"\n"
     ]
    },
    {
     "name": "stdout",
     "output_type": "stream",
     "text": [
      "roc_auc_score with max_iters=90.0, C=10, penalty=l1 and deleted features 'housing','loan','previous','marital','education','day_of_week': 0.7780070899744195\n",
      "roc_auc_score with max_iters=90.0, C=10, penalty=l2 and deleted features 'housing','loan','previous','marital','education','day_of_week': 0.7760772548947265\n"
     ]
    },
    {
     "name": "stderr",
     "output_type": "stream",
     "text": [
      "/home/ubuntu/anaconda3/lib/python3.8/site-packages/sklearn/svm/_base.py:985: ConvergenceWarning: Liblinear failed to converge, increase the number of iterations.\n",
      "  warnings.warn(\"Liblinear failed to converge, increase \"\n"
     ]
    },
    {
     "name": "stdout",
     "output_type": "stream",
     "text": [
      "roc_auc_score with max_iters=90.0, C=1.0, penalty=l1 and deleted features 'housing','loan','previous','marital','education','day_of_week': 0.7790186257870918\n",
      "roc_auc_score with max_iters=90.0, C=1.0, penalty=l2 and deleted features 'housing','loan','previous','marital','education','day_of_week': 0.7761744883903975\n"
     ]
    },
    {
     "name": "stderr",
     "output_type": "stream",
     "text": [
      "/home/ubuntu/anaconda3/lib/python3.8/site-packages/sklearn/svm/_base.py:985: ConvergenceWarning: Liblinear failed to converge, increase the number of iterations.\n",
      "  warnings.warn(\"Liblinear failed to converge, increase \"\n"
     ]
    },
    {
     "name": "stdout",
     "output_type": "stream",
     "text": [
      "roc_auc_score with max_iters=90.0, C=0.1, penalty=l1 and deleted features 'housing','loan','previous','marital','education','day_of_week': 0.7778000940820542\n",
      "roc_auc_score with max_iters=90.0, C=0.1, penalty=l2 and deleted features 'housing','loan','previous','marital','education','day_of_week': 0.7761898612750885\n"
     ]
    },
    {
     "name": "stderr",
     "output_type": "stream",
     "text": [
      "/home/ubuntu/anaconda3/lib/python3.8/site-packages/sklearn/svm/_base.py:985: ConvergenceWarning: Liblinear failed to converge, increase the number of iterations.\n",
      "  warnings.warn(\"Liblinear failed to converge, increase \"\n"
     ]
    },
    {
     "name": "stdout",
     "output_type": "stream",
     "text": [
      "roc_auc_score with max_iters=90.0, C=0.01, penalty=l1 and deleted features 'housing','loan','previous','marital','education','day_of_week': 0.7656715029761904\n",
      "roc_auc_score with max_iters=90.0, C=0.01, penalty=l2 and deleted features 'housing','loan','previous','marital','education','day_of_week': 0.7754611865407319\n",
      "roc_auc_score with max_iters=90.0, C=0.001, penalty=l1 and deleted features 'housing','loan','previous','marital','education','day_of_week': 0.737010450487013\n",
      "roc_auc_score with max_iters=90.0, C=0.001, penalty=l2 and deleted features 'housing','loan','previous','marital','education','day_of_week': 0.7611606374212909\n",
      "roc_auc_score with max_iters=90.0, C=0.0001, penalty=l1 and deleted features 'housing','loan','previous','marital','education','day_of_week': 0.44696669925718224\n",
      "roc_auc_score with max_iters=90.0, C=0.0001, penalty=l2 and deleted features 'housing','loan','previous','marital','education','day_of_week': 0.743846234258166\n"
     ]
    },
    {
     "name": "stderr",
     "output_type": "stream",
     "text": [
      "/home/ubuntu/anaconda3/lib/python3.8/site-packages/sklearn/svm/_base.py:985: ConvergenceWarning: Liblinear failed to converge, increase the number of iterations.\n",
      "  warnings.warn(\"Liblinear failed to converge, increase \"\n"
     ]
    },
    {
     "name": "stdout",
     "output_type": "stream",
     "text": [
      "roc_auc_score with max_iters=100.0, C=100, penalty=l1 and deleted features 'housing','loan','previous','marital','education','day_of_week': 0.7773998610291224\n",
      "roc_auc_score with max_iters=100.0, C=100, penalty=l2 and deleted features 'housing','loan','previous','marital','education','day_of_week': 0.7761827897481306\n"
     ]
    },
    {
     "name": "stderr",
     "output_type": "stream",
     "text": [
      "/home/ubuntu/anaconda3/lib/python3.8/site-packages/sklearn/svm/_base.py:985: ConvergenceWarning: Liblinear failed to converge, increase the number of iterations.\n",
      "  warnings.warn(\"Liblinear failed to converge, increase \"\n"
     ]
    },
    {
     "name": "stdout",
     "output_type": "stream",
     "text": [
      "roc_auc_score with max_iters=100.0, C=50, penalty=l1 and deleted features 'housing','loan','previous','marital','education','day_of_week': 0.7773717286501378\n",
      "roc_auc_score with max_iters=100.0, C=50, penalty=l2 and deleted features 'housing','loan','previous','marital','education','day_of_week': 0.7761755644923258\n"
     ]
    },
    {
     "name": "stderr",
     "output_type": "stream",
     "text": [
      "/home/ubuntu/anaconda3/lib/python3.8/site-packages/sklearn/svm/_base.py:985: ConvergenceWarning: Liblinear failed to converge, increase the number of iterations.\n",
      "  warnings.warn(\"Liblinear failed to converge, increase \"\n"
     ]
    },
    {
     "name": "stdout",
     "output_type": "stream",
     "text": [
      "roc_auc_score with max_iters=100.0, C=20, penalty=l1 and deleted features 'housing','loan','previous','marital','education','day_of_week': 0.7777526687327823\n",
      "roc_auc_score with max_iters=100.0, C=20, penalty=l2 and deleted features 'housing','loan','previous','marital','education','day_of_week': 0.7761758719500197\n"
     ]
    },
    {
     "name": "stderr",
     "output_type": "stream",
     "text": [
      "/home/ubuntu/anaconda3/lib/python3.8/site-packages/sklearn/svm/_base.py:985: ConvergenceWarning: Liblinear failed to converge, increase the number of iterations.\n",
      "  warnings.warn(\"Liblinear failed to converge, increase \"\n"
     ]
    },
    {
     "name": "stdout",
     "output_type": "stream",
     "text": [
      "roc_auc_score with max_iters=100.0, C=18, penalty=l1 and deleted features 'housing','loan','previous','marital','education','day_of_week': 0.7778289182408501\n",
      "roc_auc_score with max_iters=100.0, C=18, penalty=l2 and deleted features 'housing','loan','previous','marital','education','day_of_week': 0.7761732585596222\n"
     ]
    },
    {
     "name": "stderr",
     "output_type": "stream",
     "text": [
      "/home/ubuntu/anaconda3/lib/python3.8/site-packages/sklearn/svm/_base.py:985: ConvergenceWarning: Liblinear failed to converge, increase the number of iterations.\n",
      "  warnings.warn(\"Liblinear failed to converge, increase \"\n"
     ]
    },
    {
     "name": "stdout",
     "output_type": "stream",
     "text": [
      "roc_auc_score with max_iters=100.0, C=15, penalty=l1 and deleted features 'housing','loan','previous','marital','education','day_of_week': 0.7779233077528532\n",
      "roc_auc_score with max_iters=100.0, C=15, penalty=l2 and deleted features 'housing','loan','previous','marital','education','day_of_week': 0.7761763331365604\n"
     ]
    },
    {
     "name": "stderr",
     "output_type": "stream",
     "text": [
      "/home/ubuntu/anaconda3/lib/python3.8/site-packages/sklearn/svm/_base.py:985: ConvergenceWarning: Liblinear failed to converge, increase the number of iterations.\n",
      "  warnings.warn(\"Liblinear failed to converge, increase \"\n"
     ]
    },
    {
     "name": "stdout",
     "output_type": "stream",
     "text": [
      "roc_auc_score with max_iters=100.0, C=13, penalty=l1 and deleted features 'housing','loan','previous','marital','education','day_of_week': 0.7778106245080677\n",
      "roc_auc_score with max_iters=100.0, C=13, penalty=l2 and deleted features 'housing','loan','previous','marital','education','day_of_week': 0.7761769480519481\n"
     ]
    },
    {
     "name": "stderr",
     "output_type": "stream",
     "text": [
      "/home/ubuntu/anaconda3/lib/python3.8/site-packages/sklearn/svm/_base.py:985: ConvergenceWarning: Liblinear failed to converge, increase the number of iterations.\n",
      "  warnings.warn(\"Liblinear failed to converge, increase \"\n"
     ]
    },
    {
     "name": "stdout",
     "output_type": "stream",
     "text": [
      "roc_auc_score with max_iters=100.0, C=10, penalty=l1 and deleted features 'housing','loan','previous','marital','education','day_of_week': 0.7783800361570248\n",
      "roc_auc_score with max_iters=100.0, C=10, penalty=l2 and deleted features 'housing','loan','previous','marital','education','day_of_week': 0.7760772548947265\n"
     ]
    },
    {
     "name": "stderr",
     "output_type": "stream",
     "text": [
      "/home/ubuntu/anaconda3/lib/python3.8/site-packages/sklearn/svm/_base.py:985: ConvergenceWarning: Liblinear failed to converge, increase the number of iterations.\n",
      "  warnings.warn(\"Liblinear failed to converge, increase \"\n"
     ]
    },
    {
     "name": "stdout",
     "output_type": "stream",
     "text": [
      "roc_auc_score with max_iters=100.0, C=1.0, penalty=l1 and deleted features 'housing','loan','previous','marital','education','day_of_week': 0.7791619010724125\n",
      "roc_auc_score with max_iters=100.0, C=1.0, penalty=l2 and deleted features 'housing','loan','previous','marital','education','day_of_week': 0.7761744883903975\n"
     ]
    },
    {
     "name": "stderr",
     "output_type": "stream",
     "text": [
      "/home/ubuntu/anaconda3/lib/python3.8/site-packages/sklearn/svm/_base.py:985: ConvergenceWarning: Liblinear failed to converge, increase the number of iterations.\n",
      "  warnings.warn(\"Liblinear failed to converge, increase \"\n"
     ]
    },
    {
     "name": "stdout",
     "output_type": "stream",
     "text": [
      "roc_auc_score with max_iters=100.0, C=0.1, penalty=l1 and deleted features 'housing','loan','previous','marital','education','day_of_week': 0.777812546118654\n",
      "roc_auc_score with max_iters=100.0, C=0.1, penalty=l2 and deleted features 'housing','loan','previous','marital','education','day_of_week': 0.7761898612750885\n"
     ]
    },
    {
     "name": "stderr",
     "output_type": "stream",
     "text": [
      "/home/ubuntu/anaconda3/lib/python3.8/site-packages/sklearn/svm/_base.py:985: ConvergenceWarning: Liblinear failed to converge, increase the number of iterations.\n",
      "  warnings.warn(\"Liblinear failed to converge, increase \"\n"
     ]
    },
    {
     "name": "stdout",
     "output_type": "stream",
     "text": [
      "roc_auc_score with max_iters=100.0, C=0.01, penalty=l1 and deleted features 'housing','loan','previous','marital','education','day_of_week': 0.7657346855322706\n",
      "roc_auc_score with max_iters=100.0, C=0.01, penalty=l2 and deleted features 'housing','loan','previous','marital','education','day_of_week': 0.7754611865407319\n",
      "roc_auc_score with max_iters=100.0, C=0.001, penalty=l1 and deleted features 'housing','loan','previous','marital','education','day_of_week': 0.737010450487013\n",
      "roc_auc_score with max_iters=100.0, C=0.001, penalty=l2 and deleted features 'housing','loan','previous','marital','education','day_of_week': 0.7611606374212909\n",
      "roc_auc_score with max_iters=100.0, C=0.0001, penalty=l1 and deleted features 'housing','loan','previous','marital','education','day_of_week': 0.44696669925718224\n",
      "roc_auc_score with max_iters=100.0, C=0.0001, penalty=l2 and deleted features 'housing','loan','previous','marital','education','day_of_week': 0.743846234258166\n"
     ]
    },
    {
     "name": "stderr",
     "output_type": "stream",
     "text": [
      "/home/ubuntu/anaconda3/lib/python3.8/site-packages/sklearn/svm/_base.py:985: ConvergenceWarning: Liblinear failed to converge, increase the number of iterations.\n",
      "  warnings.warn(\"Liblinear failed to converge, increase \"\n"
     ]
    },
    {
     "name": "stdout",
     "output_type": "stream",
     "text": [
      "roc_auc_score with max_iters=110.0, C=100, penalty=l1 and deleted features 'housing','loan','previous','marital','education','day_of_week': 0.7776666574429358\n",
      "roc_auc_score with max_iters=110.0, C=100, penalty=l2 and deleted features 'housing','loan','previous','marital','education','day_of_week': 0.7761827897481306\n"
     ]
    },
    {
     "name": "stderr",
     "output_type": "stream",
     "text": [
      "/home/ubuntu/anaconda3/lib/python3.8/site-packages/sklearn/svm/_base.py:985: ConvergenceWarning: Liblinear failed to converge, increase the number of iterations.\n",
      "  warnings.warn(\"Liblinear failed to converge, increase \"\n"
     ]
    },
    {
     "name": "stdout",
     "output_type": "stream",
     "text": [
      "roc_auc_score with max_iters=110.0, C=50, penalty=l1 and deleted features 'housing','loan','previous','marital','education','day_of_week': 0.7776239976879181\n",
      "roc_auc_score with max_iters=110.0, C=50, penalty=l2 and deleted features 'housing','loan','previous','marital','education','day_of_week': 0.7761755644923258\n"
     ]
    },
    {
     "name": "stderr",
     "output_type": "stream",
     "text": [
      "/home/ubuntu/anaconda3/lib/python3.8/site-packages/sklearn/svm/_base.py:985: ConvergenceWarning: Liblinear failed to converge, increase the number of iterations.\n",
      "  warnings.warn(\"Liblinear failed to converge, increase \"\n"
     ]
    },
    {
     "name": "stdout",
     "output_type": "stream",
     "text": [
      "roc_auc_score with max_iters=110.0, C=20, penalty=l1 and deleted features 'housing','loan','previous','marital','education','day_of_week': 0.7778835688459269\n",
      "roc_auc_score with max_iters=110.0, C=20, penalty=l2 and deleted features 'housing','loan','previous','marital','education','day_of_week': 0.7761758719500197\n"
     ]
    },
    {
     "name": "stderr",
     "output_type": "stream",
     "text": [
      "/home/ubuntu/anaconda3/lib/python3.8/site-packages/sklearn/svm/_base.py:985: ConvergenceWarning: Liblinear failed to converge, increase the number of iterations.\n",
      "  warnings.warn(\"Liblinear failed to converge, increase \"\n"
     ]
    },
    {
     "name": "stdout",
     "output_type": "stream",
     "text": [
      "roc_auc_score with max_iters=110.0, C=18, penalty=l1 and deleted features 'housing','loan','previous','marital','education','day_of_week': 0.7781328401711924\n",
      "roc_auc_score with max_iters=110.0, C=18, penalty=l2 and deleted features 'housing','loan','previous','marital','education','day_of_week': 0.7761732585596222\n"
     ]
    },
    {
     "name": "stderr",
     "output_type": "stream",
     "text": [
      "/home/ubuntu/anaconda3/lib/python3.8/site-packages/sklearn/svm/_base.py:985: ConvergenceWarning: Liblinear failed to converge, increase the number of iterations.\n",
      "  warnings.warn(\"Liblinear failed to converge, increase \"\n"
     ]
    },
    {
     "name": "stdout",
     "output_type": "stream",
     "text": [
      "roc_auc_score with max_iters=110.0, C=15, penalty=l1 and deleted features 'housing','loan','previous','marital','education','day_of_week': 0.7783638177636757\n",
      "roc_auc_score with max_iters=110.0, C=15, penalty=l2 and deleted features 'housing','loan','previous','marital','education','day_of_week': 0.7761763331365604\n"
     ]
    },
    {
     "name": "stderr",
     "output_type": "stream",
     "text": [
      "/home/ubuntu/anaconda3/lib/python3.8/site-packages/sklearn/svm/_base.py:985: ConvergenceWarning: Liblinear failed to converge, increase the number of iterations.\n",
      "  warnings.warn(\"Liblinear failed to converge, increase \"\n"
     ]
    },
    {
     "name": "stdout",
     "output_type": "stream",
     "text": [
      "roc_auc_score with max_iters=110.0, C=13, penalty=l1 and deleted features 'housing','loan','previous','marital','education','day_of_week': 0.7781339931375442\n",
      "roc_auc_score with max_iters=110.0, C=13, penalty=l2 and deleted features 'housing','loan','previous','marital','education','day_of_week': 0.7761769480519481\n"
     ]
    },
    {
     "name": "stderr",
     "output_type": "stream",
     "text": [
      "/home/ubuntu/anaconda3/lib/python3.8/site-packages/sklearn/svm/_base.py:985: ConvergenceWarning: Liblinear failed to converge, increase the number of iterations.\n",
      "  warnings.warn(\"Liblinear failed to converge, increase \"\n"
     ]
    },
    {
     "name": "stdout",
     "output_type": "stream",
     "text": [
      "roc_auc_score with max_iters=110.0, C=10, penalty=l1 and deleted features 'housing','loan','previous','marital','education','day_of_week': 0.7786597457939787\n",
      "roc_auc_score with max_iters=110.0, C=10, penalty=l2 and deleted features 'housing','loan','previous','marital','education','day_of_week': 0.7760772548947265\n",
      "roc_auc_score with max_iters=110.0, C=1.0, penalty=l1 and deleted features 'housing','loan','previous','marital','education','day_of_week': 0.7792243149842583\n",
      "roc_auc_score with max_iters=110.0, C=1.0, penalty=l2 and deleted features 'housing','loan','previous','marital','education','day_of_week': 0.7761744883903975\n"
     ]
    },
    {
     "name": "stderr",
     "output_type": "stream",
     "text": [
      "/home/ubuntu/anaconda3/lib/python3.8/site-packages/sklearn/svm/_base.py:985: ConvergenceWarning: Liblinear failed to converge, increase the number of iterations.\n",
      "  warnings.warn(\"Liblinear failed to converge, increase \"\n"
     ]
    },
    {
     "name": "stdout",
     "output_type": "stream",
     "text": [
      "roc_auc_score with max_iters=110.0, C=0.1, penalty=l1 and deleted features 'housing','loan','previous','marital','education','day_of_week': 0.7778426769726486\n",
      "roc_auc_score with max_iters=110.0, C=0.1, penalty=l2 and deleted features 'housing','loan','previous','marital','education','day_of_week': 0.7761898612750885\n"
     ]
    },
    {
     "name": "stderr",
     "output_type": "stream",
     "text": [
      "/home/ubuntu/anaconda3/lib/python3.8/site-packages/sklearn/svm/_base.py:985: ConvergenceWarning: Liblinear failed to converge, increase the number of iterations.\n",
      "  warnings.warn(\"Liblinear failed to converge, increase \"\n"
     ]
    },
    {
     "name": "stdout",
     "output_type": "stream",
     "text": [
      "roc_auc_score with max_iters=110.0, C=0.01, penalty=l1 and deleted features 'housing','loan','previous','marital','education','day_of_week': 0.7658708892906336\n",
      "roc_auc_score with max_iters=110.0, C=0.01, penalty=l2 and deleted features 'housing','loan','previous','marital','education','day_of_week': 0.7754611865407319\n",
      "roc_auc_score with max_iters=110.0, C=0.001, penalty=l1 and deleted features 'housing','loan','previous','marital','education','day_of_week': 0.737010450487013\n",
      "roc_auc_score with max_iters=110.0, C=0.001, penalty=l2 and deleted features 'housing','loan','previous','marital','education','day_of_week': 0.7611606374212909\n",
      "roc_auc_score with max_iters=110.0, C=0.0001, penalty=l1 and deleted features 'housing','loan','previous','marital','education','day_of_week': 0.44696669925718224\n",
      "roc_auc_score with max_iters=110.0, C=0.0001, penalty=l2 and deleted features 'housing','loan','previous','marital','education','day_of_week': 0.743846234258166\n"
     ]
    },
    {
     "name": "stderr",
     "output_type": "stream",
     "text": [
      "/home/ubuntu/anaconda3/lib/python3.8/site-packages/sklearn/svm/_base.py:985: ConvergenceWarning: Liblinear failed to converge, increase the number of iterations.\n",
      "  warnings.warn(\"Liblinear failed to converge, increase \"\n"
     ]
    },
    {
     "name": "stdout",
     "output_type": "stream",
     "text": [
      "roc_auc_score with max_iters=120.0, C=100, penalty=l1 and deleted features 'housing','loan','previous','marital','education','day_of_week': 0.7780309179456908\n",
      "roc_auc_score with max_iters=120.0, C=100, penalty=l2 and deleted features 'housing','loan','previous','marital','education','day_of_week': 0.7761827897481306\n"
     ]
    },
    {
     "name": "stderr",
     "output_type": "stream",
     "text": [
      "/home/ubuntu/anaconda3/lib/python3.8/site-packages/sklearn/svm/_base.py:985: ConvergenceWarning: Liblinear failed to converge, increase the number of iterations.\n",
      "  warnings.warn(\"Liblinear failed to converge, increase \"\n"
     ]
    },
    {
     "name": "stdout",
     "output_type": "stream",
     "text": [
      "roc_auc_score with max_iters=120.0, C=50, penalty=l1 and deleted features 'housing','loan','previous','marital','education','day_of_week': 0.7780043228551751\n",
      "roc_auc_score with max_iters=120.0, C=50, penalty=l2 and deleted features 'housing','loan','previous','marital','education','day_of_week': 0.7761755644923258\n"
     ]
    },
    {
     "name": "stderr",
     "output_type": "stream",
     "text": [
      "/home/ubuntu/anaconda3/lib/python3.8/site-packages/sklearn/svm/_base.py:985: ConvergenceWarning: Liblinear failed to converge, increase the number of iterations.\n",
      "  warnings.warn(\"Liblinear failed to converge, increase \"\n"
     ]
    },
    {
     "name": "stdout",
     "output_type": "stream",
     "text": [
      "roc_auc_score with max_iters=120.0, C=20, penalty=l1 and deleted features 'housing','loan','previous','marital','education','day_of_week': 0.7782382981601732\n",
      "roc_auc_score with max_iters=120.0, C=20, penalty=l2 and deleted features 'housing','loan','previous','marital','education','day_of_week': 0.7761758719500197\n"
     ]
    },
    {
     "name": "stderr",
     "output_type": "stream",
     "text": [
      "/home/ubuntu/anaconda3/lib/python3.8/site-packages/sklearn/svm/_base.py:985: ConvergenceWarning: Liblinear failed to converge, increase the number of iterations.\n",
      "  warnings.warn(\"Liblinear failed to converge, increase \"\n"
     ]
    },
    {
     "name": "stdout",
     "output_type": "stream",
     "text": [
      "roc_auc_score with max_iters=120.0, C=18, penalty=l1 and deleted features 'housing','loan','previous','marital','education','day_of_week': 0.7783990216696184\n",
      "roc_auc_score with max_iters=120.0, C=18, penalty=l2 and deleted features 'housing','loan','previous','marital','education','day_of_week': 0.7761732585596222\n"
     ]
    },
    {
     "name": "stderr",
     "output_type": "stream",
     "text": [
      "/home/ubuntu/anaconda3/lib/python3.8/site-packages/sklearn/svm/_base.py:985: ConvergenceWarning: Liblinear failed to converge, increase the number of iterations.\n",
      "  warnings.warn(\"Liblinear failed to converge, increase \"\n"
     ]
    },
    {
     "name": "stdout",
     "output_type": "stream",
     "text": [
      "roc_auc_score with max_iters=120.0, C=15, penalty=l1 and deleted features 'housing','loan','previous','marital','education','day_of_week': 0.7786299992621015\n",
      "roc_auc_score with max_iters=120.0, C=15, penalty=l2 and deleted features 'housing','loan','previous','marital','education','day_of_week': 0.7761763331365604\n"
     ]
    },
    {
     "name": "stderr",
     "output_type": "stream",
     "text": [
      "/home/ubuntu/anaconda3/lib/python3.8/site-packages/sklearn/svm/_base.py:985: ConvergenceWarning: Liblinear failed to converge, increase the number of iterations.\n",
      "  warnings.warn(\"Liblinear failed to converge, increase \"\n"
     ]
    },
    {
     "name": "stdout",
     "output_type": "stream",
     "text": [
      "roc_auc_score with max_iters=120.0, C=13, penalty=l1 and deleted features 'housing','loan','previous','marital','education','day_of_week': 0.7783917195493899\n",
      "roc_auc_score with max_iters=120.0, C=13, penalty=l2 and deleted features 'housing','loan','previous','marital','education','day_of_week': 0.7761769480519481\n"
     ]
    },
    {
     "name": "stderr",
     "output_type": "stream",
     "text": [
      "/home/ubuntu/anaconda3/lib/python3.8/site-packages/sklearn/svm/_base.py:985: ConvergenceWarning: Liblinear failed to converge, increase the number of iterations.\n",
      "  warnings.warn(\"Liblinear failed to converge, increase \"\n"
     ]
    },
    {
     "name": "stdout",
     "output_type": "stream",
     "text": [
      "roc_auc_score with max_iters=120.0, C=10, penalty=l1 and deleted features 'housing','loan','previous','marital','education','day_of_week': 0.7788948740653285\n",
      "roc_auc_score with max_iters=120.0, C=10, penalty=l2 and deleted features 'housing','loan','previous','marital','education','day_of_week': 0.7760772548947265\n",
      "roc_auc_score with max_iters=120.0, C=1.0, penalty=l1 and deleted features 'housing','loan','previous','marital','education','day_of_week': 0.7792243149842583\n",
      "roc_auc_score with max_iters=120.0, C=1.0, penalty=l2 and deleted features 'housing','loan','previous','marital','education','day_of_week': 0.7761744883903975\n"
     ]
    },
    {
     "name": "stderr",
     "output_type": "stream",
     "text": [
      "/home/ubuntu/anaconda3/lib/python3.8/site-packages/sklearn/svm/_base.py:985: ConvergenceWarning: Liblinear failed to converge, increase the number of iterations.\n",
      "  warnings.warn(\"Liblinear failed to converge, increase \"\n"
     ]
    },
    {
     "name": "stdout",
     "output_type": "stream",
     "text": [
      "roc_auc_score with max_iters=120.0, C=0.1, penalty=l1 and deleted features 'housing','loan','previous','marital','education','day_of_week': 0.7779000178325463\n",
      "roc_auc_score with max_iters=120.0, C=0.1, penalty=l2 and deleted features 'housing','loan','previous','marital','education','day_of_week': 0.7761898612750885\n"
     ]
    },
    {
     "name": "stderr",
     "output_type": "stream",
     "text": [
      "/home/ubuntu/anaconda3/lib/python3.8/site-packages/sklearn/svm/_base.py:985: ConvergenceWarning: Liblinear failed to converge, increase the number of iterations.\n",
      "  warnings.warn(\"Liblinear failed to converge, increase \"\n"
     ]
    },
    {
     "name": "stdout",
     "output_type": "stream",
     "text": [
      "roc_auc_score with max_iters=120.0, C=0.01, penalty=l1 and deleted features 'housing','loan','previous','marital','education','day_of_week': 0.7659092446379379\n",
      "roc_auc_score with max_iters=120.0, C=0.01, penalty=l2 and deleted features 'housing','loan','previous','marital','education','day_of_week': 0.7754611865407319\n",
      "roc_auc_score with max_iters=120.0, C=0.001, penalty=l1 and deleted features 'housing','loan','previous','marital','education','day_of_week': 0.737010450487013\n",
      "roc_auc_score with max_iters=120.0, C=0.001, penalty=l2 and deleted features 'housing','loan','previous','marital','education','day_of_week': 0.7611606374212909\n",
      "roc_auc_score with max_iters=120.0, C=0.0001, penalty=l1 and deleted features 'housing','loan','previous','marital','education','day_of_week': 0.44696669925718224\n",
      "roc_auc_score with max_iters=120.0, C=0.0001, penalty=l2 and deleted features 'housing','loan','previous','marital','education','day_of_week': 0.743846234258166\n"
     ]
    },
    {
     "name": "stderr",
     "output_type": "stream",
     "text": [
      "/home/ubuntu/anaconda3/lib/python3.8/site-packages/sklearn/svm/_base.py:985: ConvergenceWarning: Liblinear failed to converge, increase the number of iterations.\n",
      "  warnings.warn(\"Liblinear failed to converge, increase \"\n"
     ]
    },
    {
     "name": "stdout",
     "output_type": "stream",
     "text": [
      "roc_auc_score with max_iters=130.0, C=100, penalty=l1 and deleted features 'housing','loan','previous','marital','education','day_of_week': 0.7783898748032271\n",
      "roc_auc_score with max_iters=130.0, C=100, penalty=l2 and deleted features 'housing','loan','previous','marital','education','day_of_week': 0.7761827897481306\n"
     ]
    },
    {
     "name": "stderr",
     "output_type": "stream",
     "text": [
      "/home/ubuntu/anaconda3/lib/python3.8/site-packages/sklearn/svm/_base.py:985: ConvergenceWarning: Liblinear failed to converge, increase the number of iterations.\n",
      "  warnings.warn(\"Liblinear failed to converge, increase \"\n"
     ]
    },
    {
     "name": "stdout",
     "output_type": "stream",
     "text": [
      "roc_auc_score with max_iters=130.0, C=50, penalty=l1 and deleted features 'housing','loan','previous','marital','education','day_of_week': 0.7783505202184179\n",
      "roc_auc_score with max_iters=130.0, C=50, penalty=l2 and deleted features 'housing','loan','previous','marital','education','day_of_week': 0.7761755644923258\n"
     ]
    },
    {
     "name": "stderr",
     "output_type": "stream",
     "text": [
      "/home/ubuntu/anaconda3/lib/python3.8/site-packages/sklearn/svm/_base.py:985: ConvergenceWarning: Liblinear failed to converge, increase the number of iterations.\n",
      "  warnings.warn(\"Liblinear failed to converge, increase \"\n"
     ]
    },
    {
     "name": "stdout",
     "output_type": "stream",
     "text": [
      "roc_auc_score with max_iters=130.0, C=20, penalty=l1 and deleted features 'housing','loan','previous','marital','education','day_of_week': 0.7783931031090122\n",
      "roc_auc_score with max_iters=130.0, C=20, penalty=l2 and deleted features 'housing','loan','previous','marital','education','day_of_week': 0.7761758719500197\n"
     ]
    },
    {
     "name": "stderr",
     "output_type": "stream",
     "text": [
      "/home/ubuntu/anaconda3/lib/python3.8/site-packages/sklearn/svm/_base.py:985: ConvergenceWarning: Liblinear failed to converge, increase the number of iterations.\n",
      "  warnings.warn(\"Liblinear failed to converge, increase \"\n"
     ]
    },
    {
     "name": "stdout",
     "output_type": "stream",
     "text": [
      "roc_auc_score with max_iters=130.0, C=18, penalty=l1 and deleted features 'housing','loan','previous','marital','education','day_of_week': 0.7785422200905154\n",
      "roc_auc_score with max_iters=130.0, C=18, penalty=l2 and deleted features 'housing','loan','previous','marital','education','day_of_week': 0.7761732585596222\n"
     ]
    },
    {
     "name": "stderr",
     "output_type": "stream",
     "text": [
      "/home/ubuntu/anaconda3/lib/python3.8/site-packages/sklearn/svm/_base.py:985: ConvergenceWarning: Liblinear failed to converge, increase the number of iterations.\n",
      "  warnings.warn(\"Liblinear failed to converge, increase \"\n"
     ]
    },
    {
     "name": "stdout",
     "output_type": "stream",
     "text": [
      "roc_auc_score with max_iters=130.0, C=15, penalty=l1 and deleted features 'housing','loan','previous','marital','education','day_of_week': 0.779006865530303\n",
      "roc_auc_score with max_iters=130.0, C=15, penalty=l2 and deleted features 'housing','loan','previous','marital','education','day_of_week': 0.7761763331365604\n"
     ]
    },
    {
     "name": "stderr",
     "output_type": "stream",
     "text": [
      "/home/ubuntu/anaconda3/lib/python3.8/site-packages/sklearn/svm/_base.py:985: ConvergenceWarning: Liblinear failed to converge, increase the number of iterations.\n",
      "  warnings.warn(\"Liblinear failed to converge, increase \"\n"
     ]
    },
    {
     "name": "stdout",
     "output_type": "stream",
     "text": [
      "roc_auc_score with max_iters=130.0, C=13, penalty=l1 and deleted features 'housing','loan','previous','marital','education','day_of_week': 0.7785984848484848\n",
      "roc_auc_score with max_iters=130.0, C=13, penalty=l2 and deleted features 'housing','loan','previous','marital','education','day_of_week': 0.7761769480519481\n"
     ]
    },
    {
     "name": "stderr",
     "output_type": "stream",
     "text": [
      "/home/ubuntu/anaconda3/lib/python3.8/site-packages/sklearn/svm/_base.py:985: ConvergenceWarning: Liblinear failed to converge, increase the number of iterations.\n",
      "  warnings.warn(\"Liblinear failed to converge, increase \"\n"
     ]
    },
    {
     "name": "stdout",
     "output_type": "stream",
     "text": [
      "roc_auc_score with max_iters=130.0, C=10, penalty=l1 and deleted features 'housing','loan','previous','marital','education','day_of_week': 0.7790873425816608\n",
      "roc_auc_score with max_iters=130.0, C=10, penalty=l2 and deleted features 'housing','loan','previous','marital','education','day_of_week': 0.7760772548947265\n",
      "roc_auc_score with max_iters=130.0, C=1.0, penalty=l1 and deleted features 'housing','loan','previous','marital','education','day_of_week': 0.7792243149842583\n",
      "roc_auc_score with max_iters=130.0, C=1.0, penalty=l2 and deleted features 'housing','loan','previous','marital','education','day_of_week': 0.7761744883903975\n",
      "roc_auc_score with max_iters=130.0, C=0.1, penalty=l1 and deleted features 'housing','loan','previous','marital','education','day_of_week': 0.7779132385133805\n",
      "roc_auc_score with max_iters=130.0, C=0.1, penalty=l2 and deleted features 'housing','loan','previous','marital','education','day_of_week': 0.7761898612750885\n"
     ]
    },
    {
     "name": "stderr",
     "output_type": "stream",
     "text": [
      "/home/ubuntu/anaconda3/lib/python3.8/site-packages/sklearn/svm/_base.py:985: ConvergenceWarning: Liblinear failed to converge, increase the number of iterations.\n",
      "  warnings.warn(\"Liblinear failed to converge, increase \"\n"
     ]
    },
    {
     "name": "stdout",
     "output_type": "stream",
     "text": [
      "roc_auc_score with max_iters=130.0, C=0.01, penalty=l1 and deleted features 'housing','loan','previous','marital','education','day_of_week': 0.7659494447314049\n",
      "roc_auc_score with max_iters=130.0, C=0.01, penalty=l2 and deleted features 'housing','loan','previous','marital','education','day_of_week': 0.7754611865407319\n",
      "roc_auc_score with max_iters=130.0, C=0.001, penalty=l1 and deleted features 'housing','loan','previous','marital','education','day_of_week': 0.737010450487013\n",
      "roc_auc_score with max_iters=130.0, C=0.001, penalty=l2 and deleted features 'housing','loan','previous','marital','education','day_of_week': 0.7611606374212909\n",
      "roc_auc_score with max_iters=130.0, C=0.0001, penalty=l1 and deleted features 'housing','loan','previous','marital','education','day_of_week': 0.44696669925718224\n",
      "roc_auc_score with max_iters=130.0, C=0.0001, penalty=l2 and deleted features 'housing','loan','previous','marital','education','day_of_week': 0.743846234258166\n"
     ]
    },
    {
     "name": "stderr",
     "output_type": "stream",
     "text": [
      "/home/ubuntu/anaconda3/lib/python3.8/site-packages/sklearn/svm/_base.py:985: ConvergenceWarning: Liblinear failed to converge, increase the number of iterations.\n",
      "  warnings.warn(\"Liblinear failed to converge, increase \"\n"
     ]
    },
    {
     "name": "stdout",
     "output_type": "stream",
     "text": [
      "roc_auc_score with max_iters=140.0, C=100, penalty=l1 and deleted features 'housing','loan','previous','marital','education','day_of_week': 0.7786504451987406\n",
      "roc_auc_score with max_iters=140.0, C=100, penalty=l2 and deleted features 'housing','loan','previous','marital','education','day_of_week': 0.7761827897481306\n"
     ]
    },
    {
     "name": "stderr",
     "output_type": "stream",
     "text": [
      "/home/ubuntu/anaconda3/lib/python3.8/site-packages/sklearn/svm/_base.py:985: ConvergenceWarning: Liblinear failed to converge, increase the number of iterations.\n",
      "  warnings.warn(\"Liblinear failed to converge, increase \"\n"
     ]
    },
    {
     "name": "stdout",
     "output_type": "stream",
     "text": [
      "roc_auc_score with max_iters=140.0, C=50, penalty=l1 and deleted features 'housing','loan','previous','marital','education','day_of_week': 0.7785795762003149\n",
      "roc_auc_score with max_iters=140.0, C=50, penalty=l2 and deleted features 'housing','loan','previous','marital','education','day_of_week': 0.7761755644923258\n"
     ]
    },
    {
     "name": "stderr",
     "output_type": "stream",
     "text": [
      "/home/ubuntu/anaconda3/lib/python3.8/site-packages/sklearn/svm/_base.py:985: ConvergenceWarning: Liblinear failed to converge, increase the number of iterations.\n",
      "  warnings.warn(\"Liblinear failed to converge, increase \"\n"
     ]
    },
    {
     "name": "stdout",
     "output_type": "stream",
     "text": [
      "roc_auc_score with max_iters=140.0, C=20, penalty=l1 and deleted features 'housing','loan','previous','marital','education','day_of_week': 0.7786203143447461\n",
      "roc_auc_score with max_iters=140.0, C=20, penalty=l2 and deleted features 'housing','loan','previous','marital','education','day_of_week': 0.7761758719500197\n"
     ]
    },
    {
     "name": "stderr",
     "output_type": "stream",
     "text": [
      "/home/ubuntu/anaconda3/lib/python3.8/site-packages/sklearn/svm/_base.py:985: ConvergenceWarning: Liblinear failed to converge, increase the number of iterations.\n",
      "  warnings.warn(\"Liblinear failed to converge, increase \"\n"
     ]
    },
    {
     "name": "stdout",
     "output_type": "stream",
     "text": [
      "roc_auc_score with max_iters=140.0, C=18, penalty=l1 and deleted features 'housing','loan','previous','marital','education','day_of_week': 0.778782498278237\n",
      "roc_auc_score with max_iters=140.0, C=18, penalty=l2 and deleted features 'housing','loan','previous','marital','education','day_of_week': 0.7761732585596222\n"
     ]
    },
    {
     "name": "stderr",
     "output_type": "stream",
     "text": [
      "/home/ubuntu/anaconda3/lib/python3.8/site-packages/sklearn/svm/_base.py:985: ConvergenceWarning: Liblinear failed to converge, increase the number of iterations.\n",
      "  warnings.warn(\"Liblinear failed to converge, increase \"\n"
     ]
    },
    {
     "name": "stdout",
     "output_type": "stream",
     "text": [
      "roc_auc_score with max_iters=140.0, C=15, penalty=l1 and deleted features 'housing','loan','previous','marital','education','day_of_week': 0.779099025974026\n",
      "roc_auc_score with max_iters=140.0, C=15, penalty=l2 and deleted features 'housing','loan','previous','marital','education','day_of_week': 0.7761763331365604\n"
     ]
    },
    {
     "name": "stderr",
     "output_type": "stream",
     "text": [
      "/home/ubuntu/anaconda3/lib/python3.8/site-packages/sklearn/svm/_base.py:985: ConvergenceWarning: Liblinear failed to converge, increase the number of iterations.\n",
      "  warnings.warn(\"Liblinear failed to converge, increase \"\n"
     ]
    },
    {
     "name": "stdout",
     "output_type": "stream",
     "text": [
      "roc_auc_score with max_iters=140.0, C=13, penalty=l1 and deleted features 'housing','loan','previous','marital','education','day_of_week': 0.7788832675373868\n",
      "roc_auc_score with max_iters=140.0, C=13, penalty=l2 and deleted features 'housing','loan','previous','marital','education','day_of_week': 0.7761769480519481\n"
     ]
    },
    {
     "name": "stderr",
     "output_type": "stream",
     "text": [
      "/home/ubuntu/anaconda3/lib/python3.8/site-packages/sklearn/svm/_base.py:985: ConvergenceWarning: Liblinear failed to converge, increase the number of iterations.\n",
      "  warnings.warn(\"Liblinear failed to converge, increase \"\n"
     ]
    },
    {
     "name": "stdout",
     "output_type": "stream",
     "text": [
      "roc_auc_score with max_iters=140.0, C=10, penalty=l1 and deleted features 'housing','loan','previous','marital','education','day_of_week': 0.7792213941361669\n",
      "roc_auc_score with max_iters=140.0, C=10, penalty=l2 and deleted features 'housing','loan','previous','marital','education','day_of_week': 0.7760772548947265\n",
      "roc_auc_score with max_iters=140.0, C=1.0, penalty=l1 and deleted features 'housing','loan','previous','marital','education','day_of_week': 0.7792243149842583\n",
      "roc_auc_score with max_iters=140.0, C=1.0, penalty=l2 and deleted features 'housing','loan','previous','marital','education','day_of_week': 0.7761744883903975\n",
      "roc_auc_score with max_iters=140.0, C=0.1, penalty=l1 and deleted features 'housing','loan','previous','marital','education','day_of_week': 0.7779132385133805\n",
      "roc_auc_score with max_iters=140.0, C=0.1, penalty=l2 and deleted features 'housing','loan','previous','marital','education','day_of_week': 0.7761898612750885\n"
     ]
    },
    {
     "name": "stderr",
     "output_type": "stream",
     "text": [
      "/home/ubuntu/anaconda3/lib/python3.8/site-packages/sklearn/svm/_base.py:985: ConvergenceWarning: Liblinear failed to converge, increase the number of iterations.\n",
      "  warnings.warn(\"Liblinear failed to converge, increase \"\n"
     ]
    },
    {
     "name": "stdout",
     "output_type": "stream",
     "text": [
      "roc_auc_score with max_iters=140.0, C=0.01, penalty=l1 and deleted features 'housing','loan','previous','marital','education','day_of_week': 0.7659554401564344\n",
      "roc_auc_score with max_iters=140.0, C=0.01, penalty=l2 and deleted features 'housing','loan','previous','marital','education','day_of_week': 0.7754611865407319\n",
      "roc_auc_score with max_iters=140.0, C=0.001, penalty=l1 and deleted features 'housing','loan','previous','marital','education','day_of_week': 0.737010450487013\n",
      "roc_auc_score with max_iters=140.0, C=0.001, penalty=l2 and deleted features 'housing','loan','previous','marital','education','day_of_week': 0.7611606374212909\n",
      "roc_auc_score with max_iters=140.0, C=0.0001, penalty=l1 and deleted features 'housing','loan','previous','marital','education','day_of_week': 0.44696669925718224\n",
      "roc_auc_score with max_iters=140.0, C=0.0001, penalty=l2 and deleted features 'housing','loan','previous','marital','education','day_of_week': 0.743846234258166\n"
     ]
    },
    {
     "name": "stderr",
     "output_type": "stream",
     "text": [
      "/home/ubuntu/anaconda3/lib/python3.8/site-packages/sklearn/svm/_base.py:985: ConvergenceWarning: Liblinear failed to converge, increase the number of iterations.\n",
      "  warnings.warn(\"Liblinear failed to converge, increase \"\n"
     ]
    },
    {
     "name": "stdout",
     "output_type": "stream",
     "text": [
      "roc_auc_score with max_iters=150.0, C=100, penalty=l1 and deleted features 'housing','loan','previous','marital','education','day_of_week': 0.7788956427095632\n",
      "roc_auc_score with max_iters=150.0, C=100, penalty=l2 and deleted features 'housing','loan','previous','marital','education','day_of_week': 0.7761827897481306\n"
     ]
    },
    {
     "name": "stderr",
     "output_type": "stream",
     "text": [
      "/home/ubuntu/anaconda3/lib/python3.8/site-packages/sklearn/svm/_base.py:985: ConvergenceWarning: Liblinear failed to converge, increase the number of iterations.\n",
      "  warnings.warn(\"Liblinear failed to converge, increase \"\n"
     ]
    },
    {
     "name": "stdout",
     "output_type": "stream",
     "text": [
      "roc_auc_score with max_iters=150.0, C=50, penalty=l1 and deleted features 'housing','loan','previous','marital','education','day_of_week': 0.7788541359208974\n",
      "roc_auc_score with max_iters=150.0, C=50, penalty=l2 and deleted features 'housing','loan','previous','marital','education','day_of_week': 0.7761755644923258\n"
     ]
    },
    {
     "name": "stderr",
     "output_type": "stream",
     "text": [
      "/home/ubuntu/anaconda3/lib/python3.8/site-packages/sklearn/svm/_base.py:985: ConvergenceWarning: Liblinear failed to converge, increase the number of iterations.\n",
      "  warnings.warn(\"Liblinear failed to converge, increase \"\n"
     ]
    },
    {
     "name": "stdout",
     "output_type": "stream",
     "text": [
      "roc_auc_score with max_iters=150.0, C=20, penalty=l1 and deleted features 'housing','loan','previous','marital','education','day_of_week': 0.7788708923652107\n",
      "roc_auc_score with max_iters=150.0, C=20, penalty=l2 and deleted features 'housing','loan','previous','marital','education','day_of_week': 0.7761758719500197\n"
     ]
    },
    {
     "name": "stderr",
     "output_type": "stream",
     "text": [
      "/home/ubuntu/anaconda3/lib/python3.8/site-packages/sklearn/svm/_base.py:985: ConvergenceWarning: Liblinear failed to converge, increase the number of iterations.\n",
      "  warnings.warn(\"Liblinear failed to converge, increase \"\n"
     ]
    },
    {
     "name": "stdout",
     "output_type": "stream",
     "text": [
      "roc_auc_score with max_iters=150.0, C=18, penalty=l1 and deleted features 'housing','loan','previous','marital','education','day_of_week': 0.7790021768004722\n",
      "roc_auc_score with max_iters=150.0, C=18, penalty=l2 and deleted features 'housing','loan','previous','marital','education','day_of_week': 0.7761732585596222\n"
     ]
    },
    {
     "name": "stderr",
     "output_type": "stream",
     "text": [
      "/home/ubuntu/anaconda3/lib/python3.8/site-packages/sklearn/svm/_base.py:985: ConvergenceWarning: Liblinear failed to converge, increase the number of iterations.\n",
      "  warnings.warn(\"Liblinear failed to converge, increase \"\n"
     ]
    },
    {
     "name": "stdout",
     "output_type": "stream",
     "text": [
      "roc_auc_score with max_iters=150.0, C=15, penalty=l1 and deleted features 'housing','loan','previous','marital','education','day_of_week': 0.7791477580184967\n",
      "roc_auc_score with max_iters=150.0, C=15, penalty=l2 and deleted features 'housing','loan','previous','marital','education','day_of_week': 0.7761763331365604\n"
     ]
    },
    {
     "name": "stderr",
     "output_type": "stream",
     "text": [
      "/home/ubuntu/anaconda3/lib/python3.8/site-packages/sklearn/svm/_base.py:985: ConvergenceWarning: Liblinear failed to converge, increase the number of iterations.\n",
      "  warnings.warn(\"Liblinear failed to converge, increase \"\n"
     ]
    },
    {
     "name": "stdout",
     "output_type": "stream",
     "text": [
      "roc_auc_score with max_iters=150.0, C=13, penalty=l1 and deleted features 'housing','loan','previous','marital','education','day_of_week': 0.7790305397727273\n",
      "roc_auc_score with max_iters=150.0, C=13, penalty=l2 and deleted features 'housing','loan','previous','marital','education','day_of_week': 0.7761769480519481\n"
     ]
    },
    {
     "name": "stderr",
     "output_type": "stream",
     "text": [
      "/home/ubuntu/anaconda3/lib/python3.8/site-packages/sklearn/svm/_base.py:985: ConvergenceWarning: Liblinear failed to converge, increase the number of iterations.\n",
      "  warnings.warn(\"Liblinear failed to converge, increase \"\n"
     ]
    },
    {
     "name": "stdout",
     "output_type": "stream",
     "text": [
      "roc_auc_score with max_iters=150.0, C=10, penalty=l1 and deleted features 'housing','loan','previous','marital','education','day_of_week': 0.779296721271153\n",
      "roc_auc_score with max_iters=150.0, C=10, penalty=l2 and deleted features 'housing','loan','previous','marital','education','day_of_week': 0.7760772548947265\n",
      "roc_auc_score with max_iters=150.0, C=1.0, penalty=l1 and deleted features 'housing','loan','previous','marital','education','day_of_week': 0.7792243149842583\n",
      "roc_auc_score with max_iters=150.0, C=1.0, penalty=l2 and deleted features 'housing','loan','previous','marital','education','day_of_week': 0.7761744883903975\n",
      "roc_auc_score with max_iters=150.0, C=0.1, penalty=l1 and deleted features 'housing','loan','previous','marital','education','day_of_week': 0.7779132385133805\n",
      "roc_auc_score with max_iters=150.0, C=0.1, penalty=l2 and deleted features 'housing','loan','previous','marital','education','day_of_week': 0.7761898612750885\n"
     ]
    },
    {
     "name": "stderr",
     "output_type": "stream",
     "text": [
      "/home/ubuntu/anaconda3/lib/python3.8/site-packages/sklearn/svm/_base.py:985: ConvergenceWarning: Liblinear failed to converge, increase the number of iterations.\n",
      "  warnings.warn(\"Liblinear failed to converge, increase \"\n"
     ]
    },
    {
     "name": "stdout",
     "output_type": "stream",
     "text": [
      "roc_auc_score with max_iters=150.0, C=0.01, penalty=l1 and deleted features 'housing','loan','previous','marital','education','day_of_week': 0.7659437567640692\n",
      "roc_auc_score with max_iters=150.0, C=0.01, penalty=l2 and deleted features 'housing','loan','previous','marital','education','day_of_week': 0.7754611865407319\n",
      "roc_auc_score with max_iters=150.0, C=0.001, penalty=l1 and deleted features 'housing','loan','previous','marital','education','day_of_week': 0.737010450487013\n",
      "roc_auc_score with max_iters=150.0, C=0.001, penalty=l2 and deleted features 'housing','loan','previous','marital','education','day_of_week': 0.7611606374212909\n",
      "roc_auc_score with max_iters=150.0, C=0.0001, penalty=l1 and deleted features 'housing','loan','previous','marital','education','day_of_week': 0.44696669925718224\n",
      "roc_auc_score with max_iters=150.0, C=0.0001, penalty=l2 and deleted features 'housing','loan','previous','marital','education','day_of_week': 0.743846234258166\n"
     ]
    },
    {
     "name": "stderr",
     "output_type": "stream",
     "text": [
      "/home/ubuntu/anaconda3/lib/python3.8/site-packages/sklearn/svm/_base.py:985: ConvergenceWarning: Liblinear failed to converge, increase the number of iterations.\n",
      "  warnings.warn(\"Liblinear failed to converge, increase \"\n"
     ]
    },
    {
     "name": "stdout",
     "output_type": "stream",
     "text": [
      "roc_auc_score with max_iters=160.0, C=100, penalty=l1 and deleted features 'housing','loan','previous','marital','education','day_of_week': 0.7790495252853208\n",
      "roc_auc_score with max_iters=160.0, C=100, penalty=l2 and deleted features 'housing','loan','previous','marital','education','day_of_week': 0.7761827897481306\n"
     ]
    },
    {
     "name": "stderr",
     "output_type": "stream",
     "text": [
      "/home/ubuntu/anaconda3/lib/python3.8/site-packages/sklearn/svm/_base.py:985: ConvergenceWarning: Liblinear failed to converge, increase the number of iterations.\n",
      "  warnings.warn(\"Liblinear failed to converge, increase \"\n"
     ]
    },
    {
     "name": "stdout",
     "output_type": "stream",
     "text": [
      "roc_auc_score with max_iters=160.0, C=50, penalty=l1 and deleted features 'housing','loan','previous','marital','education','day_of_week': 0.7789705086580087\n",
      "roc_auc_score with max_iters=160.0, C=50, penalty=l2 and deleted features 'housing','loan','previous','marital','education','day_of_week': 0.7761755644923258\n"
     ]
    },
    {
     "name": "stderr",
     "output_type": "stream",
     "text": [
      "/home/ubuntu/anaconda3/lib/python3.8/site-packages/sklearn/svm/_base.py:985: ConvergenceWarning: Liblinear failed to converge, increase the number of iterations.\n",
      "  warnings.warn(\"Liblinear failed to converge, increase \"\n"
     ]
    },
    {
     "name": "stdout",
     "output_type": "stream",
     "text": [
      "roc_auc_score with max_iters=160.0, C=20, penalty=l1 and deleted features 'housing','loan','previous','marital','education','day_of_week': 0.7790569042699724\n",
      "roc_auc_score with max_iters=160.0, C=20, penalty=l2 and deleted features 'housing','loan','previous','marital','education','day_of_week': 0.7761758719500197\n"
     ]
    },
    {
     "name": "stderr",
     "output_type": "stream",
     "text": [
      "/home/ubuntu/anaconda3/lib/python3.8/site-packages/sklearn/svm/_base.py:985: ConvergenceWarning: Liblinear failed to converge, increase the number of iterations.\n",
      "  warnings.warn(\"Liblinear failed to converge, increase \"\n"
     ]
    },
    {
     "name": "stdout",
     "output_type": "stream",
     "text": [
      "roc_auc_score with max_iters=160.0, C=18, penalty=l1 and deleted features 'housing','loan','previous','marital','education','day_of_week': 0.7790984879230618\n",
      "roc_auc_score with max_iters=160.0, C=18, penalty=l2 and deleted features 'housing','loan','previous','marital','education','day_of_week': 0.7761732585596222\n"
     ]
    },
    {
     "name": "stderr",
     "output_type": "stream",
     "text": [
      "/home/ubuntu/anaconda3/lib/python3.8/site-packages/sklearn/svm/_base.py:985: ConvergenceWarning: Liblinear failed to converge, increase the number of iterations.\n",
      "  warnings.warn(\"Liblinear failed to converge, increase \"\n"
     ]
    },
    {
     "name": "stdout",
     "output_type": "stream",
     "text": [
      "roc_auc_score with max_iters=160.0, C=15, penalty=l1 and deleted features 'housing','loan','previous','marital','education','day_of_week': 0.7792104793880361\n",
      "roc_auc_score with max_iters=160.0, C=15, penalty=l2 and deleted features 'housing','loan','previous','marital','education','day_of_week': 0.7761763331365604\n"
     ]
    },
    {
     "name": "stderr",
     "output_type": "stream",
     "text": [
      "/home/ubuntu/anaconda3/lib/python3.8/site-packages/sklearn/svm/_base.py:985: ConvergenceWarning: Liblinear failed to converge, increase the number of iterations.\n",
      "  warnings.warn(\"Liblinear failed to converge, increase \"\n"
     ]
    },
    {
     "name": "stdout",
     "output_type": "stream",
     "text": [
      "roc_auc_score with max_iters=160.0, C=13, penalty=l1 and deleted features 'housing','loan','previous','marital','education','day_of_week': 0.7791097869933097\n",
      "roc_auc_score with max_iters=160.0, C=13, penalty=l2 and deleted features 'housing','loan','previous','marital','education','day_of_week': 0.7761769480519481\n"
     ]
    },
    {
     "name": "stderr",
     "output_type": "stream",
     "text": [
      "/home/ubuntu/anaconda3/lib/python3.8/site-packages/sklearn/svm/_base.py:985: ConvergenceWarning: Liblinear failed to converge, increase the number of iterations.\n",
      "  warnings.warn(\"Liblinear failed to converge, increase \"\n"
     ]
    },
    {
     "name": "stdout",
     "output_type": "stream",
     "text": [
      "roc_auc_score with max_iters=160.0, C=10, penalty=l1 and deleted features 'housing','loan','previous','marital','education','day_of_week': 0.7793541389954742\n",
      "roc_auc_score with max_iters=160.0, C=10, penalty=l2 and deleted features 'housing','loan','previous','marital','education','day_of_week': 0.7760772548947265\n",
      "roc_auc_score with max_iters=160.0, C=1.0, penalty=l1 and deleted features 'housing','loan','previous','marital','education','day_of_week': 0.7792243149842583\n",
      "roc_auc_score with max_iters=160.0, C=1.0, penalty=l2 and deleted features 'housing','loan','previous','marital','education','day_of_week': 0.7761744883903975\n",
      "roc_auc_score with max_iters=160.0, C=0.1, penalty=l1 and deleted features 'housing','loan','previous','marital','education','day_of_week': 0.7779132385133805\n",
      "roc_auc_score with max_iters=160.0, C=0.1, penalty=l2 and deleted features 'housing','loan','previous','marital','education','day_of_week': 0.7761898612750885\n"
     ]
    },
    {
     "name": "stderr",
     "output_type": "stream",
     "text": [
      "/home/ubuntu/anaconda3/lib/python3.8/site-packages/sklearn/svm/_base.py:985: ConvergenceWarning: Liblinear failed to converge, increase the number of iterations.\n",
      "  warnings.warn(\"Liblinear failed to converge, increase \"\n"
     ]
    },
    {
     "name": "stdout",
     "output_type": "stream",
     "text": [
      "roc_auc_score with max_iters=160.0, C=0.01, penalty=l1 and deleted features 'housing','loan','previous','marital','education','day_of_week': 0.7658826495474224\n",
      "roc_auc_score with max_iters=160.0, C=0.01, penalty=l2 and deleted features 'housing','loan','previous','marital','education','day_of_week': 0.7754611865407319\n",
      "roc_auc_score with max_iters=160.0, C=0.001, penalty=l1 and deleted features 'housing','loan','previous','marital','education','day_of_week': 0.737010450487013\n",
      "roc_auc_score with max_iters=160.0, C=0.001, penalty=l2 and deleted features 'housing','loan','previous','marital','education','day_of_week': 0.7611606374212909\n",
      "roc_auc_score with max_iters=160.0, C=0.0001, penalty=l1 and deleted features 'housing','loan','previous','marital','education','day_of_week': 0.44696669925718224\n",
      "roc_auc_score with max_iters=160.0, C=0.0001, penalty=l2 and deleted features 'housing','loan','previous','marital','education','day_of_week': 0.743846234258166\n"
     ]
    },
    {
     "name": "stderr",
     "output_type": "stream",
     "text": [
      "/home/ubuntu/anaconda3/lib/python3.8/site-packages/sklearn/svm/_base.py:985: ConvergenceWarning: Liblinear failed to converge, increase the number of iterations.\n",
      "  warnings.warn(\"Liblinear failed to converge, increase \"\n"
     ]
    },
    {
     "name": "stdout",
     "output_type": "stream",
     "text": [
      "roc_auc_score with max_iters=170.0, C=100, penalty=l1 and deleted features 'housing','loan','previous','marital','education','day_of_week': 0.7791120929260134\n",
      "roc_auc_score with max_iters=170.0, C=100, penalty=l2 and deleted features 'housing','loan','previous','marital','education','day_of_week': 0.7761827897481306\n"
     ]
    },
    {
     "name": "stderr",
     "output_type": "stream",
     "text": [
      "/home/ubuntu/anaconda3/lib/python3.8/site-packages/sklearn/svm/_base.py:985: ConvergenceWarning: Liblinear failed to converge, increase the number of iterations.\n",
      "  warnings.warn(\"Liblinear failed to converge, increase \"\n"
     ]
    },
    {
     "name": "stdout",
     "output_type": "stream",
     "text": [
      "roc_auc_score with max_iters=170.0, C=50, penalty=l1 and deleted features 'housing','loan','previous','marital','education','day_of_week': 0.7790733532565919\n",
      "roc_auc_score with max_iters=170.0, C=50, penalty=l2 and deleted features 'housing','loan','previous','marital','education','day_of_week': 0.7761755644923258\n"
     ]
    },
    {
     "name": "stderr",
     "output_type": "stream",
     "text": [
      "/home/ubuntu/anaconda3/lib/python3.8/site-packages/sklearn/svm/_base.py:985: ConvergenceWarning: Liblinear failed to converge, increase the number of iterations.\n",
      "  warnings.warn(\"Liblinear failed to converge, increase \"\n"
     ]
    },
    {
     "name": "stdout",
     "output_type": "stream",
     "text": [
      "roc_auc_score with max_iters=170.0, C=20, penalty=l1 and deleted features 'housing','loan','previous','marital','education','day_of_week': 0.7791622085301062\n",
      "roc_auc_score with max_iters=170.0, C=20, penalty=l2 and deleted features 'housing','loan','previous','marital','education','day_of_week': 0.7761758719500197\n"
     ]
    },
    {
     "name": "stderr",
     "output_type": "stream",
     "text": [
      "/home/ubuntu/anaconda3/lib/python3.8/site-packages/sklearn/svm/_base.py:985: ConvergenceWarning: Liblinear failed to converge, increase the number of iterations.\n",
      "  warnings.warn(\"Liblinear failed to converge, increase \"\n"
     ]
    },
    {
     "name": "stdout",
     "output_type": "stream",
     "text": [
      "roc_auc_score with max_iters=170.0, C=18, penalty=l1 and deleted features 'housing','loan','previous','marital','education','day_of_week': 0.7791763515840221\n",
      "roc_auc_score with max_iters=170.0, C=18, penalty=l2 and deleted features 'housing','loan','previous','marital','education','day_of_week': 0.7761732585596222\n",
      "roc_auc_score with max_iters=170.0, C=15, penalty=l1 and deleted features 'housing','loan','previous','marital','education','day_of_week': 0.7792533697363243\n",
      "roc_auc_score with max_iters=170.0, C=15, penalty=l2 and deleted features 'housing','loan','previous','marital','education','day_of_week': 0.7761763331365604\n"
     ]
    },
    {
     "name": "stderr",
     "output_type": "stream",
     "text": [
      "/home/ubuntu/anaconda3/lib/python3.8/site-packages/sklearn/svm/_base.py:985: ConvergenceWarning: Liblinear failed to converge, increase the number of iterations.\n",
      "  warnings.warn(\"Liblinear failed to converge, increase \"\n"
     ]
    },
    {
     "name": "stdout",
     "output_type": "stream",
     "text": [
      "roc_auc_score with max_iters=170.0, C=13, penalty=l1 and deleted features 'housing','loan','previous','marital','education','day_of_week': 0.779186651416765\n",
      "roc_auc_score with max_iters=170.0, C=13, penalty=l2 and deleted features 'housing','loan','previous','marital','education','day_of_week': 0.7761769480519481\n"
     ]
    },
    {
     "name": "stderr",
     "output_type": "stream",
     "text": [
      "/home/ubuntu/anaconda3/lib/python3.8/site-packages/sklearn/svm/_base.py:985: ConvergenceWarning: Liblinear failed to converge, increase the number of iterations.\n",
      "  warnings.warn(\"Liblinear failed to converge, increase \"\n"
     ]
    },
    {
     "name": "stdout",
     "output_type": "stream",
     "text": [
      "roc_auc_score with max_iters=170.0, C=10, penalty=l1 and deleted features 'housing','loan','previous','marital','education','day_of_week': 0.7793145538173947\n",
      "roc_auc_score with max_iters=170.0, C=10, penalty=l2 and deleted features 'housing','loan','previous','marital','education','day_of_week': 0.7760772548947265\n",
      "roc_auc_score with max_iters=170.0, C=1.0, penalty=l1 and deleted features 'housing','loan','previous','marital','education','day_of_week': 0.7792243149842583\n",
      "roc_auc_score with max_iters=170.0, C=1.0, penalty=l2 and deleted features 'housing','loan','previous','marital','education','day_of_week': 0.7761744883903975\n",
      "roc_auc_score with max_iters=170.0, C=0.1, penalty=l1 and deleted features 'housing','loan','previous','marital','education','day_of_week': 0.7779132385133805\n",
      "roc_auc_score with max_iters=170.0, C=0.1, penalty=l2 and deleted features 'housing','loan','previous','marital','education','day_of_week': 0.7761898612750885\n"
     ]
    },
    {
     "name": "stderr",
     "output_type": "stream",
     "text": [
      "/home/ubuntu/anaconda3/lib/python3.8/site-packages/sklearn/svm/_base.py:985: ConvergenceWarning: Liblinear failed to converge, increase the number of iterations.\n",
      "  warnings.warn(\"Liblinear failed to converge, increase \"\n"
     ]
    },
    {
     "name": "stdout",
     "output_type": "stream",
     "text": [
      "roc_auc_score with max_iters=170.0, C=0.01, penalty=l1 and deleted features 'housing','loan','previous','marital','education','day_of_week': 0.7658406815722156\n",
      "roc_auc_score with max_iters=170.0, C=0.01, penalty=l2 and deleted features 'housing','loan','previous','marital','education','day_of_week': 0.7754611865407319\n",
      "roc_auc_score with max_iters=170.0, C=0.001, penalty=l1 and deleted features 'housing','loan','previous','marital','education','day_of_week': 0.737010450487013\n",
      "roc_auc_score with max_iters=170.0, C=0.001, penalty=l2 and deleted features 'housing','loan','previous','marital','education','day_of_week': 0.7611606374212909\n",
      "roc_auc_score with max_iters=170.0, C=0.0001, penalty=l1 and deleted features 'housing','loan','previous','marital','education','day_of_week': 0.44696669925718224\n",
      "roc_auc_score with max_iters=170.0, C=0.0001, penalty=l2 and deleted features 'housing','loan','previous','marital','education','day_of_week': 0.743846234258166\n"
     ]
    },
    {
     "name": "stderr",
     "output_type": "stream",
     "text": [
      "/home/ubuntu/anaconda3/lib/python3.8/site-packages/sklearn/svm/_base.py:985: ConvergenceWarning: Liblinear failed to converge, increase the number of iterations.\n",
      "  warnings.warn(\"Liblinear failed to converge, increase \"\n"
     ]
    },
    {
     "name": "stdout",
     "output_type": "stream",
     "text": [
      "roc_auc_score with max_iters=180.0, C=100, penalty=l1 and deleted features 'housing','loan','previous','marital','education','day_of_week': 0.7791325388626524\n",
      "roc_auc_score with max_iters=180.0, C=100, penalty=l2 and deleted features 'housing','loan','previous','marital','education','day_of_week': 0.7761827897481306\n"
     ]
    },
    {
     "name": "stderr",
     "output_type": "stream",
     "text": [
      "/home/ubuntu/anaconda3/lib/python3.8/site-packages/sklearn/svm/_base.py:985: ConvergenceWarning: Liblinear failed to converge, increase the number of iterations.\n",
      "  warnings.warn(\"Liblinear failed to converge, increase \"\n"
     ]
    },
    {
     "name": "stdout",
     "output_type": "stream",
     "text": [
      "roc_auc_score with max_iters=180.0, C=50, penalty=l1 and deleted features 'housing','loan','previous','marital','education','day_of_week': 0.7791263897087761\n",
      "roc_auc_score with max_iters=180.0, C=50, penalty=l2 and deleted features 'housing','loan','previous','marital','education','day_of_week': 0.7761755644923258\n"
     ]
    },
    {
     "name": "stderr",
     "output_type": "stream",
     "text": [
      "/home/ubuntu/anaconda3/lib/python3.8/site-packages/sklearn/svm/_base.py:985: ConvergenceWarning: Liblinear failed to converge, increase the number of iterations.\n",
      "  warnings.warn(\"Liblinear failed to converge, increase \"\n"
     ]
    },
    {
     "name": "stdout",
     "output_type": "stream",
     "text": [
      "roc_auc_score with max_iters=180.0, C=20, penalty=l1 and deleted features 'housing','loan','previous','marital','education','day_of_week': 0.7791999489620228\n",
      "roc_auc_score with max_iters=180.0, C=20, penalty=l2 and deleted features 'housing','loan','previous','marital','education','day_of_week': 0.7761758719500197\n"
     ]
    },
    {
     "name": "stderr",
     "output_type": "stream",
     "text": [
      "/home/ubuntu/anaconda3/lib/python3.8/site-packages/sklearn/svm/_base.py:985: ConvergenceWarning: Liblinear failed to converge, increase the number of iterations.\n",
      "  warnings.warn(\"Liblinear failed to converge, increase \"\n"
     ]
    },
    {
     "name": "stdout",
     "output_type": "stream",
     "text": [
      "roc_auc_score with max_iters=180.0, C=18, penalty=l1 and deleted features 'housing','loan','previous','marital','education','day_of_week': 0.7792539846517119\n",
      "roc_auc_score with max_iters=180.0, C=18, penalty=l2 and deleted features 'housing','loan','previous','marital','education','day_of_week': 0.7761732585596222\n",
      "roc_auc_score with max_iters=180.0, C=15, penalty=l1 and deleted features 'housing','loan','previous','marital','education','day_of_week': 0.7792533697363243\n",
      "roc_auc_score with max_iters=180.0, C=15, penalty=l2 and deleted features 'housing','loan','previous','marital','education','day_of_week': 0.7761763331365604\n"
     ]
    },
    {
     "name": "stderr",
     "output_type": "stream",
     "text": [
      "/home/ubuntu/anaconda3/lib/python3.8/site-packages/sklearn/svm/_base.py:985: ConvergenceWarning: Liblinear failed to converge, increase the number of iterations.\n",
      "  warnings.warn(\"Liblinear failed to converge, increase \"\n"
     ]
    },
    {
     "name": "stdout",
     "output_type": "stream",
     "text": [
      "roc_auc_score with max_iters=180.0, C=13, penalty=l1 and deleted features 'housing','loan','previous','marital','education','day_of_week': 0.7792343073593073\n",
      "roc_auc_score with max_iters=180.0, C=13, penalty=l2 and deleted features 'housing','loan','previous','marital','education','day_of_week': 0.7761769480519481\n"
     ]
    },
    {
     "name": "stderr",
     "output_type": "stream",
     "text": [
      "/home/ubuntu/anaconda3/lib/python3.8/site-packages/sklearn/svm/_base.py:985: ConvergenceWarning: Liblinear failed to converge, increase the number of iterations.\n",
      "  warnings.warn(\"Liblinear failed to converge, increase \"\n"
     ]
    },
    {
     "name": "stdout",
     "output_type": "stream",
     "text": [
      "roc_auc_score with max_iters=180.0, C=10, penalty=l1 and deleted features 'housing','loan','previous','marital','education','day_of_week': 0.7792296954939\n",
      "roc_auc_score with max_iters=180.0, C=10, penalty=l2 and deleted features 'housing','loan','previous','marital','education','day_of_week': 0.7760772548947265\n",
      "roc_auc_score with max_iters=180.0, C=1.0, penalty=l1 and deleted features 'housing','loan','previous','marital','education','day_of_week': 0.7792243149842583\n",
      "roc_auc_score with max_iters=180.0, C=1.0, penalty=l2 and deleted features 'housing','loan','previous','marital','education','day_of_week': 0.7761744883903975\n",
      "roc_auc_score with max_iters=180.0, C=0.1, penalty=l1 and deleted features 'housing','loan','previous','marital','education','day_of_week': 0.7779132385133805\n",
      "roc_auc_score with max_iters=180.0, C=0.1, penalty=l2 and deleted features 'housing','loan','previous','marital','education','day_of_week': 0.7761898612750885\n"
     ]
    },
    {
     "name": "stderr",
     "output_type": "stream",
     "text": [
      "/home/ubuntu/anaconda3/lib/python3.8/site-packages/sklearn/svm/_base.py:985: ConvergenceWarning: Liblinear failed to converge, increase the number of iterations.\n",
      "  warnings.warn(\"Liblinear failed to converge, increase \"\n"
     ]
    },
    {
     "name": "stdout",
     "output_type": "stream",
     "text": [
      "roc_auc_score with max_iters=180.0, C=0.01, penalty=l1 and deleted features 'housing','loan','previous','marital','education','day_of_week': 0.7657359922274696\n",
      "roc_auc_score with max_iters=180.0, C=0.01, penalty=l2 and deleted features 'housing','loan','previous','marital','education','day_of_week': 0.7754611865407319\n",
      "roc_auc_score with max_iters=180.0, C=0.001, penalty=l1 and deleted features 'housing','loan','previous','marital','education','day_of_week': 0.737010450487013\n",
      "roc_auc_score with max_iters=180.0, C=0.001, penalty=l2 and deleted features 'housing','loan','previous','marital','education','day_of_week': 0.7611606374212909\n",
      "roc_auc_score with max_iters=180.0, C=0.0001, penalty=l1 and deleted features 'housing','loan','previous','marital','education','day_of_week': 0.44696669925718224\n",
      "roc_auc_score with max_iters=180.0, C=0.0001, penalty=l2 and deleted features 'housing','loan','previous','marital','education','day_of_week': 0.743846234258166\n"
     ]
    },
    {
     "name": "stderr",
     "output_type": "stream",
     "text": [
      "/home/ubuntu/anaconda3/lib/python3.8/site-packages/sklearn/svm/_base.py:985: ConvergenceWarning: Liblinear failed to converge, increase the number of iterations.\n",
      "  warnings.warn(\"Liblinear failed to converge, increase \"\n"
     ]
    },
    {
     "name": "stdout",
     "output_type": "stream",
     "text": [
      "roc_auc_score with max_iters=190.0, C=100, penalty=l1 and deleted features 'housing','loan','previous','marital','education','day_of_week': 0.7791612861570247\n",
      "roc_auc_score with max_iters=190.0, C=100, penalty=l2 and deleted features 'housing','loan','previous','marital','education','day_of_week': 0.7761827897481306\n"
     ]
    },
    {
     "name": "stderr",
     "output_type": "stream",
     "text": [
      "/home/ubuntu/anaconda3/lib/python3.8/site-packages/sklearn/svm/_base.py:985: ConvergenceWarning: Liblinear failed to converge, increase the number of iterations.\n",
      "  warnings.warn(\"Liblinear failed to converge, increase \"\n"
     ]
    },
    {
     "name": "stdout",
     "output_type": "stream",
     "text": [
      "roc_auc_score with max_iters=190.0, C=50, penalty=l1 and deleted features 'housing','loan','previous','marital','education','day_of_week': 0.7791468356454152\n",
      "roc_auc_score with max_iters=190.0, C=50, penalty=l2 and deleted features 'housing','loan','previous','marital','education','day_of_week': 0.7761755644923258\n"
     ]
    },
    {
     "name": "stderr",
     "output_type": "stream",
     "text": [
      "/home/ubuntu/anaconda3/lib/python3.8/site-packages/sklearn/svm/_base.py:985: ConvergenceWarning: Liblinear failed to converge, increase the number of iterations.\n",
      "  warnings.warn(\"Liblinear failed to converge, increase \"\n"
     ]
    },
    {
     "name": "stdout",
     "output_type": "stream",
     "text": [
      "roc_auc_score with max_iters=190.0, C=20, penalty=l1 and deleted features 'housing','loan','previous','marital','education','day_of_week': 0.779267666519087\n",
      "roc_auc_score with max_iters=190.0, C=20, penalty=l2 and deleted features 'housing','loan','previous','marital','education','day_of_week': 0.7761758719500197\n"
     ]
    },
    {
     "name": "stderr",
     "output_type": "stream",
     "text": [
      "/home/ubuntu/anaconda3/lib/python3.8/site-packages/sklearn/svm/_base.py:985: ConvergenceWarning: Liblinear failed to converge, increase the number of iterations.\n",
      "  warnings.warn(\"Liblinear failed to converge, increase \"\n"
     ]
    },
    {
     "name": "stdout",
     "output_type": "stream",
     "text": [
      "roc_auc_score with max_iters=190.0, C=18, penalty=l1 and deleted features 'housing','loan','previous','marital','education','day_of_week': 0.7792947996605668\n",
      "roc_auc_score with max_iters=190.0, C=18, penalty=l2 and deleted features 'housing','loan','previous','marital','education','day_of_week': 0.7761732585596222\n",
      "roc_auc_score with max_iters=190.0, C=15, penalty=l1 and deleted features 'housing','loan','previous','marital','education','day_of_week': 0.7792533697363243\n",
      "roc_auc_score with max_iters=190.0, C=15, penalty=l2 and deleted features 'housing','loan','previous','marital','education','day_of_week': 0.7761763331365604\n"
     ]
    },
    {
     "name": "stderr",
     "output_type": "stream",
     "text": [
      "/home/ubuntu/anaconda3/lib/python3.8/site-packages/sklearn/svm/_base.py:985: ConvergenceWarning: Liblinear failed to converge, increase the number of iterations.\n",
      "  warnings.warn(\"Liblinear failed to converge, increase \"\n"
     ]
    },
    {
     "name": "stdout",
     "output_type": "stream",
     "text": [
      "roc_auc_score with max_iters=190.0, C=13, penalty=l1 and deleted features 'housing','loan','previous','marital','education','day_of_week': 0.7792763521989374\n",
      "roc_auc_score with max_iters=190.0, C=13, penalty=l2 and deleted features 'housing','loan','previous','marital','education','day_of_week': 0.7761769480519481\n"
     ]
    },
    {
     "name": "stderr",
     "output_type": "stream",
     "text": [
      "/home/ubuntu/anaconda3/lib/python3.8/site-packages/sklearn/svm/_base.py:985: ConvergenceWarning: Liblinear failed to converge, increase the number of iterations.\n",
      "  warnings.warn(\"Liblinear failed to converge, increase \"\n"
     ]
    },
    {
     "name": "stdout",
     "output_type": "stream",
     "text": [
      "roc_auc_score with max_iters=190.0, C=10, penalty=l1 and deleted features 'housing','loan','previous','marital','education','day_of_week': 0.779173123278237\n",
      "roc_auc_score with max_iters=190.0, C=10, penalty=l2 and deleted features 'housing','loan','previous','marital','education','day_of_week': 0.7760772548947265\n",
      "roc_auc_score with max_iters=190.0, C=1.0, penalty=l1 and deleted features 'housing','loan','previous','marital','education','day_of_week': 0.7792243149842583\n",
      "roc_auc_score with max_iters=190.0, C=1.0, penalty=l2 and deleted features 'housing','loan','previous','marital','education','day_of_week': 0.7761744883903975\n",
      "roc_auc_score with max_iters=190.0, C=0.1, penalty=l1 and deleted features 'housing','loan','previous','marital','education','day_of_week': 0.7779132385133805\n",
      "roc_auc_score with max_iters=190.0, C=0.1, penalty=l2 and deleted features 'housing','loan','previous','marital','education','day_of_week': 0.7761898612750885\n"
     ]
    },
    {
     "name": "stderr",
     "output_type": "stream",
     "text": [
      "/home/ubuntu/anaconda3/lib/python3.8/site-packages/sklearn/svm/_base.py:985: ConvergenceWarning: Liblinear failed to converge, increase the number of iterations.\n",
      "  warnings.warn(\"Liblinear failed to converge, increase \"\n"
     ]
    },
    {
     "name": "stdout",
     "output_type": "stream",
     "text": [
      "roc_auc_score with max_iters=190.0, C=0.01, penalty=l1 and deleted features 'housing','loan','previous','marital','education','day_of_week': 0.7657053233225108\n",
      "roc_auc_score with max_iters=190.0, C=0.01, penalty=l2 and deleted features 'housing','loan','previous','marital','education','day_of_week': 0.7754611865407319\n",
      "roc_auc_score with max_iters=190.0, C=0.001, penalty=l1 and deleted features 'housing','loan','previous','marital','education','day_of_week': 0.737010450487013\n",
      "roc_auc_score with max_iters=190.0, C=0.001, penalty=l2 and deleted features 'housing','loan','previous','marital','education','day_of_week': 0.7611606374212909\n",
      "roc_auc_score with max_iters=190.0, C=0.0001, penalty=l1 and deleted features 'housing','loan','previous','marital','education','day_of_week': 0.44696669925718224\n",
      "roc_auc_score with max_iters=190.0, C=0.0001, penalty=l2 and deleted features 'housing','loan','previous','marital','education','day_of_week': 0.743846234258166\n"
     ]
    },
    {
     "name": "stderr",
     "output_type": "stream",
     "text": [
      "/home/ubuntu/anaconda3/lib/python3.8/site-packages/sklearn/svm/_base.py:985: ConvergenceWarning: Liblinear failed to converge, increase the number of iterations.\n",
      "  warnings.warn(\"Liblinear failed to converge, increase \"\n"
     ]
    },
    {
     "name": "stdout",
     "output_type": "stream",
     "text": [
      "roc_auc_score with max_iters=200.0, C=100, penalty=l1 and deleted features 'housing','loan','previous','marital','education','day_of_week': 0.779233077528532\n",
      "roc_auc_score with max_iters=200.0, C=100, penalty=l2 and deleted features 'housing','loan','previous','marital','education','day_of_week': 0.7761827897481306\n"
     ]
    },
    {
     "name": "stderr",
     "output_type": "stream",
     "text": [
      "/home/ubuntu/anaconda3/lib/python3.8/site-packages/sklearn/svm/_base.py:985: ConvergenceWarning: Liblinear failed to converge, increase the number of iterations.\n",
      "  warnings.warn(\"Liblinear failed to converge, increase \"\n"
     ]
    },
    {
     "name": "stdout",
     "output_type": "stream",
     "text": [
      "roc_auc_score with max_iters=200.0, C=50, penalty=l1 and deleted features 'housing','loan','previous','marital','education','day_of_week': 0.7792071742178276\n",
      "roc_auc_score with max_iters=200.0, C=50, penalty=l2 and deleted features 'housing','loan','previous','marital','education','day_of_week': 0.7761755644923258\n"
     ]
    },
    {
     "name": "stderr",
     "output_type": "stream",
     "text": [
      "/home/ubuntu/anaconda3/lib/python3.8/site-packages/sklearn/svm/_base.py:985: ConvergenceWarning: Liblinear failed to converge, increase the number of iterations.\n",
      "  warnings.warn(\"Liblinear failed to converge, increase \"\n"
     ]
    },
    {
     "name": "stdout",
     "output_type": "stream",
     "text": [
      "roc_auc_score with max_iters=200.0, C=20, penalty=l1 and deleted features 'housing','loan','previous','marital','education','day_of_week': 0.7793175515299094\n",
      "roc_auc_score with max_iters=200.0, C=20, penalty=l2 and deleted features 'housing','loan','previous','marital','education','day_of_week': 0.7761758719500197\n"
     ]
    },
    {
     "name": "stderr",
     "output_type": "stream",
     "text": [
      "/home/ubuntu/anaconda3/lib/python3.8/site-packages/sklearn/svm/_base.py:985: ConvergenceWarning: Liblinear failed to converge, increase the number of iterations.\n",
      "  warnings.warn(\"Liblinear failed to converge, increase \"\n"
     ]
    },
    {
     "name": "stdout",
     "output_type": "stream",
     "text": [
      "roc_auc_score with max_iters=200.0, C=18, penalty=l1 and deleted features 'housing','loan','previous','marital','education','day_of_week': 0.7793007182211729\n",
      "roc_auc_score with max_iters=200.0, C=18, penalty=l2 and deleted features 'housing','loan','previous','marital','education','day_of_week': 0.7761732585596222\n",
      "roc_auc_score with max_iters=200.0, C=15, penalty=l1 and deleted features 'housing','loan','previous','marital','education','day_of_week': 0.7792533697363243\n",
      "roc_auc_score with max_iters=200.0, C=15, penalty=l2 and deleted features 'housing','loan','previous','marital','education','day_of_week': 0.7761763331365604\n"
     ]
    },
    {
     "name": "stderr",
     "output_type": "stream",
     "text": [
      "/home/ubuntu/anaconda3/lib/python3.8/site-packages/sklearn/svm/_base.py:985: ConvergenceWarning: Liblinear failed to converge, increase the number of iterations.\n",
      "  warnings.warn(\"Liblinear failed to converge, increase \"\n"
     ]
    },
    {
     "name": "stdout",
     "output_type": "stream",
     "text": [
      "roc_auc_score with max_iters=200.0, C=13, penalty=l1 and deleted features 'housing','loan','previous','marital','education','day_of_week': 0.7793187044962613\n",
      "roc_auc_score with max_iters=200.0, C=13, penalty=l2 and deleted features 'housing','loan','previous','marital','education','day_of_week': 0.7761769480519481\n",
      "roc_auc_score with max_iters=200.0, C=10, penalty=l1 and deleted features 'housing','loan','previous','marital','education','day_of_week': 0.77915406090122\n",
      "roc_auc_score with max_iters=200.0, C=10, penalty=l2 and deleted features 'housing','loan','previous','marital','education','day_of_week': 0.7760772548947265\n",
      "roc_auc_score with max_iters=200.0, C=1.0, penalty=l1 and deleted features 'housing','loan','previous','marital','education','day_of_week': 0.7792243149842583\n",
      "roc_auc_score with max_iters=200.0, C=1.0, penalty=l2 and deleted features 'housing','loan','previous','marital','education','day_of_week': 0.7761744883903975\n",
      "roc_auc_score with max_iters=200.0, C=0.1, penalty=l1 and deleted features 'housing','loan','previous','marital','education','day_of_week': 0.7779132385133805\n",
      "roc_auc_score with max_iters=200.0, C=0.1, penalty=l2 and deleted features 'housing','loan','previous','marital','education','day_of_week': 0.7761898612750885\n"
     ]
    },
    {
     "name": "stderr",
     "output_type": "stream",
     "text": [
      "/home/ubuntu/anaconda3/lib/python3.8/site-packages/sklearn/svm/_base.py:985: ConvergenceWarning: Liblinear failed to converge, increase the number of iterations.\n",
      "  warnings.warn(\"Liblinear failed to converge, increase \"\n"
     ]
    },
    {
     "name": "stdout",
     "output_type": "stream",
     "text": [
      "roc_auc_score with max_iters=200.0, C=0.01, penalty=l1 and deleted features 'housing','loan','previous','marital','education','day_of_week': 0.7656362990702479\n",
      "roc_auc_score with max_iters=200.0, C=0.01, penalty=l2 and deleted features 'housing','loan','previous','marital','education','day_of_week': 0.7754611865407319\n",
      "roc_auc_score with max_iters=200.0, C=0.001, penalty=l1 and deleted features 'housing','loan','previous','marital','education','day_of_week': 0.737010450487013\n",
      "roc_auc_score with max_iters=200.0, C=0.001, penalty=l2 and deleted features 'housing','loan','previous','marital','education','day_of_week': 0.7611606374212909\n",
      "roc_auc_score with max_iters=200.0, C=0.0001, penalty=l1 and deleted features 'housing','loan','previous','marital','education','day_of_week': 0.44696669925718224\n",
      "roc_auc_score with max_iters=200.0, C=0.0001, penalty=l2 and deleted features 'housing','loan','previous','marital','education','day_of_week': 0.743846234258166\n"
     ]
    }
   ],
   "source": [
    "# c_values = [100, 10, 1.0, 0.1, 0.01]\n",
    "# max_iters = np.linspace(10, 200,20)\n",
    "# penalties = ['l1', 'l2']\n",
    "# drop_features = ['housing','loan','previous','marital','education','day_of_week']\n",
    "\n",
    "# df_train_copy = df_train.copy()\n",
    "# df_train_copy.drop(drop_features,axis=1,inplace=True)\n",
    "# df_val_copy = df_val.copy()\n",
    "# df_val_copy.drop(drop_features,axis=1,inplace=True)\n",
    "\n",
    "# features_list = df_train_copy.columns\n",
    "\n",
    "# for max_iter in max_iters:\n",
    "#     for c in c_values:\n",
    "#         for penalty in penalties:\n",
    "#             model = LogisticRegression(penalty=penalty,solver='liblinear',random_state=42, max_iter=max_iter, C=c)\n",
    "#             this_auc = evaluate(list(features_list),df_train_copy,df_val_copy,model)\n",
    "#             print(f\"roc_auc_score with max_iters={max_iter}, C={c}, penalty={penalty} and deleted features 'housing','loan','previous','marital','education','day_of_week': {this_auc}\")\n",
    "#             score_entry = {\"algo\": \"logisticregression\", \"desc\": f\"max_iters={max_iter}, C={c} and deleted features 'housing','loan','previous','marital','education','day_of_week'\", \"score\": this_auc, \"diff\": this_auc - baseline_auc}\n",
    "#             exp_scores = exp_scores.append(score_entry,ignore_index=True)"
   ]
  },
  {
   "cell_type": "code",
   "execution_count": 85,
   "metadata": {},
   "outputs": [
    {
     "data": {
      "text/html": [
       "<div>\n",
       "<style scoped>\n",
       "    .dataframe tbody tr th:only-of-type {\n",
       "        vertical-align: middle;\n",
       "    }\n",
       "\n",
       "    .dataframe tbody tr th {\n",
       "        vertical-align: top;\n",
       "    }\n",
       "\n",
       "    .dataframe thead th {\n",
       "        text-align: right;\n",
       "    }\n",
       "</style>\n",
       "<table border=\"1\" class=\"dataframe\">\n",
       "  <thead>\n",
       "    <tr style=\"text-align: right;\">\n",
       "      <th></th>\n",
       "      <th>algo</th>\n",
       "      <th>desc</th>\n",
       "      <th>score</th>\n",
       "      <th>diff</th>\n",
       "    </tr>\n",
       "  </thead>\n",
       "  <tbody>\n",
       "    <tr>\n",
       "      <th>0</th>\n",
       "      <td>logisticregression</td>\n",
       "      <td>all features including duration</td>\n",
       "      <td>0.928279</td>\n",
       "      <td>NaN</td>\n",
       "    </tr>\n",
       "    <tr>\n",
       "      <th>435</th>\n",
       "      <td>logisticregression</td>\n",
       "      <td>max_iters=160.0, C=10 and deleted features 'ho...</td>\n",
       "      <td>0.779354</td>\n",
       "      <td>0.009833</td>\n",
       "    </tr>\n",
       "    <tr>\n",
       "      <th>529</th>\n",
       "      <td>logisticregression</td>\n",
       "      <td>max_iters=200.0, C=13 and deleted features 'ho...</td>\n",
       "      <td>0.779319</td>\n",
       "      <td>0.009798</td>\n",
       "    </tr>\n",
       "    <tr>\n",
       "      <th>523</th>\n",
       "      <td>logisticregression</td>\n",
       "      <td>max_iters=200.0, C=20 and deleted features 'ho...</td>\n",
       "      <td>0.779318</td>\n",
       "      <td>0.009797</td>\n",
       "    </tr>\n",
       "    <tr>\n",
       "      <th>459</th>\n",
       "      <td>logisticregression</td>\n",
       "      <td>max_iters=170.0, C=10 and deleted features 'ho...</td>\n",
       "      <td>0.779315</td>\n",
       "      <td>0.009794</td>\n",
       "    </tr>\n",
       "    <tr>\n",
       "      <th>525</th>\n",
       "      <td>logisticregression</td>\n",
       "      <td>max_iters=200.0, C=18 and deleted features 'ho...</td>\n",
       "      <td>0.779301</td>\n",
       "      <td>0.009780</td>\n",
       "    </tr>\n",
       "    <tr>\n",
       "      <th>411</th>\n",
       "      <td>logisticregression</td>\n",
       "      <td>max_iters=150.0, C=10 and deleted features 'ho...</td>\n",
       "      <td>0.779297</td>\n",
       "      <td>0.009776</td>\n",
       "    </tr>\n",
       "    <tr>\n",
       "      <th>501</th>\n",
       "      <td>logisticregression</td>\n",
       "      <td>max_iters=190.0, C=18 and deleted features 'ho...</td>\n",
       "      <td>0.779295</td>\n",
       "      <td>0.009774</td>\n",
       "    </tr>\n",
       "    <tr>\n",
       "      <th>505</th>\n",
       "      <td>logisticregression</td>\n",
       "      <td>max_iters=190.0, C=13 and deleted features 'ho...</td>\n",
       "      <td>0.779276</td>\n",
       "      <td>0.009756</td>\n",
       "    </tr>\n",
       "    <tr>\n",
       "      <th>499</th>\n",
       "      <td>logisticregression</td>\n",
       "      <td>max_iters=190.0, C=20 and deleted features 'ho...</td>\n",
       "      <td>0.779268</td>\n",
       "      <td>0.009747</td>\n",
       "    </tr>\n",
       "  </tbody>\n",
       "</table>\n",
       "</div>"
      ],
      "text/plain": [
       "                   algo                                               desc  \\\n",
       "0    logisticregression                    all features including duration   \n",
       "435  logisticregression  max_iters=160.0, C=10 and deleted features 'ho...   \n",
       "529  logisticregression  max_iters=200.0, C=13 and deleted features 'ho...   \n",
       "523  logisticregression  max_iters=200.0, C=20 and deleted features 'ho...   \n",
       "459  logisticregression  max_iters=170.0, C=10 and deleted features 'ho...   \n",
       "525  logisticregression  max_iters=200.0, C=18 and deleted features 'ho...   \n",
       "411  logisticregression  max_iters=150.0, C=10 and deleted features 'ho...   \n",
       "501  logisticregression  max_iters=190.0, C=18 and deleted features 'ho...   \n",
       "505  logisticregression  max_iters=190.0, C=13 and deleted features 'ho...   \n",
       "499  logisticregression  max_iters=190.0, C=20 and deleted features 'ho...   \n",
       "\n",
       "        score      diff  \n",
       "0    0.928279       NaN  \n",
       "435  0.779354  0.009833  \n",
       "529  0.779319  0.009798  \n",
       "523  0.779318  0.009797  \n",
       "459  0.779315  0.009794  \n",
       "525  0.779301  0.009780  \n",
       "411  0.779297  0.009776  \n",
       "501  0.779295  0.009774  \n",
       "505  0.779276  0.009756  \n",
       "499  0.779268  0.009747  "
      ]
     },
     "execution_count": 85,
     "metadata": {},
     "output_type": "execute_result"
    }
   ],
   "source": [
    "# exp_scores.sort_values(by='score',ascending=False).head(10)"
   ]
  },
  {
   "cell_type": "code",
   "execution_count": 89,
   "metadata": {},
   "outputs": [
    {
     "data": {
      "text/plain": [
       "\"max_iters=160.0, C=10 and deleted features 'housing','loan','previous','marital','education','day_of_week'\""
      ]
     },
     "execution_count": 89,
     "metadata": {},
     "output_type": "execute_result"
    }
   ],
   "source": [
    "# exp_scores.sort_values(by='score',ascending=False).iloc[1].desc"
   ]
  },
  {
   "cell_type": "markdown",
   "metadata": {},
   "source": [
    "**Best performance for Logistic Regression**\n",
    "* Features: deleted features 'housing','loan','previous','marital','education','day_of_week' \n",
    "* Hyperparameters: max_iters=160.0, C=10"
   ]
  },
  {
   "cell_type": "markdown",
   "metadata": {},
   "source": [
    "**Tuning the parameters using GridsearchCV**"
   ]
  },
  {
   "cell_type": "code",
   "execution_count": 97,
   "metadata": {},
   "outputs": [
    {
     "name": "stderr",
     "output_type": "stream",
     "text": [
      "/home/ubuntu/anaconda3/lib/python3.8/site-packages/scipy/optimize/linesearch.py:478: LineSearchWarning: The line search algorithm did not converge\n",
      "  warn('The line search algorithm did not converge', LineSearchWarning)\n",
      "/home/ubuntu/anaconda3/lib/python3.8/site-packages/scipy/optimize/linesearch.py:327: LineSearchWarning: The line search algorithm did not converge\n",
      "  warn('The line search algorithm did not converge', LineSearchWarning)\n",
      "/home/ubuntu/anaconda3/lib/python3.8/site-packages/sklearn/utils/optimize.py:202: ConvergenceWarning: newton-cg failed to converge. Increase the number of iterations.\n",
      "  warnings.warn(\"newton-cg failed to converge. Increase the \"\n"
     ]
    }
   ],
   "source": [
    "# define models and parameters\n",
    "model = LogisticRegression()\n",
    "solvers = ['newton-cg', 'lbfgs', 'liblinear']\n",
    "penalty = ['l1','l2']\n",
    "c_values = [100, 10, 1.0, 0.1, 0.01]\n",
    "\n",
    "df_train_copy = df_train.copy()\n",
    "df_val_copy = df_val.copy()\n",
    "\n",
    "dict_train_new = df_train_copy.to_dict(orient='records')\n",
    "X_train_new = dv.fit_transform(dict_train_new)\n",
    "\n",
    "\n",
    "# define grid search\n",
    "grid = dict(solver=solvers,penalty=penalty,C=c_values)\n",
    "cv = RepeatedStratifiedKFold(n_splits=3, n_repeats=3, random_state=1)\n",
    "grid_search = GridSearchCV(estimator=model, param_grid=grid, n_jobs=-1, cv=cv, scoring='roc_auc',error_score=0)\n",
    "grid_result = grid_search.fit(X_train_new, y_train)"
   ]
  },
  {
   "cell_type": "code",
   "execution_count": 98,
   "metadata": {},
   "outputs": [
    {
     "name": "stdout",
     "output_type": "stream",
     "text": [
      "Best: 0.792978 using {'C': 0.1, 'penalty': 'l2', 'solver': 'newton-cg'}\n",
      "0.000000 (0.000000) with: {'C': 100, 'penalty': 'l1', 'solver': 'newton-cg'}\n",
      "0.000000 (0.000000) with: {'C': 100, 'penalty': 'l1', 'solver': 'lbfgs'}\n",
      "0.789964 (0.007532) with: {'C': 100, 'penalty': 'l1', 'solver': 'liblinear'}\n",
      "0.792607 (0.007932) with: {'C': 100, 'penalty': 'l2', 'solver': 'newton-cg'}\n",
      "0.776233 (0.007312) with: {'C': 100, 'penalty': 'l2', 'solver': 'lbfgs'}\n",
      "0.789592 (0.009309) with: {'C': 100, 'penalty': 'l2', 'solver': 'liblinear'}\n",
      "0.000000 (0.000000) with: {'C': 10, 'penalty': 'l1', 'solver': 'newton-cg'}\n",
      "0.000000 (0.000000) with: {'C': 10, 'penalty': 'l1', 'solver': 'lbfgs'}\n",
      "0.790988 (0.007548) with: {'C': 10, 'penalty': 'l1', 'solver': 'liblinear'}\n",
      "0.792648 (0.007830) with: {'C': 10, 'penalty': 'l2', 'solver': 'newton-cg'}\n",
      "0.776336 (0.007234) with: {'C': 10, 'penalty': 'l2', 'solver': 'lbfgs'}\n",
      "0.786522 (0.012782) with: {'C': 10, 'penalty': 'l2', 'solver': 'liblinear'}\n",
      "0.000000 (0.000000) with: {'C': 1.0, 'penalty': 'l1', 'solver': 'newton-cg'}\n",
      "0.000000 (0.000000) with: {'C': 1.0, 'penalty': 'l1', 'solver': 'lbfgs'}\n",
      "0.792070 (0.008042) with: {'C': 1.0, 'penalty': 'l1', 'solver': 'liblinear'}\n",
      "0.792892 (0.007637) with: {'C': 1.0, 'penalty': 'l2', 'solver': 'newton-cg'}\n",
      "0.776373 (0.008460) with: {'C': 1.0, 'penalty': 'l2', 'solver': 'lbfgs'}\n",
      "0.786275 (0.012938) with: {'C': 1.0, 'penalty': 'l2', 'solver': 'liblinear'}\n",
      "0.000000 (0.000000) with: {'C': 0.1, 'penalty': 'l1', 'solver': 'newton-cg'}\n",
      "0.000000 (0.000000) with: {'C': 0.1, 'penalty': 'l1', 'solver': 'lbfgs'}\n",
      "0.792715 (0.007920) with: {'C': 0.1, 'penalty': 'l1', 'solver': 'liblinear'}\n",
      "0.792978 (0.007855) with: {'C': 0.1, 'penalty': 'l2', 'solver': 'newton-cg'}\n",
      "0.772400 (0.010296) with: {'C': 0.1, 'penalty': 'l2', 'solver': 'lbfgs'}\n",
      "0.789680 (0.008668) with: {'C': 0.1, 'penalty': 'l2', 'solver': 'liblinear'}\n",
      "0.000000 (0.000000) with: {'C': 0.01, 'penalty': 'l1', 'solver': 'newton-cg'}\n",
      "0.000000 (0.000000) with: {'C': 0.01, 'penalty': 'l1', 'solver': 'lbfgs'}\n",
      "0.779006 (0.006169) with: {'C': 0.01, 'penalty': 'l1', 'solver': 'liblinear'}\n",
      "0.790743 (0.007564) with: {'C': 0.01, 'penalty': 'l2', 'solver': 'newton-cg'}\n",
      "0.775228 (0.005540) with: {'C': 0.01, 'penalty': 'l2', 'solver': 'lbfgs'}\n",
      "0.787741 (0.008589) with: {'C': 0.01, 'penalty': 'l2', 'solver': 'liblinear'}\n"
     ]
    }
   ],
   "source": [
    "# summarize results\n",
    "print(\"Best: %f using %s\" % (grid_result.best_score_, grid_result.best_params_))\n",
    "means = grid_result.cv_results_['mean_test_score']\n",
    "stds = grid_result.cv_results_['std_test_score']\n",
    "params = grid_result.cv_results_['params']\n",
    "for mean, stdev, param in zip(means, stds, params):\n",
    "    print(\"%f (%f) with: %r\" % (mean, stdev, param))"
   ]
  },
  {
   "cell_type": "code",
   "execution_count": 93,
   "metadata": {},
   "outputs": [
    {
     "data": {
      "text/plain": [
       "dict_keys(['explained_variance', 'r2', 'max_error', 'neg_median_absolute_error', 'neg_mean_absolute_error', 'neg_mean_absolute_percentage_error', 'neg_mean_squared_error', 'neg_mean_squared_log_error', 'neg_root_mean_squared_error', 'neg_mean_poisson_deviance', 'neg_mean_gamma_deviance', 'accuracy', 'top_k_accuracy', 'roc_auc', 'roc_auc_ovr', 'roc_auc_ovo', 'roc_auc_ovr_weighted', 'roc_auc_ovo_weighted', 'balanced_accuracy', 'average_precision', 'neg_log_loss', 'neg_brier_score', 'adjusted_rand_score', 'rand_score', 'homogeneity_score', 'completeness_score', 'v_measure_score', 'mutual_info_score', 'adjusted_mutual_info_score', 'normalized_mutual_info_score', 'fowlkes_mallows_score', 'precision', 'precision_macro', 'precision_micro', 'precision_samples', 'precision_weighted', 'recall', 'recall_macro', 'recall_micro', 'recall_samples', 'recall_weighted', 'f1', 'f1_macro', 'f1_micro', 'f1_samples', 'f1_weighted', 'jaccard', 'jaccard_macro', 'jaccard_micro', 'jaccard_samples', 'jaccard_weighted'])"
      ]
     },
     "execution_count": 93,
     "metadata": {},
     "output_type": "execute_result"
    }
   ],
   "source": [
    "from sklearn.metrics import SCORERS\n",
    "SCORERS.keys()"
   ]
  },
  {
   "cell_type": "code",
   "execution_count": 101,
   "metadata": {},
   "outputs": [],
   "source": [
    "# summarize results\n",
    "# print(\"Best: %f using %s\" % (grid_result.best_score_, grid_result.best_params_))\n",
    "means = grid_result.cv_results_['mean_test_score']\n",
    "stds = grid_result.cv_results_['std_test_score']\n",
    "params = grid_result.cv_results_['params']\n",
    "columns = ['algo','mean_test_score','std_test_score','params']\n",
    "df_gridcv_results = pd.DataFrame(columns=columns)\n",
    "for mean, stdev, param in zip(means, stds, params):\n",
    "    score_entry = {\"algo\": \"logisticregression\", \"mean_test_score\": mean, \"std_test_score\": stdev, \"params\": param}\n",
    "    df_gridcv_results = df_gridcv_results.append(score_entry,ignore_index=True)"
   ]
  },
  {
   "cell_type": "code",
   "execution_count": 103,
   "metadata": {},
   "outputs": [
    {
     "data": {
      "text/html": [
       "<div>\n",
       "<style scoped>\n",
       "    .dataframe tbody tr th:only-of-type {\n",
       "        vertical-align: middle;\n",
       "    }\n",
       "\n",
       "    .dataframe tbody tr th {\n",
       "        vertical-align: top;\n",
       "    }\n",
       "\n",
       "    .dataframe thead th {\n",
       "        text-align: right;\n",
       "    }\n",
       "</style>\n",
       "<table border=\"1\" class=\"dataframe\">\n",
       "  <thead>\n",
       "    <tr style=\"text-align: right;\">\n",
       "      <th></th>\n",
       "      <th>algo</th>\n",
       "      <th>mean_test_score</th>\n",
       "      <th>std_test_score</th>\n",
       "      <th>params</th>\n",
       "    </tr>\n",
       "  </thead>\n",
       "  <tbody>\n",
       "    <tr>\n",
       "      <th>21</th>\n",
       "      <td>logisticregression</td>\n",
       "      <td>0.792978</td>\n",
       "      <td>0.007855</td>\n",
       "      <td>{'C': 0.1, 'penalty': 'l2', 'solver': 'newton-...</td>\n",
       "    </tr>\n",
       "    <tr>\n",
       "      <th>15</th>\n",
       "      <td>logisticregression</td>\n",
       "      <td>0.792892</td>\n",
       "      <td>0.007637</td>\n",
       "      <td>{'C': 1.0, 'penalty': 'l2', 'solver': 'newton-...</td>\n",
       "    </tr>\n",
       "    <tr>\n",
       "      <th>20</th>\n",
       "      <td>logisticregression</td>\n",
       "      <td>0.792715</td>\n",
       "      <td>0.007920</td>\n",
       "      <td>{'C': 0.1, 'penalty': 'l1', 'solver': 'libline...</td>\n",
       "    </tr>\n",
       "    <tr>\n",
       "      <th>9</th>\n",
       "      <td>logisticregression</td>\n",
       "      <td>0.792648</td>\n",
       "      <td>0.007830</td>\n",
       "      <td>{'C': 10, 'penalty': 'l2', 'solver': 'newton-cg'}</td>\n",
       "    </tr>\n",
       "    <tr>\n",
       "      <th>3</th>\n",
       "      <td>logisticregression</td>\n",
       "      <td>0.792607</td>\n",
       "      <td>0.007932</td>\n",
       "      <td>{'C': 100, 'penalty': 'l2', 'solver': 'newton-...</td>\n",
       "    </tr>\n",
       "    <tr>\n",
       "      <th>14</th>\n",
       "      <td>logisticregression</td>\n",
       "      <td>0.792070</td>\n",
       "      <td>0.008042</td>\n",
       "      <td>{'C': 1.0, 'penalty': 'l1', 'solver': 'libline...</td>\n",
       "    </tr>\n",
       "    <tr>\n",
       "      <th>8</th>\n",
       "      <td>logisticregression</td>\n",
       "      <td>0.790988</td>\n",
       "      <td>0.007548</td>\n",
       "      <td>{'C': 10, 'penalty': 'l1', 'solver': 'liblinear'}</td>\n",
       "    </tr>\n",
       "    <tr>\n",
       "      <th>27</th>\n",
       "      <td>logisticregression</td>\n",
       "      <td>0.790743</td>\n",
       "      <td>0.007564</td>\n",
       "      <td>{'C': 0.01, 'penalty': 'l2', 'solver': 'newton...</td>\n",
       "    </tr>\n",
       "    <tr>\n",
       "      <th>2</th>\n",
       "      <td>logisticregression</td>\n",
       "      <td>0.789964</td>\n",
       "      <td>0.007532</td>\n",
       "      <td>{'C': 100, 'penalty': 'l1', 'solver': 'libline...</td>\n",
       "    </tr>\n",
       "    <tr>\n",
       "      <th>23</th>\n",
       "      <td>logisticregression</td>\n",
       "      <td>0.789680</td>\n",
       "      <td>0.008668</td>\n",
       "      <td>{'C': 0.1, 'penalty': 'l2', 'solver': 'libline...</td>\n",
       "    </tr>\n",
       "    <tr>\n",
       "      <th>5</th>\n",
       "      <td>logisticregression</td>\n",
       "      <td>0.789592</td>\n",
       "      <td>0.009309</td>\n",
       "      <td>{'C': 100, 'penalty': 'l2', 'solver': 'libline...</td>\n",
       "    </tr>\n",
       "    <tr>\n",
       "      <th>29</th>\n",
       "      <td>logisticregression</td>\n",
       "      <td>0.787741</td>\n",
       "      <td>0.008589</td>\n",
       "      <td>{'C': 0.01, 'penalty': 'l2', 'solver': 'liblin...</td>\n",
       "    </tr>\n",
       "    <tr>\n",
       "      <th>11</th>\n",
       "      <td>logisticregression</td>\n",
       "      <td>0.786522</td>\n",
       "      <td>0.012782</td>\n",
       "      <td>{'C': 10, 'penalty': 'l2', 'solver': 'liblinear'}</td>\n",
       "    </tr>\n",
       "    <tr>\n",
       "      <th>17</th>\n",
       "      <td>logisticregression</td>\n",
       "      <td>0.786275</td>\n",
       "      <td>0.012938</td>\n",
       "      <td>{'C': 1.0, 'penalty': 'l2', 'solver': 'libline...</td>\n",
       "    </tr>\n",
       "    <tr>\n",
       "      <th>26</th>\n",
       "      <td>logisticregression</td>\n",
       "      <td>0.779006</td>\n",
       "      <td>0.006169</td>\n",
       "      <td>{'C': 0.01, 'penalty': 'l1', 'solver': 'liblin...</td>\n",
       "    </tr>\n",
       "    <tr>\n",
       "      <th>16</th>\n",
       "      <td>logisticregression</td>\n",
       "      <td>0.776373</td>\n",
       "      <td>0.008460</td>\n",
       "      <td>{'C': 1.0, 'penalty': 'l2', 'solver': 'lbfgs'}</td>\n",
       "    </tr>\n",
       "    <tr>\n",
       "      <th>10</th>\n",
       "      <td>logisticregression</td>\n",
       "      <td>0.776336</td>\n",
       "      <td>0.007234</td>\n",
       "      <td>{'C': 10, 'penalty': 'l2', 'solver': 'lbfgs'}</td>\n",
       "    </tr>\n",
       "    <tr>\n",
       "      <th>4</th>\n",
       "      <td>logisticregression</td>\n",
       "      <td>0.776233</td>\n",
       "      <td>0.007312</td>\n",
       "      <td>{'C': 100, 'penalty': 'l2', 'solver': 'lbfgs'}</td>\n",
       "    </tr>\n",
       "    <tr>\n",
       "      <th>28</th>\n",
       "      <td>logisticregression</td>\n",
       "      <td>0.775228</td>\n",
       "      <td>0.005540</td>\n",
       "      <td>{'C': 0.01, 'penalty': 'l2', 'solver': 'lbfgs'}</td>\n",
       "    </tr>\n",
       "    <tr>\n",
       "      <th>22</th>\n",
       "      <td>logisticregression</td>\n",
       "      <td>0.772400</td>\n",
       "      <td>0.010296</td>\n",
       "      <td>{'C': 0.1, 'penalty': 'l2', 'solver': 'lbfgs'}</td>\n",
       "    </tr>\n",
       "    <tr>\n",
       "      <th>12</th>\n",
       "      <td>logisticregression</td>\n",
       "      <td>0.000000</td>\n",
       "      <td>0.000000</td>\n",
       "      <td>{'C': 1.0, 'penalty': 'l1', 'solver': 'newton-...</td>\n",
       "    </tr>\n",
       "    <tr>\n",
       "      <th>24</th>\n",
       "      <td>logisticregression</td>\n",
       "      <td>0.000000</td>\n",
       "      <td>0.000000</td>\n",
       "      <td>{'C': 0.01, 'penalty': 'l1', 'solver': 'newton...</td>\n",
       "    </tr>\n",
       "    <tr>\n",
       "      <th>25</th>\n",
       "      <td>logisticregression</td>\n",
       "      <td>0.000000</td>\n",
       "      <td>0.000000</td>\n",
       "      <td>{'C': 0.01, 'penalty': 'l1', 'solver': 'lbfgs'}</td>\n",
       "    </tr>\n",
       "    <tr>\n",
       "      <th>7</th>\n",
       "      <td>logisticregression</td>\n",
       "      <td>0.000000</td>\n",
       "      <td>0.000000</td>\n",
       "      <td>{'C': 10, 'penalty': 'l1', 'solver': 'lbfgs'}</td>\n",
       "    </tr>\n",
       "    <tr>\n",
       "      <th>6</th>\n",
       "      <td>logisticregression</td>\n",
       "      <td>0.000000</td>\n",
       "      <td>0.000000</td>\n",
       "      <td>{'C': 10, 'penalty': 'l1', 'solver': 'newton-cg'}</td>\n",
       "    </tr>\n",
       "    <tr>\n",
       "      <th>13</th>\n",
       "      <td>logisticregression</td>\n",
       "      <td>0.000000</td>\n",
       "      <td>0.000000</td>\n",
       "      <td>{'C': 1.0, 'penalty': 'l1', 'solver': 'lbfgs'}</td>\n",
       "    </tr>\n",
       "    <tr>\n",
       "      <th>19</th>\n",
       "      <td>logisticregression</td>\n",
       "      <td>0.000000</td>\n",
       "      <td>0.000000</td>\n",
       "      <td>{'C': 0.1, 'penalty': 'l1', 'solver': 'lbfgs'}</td>\n",
       "    </tr>\n",
       "    <tr>\n",
       "      <th>18</th>\n",
       "      <td>logisticregression</td>\n",
       "      <td>0.000000</td>\n",
       "      <td>0.000000</td>\n",
       "      <td>{'C': 0.1, 'penalty': 'l1', 'solver': 'newton-...</td>\n",
       "    </tr>\n",
       "    <tr>\n",
       "      <th>1</th>\n",
       "      <td>logisticregression</td>\n",
       "      <td>0.000000</td>\n",
       "      <td>0.000000</td>\n",
       "      <td>{'C': 100, 'penalty': 'l1', 'solver': 'lbfgs'}</td>\n",
       "    </tr>\n",
       "    <tr>\n",
       "      <th>0</th>\n",
       "      <td>logisticregression</td>\n",
       "      <td>0.000000</td>\n",
       "      <td>0.000000</td>\n",
       "      <td>{'C': 100, 'penalty': 'l1', 'solver': 'newton-...</td>\n",
       "    </tr>\n",
       "  </tbody>\n",
       "</table>\n",
       "</div>"
      ],
      "text/plain": [
       "                  algo  mean_test_score  std_test_score  \\\n",
       "21  logisticregression         0.792978        0.007855   \n",
       "15  logisticregression         0.792892        0.007637   \n",
       "20  logisticregression         0.792715        0.007920   \n",
       "9   logisticregression         0.792648        0.007830   \n",
       "3   logisticregression         0.792607        0.007932   \n",
       "14  logisticregression         0.792070        0.008042   \n",
       "8   logisticregression         0.790988        0.007548   \n",
       "27  logisticregression         0.790743        0.007564   \n",
       "2   logisticregression         0.789964        0.007532   \n",
       "23  logisticregression         0.789680        0.008668   \n",
       "5   logisticregression         0.789592        0.009309   \n",
       "29  logisticregression         0.787741        0.008589   \n",
       "11  logisticregression         0.786522        0.012782   \n",
       "17  logisticregression         0.786275        0.012938   \n",
       "26  logisticregression         0.779006        0.006169   \n",
       "16  logisticregression         0.776373        0.008460   \n",
       "10  logisticregression         0.776336        0.007234   \n",
       "4   logisticregression         0.776233        0.007312   \n",
       "28  logisticregression         0.775228        0.005540   \n",
       "22  logisticregression         0.772400        0.010296   \n",
       "12  logisticregression         0.000000        0.000000   \n",
       "24  logisticregression         0.000000        0.000000   \n",
       "25  logisticregression         0.000000        0.000000   \n",
       "7   logisticregression         0.000000        0.000000   \n",
       "6   logisticregression         0.000000        0.000000   \n",
       "13  logisticregression         0.000000        0.000000   \n",
       "19  logisticregression         0.000000        0.000000   \n",
       "18  logisticregression         0.000000        0.000000   \n",
       "1   logisticregression         0.000000        0.000000   \n",
       "0   logisticregression         0.000000        0.000000   \n",
       "\n",
       "                                               params  \n",
       "21  {'C': 0.1, 'penalty': 'l2', 'solver': 'newton-...  \n",
       "15  {'C': 1.0, 'penalty': 'l2', 'solver': 'newton-...  \n",
       "20  {'C': 0.1, 'penalty': 'l1', 'solver': 'libline...  \n",
       "9   {'C': 10, 'penalty': 'l2', 'solver': 'newton-cg'}  \n",
       "3   {'C': 100, 'penalty': 'l2', 'solver': 'newton-...  \n",
       "14  {'C': 1.0, 'penalty': 'l1', 'solver': 'libline...  \n",
       "8   {'C': 10, 'penalty': 'l1', 'solver': 'liblinear'}  \n",
       "27  {'C': 0.01, 'penalty': 'l2', 'solver': 'newton...  \n",
       "2   {'C': 100, 'penalty': 'l1', 'solver': 'libline...  \n",
       "23  {'C': 0.1, 'penalty': 'l2', 'solver': 'libline...  \n",
       "5   {'C': 100, 'penalty': 'l2', 'solver': 'libline...  \n",
       "29  {'C': 0.01, 'penalty': 'l2', 'solver': 'liblin...  \n",
       "11  {'C': 10, 'penalty': 'l2', 'solver': 'liblinear'}  \n",
       "17  {'C': 1.0, 'penalty': 'l2', 'solver': 'libline...  \n",
       "26  {'C': 0.01, 'penalty': 'l1', 'solver': 'liblin...  \n",
       "16     {'C': 1.0, 'penalty': 'l2', 'solver': 'lbfgs'}  \n",
       "10      {'C': 10, 'penalty': 'l2', 'solver': 'lbfgs'}  \n",
       "4      {'C': 100, 'penalty': 'l2', 'solver': 'lbfgs'}  \n",
       "28    {'C': 0.01, 'penalty': 'l2', 'solver': 'lbfgs'}  \n",
       "22     {'C': 0.1, 'penalty': 'l2', 'solver': 'lbfgs'}  \n",
       "12  {'C': 1.0, 'penalty': 'l1', 'solver': 'newton-...  \n",
       "24  {'C': 0.01, 'penalty': 'l1', 'solver': 'newton...  \n",
       "25    {'C': 0.01, 'penalty': 'l1', 'solver': 'lbfgs'}  \n",
       "7       {'C': 10, 'penalty': 'l1', 'solver': 'lbfgs'}  \n",
       "6   {'C': 10, 'penalty': 'l1', 'solver': 'newton-cg'}  \n",
       "13     {'C': 1.0, 'penalty': 'l1', 'solver': 'lbfgs'}  \n",
       "19     {'C': 0.1, 'penalty': 'l1', 'solver': 'lbfgs'}  \n",
       "18  {'C': 0.1, 'penalty': 'l1', 'solver': 'newton-...  \n",
       "1      {'C': 100, 'penalty': 'l1', 'solver': 'lbfgs'}  \n",
       "0   {'C': 100, 'penalty': 'l1', 'solver': 'newton-...  "
      ]
     },
     "execution_count": 103,
     "metadata": {},
     "output_type": "execute_result"
    }
   ],
   "source": [
    "df_gridcv_results.sort_values(by='mean_test_score',ascending=False)"
   ]
  },
  {
   "cell_type": "code",
   "execution_count": 106,
   "metadata": {},
   "outputs": [
    {
     "data": {
      "text/plain": [
       "{'C': 0.1, 'penalty': 'l2', 'solver': 'newton-cg'}"
      ]
     },
     "execution_count": 106,
     "metadata": {},
     "output_type": "execute_result"
    }
   ],
   "source": [
    "df_gridcv_results.sort_values(by='mean_test_score',ascending=False).iloc[0].params"
   ]
  },
  {
   "cell_type": "code",
   "execution_count": 109,
   "metadata": {},
   "outputs": [
    {
     "name": "stderr",
     "output_type": "stream",
     "text": [
      "/home/ubuntu/anaconda3/lib/python3.8/site-packages/scipy/optimize/linesearch.py:478: LineSearchWarning: The line search algorithm did not converge\n",
      "  warn('The line search algorithm did not converge', LineSearchWarning)\n",
      "/home/ubuntu/anaconda3/lib/python3.8/site-packages/scipy/optimize/linesearch.py:327: LineSearchWarning: The line search algorithm did not converge\n",
      "  warn('The line search algorithm did not converge', LineSearchWarning)\n",
      "/home/ubuntu/anaconda3/lib/python3.8/site-packages/scipy/optimize/linesearch.py:478: LineSearchWarning: The line search algorithm did not converge\n",
      "  warn('The line search algorithm did not converge', LineSearchWarning)\n",
      "/home/ubuntu/anaconda3/lib/python3.8/site-packages/scipy/optimize/linesearch.py:327: LineSearchWarning: The line search algorithm did not converge\n",
      "  warn('The line search algorithm did not converge', LineSearchWarning)\n",
      "/home/ubuntu/anaconda3/lib/python3.8/site-packages/scipy/optimize/linesearch.py:478: LineSearchWarning: The line search algorithm did not converge\n",
      "  warn('The line search algorithm did not converge', LineSearchWarning)\n",
      "/home/ubuntu/anaconda3/lib/python3.8/site-packages/scipy/optimize/linesearch.py:327: LineSearchWarning: The line search algorithm did not converge\n",
      "  warn('The line search algorithm did not converge', LineSearchWarning)\n",
      "/home/ubuntu/anaconda3/lib/python3.8/site-packages/sklearn/utils/optimize.py:202: ConvergenceWarning: newton-cg failed to converge. Increase the number of iterations.\n",
      "  warnings.warn(\"newton-cg failed to converge. Increase the \"\n"
     ]
    },
    {
     "data": {
      "text/plain": [
       "0.778625694854388"
      ]
     },
     "execution_count": 109,
     "metadata": {},
     "output_type": "execute_result"
    }
   ],
   "source": [
    "model = LogisticRegression(penalty='l2',solver='newton-cg',C=0.1,random_state=1)\n",
    "drop_features = ['housing','loan','previous','marital','education','day_of_week']\n",
    "\n",
    "df_train_copy = df_train.copy()\n",
    "df_train_copy.drop(drop_features,axis=1,inplace=True)\n",
    "df_val_copy = df_val.copy()\n",
    "df_val_copy.drop(drop_features,axis=1,inplace=True)\n",
    "\n",
    "features_list = df_train_copy.columns\n",
    "\n",
    "this_auc = evaluate(list(features_list),df_train_copy,df_val_copy,model)\n",
    "this_auc"
   ]
  },
  {
   "cell_type": "code",
   "execution_count": 113,
   "metadata": {},
   "outputs": [
    {
     "name": "stderr",
     "output_type": "stream",
     "text": [
      "/home/ubuntu/anaconda3/lib/python3.8/site-packages/sklearn/svm/_base.py:985: ConvergenceWarning: Liblinear failed to converge, increase the number of iterations.\n",
      "  warnings.warn(\"Liblinear failed to converge, increase \"\n"
     ]
    },
    {
     "data": {
      "text/plain": [
       "0.7793541389954742"
      ]
     },
     "execution_count": 113,
     "metadata": {},
     "output_type": "execute_result"
    }
   ],
   "source": [
    "model = LogisticRegression(penalty='l1',solver='liblinear',C=10, max_iter=160, random_state=42)\n",
    "drop_features = ['housing','loan','previous','marital','education','day_of_week']\n",
    "\n",
    "df_train_copy = df_train.copy()\n",
    "df_train_copy.drop(drop_features,axis=1,inplace=True)\n",
    "df_val_copy = df_val.copy()\n",
    "df_val_copy.drop(drop_features,axis=1,inplace=True)\n",
    "\n",
    "features_list = df_train_copy.columns\n",
    "\n",
    "this_auc = evaluate(list(features_list),df_train_copy,df_val_copy,model)\n",
    "this_auc"
   ]
  },
  {
   "cell_type": "code",
   "execution_count": 87,
   "metadata": {},
   "outputs": [],
   "source": [
    "# exp_scores.to_csv('project-logistic-regression-scores.csv')"
   ]
  },
  {
   "cell_type": "code",
   "execution_count": 104,
   "metadata": {},
   "outputs": [],
   "source": [
    "# df_gridcv_results.to_csv('project-logistic-regression-gridcv-scores.csv')"
   ]
  },
  {
   "cell_type": "markdown",
   "metadata": {},
   "source": [
    "Now let us look at using different algorithms"
   ]
  },
  {
   "cell_type": "code",
   "execution_count": null,
   "metadata": {
    "execution": {
     "iopub.execute_input": "2021-10-23T17:05:36.122788Z",
     "iopub.status.busy": "2021-10-23T17:05:36.122464Z",
     "iopub.status.idle": "2021-10-23T17:05:36.361316Z",
     "shell.execute_reply": "2021-10-23T17:05:36.360195Z",
     "shell.execute_reply.started": "2021-10-23T17:05:36.122756Z"
    }
   },
   "outputs": [],
   "source": [
    "# from sklearn.tree import DecisionTreeClassifier\n",
    "# from sklearn.ensemble import RandomForestClassifier\n",
    "# import xgboost as xgb\n",
    "# from catboost import CatBoostClassifier"
   ]
  },
  {
   "cell_type": "markdown",
   "metadata": {},
   "source": [
    "DecisionTreeClassifier"
   ]
  },
  {
   "cell_type": "code",
   "execution_count": null,
   "metadata": {
    "execution": {
     "iopub.execute_input": "2021-10-23T17:07:03.328192Z",
     "iopub.status.busy": "2021-10-23T17:07:03.32761Z",
     "iopub.status.idle": "2021-10-23T17:07:03.332361Z",
     "shell.execute_reply": "2021-10-23T17:07:03.331615Z",
     "shell.execute_reply.started": "2021-10-23T17:07:03.328149Z"
    }
   },
   "outputs": [],
   "source": [
    "# models = [\n",
    "#     DecisionTreeClassifier,\n",
    "#     RandomForestClassifier,\n",
    "#     xgb,\n",
    "#     CatBoostClassifier\n",
    "# ]"
   ]
  },
  {
   "cell_type": "code",
   "execution_count": null,
   "metadata": {
    "execution": {
     "iopub.execute_input": "2021-10-23T17:08:01.172454Z",
     "iopub.status.busy": "2021-10-23T17:08:01.171508Z",
     "iopub.status.idle": "2021-10-23T17:08:01.178305Z",
     "shell.execute_reply": "2021-10-23T17:08:01.177645Z",
     "shell.execute_reply.started": "2021-10-23T17:08:01.172402Z"
    }
   },
   "outputs": [],
   "source": [
    "# for model in models:\n",
    "#     mdl = model\n",
    "#     print(mdl)"
   ]
  },
  {
   "cell_type": "markdown",
   "metadata": {},
   "source": [
    "## Additional reference notes"
   ]
  },
  {
   "cell_type": "code",
   "execution_count": null,
   "metadata": {},
   "outputs": [],
   "source": []
  }
 ],
 "metadata": {
  "kernelspec": {
   "display_name": "Python 3",
   "language": "python",
   "name": "python3"
  },
  "language_info": {
   "codemirror_mode": {
    "name": "ipython",
    "version": 3
   },
   "file_extension": ".py",
   "mimetype": "text/x-python",
   "name": "python",
   "nbconvert_exporter": "python",
   "pygments_lexer": "ipython3",
   "version": "3.8.8"
  }
 },
 "nbformat": 4,
 "nbformat_minor": 4
}
