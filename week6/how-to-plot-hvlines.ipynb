{
 "cells": [
  {
   "cell_type": "code",
   "execution_count": 9,
   "id": "de36ce39",
   "metadata": {},
   "outputs": [],
   "source": [
    "data = [\n",
    "    (10, 0.4598535778342608),\n",
    "    (20, 0.44783122647617707),\n",
    "    (30, 0.4451200348449819),\n",
    "    (40, 0.44322540476599925),\n",
    "    (50, 0.4422309033499618),\n",
    "    (60, 0.4415347874157756),\n",
    "    (70, 0.4408665092520829),\n",
    "    (80, 0.44076264110112295),\n",
    "    (90, 0.4402436823066316),\n",
    "    (100, 0.439782812295518),\n",
    "    (110, 0.4393283276631756),\n",
    "    (120, 0.439140100985395),\n",
    "    (130, 0.4392600896545383),\n",
    "    (140, 0.4391068172724505),\n",
    "    (150, 0.4390987893907921),\n",
    "    (160, 0.43891283738859316),\n",
    "    (170, 0.43886569128153563),\n",
    "    (180, 0.4390536136991923),\n",
    "    (190, 0.4389458407581751),\n",
    "    (200, 0.4389432007046648)\n",
    "]"
   ]
  },
  {
   "cell_type": "code",
   "execution_count": 16,
   "id": "75c77b03",
   "metadata": {},
   "outputs": [
    {
     "name": "stdout",
     "output_type": "stream",
     "text": [
      "[0.23000865 0.14975602 0.34993365 0.01003365 0.13052818 0.3699205\n",
      " 0.54822786 0.25817349 0.21827229 0.39199001 0.41025964 0.48320738\n",
      " 0.70482578 0.85007122 0.71705772 0.62364688 0.88590328 0.88086455\n",
      " 0.92127994 1.1467238 ]\n",
      "[ 1.          3.05263158  5.10526316  7.15789474  9.21052632 11.26315789\n",
      " 13.31578947 15.36842105 17.42105263 19.47368421 21.52631579 23.57894737\n",
      " 25.63157895 27.68421053 29.73684211 31.78947368 33.84210526 35.89473684\n",
      " 37.94736842 40.        ]\n"
     ]
    }
   ],
   "source": [
    "import numpy as np\n",
    "series = np.arange(0, 1, 0.05)\n",
    "np.random.seed(24)\n",
    "random_series = np.random.uniform(-0.25,0.25,len(series))\n",
    "# print(series)\n",
    "# print(random_series)\n",
    "new_series = series+random_series\n",
    "index = np.linspace(1,len(series)*2,len(series))\n",
    "print(new_series)\n",
    "print(index)"
   ]
  },
  {
   "cell_type": "code",
   "execution_count": 22,
   "id": "760863c1",
   "metadata": {},
   "outputs": [
    {
     "data": {
      "text/plain": [
       "[(1.0, 0.23000865166795925),\n",
       " (3.0526315789473686, 0.14975602497478802),\n",
       " (5.105263157894737, 0.3499336463119396),\n",
       " (7.157894736842106, 0.010033649891425911),\n",
       " (9.210526315789474, 0.130528176982029),\n",
       " (11.263157894736842, 0.3699204951047185),\n",
       " (13.315789473684212, 0.5482278625445485),\n",
       " (15.36842105263158, 0.2581734888953042),\n",
       " (17.42105263157895, 0.21827228991176234),\n",
       " (19.47368421052632, 0.39199000507580006),\n",
       " (21.526315789473685, 0.41025964178259655),\n",
       " (23.578947368421055, 0.4832073765417576),\n",
       " (25.631578947368425, 0.7048257812940638),\n",
       " (27.68421052631579, 0.8500712152616867),\n",
       " (29.73684210526316, 0.7170577195988603),\n",
       " (31.789473684210527, 0.6236468824549726),\n",
       " (33.8421052631579, 0.8859032812885377),\n",
       " (35.89473684210527, 0.8808645536565689),\n",
       " (37.94736842105264, 0.921279938354755),\n",
       " (40.0, 1.1467238018474504)]"
      ]
     },
     "execution_count": 22,
     "metadata": {},
     "output_type": "execute_result"
    }
   ],
   "source": [
    "data = list(zip(index,new_series))\n",
    "data"
   ]
  },
  {
   "cell_type": "code",
   "execution_count": 23,
   "id": "18ba615e",
   "metadata": {},
   "outputs": [],
   "source": [
    "import pandas as pd\n",
    "import matplotlib.pyplot as plt\n",
    "\n",
    "df = pd.DataFrame(data,columns=['x','y'])"
   ]
  },
  {
   "cell_type": "code",
   "execution_count": 24,
   "id": "5662063c",
   "metadata": {},
   "outputs": [
    {
     "data": {
      "text/html": [
       "<div>\n",
       "<style scoped>\n",
       "    .dataframe tbody tr th:only-of-type {\n",
       "        vertical-align: middle;\n",
       "    }\n",
       "\n",
       "    .dataframe tbody tr th {\n",
       "        vertical-align: top;\n",
       "    }\n",
       "\n",
       "    .dataframe thead th {\n",
       "        text-align: right;\n",
       "    }\n",
       "</style>\n",
       "<table border=\"1\" class=\"dataframe\">\n",
       "  <thead>\n",
       "    <tr style=\"text-align: right;\">\n",
       "      <th></th>\n",
       "      <th>x</th>\n",
       "      <th>y</th>\n",
       "    </tr>\n",
       "  </thead>\n",
       "  <tbody>\n",
       "    <tr>\n",
       "      <th>0</th>\n",
       "      <td>1.000000</td>\n",
       "      <td>0.230009</td>\n",
       "    </tr>\n",
       "    <tr>\n",
       "      <th>1</th>\n",
       "      <td>3.052632</td>\n",
       "      <td>0.149756</td>\n",
       "    </tr>\n",
       "    <tr>\n",
       "      <th>2</th>\n",
       "      <td>5.105263</td>\n",
       "      <td>0.349934</td>\n",
       "    </tr>\n",
       "    <tr>\n",
       "      <th>3</th>\n",
       "      <td>7.157895</td>\n",
       "      <td>0.010034</td>\n",
       "    </tr>\n",
       "    <tr>\n",
       "      <th>4</th>\n",
       "      <td>9.210526</td>\n",
       "      <td>0.130528</td>\n",
       "    </tr>\n",
       "    <tr>\n",
       "      <th>5</th>\n",
       "      <td>11.263158</td>\n",
       "      <td>0.369920</td>\n",
       "    </tr>\n",
       "    <tr>\n",
       "      <th>6</th>\n",
       "      <td>13.315789</td>\n",
       "      <td>0.548228</td>\n",
       "    </tr>\n",
       "    <tr>\n",
       "      <th>7</th>\n",
       "      <td>15.368421</td>\n",
       "      <td>0.258173</td>\n",
       "    </tr>\n",
       "    <tr>\n",
       "      <th>8</th>\n",
       "      <td>17.421053</td>\n",
       "      <td>0.218272</td>\n",
       "    </tr>\n",
       "    <tr>\n",
       "      <th>9</th>\n",
       "      <td>19.473684</td>\n",
       "      <td>0.391990</td>\n",
       "    </tr>\n",
       "    <tr>\n",
       "      <th>10</th>\n",
       "      <td>21.526316</td>\n",
       "      <td>0.410260</td>\n",
       "    </tr>\n",
       "    <tr>\n",
       "      <th>11</th>\n",
       "      <td>23.578947</td>\n",
       "      <td>0.483207</td>\n",
       "    </tr>\n",
       "    <tr>\n",
       "      <th>12</th>\n",
       "      <td>25.631579</td>\n",
       "      <td>0.704826</td>\n",
       "    </tr>\n",
       "    <tr>\n",
       "      <th>13</th>\n",
       "      <td>27.684211</td>\n",
       "      <td>0.850071</td>\n",
       "    </tr>\n",
       "    <tr>\n",
       "      <th>14</th>\n",
       "      <td>29.736842</td>\n",
       "      <td>0.717058</td>\n",
       "    </tr>\n",
       "    <tr>\n",
       "      <th>15</th>\n",
       "      <td>31.789474</td>\n",
       "      <td>0.623647</td>\n",
       "    </tr>\n",
       "    <tr>\n",
       "      <th>16</th>\n",
       "      <td>33.842105</td>\n",
       "      <td>0.885903</td>\n",
       "    </tr>\n",
       "    <tr>\n",
       "      <th>17</th>\n",
       "      <td>35.894737</td>\n",
       "      <td>0.880865</td>\n",
       "    </tr>\n",
       "    <tr>\n",
       "      <th>18</th>\n",
       "      <td>37.947368</td>\n",
       "      <td>0.921280</td>\n",
       "    </tr>\n",
       "    <tr>\n",
       "      <th>19</th>\n",
       "      <td>40.000000</td>\n",
       "      <td>1.146724</td>\n",
       "    </tr>\n",
       "  </tbody>\n",
       "</table>\n",
       "</div>"
      ],
      "text/plain": [
       "            x         y\n",
       "0    1.000000  0.230009\n",
       "1    3.052632  0.149756\n",
       "2    5.105263  0.349934\n",
       "3    7.157895  0.010034\n",
       "4    9.210526  0.130528\n",
       "5   11.263158  0.369920\n",
       "6   13.315789  0.548228\n",
       "7   15.368421  0.258173\n",
       "8   17.421053  0.218272\n",
       "9   19.473684  0.391990\n",
       "10  21.526316  0.410260\n",
       "11  23.578947  0.483207\n",
       "12  25.631579  0.704826\n",
       "13  27.684211  0.850071\n",
       "14  29.736842  0.717058\n",
       "15  31.789474  0.623647\n",
       "16  33.842105  0.885903\n",
       "17  35.894737  0.880865\n",
       "18  37.947368  0.921280\n",
       "19  40.000000  1.146724"
      ]
     },
     "execution_count": 24,
     "metadata": {},
     "output_type": "execute_result"
    }
   ],
   "source": [
    "df"
   ]
  },
  {
   "cell_type": "code",
   "execution_count": 25,
   "id": "90d267ac",
   "metadata": {},
   "outputs": [
    {
     "data": {
      "image/png": "[encoded data removed]",
      "text/plain": [
       "<Figure size 432x288 with 1 Axes>"
      ]
     },
     "metadata": {
      "needs_background": "light"
     },
     "output_type": "display_data"
    }
   ],
   "source": [
    "fig, ax = plt.subplots()\n",
    "ax.plot(df['x'],df['y'])\n",
    "\n",
    "ax.vlines(x=5, ymin=df['y'].min(), ymax=df['y'].max(), linewidth=2, color='r')\n",
    "ax.hlines(y=df['y'].mean(), xmin=df['x'].min(), xmax=df['x'].max(), linewidth=2, color='g')\n",
    "\n",
    "plt.show()"
   ]
  },
  {
   "cell_type": "code",
   "execution_count": null,
   "id": "8d4f8bae",
   "metadata": {},
   "outputs": [],
   "source": []
  }
 ],
 "metadata": {
  "kernelspec": {
   "display_name": "Python 3",
   "language": "python",
   "name": "python3"
  },
  "language_info": {
   "codemirror_mode": {
    "name": "ipython",
    "version": 3
   },
   "file_extension": ".py",
   "mimetype": "text/x-python",
   "name": "python",
   "nbconvert_exporter": "python",
   "pygments_lexer": "ipython3",
   "version": "3.8.8"
  }
 },
 "nbformat": 4,
 "nbformat_minor": 5
}
